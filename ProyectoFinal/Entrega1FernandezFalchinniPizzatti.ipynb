{
 "cells": [
  {
   "cell_type": "markdown",
   "id": "64fd0aca",
   "metadata": {},
   "source": [
    "# Primera entrega del proyecto final"
   ]
  },
  {
   "cell_type": "markdown",
   "id": "ac1c963a",
   "metadata": {},
   "source": [
    "### Objetivos Generales:\n",
    "\n",
    "1. Entender el problema de negocio e identificar los elementos a ser considerados para el planteamiento de un Modelo de Data Science.\n",
    "\n",
    "2. Describir los datos de negocio y las relaciones entre datos mediante el Análisis Exploratorio de Datos.\n",
    "\n",
    "3. Construir una presentación ejecutiva para la alta gerencia mostrando los resultados obtenidos.\n",
    "\n",
    "\n",
    "### Objetivos Específicos:\n",
    "\n",
    "1. Desarrollar las instancias de Data Acquisition y Data Wrangling en tu trabajo final.\n",
    "\n",
    "2. Lograr una articulación en equipo y una división de tareas adecuadas a los objetivos.\n",
    "\n",
    "3. Realizar Filtrado\n",
    "\n",
    "4. Describir qué significa cada variable, cómo se comporta.\n",
    "\n",
    "5. Especificar las distribuciones y relaciones (géneros, sexo, edad, IVA, tipo de empresa).\n",
    "\n",
    "### Se debe entregar:\n",
    "\n",
    "1. Presentación de la empresa, organización o problema específico.\n",
    "\n",
    "2. Preguntas y objetivos de la investigación.\n",
    "\n",
    "3. Conformación del equipo de trabajo.\n",
    "\n",
    "4. Indicación de la fuente del dataset y los criterios de selección (Data Acquisition).\n",
    "\n",
    "5. Generación del primer Data Wrangling y EDA, apuntado a sus datos (insights) univariado, bivariado y multivariado.\n",
    "\n",
    "6. Análisis de componentes principales.\n",
    "\n",
    "7. Contar la historia de sus datos\n",
    "\n",
    "8. Filtros aplicados a los datos. Distribución. Dataset final para analizar.\n",
    "\n",
    "9. Palttear objetivos u objetivo para esos datos.\n"
   ]
  },
  {
   "cell_type": "code",
   "execution_count": null,
   "id": "b9475c4a",
   "metadata": {},
   "outputs": [],
   "source": []
  }
 ],
 "metadata": {
  "kernelspec": {
   "display_name": "Python 3",
   "language": "python",
   "name": "python3"
  },
  "language_info": {
   "codemirror_mode": {
    "name": "ipython",
    "version": 3
   },
   "file_extension": ".py",
   "mimetype": "text/x-python",
   "name": "python",
   "nbconvert_exporter": "python",
   "pygments_lexer": "ipython3",
   "version": "3.9.5"
  }
 },
 "nbformat": 4,
 "nbformat_minor": 5
}
