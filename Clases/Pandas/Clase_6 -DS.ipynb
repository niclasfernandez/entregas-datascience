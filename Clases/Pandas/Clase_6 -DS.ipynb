{
 "cells": [
  {
   "cell_type": "markdown",
   "id": "bf0b27f0-44a1-4c23-aedf-be95509d4b85",
   "metadata": {},
   "source": [
    "Referencias:\n",
    "- https://pandas.pydata.org/\n",
    "- https://towardsdatascience.com/data-science-with-python-intro-to-loading-and-subsetting-data-with-pandas-9f26895ddd7f"
   ]
  },
  {
   "cell_type": "markdown",
   "id": "f3b6b2fa",
   "metadata": {},
   "source": [
    "___\n",
    "# 1. Importando datos\n",
    "\n",
    "En la carpeta \"data\" tenemos los archivos \"customers_data.csv\", \"sessions_data.csv\", \"transactions_data.csv\" y \"products_data.csv\", cada uno de ellos conteniendo información relevante acerca de transacciones de cierta empresa.\n",
    "\n",
    "El primer paso para comenzar a trabajar con datos es importarlos. Lo podemos hacer con la función `pd.read_csv()`:"
   ]
  },
  {
   "cell_type": "code",
   "execution_count": 8,
   "id": "b2d6eb60",
   "metadata": {},
   "outputs": [],
   "source": [
    "# Importar pandas\n",
    "import pandas as pd"
   ]
  },
  {
   "cell_type": "markdown",
   "id": "080364c9",
   "metadata": {},
   "source": [
    "Los **pd.DataFrames** son los objetos por excelencia de pandas para manipular datos. Son eficientes y rápidos. Son la estructura de datos donde pandas carga los diferentes formatos de datos: cuando nuestros datos están limpios y estructurados, cada fila representa una observación, y cada columna una variable o característica. Tanto las filas como las columnas pueden tener etiquetas.\n",
    "\n",
    "En esta clase vamos a trabajar con datos pertenecientes a ejemplos de la librería featuretools [en esta página](https://github.com/FeatureLabs/featuretools). Sin embargo para entender cómo es que se cargan estos datos, estos están disponibles en la carpeta data en formato CSV.\n",
    "\n",
    "En esta y la siguiente clase, además de importar datos, aprenderemos a:\n",
    "- seleccionar subconjuntos de datos;\n",
    "- filtrar variables por categorías;\n",
    "- relacionar tablas con datos complementarios;\n",
    "- entre otros.\n",
    "\n",
    "Comenzamos:"
   ]
  },
  {
   "cell_type": "markdown",
   "id": "29fc96e4",
   "metadata": {},
   "source": [
    "___\n",
    "# 1. Importando datos\n",
    "\n",
    "En la carpeta \"data\" tenemos los archivos \"customers_data.csv\", \"sessions_data.csv\", \"transactions_data.csv\" y \"products_data.csv\", cada uno de ellos conteniendo información relevante acerca de transacciones de cierta empresa.\n",
    "\n",
    "El primer paso para comenzar a trabajar con datos es importarlos. Lo podemos hacer con la función `pd.read_csv()`:"
   ]
  },
  {
   "cell_type": "code",
   "execution_count": 14,
   "id": "a0faeaf5",
   "metadata": {},
   "outputs": [
    {
     "data": {
      "text/html": [
       "<div>\n",
       "<style scoped>\n",
       "    .dataframe tbody tr th:only-of-type {\n",
       "        vertical-align: middle;\n",
       "    }\n",
       "\n",
       "    .dataframe tbody tr th {\n",
       "        vertical-align: top;\n",
       "    }\n",
       "\n",
       "    .dataframe thead th {\n",
       "        text-align: right;\n",
       "    }\n",
       "</style>\n",
       "<table border=\"1\" class=\"dataframe\">\n",
       "  <thead>\n",
       "    <tr style=\"text-align: right;\">\n",
       "      <th></th>\n",
       "      <th>Unnamed: 0</th>\n",
       "      <th>customer_id</th>\n",
       "      <th>zip_code</th>\n",
       "      <th>join_date</th>\n",
       "      <th>date_of_birth</th>\n",
       "    </tr>\n",
       "  </thead>\n",
       "  <tbody>\n",
       "    <tr>\n",
       "      <th>0</th>\n",
       "      <td>0</td>\n",
       "      <td>1</td>\n",
       "      <td>60091</td>\n",
       "      <td>2011-04-17 10:48:33</td>\n",
       "      <td>1994-07-18</td>\n",
       "    </tr>\n",
       "    <tr>\n",
       "      <th>1</th>\n",
       "      <td>1</td>\n",
       "      <td>2</td>\n",
       "      <td>13244</td>\n",
       "      <td>2012-04-15 23:31:04</td>\n",
       "      <td>1986-08-18</td>\n",
       "    </tr>\n",
       "    <tr>\n",
       "      <th>2</th>\n",
       "      <td>2</td>\n",
       "      <td>3</td>\n",
       "      <td>13244</td>\n",
       "      <td>2011-08-13 15:42:34</td>\n",
       "      <td>2003-11-21</td>\n",
       "    </tr>\n",
       "    <tr>\n",
       "      <th>3</th>\n",
       "      <td>3</td>\n",
       "      <td>4</td>\n",
       "      <td>60091</td>\n",
       "      <td>2011-04-08 20:08:14</td>\n",
       "      <td>2006-08-15</td>\n",
       "    </tr>\n",
       "    <tr>\n",
       "      <th>4</th>\n",
       "      <td>4</td>\n",
       "      <td>5</td>\n",
       "      <td>60091</td>\n",
       "      <td>2010-07-17 05:27:50</td>\n",
       "      <td>1984-07-28</td>\n",
       "    </tr>\n",
       "  </tbody>\n",
       "</table>\n",
       "</div>"
      ],
      "text/plain": [
       "   Unnamed: 0  customer_id  zip_code            join_date date_of_birth\n",
       "0           0            1     60091  2011-04-17 10:48:33    1994-07-18\n",
       "1           1            2     13244  2012-04-15 23:31:04    1986-08-18\n",
       "2           2            3     13244  2011-08-13 15:42:34    2003-11-21\n",
       "3           3            4     60091  2011-04-08 20:08:14    2006-08-15\n",
       "4           4            5     60091  2010-07-17 05:27:50    1984-07-28"
      ]
     },
     "execution_count": 14,
     "metadata": {},
     "output_type": "execute_result"
    }
   ],
   "source": [
    "# Importar customers_data.csv\n",
    "customers = pd.read_csv(\"../Clases/data/customers_data.csv\")\n",
    "customers"
   ]
  },
  {
   "cell_type": "markdown",
   "id": "d989715d",
   "metadata": {},
   "source": [
    "Bien, ya tenemos los datos cargados, sin embargo, se ve algo raro. \n",
    "\n",
    "¿Qué es esta columna \"Unnamed: 0\"? (abrir el CSV)\n",
    "\n",
    "Para especificar que esta columna corresponde al índice, podemos usar el argumento `index_col`."
   ]
  },
  {
   "cell_type": "code",
   "execution_count": 15,
   "id": "dd4a51fe",
   "metadata": {},
   "outputs": [
    {
     "data": {
      "text/html": [
       "<div>\n",
       "<style scoped>\n",
       "    .dataframe tbody tr th:only-of-type {\n",
       "        vertical-align: middle;\n",
       "    }\n",
       "\n",
       "    .dataframe tbody tr th {\n",
       "        vertical-align: top;\n",
       "    }\n",
       "\n",
       "    .dataframe thead th {\n",
       "        text-align: right;\n",
       "    }\n",
       "</style>\n",
       "<table border=\"1\" class=\"dataframe\">\n",
       "  <thead>\n",
       "    <tr style=\"text-align: right;\">\n",
       "      <th></th>\n",
       "      <th>customer_id</th>\n",
       "      <th>zip_code</th>\n",
       "      <th>join_date</th>\n",
       "      <th>date_of_birth</th>\n",
       "    </tr>\n",
       "  </thead>\n",
       "  <tbody>\n",
       "    <tr>\n",
       "      <th>0</th>\n",
       "      <td>1</td>\n",
       "      <td>60091</td>\n",
       "      <td>2011-04-17 10:48:33</td>\n",
       "      <td>1994-07-18</td>\n",
       "    </tr>\n",
       "    <tr>\n",
       "      <th>1</th>\n",
       "      <td>2</td>\n",
       "      <td>13244</td>\n",
       "      <td>2012-04-15 23:31:04</td>\n",
       "      <td>1986-08-18</td>\n",
       "    </tr>\n",
       "    <tr>\n",
       "      <th>2</th>\n",
       "      <td>3</td>\n",
       "      <td>13244</td>\n",
       "      <td>2011-08-13 15:42:34</td>\n",
       "      <td>2003-11-21</td>\n",
       "    </tr>\n",
       "    <tr>\n",
       "      <th>3</th>\n",
       "      <td>4</td>\n",
       "      <td>60091</td>\n",
       "      <td>2011-04-08 20:08:14</td>\n",
       "      <td>2006-08-15</td>\n",
       "    </tr>\n",
       "    <tr>\n",
       "      <th>4</th>\n",
       "      <td>5</td>\n",
       "      <td>60091</td>\n",
       "      <td>2010-07-17 05:27:50</td>\n",
       "      <td>1984-07-28</td>\n",
       "    </tr>\n",
       "  </tbody>\n",
       "</table>\n",
       "</div>"
      ],
      "text/plain": [
       "   customer_id  zip_code            join_date date_of_birth\n",
       "0            1     60091  2011-04-17 10:48:33    1994-07-18\n",
       "1            2     13244  2012-04-15 23:31:04    1986-08-18\n",
       "2            3     13244  2011-08-13 15:42:34    2003-11-21\n",
       "3            4     60091  2011-04-08 20:08:14    2006-08-15\n",
       "4            5     60091  2010-07-17 05:27:50    1984-07-28"
      ]
     },
     "execution_count": 15,
     "metadata": {},
     "output_type": "execute_result"
    }
   ],
   "source": [
    "# Importar customers_data.csv, haciendo uso del argumento index_col\n",
    "customers = pd.read_csv(\"data/customers_data.csv\",\n",
    "                        index_col=[0]\n",
    "                       )\n",
    "customers"
   ]
  },
  {
   "cell_type": "code",
   "execution_count": 16,
   "id": "bdb257f0",
   "metadata": {},
   "outputs": [
    {
     "data": {
      "text/plain": [
       "pandas.core.frame.DataFrame"
      ]
     },
     "execution_count": 16,
     "metadata": {},
     "output_type": "execute_result"
    }
   ],
   "source": [
    "# Tipo de lo que importamos\n",
    "type(customers)"
   ]
  },
  {
   "cell_type": "code",
   "execution_count": 17,
   "id": "ffa2c47e",
   "metadata": {},
   "outputs": [
    {
     "data": {
      "text/html": [
       "<div>\n",
       "<style scoped>\n",
       "    .dataframe tbody tr th:only-of-type {\n",
       "        vertical-align: middle;\n",
       "    }\n",
       "\n",
       "    .dataframe tbody tr th {\n",
       "        vertical-align: top;\n",
       "    }\n",
       "\n",
       "    .dataframe thead th {\n",
       "        text-align: right;\n",
       "    }\n",
       "</style>\n",
       "<table border=\"1\" class=\"dataframe\">\n",
       "  <thead>\n",
       "    <tr style=\"text-align: right;\">\n",
       "      <th></th>\n",
       "      <th>zip_code</th>\n",
       "      <th>join_date</th>\n",
       "      <th>date_of_birth</th>\n",
       "    </tr>\n",
       "    <tr>\n",
       "      <th>customer_id</th>\n",
       "      <th></th>\n",
       "      <th></th>\n",
       "      <th></th>\n",
       "    </tr>\n",
       "  </thead>\n",
       "  <tbody>\n",
       "    <tr>\n",
       "      <th>1</th>\n",
       "      <td>60091</td>\n",
       "      <td>2011-04-17 10:48:33</td>\n",
       "      <td>1994-07-18</td>\n",
       "    </tr>\n",
       "    <tr>\n",
       "      <th>2</th>\n",
       "      <td>13244</td>\n",
       "      <td>2012-04-15 23:31:04</td>\n",
       "      <td>1986-08-18</td>\n",
       "    </tr>\n",
       "    <tr>\n",
       "      <th>3</th>\n",
       "      <td>13244</td>\n",
       "      <td>2011-08-13 15:42:34</td>\n",
       "      <td>2003-11-21</td>\n",
       "    </tr>\n",
       "    <tr>\n",
       "      <th>4</th>\n",
       "      <td>60091</td>\n",
       "      <td>2011-04-08 20:08:14</td>\n",
       "      <td>2006-08-15</td>\n",
       "    </tr>\n",
       "    <tr>\n",
       "      <th>5</th>\n",
       "      <td>60091</td>\n",
       "      <td>2010-07-17 05:27:50</td>\n",
       "      <td>1984-07-28</td>\n",
       "    </tr>\n",
       "  </tbody>\n",
       "</table>\n",
       "</div>"
      ],
      "text/plain": [
       "             zip_code            join_date date_of_birth\n",
       "customer_id                                             \n",
       "1               60091  2011-04-17 10:48:33    1994-07-18\n",
       "2               13244  2012-04-15 23:31:04    1986-08-18\n",
       "3               13244  2011-08-13 15:42:34    2003-11-21\n",
       "4               60091  2011-04-08 20:08:14    2006-08-15\n",
       "5               60091  2010-07-17 05:27:50    1984-07-28"
      ]
     },
     "execution_count": 17,
     "metadata": {},
     "output_type": "execute_result"
    }
   ],
   "source": [
    "# Usar el método set_index para indizar por el id de cliente\n",
    "customers.set_index(\"customer_id\")"
   ]
  },
  {
   "cell_type": "code",
   "execution_count": 18,
   "id": "b4627a5f",
   "metadata": {},
   "outputs": [
    {
     "data": {
      "text/html": [
       "<div>\n",
       "<style scoped>\n",
       "    .dataframe tbody tr th:only-of-type {\n",
       "        vertical-align: middle;\n",
       "    }\n",
       "\n",
       "    .dataframe tbody tr th {\n",
       "        vertical-align: top;\n",
       "    }\n",
       "\n",
       "    .dataframe thead th {\n",
       "        text-align: right;\n",
       "    }\n",
       "</style>\n",
       "<table border=\"1\" class=\"dataframe\">\n",
       "  <thead>\n",
       "    <tr style=\"text-align: right;\">\n",
       "      <th></th>\n",
       "      <th>customer_id</th>\n",
       "      <th>zip_code</th>\n",
       "      <th>join_date</th>\n",
       "      <th>date_of_birth</th>\n",
       "    </tr>\n",
       "  </thead>\n",
       "  <tbody>\n",
       "    <tr>\n",
       "      <th>0</th>\n",
       "      <td>1</td>\n",
       "      <td>60091</td>\n",
       "      <td>2011-04-17 10:48:33</td>\n",
       "      <td>1994-07-18</td>\n",
       "    </tr>\n",
       "    <tr>\n",
       "      <th>1</th>\n",
       "      <td>2</td>\n",
       "      <td>13244</td>\n",
       "      <td>2012-04-15 23:31:04</td>\n",
       "      <td>1986-08-18</td>\n",
       "    </tr>\n",
       "    <tr>\n",
       "      <th>2</th>\n",
       "      <td>3</td>\n",
       "      <td>13244</td>\n",
       "      <td>2011-08-13 15:42:34</td>\n",
       "      <td>2003-11-21</td>\n",
       "    </tr>\n",
       "    <tr>\n",
       "      <th>3</th>\n",
       "      <td>4</td>\n",
       "      <td>60091</td>\n",
       "      <td>2011-04-08 20:08:14</td>\n",
       "      <td>2006-08-15</td>\n",
       "    </tr>\n",
       "    <tr>\n",
       "      <th>4</th>\n",
       "      <td>5</td>\n",
       "      <td>60091</td>\n",
       "      <td>2010-07-17 05:27:50</td>\n",
       "      <td>1984-07-28</td>\n",
       "    </tr>\n",
       "  </tbody>\n",
       "</table>\n",
       "</div>"
      ],
      "text/plain": [
       "   customer_id  zip_code            join_date date_of_birth\n",
       "0            1     60091  2011-04-17 10:48:33    1994-07-18\n",
       "1            2     13244  2012-04-15 23:31:04    1986-08-18\n",
       "2            3     13244  2011-08-13 15:42:34    2003-11-21\n",
       "3            4     60091  2011-04-08 20:08:14    2006-08-15\n",
       "4            5     60091  2010-07-17 05:27:50    1984-07-28"
      ]
     },
     "execution_count": 18,
     "metadata": {},
     "output_type": "execute_result"
    }
   ],
   "source": [
    "customers"
   ]
  },
  {
   "cell_type": "markdown",
   "id": "9adece4b",
   "metadata": {},
   "source": [
    "Podemos ver que pandas no convierte **customer_id** en el índice permanente del DataFrame, a menos que se lo especifiquemos. Para especificarlo, debemos usar el argumento `inplace`"
   ]
  },
  {
   "cell_type": "code",
   "execution_count": 19,
   "id": "17c9d61d",
   "metadata": {},
   "outputs": [
    {
     "data": {
      "text/html": [
       "<div>\n",
       "<style scoped>\n",
       "    .dataframe tbody tr th:only-of-type {\n",
       "        vertical-align: middle;\n",
       "    }\n",
       "\n",
       "    .dataframe tbody tr th {\n",
       "        vertical-align: top;\n",
       "    }\n",
       "\n",
       "    .dataframe thead th {\n",
       "        text-align: right;\n",
       "    }\n",
       "</style>\n",
       "<table border=\"1\" class=\"dataframe\">\n",
       "  <thead>\n",
       "    <tr style=\"text-align: right;\">\n",
       "      <th></th>\n",
       "      <th>zip_code</th>\n",
       "      <th>join_date</th>\n",
       "      <th>date_of_birth</th>\n",
       "    </tr>\n",
       "    <tr>\n",
       "      <th>customer_id</th>\n",
       "      <th></th>\n",
       "      <th></th>\n",
       "      <th></th>\n",
       "    </tr>\n",
       "  </thead>\n",
       "  <tbody>\n",
       "    <tr>\n",
       "      <th>1</th>\n",
       "      <td>60091</td>\n",
       "      <td>2011-04-17 10:48:33</td>\n",
       "      <td>1994-07-18</td>\n",
       "    </tr>\n",
       "    <tr>\n",
       "      <th>2</th>\n",
       "      <td>13244</td>\n",
       "      <td>2012-04-15 23:31:04</td>\n",
       "      <td>1986-08-18</td>\n",
       "    </tr>\n",
       "    <tr>\n",
       "      <th>3</th>\n",
       "      <td>13244</td>\n",
       "      <td>2011-08-13 15:42:34</td>\n",
       "      <td>2003-11-21</td>\n",
       "    </tr>\n",
       "    <tr>\n",
       "      <th>4</th>\n",
       "      <td>60091</td>\n",
       "      <td>2011-04-08 20:08:14</td>\n",
       "      <td>2006-08-15</td>\n",
       "    </tr>\n",
       "    <tr>\n",
       "      <th>5</th>\n",
       "      <td>60091</td>\n",
       "      <td>2010-07-17 05:27:50</td>\n",
       "      <td>1984-07-28</td>\n",
       "    </tr>\n",
       "  </tbody>\n",
       "</table>\n",
       "</div>"
      ],
      "text/plain": [
       "             zip_code            join_date date_of_birth\n",
       "customer_id                                             \n",
       "1               60091  2011-04-17 10:48:33    1994-07-18\n",
       "2               13244  2012-04-15 23:31:04    1986-08-18\n",
       "3               13244  2011-08-13 15:42:34    2003-11-21\n",
       "4               60091  2011-04-08 20:08:14    2006-08-15\n",
       "5               60091  2010-07-17 05:27:50    1984-07-28"
      ]
     },
     "execution_count": 19,
     "metadata": {},
     "output_type": "execute_result"
    }
   ],
   "source": [
    "# Usar el método set_index para indizar por el id de cliente, usando el argumento inplace\n",
    "# customers = customers.set_index(\"customer_id\")\n",
    "customers.set_index(\"customer_id\", inplace=True)\n",
    "customers"
   ]
  },
  {
   "cell_type": "markdown",
   "id": "56a249a8",
   "metadata": {},
   "source": [
    "___\n",
    "# 2. Indización y selección de datos\n",
    "\n",
    "Hay muchas formas de las cuales podemos seleccionar datos de DataFrames. Veremos, de acuerdo al artículo al final de este documento, la forma basada en corchetes ([]) y en los métodos `loc()` y `iloc()`.\n",
    "\n",
    "Con los corchetes, podemos seleccionar ciertas filas, o bien, ciertas columnas. \n",
    "\n",
    "Para una selección de filas, podemos usar el indizado como en las listas: [start_index:end_index:step], recordando que el `end_index` no es inclusivo.\n",
    "\n",
    "Por ejemplo, seleccionar los clientes en las primeras dos filas:"
   ]
  },
  {
   "cell_type": "code",
   "execution_count": 20,
   "id": "c7c03dda",
   "metadata": {},
   "outputs": [
    {
     "data": {
      "text/html": [
       "<div>\n",
       "<style scoped>\n",
       "    .dataframe tbody tr th:only-of-type {\n",
       "        vertical-align: middle;\n",
       "    }\n",
       "\n",
       "    .dataframe tbody tr th {\n",
       "        vertical-align: top;\n",
       "    }\n",
       "\n",
       "    .dataframe thead th {\n",
       "        text-align: right;\n",
       "    }\n",
       "</style>\n",
       "<table border=\"1\" class=\"dataframe\">\n",
       "  <thead>\n",
       "    <tr style=\"text-align: right;\">\n",
       "      <th></th>\n",
       "      <th>zip_code</th>\n",
       "      <th>join_date</th>\n",
       "      <th>date_of_birth</th>\n",
       "    </tr>\n",
       "    <tr>\n",
       "      <th>customer_id</th>\n",
       "      <th></th>\n",
       "      <th></th>\n",
       "      <th></th>\n",
       "    </tr>\n",
       "  </thead>\n",
       "  <tbody>\n",
       "    <tr>\n",
       "      <th>1</th>\n",
       "      <td>60091</td>\n",
       "      <td>2011-04-17 10:48:33</td>\n",
       "      <td>1994-07-18</td>\n",
       "    </tr>\n",
       "    <tr>\n",
       "      <th>2</th>\n",
       "      <td>13244</td>\n",
       "      <td>2012-04-15 23:31:04</td>\n",
       "      <td>1986-08-18</td>\n",
       "    </tr>\n",
       "  </tbody>\n",
       "</table>\n",
       "</div>"
      ],
      "text/plain": [
       "             zip_code            join_date date_of_birth\n",
       "customer_id                                             \n",
       "1               60091  2011-04-17 10:48:33    1994-07-18\n",
       "2               13244  2012-04-15 23:31:04    1986-08-18"
      ]
     },
     "execution_count": 20,
     "metadata": {},
     "output_type": "execute_result"
    }
   ],
   "source": [
    "customers[:2]"
   ]
  },
  {
   "cell_type": "code",
   "execution_count": 21,
   "id": "785ce0ed",
   "metadata": {},
   "outputs": [
    {
     "data": {
      "text/plain": [
       "customer_id\n",
       "1    1994-07-18\n",
       "2    1986-08-18\n",
       "3    2003-11-21\n",
       "4    2006-08-15\n",
       "5    1984-07-28\n",
       "Name: date_of_birth, dtype: object"
      ]
     },
     "execution_count": 21,
     "metadata": {},
     "output_type": "execute_result"
    }
   ],
   "source": [
    "# Seleccionar la columna date_of_birth\n",
    "customers['date_of_birth']"
   ]
  },
  {
   "cell_type": "code",
   "execution_count": 22,
   "id": "498fef54",
   "metadata": {},
   "outputs": [
    {
     "data": {
      "text/plain": [
       "pandas.core.series.Series"
      ]
     },
     "execution_count": 22,
     "metadata": {},
     "output_type": "execute_result"
    }
   ],
   "source": [
    "type(customers['date_of_birth'])"
   ]
  },
  {
   "cell_type": "markdown",
   "id": "5bf258e7",
   "metadata": {},
   "source": [
    "Las Series de pandas son arreglos unidimensionales que pueden ser etiquetados. En algunos casos, querremos seleccionar solo una columna pero mantener esta selección en un DataFrame. En este caso podemos pasar una lista con un solo elemento:"
   ]
  },
  {
   "cell_type": "code",
   "execution_count": 23,
   "id": "6e81a705",
   "metadata": {},
   "outputs": [
    {
     "data": {
      "text/html": [
       "<div>\n",
       "<style scoped>\n",
       "    .dataframe tbody tr th:only-of-type {\n",
       "        vertical-align: middle;\n",
       "    }\n",
       "\n",
       "    .dataframe tbody tr th {\n",
       "        vertical-align: top;\n",
       "    }\n",
       "\n",
       "    .dataframe thead th {\n",
       "        text-align: right;\n",
       "    }\n",
       "</style>\n",
       "<table border=\"1\" class=\"dataframe\">\n",
       "  <thead>\n",
       "    <tr style=\"text-align: right;\">\n",
       "      <th></th>\n",
       "      <th>date_of_birth</th>\n",
       "    </tr>\n",
       "    <tr>\n",
       "      <th>customer_id</th>\n",
       "      <th></th>\n",
       "    </tr>\n",
       "  </thead>\n",
       "  <tbody>\n",
       "    <tr>\n",
       "      <th>1</th>\n",
       "      <td>1994-07-18</td>\n",
       "    </tr>\n",
       "    <tr>\n",
       "      <th>2</th>\n",
       "      <td>1986-08-18</td>\n",
       "    </tr>\n",
       "    <tr>\n",
       "      <th>3</th>\n",
       "      <td>2003-11-21</td>\n",
       "    </tr>\n",
       "    <tr>\n",
       "      <th>4</th>\n",
       "      <td>2006-08-15</td>\n",
       "    </tr>\n",
       "    <tr>\n",
       "      <th>5</th>\n",
       "      <td>1984-07-28</td>\n",
       "    </tr>\n",
       "  </tbody>\n",
       "</table>\n",
       "</div>"
      ],
      "text/plain": [
       "            date_of_birth\n",
       "customer_id              \n",
       "1              1994-07-18\n",
       "2              1986-08-18\n",
       "3              2003-11-21\n",
       "4              2006-08-15\n",
       "5              1984-07-28"
      ]
     },
     "execution_count": 23,
     "metadata": {},
     "output_type": "execute_result"
    }
   ],
   "source": [
    "customers[['date_of_birth']]"
   ]
  },
  {
   "cell_type": "code",
   "execution_count": 24,
   "id": "8b056ecc",
   "metadata": {},
   "outputs": [
    {
     "data": {
      "text/plain": [
       "pandas.core.frame.DataFrame"
      ]
     },
     "execution_count": 24,
     "metadata": {},
     "output_type": "execute_result"
    }
   ],
   "source": [
    "type(customers[['date_of_birth']])"
   ]
  },
  {
   "cell_type": "markdown",
   "id": "e2727acb",
   "metadata": {},
   "source": [
    "Finalmente, seleccionamos dos columnas:"
   ]
  },
  {
   "cell_type": "code",
   "execution_count": 25,
   "id": "e53b2842",
   "metadata": {},
   "outputs": [
    {
     "data": {
      "text/html": [
       "<div>\n",
       "<style scoped>\n",
       "    .dataframe tbody tr th:only-of-type {\n",
       "        vertical-align: middle;\n",
       "    }\n",
       "\n",
       "    .dataframe tbody tr th {\n",
       "        vertical-align: top;\n",
       "    }\n",
       "\n",
       "    .dataframe thead th {\n",
       "        text-align: right;\n",
       "    }\n",
       "</style>\n",
       "<table border=\"1\" class=\"dataframe\">\n",
       "  <thead>\n",
       "    <tr style=\"text-align: right;\">\n",
       "      <th></th>\n",
       "      <th>zip_code</th>\n",
       "      <th>date_of_birth</th>\n",
       "    </tr>\n",
       "    <tr>\n",
       "      <th>customer_id</th>\n",
       "      <th></th>\n",
       "      <th></th>\n",
       "    </tr>\n",
       "  </thead>\n",
       "  <tbody>\n",
       "    <tr>\n",
       "      <th>1</th>\n",
       "      <td>60091</td>\n",
       "      <td>1994-07-18</td>\n",
       "    </tr>\n",
       "    <tr>\n",
       "      <th>2</th>\n",
       "      <td>13244</td>\n",
       "      <td>1986-08-18</td>\n",
       "    </tr>\n",
       "    <tr>\n",
       "      <th>3</th>\n",
       "      <td>13244</td>\n",
       "      <td>2003-11-21</td>\n",
       "    </tr>\n",
       "    <tr>\n",
       "      <th>4</th>\n",
       "      <td>60091</td>\n",
       "      <td>2006-08-15</td>\n",
       "    </tr>\n",
       "    <tr>\n",
       "      <th>5</th>\n",
       "      <td>60091</td>\n",
       "      <td>1984-07-28</td>\n",
       "    </tr>\n",
       "  </tbody>\n",
       "</table>\n",
       "</div>"
      ],
      "text/plain": [
       "             zip_code date_of_birth\n",
       "customer_id                        \n",
       "1               60091    1994-07-18\n",
       "2               13244    1986-08-18\n",
       "3               13244    2003-11-21\n",
       "4               60091    2006-08-15\n",
       "5               60091    1984-07-28"
      ]
     },
     "execution_count": 25,
     "metadata": {},
     "output_type": "execute_result"
    }
   ],
   "source": [
    "customers[['zip_code', 'date_of_birth']]"
   ]
  },
  {
   "cell_type": "markdown",
   "id": "e61f6a89",
   "metadata": {},
   "source": [
    "Muy bien, ya vimos que los corchetes son útiles. También existen los poderosos métodos `loc` y `iloc`, que nos dan el poder de seleccionar ambos a la vez: columnas y filas.\n",
    "\n",
    "¿En qué se diferencian?\n",
    "\n",
    "- El método `loc` nos permite seleccionar filas y columnas de nuestros datos basados en etiquetas. Primero, se deben especificar las etiquetas de las filas, y luego las de las columnas.\n",
    "\n",
    "- El método `iloc` nos permite hacer lo mismo pero basado en índices enteros de nuestro DataFrame (como si fueran matrices).\n",
    "\n",
    "Como antes, si queremos seleccionar todas las filas, o columnas, simplemente escribimos `:` en el lugar adecuado.\n",
    "\n",
    "Mejor con ejemplos:"
   ]
  },
  {
   "cell_type": "markdown",
   "id": "475a13eb",
   "metadata": {},
   "source": [
    "Para un mejor entendimiento de esta parte, reetiquetaremos la numeración de clientes con una \"numeración\" alfabética. Es decir: 1-A, 2-B, ..., 5-E."
   ]
  },
  {
   "cell_type": "code",
   "execution_count": 26,
   "id": "37463b18",
   "metadata": {},
   "outputs": [],
   "source": [
    "customers.reset_index(inplace = True)\n",
    "customers.index = ['A', 'B' , 'C' , 'D', 'E']\n",
    "customers.index.name = 'index'"
   ]
  },
  {
   "cell_type": "code",
   "execution_count": 27,
   "id": "87e65a5c",
   "metadata": {},
   "outputs": [
    {
     "data": {
      "text/html": [
       "<div>\n",
       "<style scoped>\n",
       "    .dataframe tbody tr th:only-of-type {\n",
       "        vertical-align: middle;\n",
       "    }\n",
       "\n",
       "    .dataframe tbody tr th {\n",
       "        vertical-align: top;\n",
       "    }\n",
       "\n",
       "    .dataframe thead th {\n",
       "        text-align: right;\n",
       "    }\n",
       "</style>\n",
       "<table border=\"1\" class=\"dataframe\">\n",
       "  <thead>\n",
       "    <tr style=\"text-align: right;\">\n",
       "      <th></th>\n",
       "      <th>customer_id</th>\n",
       "      <th>zip_code</th>\n",
       "      <th>join_date</th>\n",
       "      <th>date_of_birth</th>\n",
       "    </tr>\n",
       "    <tr>\n",
       "      <th>index</th>\n",
       "      <th></th>\n",
       "      <th></th>\n",
       "      <th></th>\n",
       "      <th></th>\n",
       "    </tr>\n",
       "  </thead>\n",
       "  <tbody>\n",
       "    <tr>\n",
       "      <th>A</th>\n",
       "      <td>1</td>\n",
       "      <td>60091</td>\n",
       "      <td>2011-04-17 10:48:33</td>\n",
       "      <td>1994-07-18</td>\n",
       "    </tr>\n",
       "    <tr>\n",
       "      <th>B</th>\n",
       "      <td>2</td>\n",
       "      <td>13244</td>\n",
       "      <td>2012-04-15 23:31:04</td>\n",
       "      <td>1986-08-18</td>\n",
       "    </tr>\n",
       "    <tr>\n",
       "      <th>C</th>\n",
       "      <td>3</td>\n",
       "      <td>13244</td>\n",
       "      <td>2011-08-13 15:42:34</td>\n",
       "      <td>2003-11-21</td>\n",
       "    </tr>\n",
       "    <tr>\n",
       "      <th>D</th>\n",
       "      <td>4</td>\n",
       "      <td>60091</td>\n",
       "      <td>2011-04-08 20:08:14</td>\n",
       "      <td>2006-08-15</td>\n",
       "    </tr>\n",
       "    <tr>\n",
       "      <th>E</th>\n",
       "      <td>5</td>\n",
       "      <td>60091</td>\n",
       "      <td>2010-07-17 05:27:50</td>\n",
       "      <td>1984-07-28</td>\n",
       "    </tr>\n",
       "  </tbody>\n",
       "</table>\n",
       "</div>"
      ],
      "text/plain": [
       "       customer_id  zip_code            join_date date_of_birth\n",
       "index                                                          \n",
       "A                1     60091  2011-04-17 10:48:33    1994-07-18\n",
       "B                2     13244  2012-04-15 23:31:04    1986-08-18\n",
       "C                3     13244  2011-08-13 15:42:34    2003-11-21\n",
       "D                4     60091  2011-04-08 20:08:14    2006-08-15\n",
       "E                5     60091  2010-07-17 05:27:50    1984-07-28"
      ]
     },
     "execution_count": 27,
     "metadata": {},
     "output_type": "execute_result"
    }
   ],
   "source": [
    "customers"
   ]
  },
  {
   "cell_type": "code",
   "execution_count": 28,
   "id": "7d5a4305",
   "metadata": {},
   "outputs": [
    {
     "data": {
      "text/plain": [
       "customer_id                        1\n",
       "zip_code                       60091\n",
       "join_date        2011-04-17 10:48:33\n",
       "date_of_birth             1994-07-18\n",
       "Name: A, dtype: object"
      ]
     },
     "execution_count": 28,
     "metadata": {},
     "output_type": "execute_result"
    }
   ],
   "source": [
    "customers.loc['A']"
   ]
  },
  {
   "cell_type": "code",
   "execution_count": 29,
   "id": "344c9399",
   "metadata": {},
   "outputs": [
    {
     "data": {
      "text/plain": [
       "customer_id                        1\n",
       "zip_code                       60091\n",
       "join_date        2011-04-17 10:48:33\n",
       "date_of_birth             1994-07-18\n",
       "Name: A, dtype: object"
      ]
     },
     "execution_count": 29,
     "metadata": {},
     "output_type": "execute_result"
    }
   ],
   "source": [
    "customers.iloc[0]"
   ]
  },
  {
   "cell_type": "markdown",
   "id": "114236c9",
   "metadata": {},
   "source": [
    "Nos dan series, ¿y si queremos DataFrames?"
   ]
  },
  {
   "cell_type": "code",
   "execution_count": 30,
   "id": "19b7235b",
   "metadata": {},
   "outputs": [
    {
     "data": {
      "text/html": [
       "<div>\n",
       "<style scoped>\n",
       "    .dataframe tbody tr th:only-of-type {\n",
       "        vertical-align: middle;\n",
       "    }\n",
       "\n",
       "    .dataframe tbody tr th {\n",
       "        vertical-align: top;\n",
       "    }\n",
       "\n",
       "    .dataframe thead th {\n",
       "        text-align: right;\n",
       "    }\n",
       "</style>\n",
       "<table border=\"1\" class=\"dataframe\">\n",
       "  <thead>\n",
       "    <tr style=\"text-align: right;\">\n",
       "      <th></th>\n",
       "      <th>customer_id</th>\n",
       "      <th>zip_code</th>\n",
       "      <th>join_date</th>\n",
       "      <th>date_of_birth</th>\n",
       "    </tr>\n",
       "    <tr>\n",
       "      <th>index</th>\n",
       "      <th></th>\n",
       "      <th></th>\n",
       "      <th></th>\n",
       "      <th></th>\n",
       "    </tr>\n",
       "  </thead>\n",
       "  <tbody>\n",
       "    <tr>\n",
       "      <th>A</th>\n",
       "      <td>1</td>\n",
       "      <td>60091</td>\n",
       "      <td>2011-04-17 10:48:33</td>\n",
       "      <td>1994-07-18</td>\n",
       "    </tr>\n",
       "  </tbody>\n",
       "</table>\n",
       "</div>"
      ],
      "text/plain": [
       "       customer_id  zip_code            join_date date_of_birth\n",
       "index                                                          \n",
       "A                1     60091  2011-04-17 10:48:33    1994-07-18"
      ]
     },
     "execution_count": 30,
     "metadata": {},
     "output_type": "execute_result"
    }
   ],
   "source": [
    "customers.loc[['A']]"
   ]
  },
  {
   "cell_type": "code",
   "execution_count": 35,
   "id": "98077f69",
   "metadata": {},
   "outputs": [
    {
     "data": {
      "text/html": [
       "<div>\n",
       "<style scoped>\n",
       "    .dataframe tbody tr th:only-of-type {\n",
       "        vertical-align: middle;\n",
       "    }\n",
       "\n",
       "    .dataframe tbody tr th {\n",
       "        vertical-align: top;\n",
       "    }\n",
       "\n",
       "    .dataframe thead th {\n",
       "        text-align: right;\n",
       "    }\n",
       "</style>\n",
       "<table border=\"1\" class=\"dataframe\">\n",
       "  <thead>\n",
       "    <tr style=\"text-align: right;\">\n",
       "      <th></th>\n",
       "      <th>customer_id</th>\n",
       "      <th>zip_code</th>\n",
       "      <th>join_date</th>\n",
       "      <th>date_of_birth</th>\n",
       "    </tr>\n",
       "    <tr>\n",
       "      <th>index</th>\n",
       "      <th></th>\n",
       "      <th></th>\n",
       "      <th></th>\n",
       "      <th></th>\n",
       "    </tr>\n",
       "  </thead>\n",
       "  <tbody>\n",
       "    <tr>\n",
       "      <th>A</th>\n",
       "      <td>1</td>\n",
       "      <td>60091</td>\n",
       "      <td>2011-04-17 10:48:33</td>\n",
       "      <td>1994-07-18</td>\n",
       "    </tr>\n",
       "  </tbody>\n",
       "</table>\n",
       "</div>"
      ],
      "text/plain": [
       "       customer_id  zip_code            join_date date_of_birth\n",
       "index                                                          \n",
       "A                1     60091  2011-04-17 10:48:33    1994-07-18"
      ]
     },
     "execution_count": 35,
     "metadata": {},
     "output_type": "execute_result"
    }
   ],
   "source": [
    "customers.iloc[[0]]"
   ]
  },
  {
   "cell_type": "code",
   "execution_count": 37,
   "id": "e19fa9eb",
   "metadata": {},
   "outputs": [
    {
     "data": {
      "text/html": [
       "<div>\n",
       "<style scoped>\n",
       "    .dataframe tbody tr th:only-of-type {\n",
       "        vertical-align: middle;\n",
       "    }\n",
       "\n",
       "    .dataframe tbody tr th {\n",
       "        vertical-align: top;\n",
       "    }\n",
       "\n",
       "    .dataframe thead th {\n",
       "        text-align: right;\n",
       "    }\n",
       "</style>\n",
       "<table border=\"1\" class=\"dataframe\">\n",
       "  <thead>\n",
       "    <tr style=\"text-align: right;\">\n",
       "      <th></th>\n",
       "      <th>customer_id</th>\n",
       "      <th>zip_code</th>\n",
       "      <th>join_date</th>\n",
       "      <th>date_of_birth</th>\n",
       "    </tr>\n",
       "    <tr>\n",
       "      <th>index</th>\n",
       "      <th></th>\n",
       "      <th></th>\n",
       "      <th></th>\n",
       "      <th></th>\n",
       "    </tr>\n",
       "  </thead>\n",
       "  <tbody>\n",
       "    <tr>\n",
       "      <th>A</th>\n",
       "      <td>1</td>\n",
       "      <td>60091</td>\n",
       "      <td>2011-04-17 10:48:33</td>\n",
       "      <td>1994-07-18</td>\n",
       "    </tr>\n",
       "    <tr>\n",
       "      <th>C</th>\n",
       "      <td>3</td>\n",
       "      <td>13244</td>\n",
       "      <td>2011-08-13 15:42:34</td>\n",
       "      <td>2003-11-21</td>\n",
       "    </tr>\n",
       "  </tbody>\n",
       "</table>\n",
       "</div>"
      ],
      "text/plain": [
       "       customer_id  zip_code            join_date date_of_birth\n",
       "index                                                          \n",
       "A                1     60091  2011-04-17 10:48:33    1994-07-18\n",
       "C                3     13244  2011-08-13 15:42:34    2003-11-21"
      ]
     },
     "execution_count": 37,
     "metadata": {},
     "output_type": "execute_result"
    }
   ],
   "source": [
    "customers.loc[['A','C']]"
   ]
  },
  {
   "cell_type": "code",
   "execution_count": 38,
   "id": "1a874c41",
   "metadata": {},
   "outputs": [
    {
     "data": {
      "text/html": [
       "<div>\n",
       "<style scoped>\n",
       "    .dataframe tbody tr th:only-of-type {\n",
       "        vertical-align: middle;\n",
       "    }\n",
       "\n",
       "    .dataframe tbody tr th {\n",
       "        vertical-align: top;\n",
       "    }\n",
       "\n",
       "    .dataframe thead th {\n",
       "        text-align: right;\n",
       "    }\n",
       "</style>\n",
       "<table border=\"1\" class=\"dataframe\">\n",
       "  <thead>\n",
       "    <tr style=\"text-align: right;\">\n",
       "      <th></th>\n",
       "      <th>zip_code</th>\n",
       "      <th>join_date</th>\n",
       "    </tr>\n",
       "    <tr>\n",
       "      <th>index</th>\n",
       "      <th></th>\n",
       "      <th></th>\n",
       "    </tr>\n",
       "  </thead>\n",
       "  <tbody>\n",
       "    <tr>\n",
       "      <th>B</th>\n",
       "      <td>13244</td>\n",
       "      <td>2012-04-15 23:31:04</td>\n",
       "    </tr>\n",
       "    <tr>\n",
       "      <th>E</th>\n",
       "      <td>60091</td>\n",
       "      <td>2010-07-17 05:27:50</td>\n",
       "    </tr>\n",
       "  </tbody>\n",
       "</table>\n",
       "</div>"
      ],
      "text/plain": [
       "       zip_code            join_date\n",
       "index                               \n",
       "B         13244  2012-04-15 23:31:04\n",
       "E         60091  2010-07-17 05:27:50"
      ]
     },
     "execution_count": 38,
     "metadata": {},
     "output_type": "execute_result"
    }
   ],
   "source": [
    "customers.loc[[\"B\", \"E\"], [\"zip_code\", \"join_date\"]]"
   ]
  },
  {
   "cell_type": "code",
   "execution_count": 39,
   "id": "aade5aee",
   "metadata": {},
   "outputs": [
    {
     "data": {
      "text/html": [
       "<div>\n",
       "<style scoped>\n",
       "    .dataframe tbody tr th:only-of-type {\n",
       "        vertical-align: middle;\n",
       "    }\n",
       "\n",
       "    .dataframe tbody tr th {\n",
       "        vertical-align: top;\n",
       "    }\n",
       "\n",
       "    .dataframe thead th {\n",
       "        text-align: right;\n",
       "    }\n",
       "</style>\n",
       "<table border=\"1\" class=\"dataframe\">\n",
       "  <thead>\n",
       "    <tr style=\"text-align: right;\">\n",
       "      <th></th>\n",
       "      <th>zip_code</th>\n",
       "      <th>join_date</th>\n",
       "    </tr>\n",
       "    <tr>\n",
       "      <th>index</th>\n",
       "      <th></th>\n",
       "      <th></th>\n",
       "    </tr>\n",
       "  </thead>\n",
       "  <tbody>\n",
       "    <tr>\n",
       "      <th>B</th>\n",
       "      <td>13244</td>\n",
       "      <td>2012-04-15 23:31:04</td>\n",
       "    </tr>\n",
       "    <tr>\n",
       "      <th>E</th>\n",
       "      <td>60091</td>\n",
       "      <td>2010-07-17 05:27:50</td>\n",
       "    </tr>\n",
       "  </tbody>\n",
       "</table>\n",
       "</div>"
      ],
      "text/plain": [
       "       zip_code            join_date\n",
       "index                               \n",
       "B         13244  2012-04-15 23:31:04\n",
       "E         60091  2010-07-17 05:27:50"
      ]
     },
     "execution_count": 39,
     "metadata": {},
     "output_type": "execute_result"
    }
   ],
   "source": [
    "# iloc\n",
    "customers.iloc[[1, 4], [1, 2]]"
   ]
  },
  {
   "cell_type": "code",
   "execution_count": 40,
   "id": "ec67ad3d",
   "metadata": {},
   "outputs": [
    {
     "data": {
      "text/html": [
       "<div>\n",
       "<style scoped>\n",
       "    .dataframe tbody tr th:only-of-type {\n",
       "        vertical-align: middle;\n",
       "    }\n",
       "\n",
       "    .dataframe tbody tr th {\n",
       "        vertical-align: top;\n",
       "    }\n",
       "\n",
       "    .dataframe thead th {\n",
       "        text-align: right;\n",
       "    }\n",
       "</style>\n",
       "<table border=\"1\" class=\"dataframe\">\n",
       "  <thead>\n",
       "    <tr style=\"text-align: right;\">\n",
       "      <th></th>\n",
       "      <th>zip_code</th>\n",
       "      <th>join_date</th>\n",
       "    </tr>\n",
       "    <tr>\n",
       "      <th>index</th>\n",
       "      <th></th>\n",
       "      <th></th>\n",
       "    </tr>\n",
       "  </thead>\n",
       "  <tbody>\n",
       "    <tr>\n",
       "      <th>A</th>\n",
       "      <td>60091</td>\n",
       "      <td>2011-04-17 10:48:33</td>\n",
       "    </tr>\n",
       "    <tr>\n",
       "      <th>B</th>\n",
       "      <td>13244</td>\n",
       "      <td>2012-04-15 23:31:04</td>\n",
       "    </tr>\n",
       "    <tr>\n",
       "      <th>C</th>\n",
       "      <td>13244</td>\n",
       "      <td>2011-08-13 15:42:34</td>\n",
       "    </tr>\n",
       "    <tr>\n",
       "      <th>D</th>\n",
       "      <td>60091</td>\n",
       "      <td>2011-04-08 20:08:14</td>\n",
       "    </tr>\n",
       "    <tr>\n",
       "      <th>E</th>\n",
       "      <td>60091</td>\n",
       "      <td>2010-07-17 05:27:50</td>\n",
       "    </tr>\n",
       "  </tbody>\n",
       "</table>\n",
       "</div>"
      ],
      "text/plain": [
       "       zip_code            join_date\n",
       "index                               \n",
       "A         60091  2011-04-17 10:48:33\n",
       "B         13244  2012-04-15 23:31:04\n",
       "C         13244  2011-08-13 15:42:34\n",
       "D         60091  2011-04-08 20:08:14\n",
       "E         60091  2010-07-17 05:27:50"
      ]
     },
     "execution_count": 40,
     "metadata": {},
     "output_type": "execute_result"
    }
   ],
   "source": [
    "customers.iloc[:, [1, 2]]"
   ]
  },
  {
   "cell_type": "code",
   "execution_count": 41,
   "id": "06787570",
   "metadata": {},
   "outputs": [
    {
     "data": {
      "text/html": [
       "<div>\n",
       "<style scoped>\n",
       "    .dataframe tbody tr th:only-of-type {\n",
       "        vertical-align: middle;\n",
       "    }\n",
       "\n",
       "    .dataframe tbody tr th {\n",
       "        vertical-align: top;\n",
       "    }\n",
       "\n",
       "    .dataframe thead th {\n",
       "        text-align: right;\n",
       "    }\n",
       "</style>\n",
       "<table border=\"1\" class=\"dataframe\">\n",
       "  <thead>\n",
       "    <tr style=\"text-align: right;\">\n",
       "      <th></th>\n",
       "      <th>customer_id</th>\n",
       "      <th>zip_code</th>\n",
       "      <th>join_date</th>\n",
       "      <th>date_of_birth</th>\n",
       "    </tr>\n",
       "    <tr>\n",
       "      <th>index</th>\n",
       "      <th></th>\n",
       "      <th></th>\n",
       "      <th></th>\n",
       "      <th></th>\n",
       "    </tr>\n",
       "  </thead>\n",
       "  <tbody>\n",
       "    <tr>\n",
       "      <th>A</th>\n",
       "      <td>1</td>\n",
       "      <td>60091</td>\n",
       "      <td>2011-04-17 10:48:33</td>\n",
       "      <td>1994-07-18</td>\n",
       "    </tr>\n",
       "    <tr>\n",
       "      <th>B</th>\n",
       "      <td>2</td>\n",
       "      <td>13244</td>\n",
       "      <td>2012-04-15 23:31:04</td>\n",
       "      <td>1986-08-18</td>\n",
       "    </tr>\n",
       "    <tr>\n",
       "      <th>C</th>\n",
       "      <td>3</td>\n",
       "      <td>13244</td>\n",
       "      <td>2011-08-13 15:42:34</td>\n",
       "      <td>2003-11-21</td>\n",
       "    </tr>\n",
       "    <tr>\n",
       "      <th>D</th>\n",
       "      <td>4</td>\n",
       "      <td>60091</td>\n",
       "      <td>2011-04-08 20:08:14</td>\n",
       "      <td>2006-08-15</td>\n",
       "    </tr>\n",
       "    <tr>\n",
       "      <th>E</th>\n",
       "      <td>5</td>\n",
       "      <td>60091</td>\n",
       "      <td>2010-07-17 05:27:50</td>\n",
       "      <td>1984-07-28</td>\n",
       "    </tr>\n",
       "  </tbody>\n",
       "</table>\n",
       "</div>"
      ],
      "text/plain": [
       "       customer_id  zip_code            join_date date_of_birth\n",
       "index                                                          \n",
       "A                1     60091  2011-04-17 10:48:33    1994-07-18\n",
       "B                2     13244  2012-04-15 23:31:04    1986-08-18\n",
       "C                3     13244  2011-08-13 15:42:34    2003-11-21\n",
       "D                4     60091  2011-04-08 20:08:14    2006-08-15\n",
       "E                5     60091  2010-07-17 05:27:50    1984-07-28"
      ]
     },
     "execution_count": 41,
     "metadata": {},
     "output_type": "execute_result"
    }
   ],
   "source": [
    "customers"
   ]
  },
  {
   "cell_type": "markdown",
   "id": "701ca5e0",
   "metadata": {},
   "source": [
    "¿Qué tal? Ya tenemos varias formas de seleccionar e indexar ciertos datos.\n",
    "\n",
    "Esto es, sin duda, muy útil. Por otra parte, muchas veces queremos obtener cierta información (clientes, en nuestro ejemplo) que cumplan algunos requisitos. Por ejemplo:\n",
    "- que sean mayores de 18 años, o\n",
    "- que su antiguedad en la plataforma sea menor a seis meses, o\n",
    "- que residan en cierta zona,\n",
    "- entre otros.\n",
    "\n",
    "Para ello utilizamos los operadores de comparación (==, >, <, >=, <=, !=)."
   ]
  },
  {
   "cell_type": "markdown",
   "id": "bcaeceae",
   "metadata": {},
   "source": [
    "___\n",
    "# 3. Filtrado de datos\n",
    "\n",
    "Los operadores de comparación pueden ser utilizados con Series de pandas. \n",
    "\n",
    "Esto resulta ser súper útil para filtrar datos con ciertas condiciones específicas (esto lo veremos enseguida). \n",
    "\n",
    "Por ahora, veremos que al usar operadores de comparación con Series, el resultado será Series booleanas. Es decir, cada elemento de dichas series será `True` si la condición se satisface, y `Falso` de lo contrario.\n",
    "\n",
    "Una vez tenemos la serie boolena, podemos aplicarla para la selección de filas, obteniendo un DataFrame filtrado como resultado."
   ]
  },
  {
   "cell_type": "markdown",
   "id": "a2d6bfba",
   "metadata": {},
   "source": [
    "**Ejemplos**\n",
    "\n",
    "¿Cuáles clientes son mayores de 18 años?"
   ]
  },
  {
   "cell_type": "code",
   "execution_count": 42,
   "id": "59d0fe71",
   "metadata": {},
   "outputs": [
    {
     "data": {
      "text/plain": [
       "index\n",
       "A     True\n",
       "B     True\n",
       "C     True\n",
       "D    False\n",
       "E     True\n",
       "Name: date_of_birth, dtype: bool"
      ]
     },
     "execution_count": 42,
     "metadata": {},
     "output_type": "execute_result"
    }
   ],
   "source": [
    "customers['date_of_birth'] <= '2004-02-22'"
   ]
  },
  {
   "cell_type": "markdown",
   "id": "893be395",
   "metadata": {},
   "source": [
    "¿Cuáles clientes se registraron después del primero de Junio del 2011?"
   ]
  },
  {
   "cell_type": "code",
   "execution_count": 46,
   "id": "414fb9f1",
   "metadata": {},
   "outputs": [
    {
     "data": {
      "text/plain": [
       "index\n",
       "A    False\n",
       "B     True\n",
       "C     True\n",
       "D    False\n",
       "E    False\n",
       "Name: join_date, dtype: bool"
      ]
     },
     "execution_count": 46,
     "metadata": {},
     "output_type": "execute_result"
    }
   ],
   "source": [
    "customers['join_date'] >= '2011-06-01'"
   ]
  },
  {
   "cell_type": "markdown",
   "id": "88f6ed39",
   "metadata": {},
   "source": [
    "¿Cuáles clientes viven en la zona con CP 13244?"
   ]
  },
  {
   "cell_type": "code",
   "execution_count": 45,
   "id": "ad5de006",
   "metadata": {},
   "outputs": [
    {
     "data": {
      "text/plain": [
       "index\n",
       "A    False\n",
       "B     True\n",
       "C     True\n",
       "D    False\n",
       "E    False\n",
       "Name: zip_code, dtype: bool"
      ]
     },
     "execution_count": 45,
     "metadata": {},
     "output_type": "execute_result"
    }
   ],
   "source": [
    "customers['zip_code'] == 13244"
   ]
  },
  {
   "cell_type": "markdown",
   "id": "f41baaf7",
   "metadata": {},
   "source": [
    "Añadiendo datos"
   ]
  },
  {
   "cell_type": "code",
   "execution_count": 58,
   "id": "4c41db02",
   "metadata": {},
   "outputs": [],
   "source": [
    "customer_new = pd.DataFrame({'customer_id' : 6,\n",
    "                             'zip_code' : 45016,\n",
    "                             'join_date' : \"2018-05-01 16:35:54\",\n",
    "                             'date_of_birth': '1980-10-05'}, index = ['F'])\n",
    "customers = pd.concat((customers, customer_new), axis = 0)"
   ]
  },
  {
   "cell_type": "code",
   "execution_count": 59,
   "id": "d738c6cb",
   "metadata": {},
   "outputs": [
    {
     "data": {
      "text/html": [
       "<div>\n",
       "<style scoped>\n",
       "    .dataframe tbody tr th:only-of-type {\n",
       "        vertical-align: middle;\n",
       "    }\n",
       "\n",
       "    .dataframe tbody tr th {\n",
       "        vertical-align: top;\n",
       "    }\n",
       "\n",
       "    .dataframe thead th {\n",
       "        text-align: right;\n",
       "    }\n",
       "</style>\n",
       "<table border=\"1\" class=\"dataframe\">\n",
       "  <thead>\n",
       "    <tr style=\"text-align: right;\">\n",
       "      <th></th>\n",
       "      <th>customer_id</th>\n",
       "      <th>zip_code</th>\n",
       "      <th>join_date</th>\n",
       "      <th>date_of_birth</th>\n",
       "    </tr>\n",
       "  </thead>\n",
       "  <tbody>\n",
       "    <tr>\n",
       "      <th>F</th>\n",
       "      <td>6</td>\n",
       "      <td>45016</td>\n",
       "      <td>2018-05-01 16:35:54</td>\n",
       "      <td>1980-10-05</td>\n",
       "    </tr>\n",
       "  </tbody>\n",
       "</table>\n",
       "</div>"
      ],
      "text/plain": [
       "   customer_id  zip_code            join_date date_of_birth\n",
       "F            6     45016  2018-05-01 16:35:54    1980-10-05"
      ]
     },
     "execution_count": 59,
     "metadata": {},
     "output_type": "execute_result"
    }
   ],
   "source": [
    "customer_new"
   ]
  },
  {
   "cell_type": "code",
   "execution_count": 60,
   "id": "56272a12",
   "metadata": {},
   "outputs": [
    {
     "data": {
      "text/html": [
       "<div>\n",
       "<style scoped>\n",
       "    .dataframe tbody tr th:only-of-type {\n",
       "        vertical-align: middle;\n",
       "    }\n",
       "\n",
       "    .dataframe tbody tr th {\n",
       "        vertical-align: top;\n",
       "    }\n",
       "\n",
       "    .dataframe thead th {\n",
       "        text-align: right;\n",
       "    }\n",
       "</style>\n",
       "<table border=\"1\" class=\"dataframe\">\n",
       "  <thead>\n",
       "    <tr style=\"text-align: right;\">\n",
       "      <th></th>\n",
       "      <th>customer_id</th>\n",
       "      <th>zip_code</th>\n",
       "      <th>join_date</th>\n",
       "      <th>date_of_birth</th>\n",
       "      <th>date_birth</th>\n",
       "    </tr>\n",
       "  </thead>\n",
       "  <tbody>\n",
       "    <tr>\n",
       "      <th>A</th>\n",
       "      <td>1</td>\n",
       "      <td>60091</td>\n",
       "      <td>2011-04-17 10:48:33</td>\n",
       "      <td>1994-07-18</td>\n",
       "      <td>NaN</td>\n",
       "    </tr>\n",
       "    <tr>\n",
       "      <th>B</th>\n",
       "      <td>2</td>\n",
       "      <td>13244</td>\n",
       "      <td>2012-04-15 23:31:04</td>\n",
       "      <td>1986-08-18</td>\n",
       "      <td>NaN</td>\n",
       "    </tr>\n",
       "    <tr>\n",
       "      <th>C</th>\n",
       "      <td>3</td>\n",
       "      <td>13244</td>\n",
       "      <td>2011-08-13 15:42:34</td>\n",
       "      <td>2003-11-21</td>\n",
       "      <td>NaN</td>\n",
       "    </tr>\n",
       "    <tr>\n",
       "      <th>D</th>\n",
       "      <td>4</td>\n",
       "      <td>60091</td>\n",
       "      <td>2011-04-08 20:08:14</td>\n",
       "      <td>2006-08-15</td>\n",
       "      <td>NaN</td>\n",
       "    </tr>\n",
       "    <tr>\n",
       "      <th>E</th>\n",
       "      <td>5</td>\n",
       "      <td>60091</td>\n",
       "      <td>2010-07-17 05:27:50</td>\n",
       "      <td>1984-07-28</td>\n",
       "      <td>NaN</td>\n",
       "    </tr>\n",
       "    <tr>\n",
       "      <th>F</th>\n",
       "      <td>6</td>\n",
       "      <td>45016</td>\n",
       "      <td>2018-05-01 16:35:34</td>\n",
       "      <td>NaN</td>\n",
       "      <td>1980-10-05</td>\n",
       "    </tr>\n",
       "    <tr>\n",
       "      <th>F</th>\n",
       "      <td>6</td>\n",
       "      <td>45016</td>\n",
       "      <td>2018-05-01 16:35:34</td>\n",
       "      <td>NaN</td>\n",
       "      <td>1980-10-05</td>\n",
       "    </tr>\n",
       "    <tr>\n",
       "      <th>F</th>\n",
       "      <td>6</td>\n",
       "      <td>45016</td>\n",
       "      <td>2018-05-01 16:35:34</td>\n",
       "      <td>NaN</td>\n",
       "      <td>1980-10-05</td>\n",
       "    </tr>\n",
       "    <tr>\n",
       "      <th>F</th>\n",
       "      <td>6</td>\n",
       "      <td>45016</td>\n",
       "      <td>2018-05-01 16:35:54</td>\n",
       "      <td>NaN</td>\n",
       "      <td>1980-10-05</td>\n",
       "    </tr>\n",
       "    <tr>\n",
       "      <th>F</th>\n",
       "      <td>6</td>\n",
       "      <td>45016</td>\n",
       "      <td>2018-05-01 16:35:54</td>\n",
       "      <td>NaN</td>\n",
       "      <td>1980-10-05</td>\n",
       "    </tr>\n",
       "    <tr>\n",
       "      <th>F</th>\n",
       "      <td>6</td>\n",
       "      <td>45016</td>\n",
       "      <td>2018-05-01 16:35:54</td>\n",
       "      <td>1980-10-05</td>\n",
       "      <td>NaN</td>\n",
       "    </tr>\n",
       "  </tbody>\n",
       "</table>\n",
       "</div>"
      ],
      "text/plain": [
       "   customer_id  zip_code            join_date date_of_birth  date_birth\n",
       "A            1     60091  2011-04-17 10:48:33    1994-07-18         NaN\n",
       "B            2     13244  2012-04-15 23:31:04    1986-08-18         NaN\n",
       "C            3     13244  2011-08-13 15:42:34    2003-11-21         NaN\n",
       "D            4     60091  2011-04-08 20:08:14    2006-08-15         NaN\n",
       "E            5     60091  2010-07-17 05:27:50    1984-07-28         NaN\n",
       "F            6     45016  2018-05-01 16:35:34           NaN  1980-10-05\n",
       "F            6     45016  2018-05-01 16:35:34           NaN  1980-10-05\n",
       "F            6     45016  2018-05-01 16:35:34           NaN  1980-10-05\n",
       "F            6     45016  2018-05-01 16:35:54           NaN  1980-10-05\n",
       "F            6     45016  2018-05-01 16:35:54           NaN  1980-10-05\n",
       "F            6     45016  2018-05-01 16:35:54    1980-10-05         NaN"
      ]
     },
     "execution_count": 60,
     "metadata": {},
     "output_type": "execute_result"
    }
   ],
   "source": [
    "customers"
   ]
  },
  {
   "cell_type": "markdown",
   "id": "e006eaf6",
   "metadata": {},
   "source": [
    "## 3.1 Filtrado con múltiples condiciones\n",
    "\n",
    "Cuando queremos filtrar datos con múltiples condiciones, podemos usar operadores booleanos (`and`, `or`, `not`), solo con una pequeña modificación. Usamos:\n",
    "\n",
    "- `&` en lugar de `and`,\n",
    "- `|` en lugar de `or`, y\n",
    "- `~` en lugar de `not`."
   ]
  },
  {
   "cell_type": "code",
   "execution_count": 61,
   "id": "834b5eb5",
   "metadata": {},
   "outputs": [
    {
     "data": {
      "text/html": [
       "<div>\n",
       "<style scoped>\n",
       "    .dataframe tbody tr th:only-of-type {\n",
       "        vertical-align: middle;\n",
       "    }\n",
       "\n",
       "    .dataframe tbody tr th {\n",
       "        vertical-align: top;\n",
       "    }\n",
       "\n",
       "    .dataframe thead th {\n",
       "        text-align: right;\n",
       "    }\n",
       "</style>\n",
       "<table border=\"1\" class=\"dataframe\">\n",
       "  <thead>\n",
       "    <tr style=\"text-align: right;\">\n",
       "      <th></th>\n",
       "      <th>Unnamed: 0</th>\n",
       "      <th>customer_id</th>\n",
       "      <th>zip_code</th>\n",
       "      <th>join_date</th>\n",
       "      <th>date_of_birth</th>\n",
       "    </tr>\n",
       "  </thead>\n",
       "  <tbody>\n",
       "    <tr>\n",
       "      <th>0</th>\n",
       "      <td>0</td>\n",
       "      <td>1</td>\n",
       "      <td>60091</td>\n",
       "      <td>2011-04-17 10:48:33</td>\n",
       "      <td>1994-07-18</td>\n",
       "    </tr>\n",
       "    <tr>\n",
       "      <th>1</th>\n",
       "      <td>1</td>\n",
       "      <td>2</td>\n",
       "      <td>13244</td>\n",
       "      <td>2012-04-15 23:31:04</td>\n",
       "      <td>1986-08-18</td>\n",
       "    </tr>\n",
       "    <tr>\n",
       "      <th>2</th>\n",
       "      <td>2</td>\n",
       "      <td>3</td>\n",
       "      <td>13244</td>\n",
       "      <td>2011-08-13 15:42:34</td>\n",
       "      <td>2003-11-21</td>\n",
       "    </tr>\n",
       "    <tr>\n",
       "      <th>3</th>\n",
       "      <td>3</td>\n",
       "      <td>4</td>\n",
       "      <td>60091</td>\n",
       "      <td>2011-04-08 20:08:14</td>\n",
       "      <td>2006-08-15</td>\n",
       "    </tr>\n",
       "    <tr>\n",
       "      <th>4</th>\n",
       "      <td>4</td>\n",
       "      <td>5</td>\n",
       "      <td>60091</td>\n",
       "      <td>2010-07-17 05:27:50</td>\n",
       "      <td>1984-07-28</td>\n",
       "    </tr>\n",
       "  </tbody>\n",
       "</table>\n",
       "</div>"
      ],
      "text/plain": [
       "   Unnamed: 0  customer_id  zip_code            join_date date_of_birth\n",
       "0           0            1     60091  2011-04-17 10:48:33    1994-07-18\n",
       "1           1            2     13244  2012-04-15 23:31:04    1986-08-18\n",
       "2           2            3     13244  2011-08-13 15:42:34    2003-11-21\n",
       "3           3            4     60091  2011-04-08 20:08:14    2006-08-15\n",
       "4           4            5     60091  2010-07-17 05:27:50    1984-07-28"
      ]
     },
     "execution_count": 61,
     "metadata": {},
     "output_type": "execute_result"
    }
   ],
   "source": [
    "customers = pd.read_csv(\"../Clases/data/customers_data.csv\")\n",
    "customers"
   ]
  },
  {
   "cell_type": "code",
   "execution_count": 62,
   "id": "b874d6c5",
   "metadata": {},
   "outputs": [
    {
     "data": {
      "text/html": [
       "<div>\n",
       "<style scoped>\n",
       "    .dataframe tbody tr th:only-of-type {\n",
       "        vertical-align: middle;\n",
       "    }\n",
       "\n",
       "    .dataframe tbody tr th {\n",
       "        vertical-align: top;\n",
       "    }\n",
       "\n",
       "    .dataframe thead th {\n",
       "        text-align: right;\n",
       "    }\n",
       "</style>\n",
       "<table border=\"1\" class=\"dataframe\">\n",
       "  <thead>\n",
       "    <tr style=\"text-align: right;\">\n",
       "      <th></th>\n",
       "      <th>Unnamed: 0</th>\n",
       "      <th>customer_id</th>\n",
       "      <th>zip_code</th>\n",
       "      <th>join_date</th>\n",
       "      <th>date_of_birth</th>\n",
       "    </tr>\n",
       "  </thead>\n",
       "  <tbody>\n",
       "    <tr>\n",
       "      <th>1</th>\n",
       "      <td>1</td>\n",
       "      <td>2</td>\n",
       "      <td>13244</td>\n",
       "      <td>2012-04-15 23:31:04</td>\n",
       "      <td>1986-08-18</td>\n",
       "    </tr>\n",
       "    <tr>\n",
       "      <th>2</th>\n",
       "      <td>2</td>\n",
       "      <td>3</td>\n",
       "      <td>13244</td>\n",
       "      <td>2011-08-13 15:42:34</td>\n",
       "      <td>2003-11-21</td>\n",
       "    </tr>\n",
       "  </tbody>\n",
       "</table>\n",
       "</div>"
      ],
      "text/plain": [
       "   Unnamed: 0  customer_id  zip_code            join_date date_of_birth\n",
       "1           1            2     13244  2012-04-15 23:31:04    1986-08-18\n",
       "2           2            3     13244  2011-08-13 15:42:34    2003-11-21"
      ]
     },
     "execution_count": 62,
     "metadata": {},
     "output_type": "execute_result"
    }
   ],
   "source": [
    "customers[(customers[\"date_of_birth\"] <= \"2004-02-22\") &\n",
    "          (customers[\"zip_code\"] == 13244)]"
   ]
  },
  {
   "cell_type": "markdown",
   "id": "da74f9c1",
   "metadata": {},
   "source": [
    "**Ejemplo en slides**"
   ]
  },
  {
   "cell_type": "markdown",
   "id": "f5623ed6",
   "metadata": {},
   "source": [
    "https://www.kaggle.com/abhishekmamidi/precipitation-data-of-pune-from-1965-to-2002"
   ]
  },
  {
   "cell_type": "code",
   "execution_count": 87,
   "id": "37f53a8d-7224-44a6-90f4-bb81046c679b",
   "metadata": {},
   "outputs": [
    {
     "data": {
      "text/html": [
       "<div>\n",
       "<style scoped>\n",
       "    .dataframe tbody tr th:only-of-type {\n",
       "        vertical-align: middle;\n",
       "    }\n",
       "\n",
       "    .dataframe tbody tr th {\n",
       "        vertical-align: top;\n",
       "    }\n",
       "\n",
       "    .dataframe thead th {\n",
       "        text-align: right;\n",
       "    }\n",
       "</style>\n",
       "<table border=\"1\" class=\"dataframe\">\n",
       "  <thead>\n",
       "    <tr style=\"text-align: right;\">\n",
       "      <th></th>\n",
       "      <th>Jan</th>\n",
       "      <th>Feb</th>\n",
       "      <th>Mar</th>\n",
       "      <th>Apr</th>\n",
       "      <th>May</th>\n",
       "      <th>Jun</th>\n",
       "      <th>Jul</th>\n",
       "      <th>Aug</th>\n",
       "      <th>Sep</th>\n",
       "      <th>Oct</th>\n",
       "      <th>Nov</th>\n",
       "      <th>Dec</th>\n",
       "    </tr>\n",
       "    <tr>\n",
       "      <th>Year</th>\n",
       "      <th></th>\n",
       "      <th></th>\n",
       "      <th></th>\n",
       "      <th></th>\n",
       "      <th></th>\n",
       "      <th></th>\n",
       "      <th></th>\n",
       "      <th></th>\n",
       "      <th></th>\n",
       "      <th></th>\n",
       "      <th></th>\n",
       "      <th></th>\n",
       "    </tr>\n",
       "  </thead>\n",
       "  <tbody>\n",
       "    <tr>\n",
       "      <th>1965</th>\n",
       "      <td>0.029</td>\n",
       "      <td>0.069</td>\n",
       "      <td>0.000</td>\n",
       "      <td>21.667</td>\n",
       "      <td>17.859</td>\n",
       "      <td>102.111</td>\n",
       "      <td>606.071</td>\n",
       "      <td>402.521</td>\n",
       "      <td>69.511</td>\n",
       "      <td>5.249</td>\n",
       "      <td>16.232</td>\n",
       "      <td>22.075</td>\n",
       "    </tr>\n",
       "    <tr>\n",
       "      <th>1966</th>\n",
       "      <td>0.905</td>\n",
       "      <td>0.000</td>\n",
       "      <td>0.000</td>\n",
       "      <td>2.981</td>\n",
       "      <td>63.008</td>\n",
       "      <td>94.088</td>\n",
       "      <td>481.942</td>\n",
       "      <td>59.386</td>\n",
       "      <td>150.624</td>\n",
       "      <td>1.308</td>\n",
       "      <td>41.214</td>\n",
       "      <td>4.132</td>\n",
       "    </tr>\n",
       "    <tr>\n",
       "      <th>1967</th>\n",
       "      <td>0.248</td>\n",
       "      <td>3.390</td>\n",
       "      <td>1.320</td>\n",
       "      <td>13.482</td>\n",
       "      <td>11.116</td>\n",
       "      <td>251.314</td>\n",
       "      <td>780.006</td>\n",
       "      <td>181.069</td>\n",
       "      <td>183.757</td>\n",
       "      <td>50.404</td>\n",
       "      <td>8.393</td>\n",
       "      <td>37.685</td>\n",
       "    </tr>\n",
       "    <tr>\n",
       "      <th>1968</th>\n",
       "      <td>0.318</td>\n",
       "      <td>3.035</td>\n",
       "      <td>1.704</td>\n",
       "      <td>23.307</td>\n",
       "      <td>7.441</td>\n",
       "      <td>179.872</td>\n",
       "      <td>379.354</td>\n",
       "      <td>171.979</td>\n",
       "      <td>219.884</td>\n",
       "      <td>73.997</td>\n",
       "      <td>23.326</td>\n",
       "      <td>2.020</td>\n",
       "    </tr>\n",
       "    <tr>\n",
       "      <th>1969</th>\n",
       "      <td>0.248</td>\n",
       "      <td>2.524</td>\n",
       "      <td>0.334</td>\n",
       "      <td>4.569</td>\n",
       "      <td>6.213</td>\n",
       "      <td>393.682</td>\n",
       "      <td>678.354</td>\n",
       "      <td>397.335</td>\n",
       "      <td>205.413</td>\n",
       "      <td>24.014</td>\n",
       "      <td>24.385</td>\n",
       "      <td>1.951</td>\n",
       "    </tr>\n",
       "  </tbody>\n",
       "</table>\n",
       "</div>"
      ],
      "text/plain": [
       "        Jan    Feb    Mar     Apr     May      Jun      Jul      Aug      Sep  \\\n",
       "Year                                                                            \n",
       "1965  0.029  0.069  0.000  21.667  17.859  102.111  606.071  402.521   69.511   \n",
       "1966  0.905  0.000  0.000   2.981  63.008   94.088  481.942   59.386  150.624   \n",
       "1967  0.248  3.390  1.320  13.482  11.116  251.314  780.006  181.069  183.757   \n",
       "1968  0.318  3.035  1.704  23.307   7.441  179.872  379.354  171.979  219.884   \n",
       "1969  0.248  2.524  0.334   4.569   6.213  393.682  678.354  397.335  205.413   \n",
       "\n",
       "         Oct     Nov     Dec  \n",
       "Year                          \n",
       "1965   5.249  16.232  22.075  \n",
       "1966   1.308  41.214   4.132  \n",
       "1967  50.404   8.393  37.685  \n",
       "1968  73.997  23.326   2.020  \n",
       "1969  24.014  24.385   1.951  "
      ]
     },
     "execution_count": 87,
     "metadata": {},
     "output_type": "execute_result"
    }
   ],
   "source": [
    "df_lluvias_archivo = pd.read_csv('../Clases/pune_1965_to_2002.csv',\n",
    "                                index_col=[0]) # Leer el archivo y guardarlo en un DataFrame\n",
    "df_lluvias_archivo.head(5)"
   ]
  },
  {
   "cell_type": "code",
   "execution_count": 69,
   "id": "137f7073",
   "metadata": {},
   "outputs": [
    {
     "data": {
      "text/html": [
       "<div>\n",
       "<style scoped>\n",
       "    .dataframe tbody tr th:only-of-type {\n",
       "        vertical-align: middle;\n",
       "    }\n",
       "\n",
       "    .dataframe tbody tr th {\n",
       "        vertical-align: top;\n",
       "    }\n",
       "\n",
       "    .dataframe thead th {\n",
       "        text-align: right;\n",
       "    }\n",
       "</style>\n",
       "<table border=\"1\" class=\"dataframe\">\n",
       "  <thead>\n",
       "    <tr style=\"text-align: right;\">\n",
       "      <th></th>\n",
       "      <th>Year</th>\n",
       "      <th>Jan</th>\n",
       "      <th>Feb</th>\n",
       "      <th>Mar</th>\n",
       "      <th>Apr</th>\n",
       "      <th>May</th>\n",
       "      <th>Jun</th>\n",
       "      <th>Jul</th>\n",
       "      <th>Aug</th>\n",
       "      <th>Sep</th>\n",
       "      <th>Oct</th>\n",
       "      <th>Nov</th>\n",
       "      <th>Dec</th>\n",
       "    </tr>\n",
       "  </thead>\n",
       "  <tbody>\n",
       "    <tr>\n",
       "      <th>33</th>\n",
       "      <td>1998</td>\n",
       "      <td>0.008</td>\n",
       "      <td>2.671</td>\n",
       "      <td>0.073</td>\n",
       "      <td>0.377</td>\n",
       "      <td>15.717</td>\n",
       "      <td>238.609</td>\n",
       "      <td>590.663</td>\n",
       "      <td>362.357</td>\n",
       "      <td>243.444</td>\n",
       "      <td>96.324</td>\n",
       "      <td>52.965</td>\n",
       "      <td>0.035</td>\n",
       "    </tr>\n",
       "    <tr>\n",
       "      <th>34</th>\n",
       "      <td>1999</td>\n",
       "      <td>0.000</td>\n",
       "      <td>1.431</td>\n",
       "      <td>0.000</td>\n",
       "      <td>0.642</td>\n",
       "      <td>35.828</td>\n",
       "      <td>415.471</td>\n",
       "      <td>277.137</td>\n",
       "      <td>98.616</td>\n",
       "      <td>225.962</td>\n",
       "      <td>180.300</td>\n",
       "      <td>0.263</td>\n",
       "      <td>0.033</td>\n",
       "    </tr>\n",
       "    <tr>\n",
       "      <th>35</th>\n",
       "      <td>2000</td>\n",
       "      <td>0.000</td>\n",
       "      <td>0.170</td>\n",
       "      <td>0.000</td>\n",
       "      <td>1.193</td>\n",
       "      <td>26.237</td>\n",
       "      <td>371.328</td>\n",
       "      <td>265.417</td>\n",
       "      <td>220.814</td>\n",
       "      <td>147.196</td>\n",
       "      <td>38.246</td>\n",
       "      <td>15.274</td>\n",
       "      <td>8.187</td>\n",
       "    </tr>\n",
       "    <tr>\n",
       "      <th>36</th>\n",
       "      <td>2001</td>\n",
       "      <td>0.147</td>\n",
       "      <td>0.000</td>\n",
       "      <td>2.178</td>\n",
       "      <td>1.528</td>\n",
       "      <td>7.860</td>\n",
       "      <td>247.982</td>\n",
       "      <td>279.547</td>\n",
       "      <td>189.404</td>\n",
       "      <td>158.025</td>\n",
       "      <td>135.518</td>\n",
       "      <td>23.633</td>\n",
       "      <td>0.003</td>\n",
       "    </tr>\n",
       "    <tr>\n",
       "      <th>37</th>\n",
       "      <td>2002</td>\n",
       "      <td>0.231</td>\n",
       "      <td>0.911</td>\n",
       "      <td>0.388</td>\n",
       "      <td>53.266</td>\n",
       "      <td>18.430</td>\n",
       "      <td>509.145</td>\n",
       "      <td>84.936</td>\n",
       "      <td>257.205</td>\n",
       "      <td>78.269</td>\n",
       "      <td>21.486</td>\n",
       "      <td>0.614</td>\n",
       "      <td>0.000</td>\n",
       "    </tr>\n",
       "  </tbody>\n",
       "</table>\n",
       "</div>"
      ],
      "text/plain": [
       "    Year    Jan    Feb    Mar     Apr     May      Jun      Jul      Aug  \\\n",
       "33  1998  0.008  2.671  0.073   0.377  15.717  238.609  590.663  362.357   \n",
       "34  1999  0.000  1.431  0.000   0.642  35.828  415.471  277.137   98.616   \n",
       "35  2000  0.000  0.170  0.000   1.193  26.237  371.328  265.417  220.814   \n",
       "36  2001  0.147  0.000  2.178   1.528   7.860  247.982  279.547  189.404   \n",
       "37  2002  0.231  0.911  0.388  53.266  18.430  509.145   84.936  257.205   \n",
       "\n",
       "        Sep      Oct     Nov    Dec  \n",
       "33  243.444   96.324  52.965  0.035  \n",
       "34  225.962  180.300   0.263  0.033  \n",
       "35  147.196   38.246  15.274  8.187  \n",
       "36  158.025  135.518  23.633  0.003  \n",
       "37   78.269   21.486   0.614  0.000  "
      ]
     },
     "execution_count": 69,
     "metadata": {},
     "output_type": "execute_result"
    }
   ],
   "source": [
    "df_lluvias_archivo.tail(5)"
   ]
  },
  {
   "cell_type": "code",
   "execution_count": 83,
   "id": "8d31d32f-cb97-49e6-912a-54d2379b07f7",
   "metadata": {},
   "outputs": [],
   "source": [
    "indice = list(df_lluvias_archivo.Year) # Quiero cambiar los índices por el año, entonces descompongo el archivo en su índice, columnas y valores"
   ]
  },
  {
   "cell_type": "code",
   "execution_count": 73,
   "id": "dcb29ac7-e2b0-4a92-9437-15e5e0eb9961",
   "metadata": {},
   "outputs": [
    {
     "data": {
      "text/plain": [
       "Index(['Jan', 'Feb', 'Mar', 'Apr', 'May', 'Jun', 'Jul', 'Aug', 'Sep', 'Oct',\n",
       "       'Nov', 'Dec'],\n",
       "      dtype='object')"
      ]
     },
     "execution_count": 73,
     "metadata": {},
     "output_type": "execute_result"
    }
   ],
   "source": [
    "columnas = df_lluvias_archivo.columns[1:] # La columna original de año ya no es más columna sino índice\n",
    "columnas"
   ]
  },
  {
   "cell_type": "code",
   "execution_count": 86,
   "id": "fff2f4b1-0f48-415d-afb4-c706d4661240",
   "metadata": {},
   "outputs": [
    {
     "data": {
      "text/plain": [
       "array([[2.90000e-02, 6.90000e-02, 0.00000e+00, 2.16670e+01, 1.78590e+01,\n",
       "        1.02111e+02, 6.06071e+02, 4.02521e+02, 6.95110e+01, 5.24900e+00,\n",
       "        1.62320e+01, 2.20750e+01],\n",
       "       [9.05000e-01, 0.00000e+00, 0.00000e+00, 2.98100e+00, 6.30080e+01,\n",
       "        9.40880e+01, 4.81942e+02, 5.93860e+01, 1.50624e+02, 1.30800e+00,\n",
       "        4.12140e+01, 4.13200e+00],\n",
       "       [2.48000e-01, 3.39000e+00, 1.32000e+00, 1.34820e+01, 1.11160e+01,\n",
       "        2.51314e+02, 7.80006e+02, 1.81069e+02, 1.83757e+02, 5.04040e+01,\n",
       "        8.39300e+00, 3.76850e+01],\n",
       "       [3.18000e-01, 3.03500e+00, 1.70400e+00, 2.33070e+01, 7.44100e+00,\n",
       "        1.79872e+02, 3.79354e+02, 1.71979e+02, 2.19884e+02, 7.39970e+01,\n",
       "        2.33260e+01, 2.02000e+00],\n",
       "       [2.48000e-01, 2.52400e+00, 3.34000e-01, 4.56900e+00, 6.21300e+00,\n",
       "        3.93682e+02, 6.78354e+02, 3.97335e+02, 2.05413e+02, 2.40140e+01,\n",
       "        2.43850e+01, 1.95100e+00],\n",
       "       [7.00000e-02, 0.00000e+00, 1.00000e-03, 1.62180e+01, 6.80360e+01,\n",
       "        3.00546e+02, 3.30502e+02, 2.83476e+02, 1.58640e+02, 1.15758e+02,\n",
       "        2.60000e-01, 0.00000e+00],\n",
       "       [0.00000e+00, 0.00000e+00, 0.00000e+00, 8.12000e-01, 5.76910e+01,\n",
       "        2.97187e+02, 1.22195e+02, 3.72693e+02, 2.86056e+02, 3.94240e+01,\n",
       "        5.54000e-01, 0.00000e+00],\n",
       "       [0.00000e+00, 2.90000e-02, 0.00000e+00, 5.98200e+00, 1.91010e+01,\n",
       "        1.32413e+02, 3.38484e+02, 6.87410e+01, 1.20415e+02, 1.07800e+00,\n",
       "        2.40890e+01, 1.43000e-01],\n",
       "       [0.00000e+00, 2.96900e+00, 2.34000e-01, 3.92500e+00, 1.49780e+01,\n",
       "        3.04484e+02, 6.96024e+02, 2.56932e+02, 1.83206e+02, 1.01805e+02,\n",
       "        5.51600e+00, 0.00000e+00],\n",
       "       [0.00000e+00, 0.00000e+00, 6.42700e+00, 1.68640e+01, 5.12090e+01,\n",
       "        1.48697e+02, 4.05359e+02, 3.19651e+02, 2.88533e+02, 1.88876e+02,\n",
       "        2.60000e-01, 0.00000e+00],\n",
       "       [3.33000e-01, 5.85000e-01, 0.00000e+00, 6.10000e-02, 3.06510e+01,\n",
       "        3.59369e+02, 4.74143e+02, 4.04372e+02, 4.00001e+02, 1.05560e+02,\n",
       "        2.76300e+00, 0.00000e+00],\n",
       "       [0.00000e+00, 0.00000e+00, 5.99300e+00, 4.45400e+00, 3.57700e+00,\n",
       "        7.73737e+02, 5.45379e+02, 4.36912e+02, 1.08459e+02, 1.36110e+01,\n",
       "        4.48870e+01, 4.15800e+00],\n",
       "       [0.00000e+00, 2.98100e+00, 3.28900e+00, 4.43200e+00, 3.21300e+01,\n",
       "        3.19716e+02, 4.07246e+02, 1.29678e+02, 8.91500e+01, 8.31930e+01,\n",
       "        1.22809e+02, 7.53000e+00],\n",
       "       [6.10000e-02, 4.19700e+00, 4.00400e+00, 4.46230e+01, 5.29500e+01,\n",
       "        4.03860e+02, 1.92399e+02, 2.39066e+02, 1.39119e+02, 2.67110e+01,\n",
       "        6.09960e+01, 5.97000e-01],\n",
       "       [0.00000e+00, 3.86000e-01, 3.34300e+00, 1.26000e-01, 6.86000e+00,\n",
       "        3.42324e+02, 4.03925e+02, 4.51153e+02, 4.40381e+02, 1.90840e+01,\n",
       "        1.01597e+02, 8.00000e-03],\n",
       "       [8.00000e-03, 0.00000e+00, 8.32900e+00, 2.87640e+01, 4.81600e+00,\n",
       "        3.49975e+02, 3.44268e+02, 4.04191e+02, 9.41270e+01, 1.08260e+01,\n",
       "        1.55330e+01, 7.34800e+00],\n",
       "       [2.25700e+00, 2.12100e+00, 4.45000e-01, 1.08170e+01, 1.71930e+01,\n",
       "        3.60788e+02, 5.07155e+02, 2.17037e+02, 3.61165e+02, 8.00180e+01,\n",
       "        3.71500e+00, 5.00000e-02],\n",
       "       [0.00000e+00, 5.60000e-01, 0.00000e+00, 1.45850e+01, 5.04680e+01,\n",
       "        1.45343e+02, 1.86691e+02, 1.94307e+02, 2.39402e+02, 4.92570e+01,\n",
       "        6.24740e+01, 0.00000e+00],\n",
       "       [3.95000e-01, 0.00000e+00, 0.00000e+00, 6.10000e-02, 1.05600e+00,\n",
       "        2.25847e+02, 3.90041e+02, 5.37764e+02, 4.28050e+02, 3.07710e+01,\n",
       "        1.00800e+00, 1.95500e+00],\n",
       "       [0.00000e+00, 3.91000e-01, 5.77200e+00, 4.99700e+00, 5.08000e-01,\n",
       "        3.67058e+02, 6.21607e+02, 1.38006e+02, 2.29276e+02, 1.67164e+02,\n",
       "        3.78600e+00, 3.96000e-01],\n",
       "       [2.50000e-02, 0.00000e+00, 9.22000e-01, 1.15120e+01, 6.45800e+00,\n",
       "        2.34930e+02, 3.25191e+02, 2.97802e+02, 8.88770e+01, 1.39919e+02,\n",
       "        1.08561e+02, 6.55000e-01],\n",
       "       [0.00000e+00, 1.22900e+00, 0.00000e+00, 4.56700e+00, 2.25470e+01,\n",
       "        6.35977e+02, 2.02570e+02, 2.47395e+02, 1.05095e+02, 3.74600e+00,\n",
       "        7.45700e+00, 3.73860e+01],\n",
       "       [3.01300e+00, 8.41000e+00, 1.36700e+00, 3.86400e+00, 8.05390e+01,\n",
       "        2.00950e+02, 1.72864e+02, 4.77113e+02, 4.45740e+01, 1.50179e+02,\n",
       "        1.82810e+01, 3.68450e+01],\n",
       "       [0.00000e+00, 0.00000e+00, 0.00000e+00, 4.35700e+01, 1.28620e+01,\n",
       "        1.86431e+02, 7.40613e+02, 2.11781e+02, 6.13522e+02, 1.23750e+01,\n",
       "        4.58000e-01, 1.03700e+00],\n",
       "       [8.00000e-03, 0.00000e+00, 9.61900e+00, 2.07740e+01, 2.01760e+01,\n",
       "        4.25984e+02, 4.84451e+02, 1.77257e+02, 2.36803e+02, 2.34240e+01,\n",
       "        5.85000e-01, 9.43000e-01],\n",
       "       [4.00000e-03, 5.31000e-01, 7.89000e-01, 2.74000e-01, 7.83840e+01,\n",
       "        4.23314e+02, 5.83557e+02, 4.51707e+02, 6.91820e+01, 1.15349e+02,\n",
       "        4.18880e+01, 1.31500e+00],\n",
       "       [4.00000e-03, 7.10000e-02, 9.72000e-01, 2.79640e+01, 3.04050e+01,\n",
       "        5.65900e+02, 4.79719e+02, 1.93423e+02, 1.78727e+02, 4.13500e+00,\n",
       "        1.59360e+01, 0.00000e+00],\n",
       "       [0.00000e+00, 0.00000e+00, 0.00000e+00, 3.16500e+00, 9.58000e+00,\n",
       "        2.27180e+02, 3.21551e+02, 4.28764e+02, 2.87582e+02, 4.00790e+01,\n",
       "        5.98200e+00, 0.00000e+00],\n",
       "       [0.00000e+00, 7.80000e-02, 1.21100e+00, 2.06200e+00, 3.24800e+00,\n",
       "        2.34068e+02, 4.50088e+02, 1.50278e+02, 1.01928e+02, 2.25904e+02,\n",
       "        6.24000e+00, 3.51470e+01],\n",
       "       [8.79000e-01, 3.25000e-01, 2.41500e+00, 1.68230e+01, 3.33780e+01,\n",
       "        7.49030e+02, 7.07986e+02, 2.30898e+02, 1.15509e+02, 1.16348e+02,\n",
       "        1.40980e+01, 0.00000e+00],\n",
       "       [6.95000e-01, 0.00000e+00, 1.77000e+00, 2.59490e+01, 2.39640e+01,\n",
       "        1.63515e+02, 5.01461e+02, 1.14206e+02, 2.88262e+02, 8.43590e+01,\n",
       "        4.86600e+00, 2.10000e-02],\n",
       "       [1.60000e-02, 2.77900e+00, 8.70000e-02, 6.31800e+00, 5.13400e+00,\n",
       "        4.53607e+02, 5.58586e+02, 2.12489e+02, 2.03642e+02, 1.76471e+02,\n",
       "        1.22020e+01, 0.00000e+00],\n",
       "       [1.28400e+00, 0.00000e+00, 7.47000e-01, 2.39120e+01, 4.66400e+00,\n",
       "        6.73831e+02, 4.22913e+02, 5.41579e+02, 6.04770e+01, 3.10500e+01,\n",
       "        6.53920e+01, 1.89910e+01],\n",
       "       [8.00000e-03, 2.67100e+00, 7.30000e-02, 3.77000e-01, 1.57170e+01,\n",
       "        2.38609e+02, 5.90663e+02, 3.62357e+02, 2.43444e+02, 9.63240e+01,\n",
       "        5.29650e+01, 3.50000e-02],\n",
       "       [0.00000e+00, 1.43100e+00, 0.00000e+00, 6.42000e-01, 3.58280e+01,\n",
       "        4.15471e+02, 2.77137e+02, 9.86160e+01, 2.25962e+02, 1.80300e+02,\n",
       "        2.63000e-01, 3.30000e-02],\n",
       "       [0.00000e+00, 1.70000e-01, 0.00000e+00, 1.19300e+00, 2.62370e+01,\n",
       "        3.71328e+02, 2.65417e+02, 2.20814e+02, 1.47196e+02, 3.82460e+01,\n",
       "        1.52740e+01, 8.18700e+00],\n",
       "       [1.47000e-01, 0.00000e+00, 2.17800e+00, 1.52800e+00, 7.86000e+00,\n",
       "        2.47982e+02, 2.79547e+02, 1.89404e+02, 1.58025e+02, 1.35518e+02,\n",
       "        2.36330e+01, 3.00000e-03],\n",
       "       [2.31000e-01, 9.11000e-01, 3.88000e-01, 5.32660e+01, 1.84300e+01,\n",
       "        5.09145e+02, 8.49360e+01, 2.57205e+02, 7.82690e+01, 2.14860e+01,\n",
       "        6.14000e-01, 0.00000e+00]])"
      ]
     },
     "execution_count": 86,
     "metadata": {},
     "output_type": "execute_result"
    }
   ],
   "source": [
    "valores = df_lluvias_archivo.values[:,1:] \n",
    "valores"
   ]
  },
  {
   "cell_type": "code",
   "execution_count": 76,
   "id": "4e5e6e90-7ab0-44eb-bd84-ea964c185fc2",
   "metadata": {},
   "outputs": [
    {
     "data": {
      "text/html": [
       "<div>\n",
       "<style scoped>\n",
       "    .dataframe tbody tr th:only-of-type {\n",
       "        vertical-align: middle;\n",
       "    }\n",
       "\n",
       "    .dataframe tbody tr th {\n",
       "        vertical-align: top;\n",
       "    }\n",
       "\n",
       "    .dataframe thead th {\n",
       "        text-align: right;\n",
       "    }\n",
       "</style>\n",
       "<table border=\"1\" class=\"dataframe\">\n",
       "  <thead>\n",
       "    <tr style=\"text-align: right;\">\n",
       "      <th></th>\n",
       "      <th>Jan</th>\n",
       "      <th>Feb</th>\n",
       "      <th>Mar</th>\n",
       "      <th>Apr</th>\n",
       "      <th>May</th>\n",
       "      <th>Jun</th>\n",
       "      <th>Jul</th>\n",
       "      <th>Aug</th>\n",
       "      <th>Sep</th>\n",
       "      <th>Oct</th>\n",
       "      <th>Nov</th>\n",
       "      <th>Dec</th>\n",
       "    </tr>\n",
       "  </thead>\n",
       "  <tbody>\n",
       "    <tr>\n",
       "      <th>1965</th>\n",
       "      <td>0.029</td>\n",
       "      <td>0.069</td>\n",
       "      <td>0.000</td>\n",
       "      <td>21.667</td>\n",
       "      <td>17.859</td>\n",
       "      <td>102.111</td>\n",
       "      <td>606.071</td>\n",
       "      <td>402.521</td>\n",
       "      <td>69.511</td>\n",
       "      <td>5.249</td>\n",
       "      <td>16.232</td>\n",
       "      <td>22.075</td>\n",
       "    </tr>\n",
       "    <tr>\n",
       "      <th>1966</th>\n",
       "      <td>0.905</td>\n",
       "      <td>0.000</td>\n",
       "      <td>0.000</td>\n",
       "      <td>2.981</td>\n",
       "      <td>63.008</td>\n",
       "      <td>94.088</td>\n",
       "      <td>481.942</td>\n",
       "      <td>59.386</td>\n",
       "      <td>150.624</td>\n",
       "      <td>1.308</td>\n",
       "      <td>41.214</td>\n",
       "      <td>4.132</td>\n",
       "    </tr>\n",
       "    <tr>\n",
       "      <th>1967</th>\n",
       "      <td>0.248</td>\n",
       "      <td>3.390</td>\n",
       "      <td>1.320</td>\n",
       "      <td>13.482</td>\n",
       "      <td>11.116</td>\n",
       "      <td>251.314</td>\n",
       "      <td>780.006</td>\n",
       "      <td>181.069</td>\n",
       "      <td>183.757</td>\n",
       "      <td>50.404</td>\n",
       "      <td>8.393</td>\n",
       "      <td>37.685</td>\n",
       "    </tr>\n",
       "    <tr>\n",
       "      <th>1968</th>\n",
       "      <td>0.318</td>\n",
       "      <td>3.035</td>\n",
       "      <td>1.704</td>\n",
       "      <td>23.307</td>\n",
       "      <td>7.441</td>\n",
       "      <td>179.872</td>\n",
       "      <td>379.354</td>\n",
       "      <td>171.979</td>\n",
       "      <td>219.884</td>\n",
       "      <td>73.997</td>\n",
       "      <td>23.326</td>\n",
       "      <td>2.020</td>\n",
       "    </tr>\n",
       "    <tr>\n",
       "      <th>1969</th>\n",
       "      <td>0.248</td>\n",
       "      <td>2.524</td>\n",
       "      <td>0.334</td>\n",
       "      <td>4.569</td>\n",
       "      <td>6.213</td>\n",
       "      <td>393.682</td>\n",
       "      <td>678.354</td>\n",
       "      <td>397.335</td>\n",
       "      <td>205.413</td>\n",
       "      <td>24.014</td>\n",
       "      <td>24.385</td>\n",
       "      <td>1.951</td>\n",
       "    </tr>\n",
       "  </tbody>\n",
       "</table>\n",
       "</div>"
      ],
      "text/plain": [
       "        Jan    Feb    Mar     Apr     May      Jun      Jul      Aug      Sep  \\\n",
       "1965  0.029  0.069  0.000  21.667  17.859  102.111  606.071  402.521   69.511   \n",
       "1966  0.905  0.000  0.000   2.981  63.008   94.088  481.942   59.386  150.624   \n",
       "1967  0.248  3.390  1.320  13.482  11.116  251.314  780.006  181.069  183.757   \n",
       "1968  0.318  3.035  1.704  23.307   7.441  179.872  379.354  171.979  219.884   \n",
       "1969  0.248  2.524  0.334   4.569   6.213  393.682  678.354  397.335  205.413   \n",
       "\n",
       "         Oct     Nov     Dec  \n",
       "1965   5.249  16.232  22.075  \n",
       "1966   1.308  41.214   4.132  \n",
       "1967  50.404   8.393  37.685  \n",
       "1968  73.997  23.326   2.020  \n",
       "1969  24.014  24.385   1.951  "
      ]
     },
     "execution_count": 76,
     "metadata": {},
     "output_type": "execute_result"
    }
   ],
   "source": [
    "df_lluvias = pd.DataFrame(valores,index=indice,columns=columnas)\n",
    "df_lluvias.head()"
   ]
  },
  {
   "cell_type": "code",
   "execution_count": 77,
   "id": "fef92a09-a534-41dd-9961-24d4a4fcd34b",
   "metadata": {},
   "outputs": [
    {
     "data": {
      "text/plain": [
       "Jan       11.186\n",
       "Feb       41.843\n",
       "Mar       63.733\n",
       "Apr      470.487\n",
       "May      952.272\n",
       "Jun    12809.663\n",
       "Jul    16340.395\n",
       "Aug    10529.357\n",
       "Sep     7642.245\n",
       "Oct     2783.320\n",
       "Nov      958.492\n",
       "Dec      230.646\n",
       "dtype: float64"
      ]
     },
     "execution_count": 77,
     "metadata": {},
     "output_type": "execute_result"
    }
   ],
   "source": [
    "df_lluvias.sum(axis=0)"
   ]
  },
  {
   "cell_type": "code",
   "execution_count": 78,
   "id": "56b3ca16-4bdc-4ec0-878b-f51a4eca1b6b",
   "metadata": {},
   "outputs": [
    {
     "data": {
      "text/plain": [
       "<AxesSubplot:ylabel='Frequency'>"
      ]
     },
     "execution_count": 78,
     "metadata": {},
     "output_type": "execute_result"
    },
    {
     "data": {
      "image/png": "[encoded data removed]",
      "text/plain": [
       "<Figure size 432x288 with 1 Axes>"
      ]
     },
     "metadata": {
      "needs_background": "light"
     },
     "output_type": "display_data"
    }
   ],
   "source": [
    "df_lluvias.plot.hist()"
   ]
  },
  {
   "cell_type": "code",
   "execution_count": 79,
   "id": "9bb08357-c741-4497-b918-96c43a41ea22",
   "metadata": {},
   "outputs": [
    {
     "name": "stdout",
     "output_type": "stream",
     "text": [
      "1965    105.282833\n",
      "1966     74.965667\n",
      "1967    126.848667\n",
      "1968     90.519750\n",
      "1969    144.918500\n",
      "1970    106.125583\n",
      "1971     98.051000\n",
      "1972     59.206250\n",
      "1973    130.839417\n",
      "1974    118.823000\n",
      "1975    148.153167\n",
      "1976    161.763917\n",
      "1977    100.179500\n",
      "1978     97.381917\n",
      "1979    147.432250\n",
      "1980    105.682083\n",
      "1981    130.230083\n",
      "1982     78.590583\n",
      "1983    134.745667\n",
      "1984    128.246750\n",
      "1985    101.237667\n",
      "1986    105.664083\n",
      "1987     99.833250\n",
      "1988    151.887417\n",
      "1989    116.668667\n",
      "1990    147.191167\n",
      "1991    124.771333\n",
      "1992    110.323583\n",
      "1993    100.854333\n",
      "1994    165.640750\n",
      "1995    100.755667\n",
      "1996    135.944250\n",
      "1997    153.736667\n",
      "1998    133.603583\n",
      "1999    102.973583\n",
      "2000     91.171833\n",
      "2001     87.152083\n",
      "2002     85.406750\n",
      "dtype: float64\n"
     ]
    }
   ],
   "source": [
    "print(df_lluvias.mean(axis='columns')) # Promedio de lluvias por año\n"
   ]
  },
  {
   "cell_type": "code",
   "execution_count": 80,
   "id": "ec5d3782",
   "metadata": {},
   "outputs": [
    {
     "name": "stdout",
     "output_type": "stream",
     "text": [
      "             Jan        Feb        Mar        Apr        May         Jun  \\\n",
      "count  38.000000  38.000000  38.000000  38.000000  38.000000   38.000000   \n",
      "mean    0.294368   1.101132   1.677184  12.381237  25.059789  337.096395   \n",
      "std     0.640510   1.741219   2.486516  13.671071  22.451708  171.666565   \n",
      "min     0.000000   0.000000   0.000000   0.061000   0.508000   94.088000   \n",
      "25%     0.000000   0.000000   0.000000   2.291750   7.005250  226.180250   \n",
      "50%     0.008000   0.247500   0.596000   5.489500  18.144500  312.100000   \n",
      "75%     0.248000   1.948500   2.076000  19.796500  33.066000  412.568250   \n",
      "max     3.013000   8.410000   9.619000  53.266000  80.539000  773.737000   \n",
      "\n",
      "              Jul         Aug         Sep         Oct         Nov        Dec  \n",
      "count   38.000000   38.000000   38.000000   38.000000   38.000000  38.000000  \n",
      "mean   430.010395  277.088342  201.111711   73.245263   25.223474   6.069632  \n",
      "std    177.976444  132.245356  123.736320   62.936775   31.806180  11.725716  \n",
      "min     84.936000   59.386000   44.574000    1.078000    0.260000   0.000000  \n",
      "25%    322.461000  183.152750  105.936000   21.970500    3.732750   0.000000  \n",
      "50%    415.079500  243.230500  180.966500   49.830500   14.686000   0.496500  \n",
      "75%    555.284250  401.224500  242.433500  115.655750   37.006750   4.151500  \n",
      "max    780.006000  541.579000  613.522000  225.904000  122.809000  37.685000  \n"
     ]
    }
   ],
   "source": [
    "print(df_lluvias.describe()) # Resumen estadístico por mes"
   ]
  },
  {
   "cell_type": "code",
   "execution_count": 81,
   "id": "ff46b079",
   "metadata": {},
   "outputs": [
    {
     "name": "stdout",
     "output_type": "stream",
     "text": [
      "             1965        1966        1967        1968        1969        1970  \\\n",
      "count   12.000000   12.000000   12.000000   12.000000   12.000000   12.000000   \n",
      "mean   105.282833   74.965667  126.848667   90.519750  144.918500  106.125583   \n",
      "std    193.803249  136.712641  223.481438  121.542279  226.523917  130.810410   \n",
      "min      0.000000    0.000000    0.248000    0.318000    0.248000    0.000000   \n",
      "25%      3.954000    1.207250    7.142250    2.781250    2.380750    0.052750   \n",
      "50%     19.763000   22.673000   25.583500   23.316500   15.113500   42.127000   \n",
      "75%     77.661000   70.778000  181.741000  173.952250  252.480250  189.849000   \n",
      "max    606.071000  481.942000  780.006000  379.354000  678.354000  330.502000   \n",
      "\n",
      "             1971        1972        1973        1974  ...        1993  \\\n",
      "count   12.000000   12.000000   12.000000   12.000000  ...   12.000000   \n",
      "mean    98.051000   59.206250  130.839417  118.823000  ...  100.854333   \n",
      "std    139.314988  100.112325  209.317999  148.032607  ...  141.615296   \n",
      "min      0.000000    0.000000    0.000000    0.000000  ...    0.000000   \n",
      "25%      0.000000    0.114500    2.285250    0.195000  ...    1.849250   \n",
      "50%     20.118000   12.541500   10.247000   34.036500  ...   20.693500   \n",
      "75%    163.160250   81.659500  201.637500  213.790250  ...  169.184500   \n",
      "max    372.693000  338.484000  696.024000  405.359000  ...  450.088000   \n",
      "\n",
      "             1994        1995        1996        1997        1998        1999  \\\n",
      "count   12.000000   12.000000   12.000000   12.000000   12.000000   12.000000   \n",
      "mean   165.640750  100.755667  135.944250  153.736667  133.603583  102.973583   \n",
      "std    272.170311  154.009795  193.999557  243.543158  189.382612  140.375007   \n",
      "min      0.000000    0.000000    0.000000    0.000000    0.008000    0.000000   \n",
      "25%      2.031000    1.501250    2.106000    3.819000    0.301000    0.205500   \n",
      "50%     25.100500   24.956500    9.260000   27.481000   34.341000   18.629500   \n",
      "75%    144.985500  126.533250  205.853750  154.772250  239.817750  191.715500   \n",
      "max    749.030000  501.461000  558.586000  673.831000  590.663000  415.471000   \n",
      "\n",
      "             2000        2001        2002  \n",
      "count   12.000000   12.000000   12.000000  \n",
      "mean    91.171833   87.152083   85.406750  \n",
      "std    128.438675  108.012656  152.205435  \n",
      "min      0.000000    0.000000    0.000000  \n",
      "25%      0.937250    1.182750    0.557500  \n",
      "50%     20.755500   15.746500   19.958000  \n",
      "75%    165.600500  165.869750   79.935750  \n",
      "max    371.328000  279.547000  509.145000  \n",
      "\n",
      "[8 rows x 38 columns]\n"
     ]
    }
   ],
   "source": [
    "print(df_lluvias.T.describe()) # Resumen estadístico por año"
   ]
  },
  {
   "cell_type": "markdown",
   "id": "f81b2ef4",
   "metadata": {},
   "source": [
    "___\n",
    "# Operaciones sobres Strings"
   ]
  },
  {
   "cell_type": "markdown",
   "id": "68e479db-1ffe-43fa-ab1c-6fd47f07c972",
   "metadata": {},
   "source": [
    " Descargue el archivo de presidentes en el siguiente enlace\n",
    " https://www.kaggle.com/harshitagpt/us-presidents"
   ]
  },
  {
   "cell_type": "code",
   "execution_count": 89,
   "id": "32795218-c572-4ea1-92c6-403190d0ff9d",
   "metadata": {},
   "outputs": [],
   "source": [
    "Presidentes_archivo = pd.read_csv('../Clases/us_presidents 2.csv')"
   ]
  },
  {
   "cell_type": "code",
   "execution_count": 91,
   "id": "13808552",
   "metadata": {},
   "outputs": [
    {
     "data": {
      "text/html": [
       "<div>\n",
       "<style scoped>\n",
       "    .dataframe tbody tr th:only-of-type {\n",
       "        vertical-align: middle;\n",
       "    }\n",
       "\n",
       "    .dataframe tbody tr th {\n",
       "        vertical-align: top;\n",
       "    }\n",
       "\n",
       "    .dataframe thead th {\n",
       "        text-align: right;\n",
       "    }\n",
       "</style>\n",
       "<table border=\"1\" class=\"dataframe\">\n",
       "  <thead>\n",
       "    <tr style=\"text-align: right;\">\n",
       "      <th></th>\n",
       "      <th>Unnamed: 0</th>\n",
       "      <th>S.No.</th>\n",
       "      <th>start</th>\n",
       "      <th>end</th>\n",
       "      <th>president</th>\n",
       "      <th>prior</th>\n",
       "      <th>party</th>\n",
       "      <th>vice</th>\n",
       "    </tr>\n",
       "  </thead>\n",
       "  <tbody>\n",
       "    <tr>\n",
       "      <th>0</th>\n",
       "      <td>0</td>\n",
       "      <td>1</td>\n",
       "      <td>April 30, 1789</td>\n",
       "      <td>March 4, 1797</td>\n",
       "      <td>George Washington</td>\n",
       "      <td>Commander-in-Chief  of the  Continental Army  ...</td>\n",
       "      <td>Nonpartisan   [13]</td>\n",
       "      <td>John Adams</td>\n",
       "    </tr>\n",
       "    <tr>\n",
       "      <th>1</th>\n",
       "      <td>1</td>\n",
       "      <td>2</td>\n",
       "      <td>March 4, 1797</td>\n",
       "      <td>March 4, 1801</td>\n",
       "      <td>John Adams</td>\n",
       "      <td>1st  Vice President of the United States</td>\n",
       "      <td>Federalist</td>\n",
       "      <td>Thomas Jefferson</td>\n",
       "    </tr>\n",
       "    <tr>\n",
       "      <th>2</th>\n",
       "      <td>2</td>\n",
       "      <td>3</td>\n",
       "      <td>March 4, 1801</td>\n",
       "      <td>March 4, 1809</td>\n",
       "      <td>Thomas Jefferson</td>\n",
       "      <td>2nd  Vice President of the United States</td>\n",
       "      <td>Democratic-  Republican</td>\n",
       "      <td>Aaron Burr</td>\n",
       "    </tr>\n",
       "    <tr>\n",
       "      <th>3</th>\n",
       "      <td>3</td>\n",
       "      <td>4</td>\n",
       "      <td>March 4, 1809</td>\n",
       "      <td>March 4, 1817</td>\n",
       "      <td>James Madison</td>\n",
       "      <td>5th  United States Secretary of State   (1801–...</td>\n",
       "      <td>Democratic-  Republican</td>\n",
       "      <td>George Clinton</td>\n",
       "    </tr>\n",
       "    <tr>\n",
       "      <th>4</th>\n",
       "      <td>4</td>\n",
       "      <td>5</td>\n",
       "      <td>March 4, 1817</td>\n",
       "      <td>March 4, 1825</td>\n",
       "      <td>James Monroe</td>\n",
       "      <td>7th  United States Secretary of State   (1811–...</td>\n",
       "      <td>Democratic-  Republican</td>\n",
       "      <td>Daniel D. Tompkins</td>\n",
       "    </tr>\n",
       "  </tbody>\n",
       "</table>\n",
       "</div>"
      ],
      "text/plain": [
       "   Unnamed: 0  S.No.           start            end          president  \\\n",
       "0           0      1  April 30, 1789  March 4, 1797  George Washington   \n",
       "1           1      2   March 4, 1797  March 4, 1801         John Adams   \n",
       "2           2      3   March 4, 1801  March 4, 1809   Thomas Jefferson   \n",
       "3           3      4   March 4, 1809  March 4, 1817      James Madison   \n",
       "4           4      5   March 4, 1817  March 4, 1825       James Monroe   \n",
       "\n",
       "                                               prior                    party  \\\n",
       "0  Commander-in-Chief  of the  Continental Army  ...       Nonpartisan   [13]   \n",
       "1           1st  Vice President of the United States               Federalist   \n",
       "2           2nd  Vice President of the United States  Democratic-  Republican   \n",
       "3  5th  United States Secretary of State   (1801–...  Democratic-  Republican   \n",
       "4  7th  United States Secretary of State   (1811–...  Democratic-  Republican   \n",
       "\n",
       "                 vice  \n",
       "0          John Adams  \n",
       "1    Thomas Jefferson  \n",
       "2          Aaron Burr  \n",
       "3      George Clinton  \n",
       "4  Daniel D. Tompkins  "
      ]
     },
     "execution_count": 91,
     "metadata": {},
     "output_type": "execute_result"
    }
   ],
   "source": [
    "Presidentes_archivo.head(5)"
   ]
  },
  {
   "cell_type": "code",
   "execution_count": 93,
   "id": "6ebb596b",
   "metadata": {},
   "outputs": [
    {
     "data": {
      "text/html": [
       "<div>\n",
       "<style scoped>\n",
       "    .dataframe tbody tr th:only-of-type {\n",
       "        vertical-align: middle;\n",
       "    }\n",
       "\n",
       "    .dataframe tbody tr th {\n",
       "        vertical-align: top;\n",
       "    }\n",
       "\n",
       "    .dataframe thead th {\n",
       "        text-align: right;\n",
       "    }\n",
       "</style>\n",
       "<table border=\"1\" class=\"dataframe\">\n",
       "  <thead>\n",
       "    <tr style=\"text-align: right;\">\n",
       "      <th></th>\n",
       "      <th>president</th>\n",
       "    </tr>\n",
       "  </thead>\n",
       "  <tbody>\n",
       "    <tr>\n",
       "      <th>0</th>\n",
       "      <td>George Washington</td>\n",
       "    </tr>\n",
       "    <tr>\n",
       "      <th>1</th>\n",
       "      <td>John Adams</td>\n",
       "    </tr>\n",
       "    <tr>\n",
       "      <th>2</th>\n",
       "      <td>Thomas Jefferson</td>\n",
       "    </tr>\n",
       "    <tr>\n",
       "      <th>3</th>\n",
       "      <td>James Madison</td>\n",
       "    </tr>\n",
       "    <tr>\n",
       "      <th>4</th>\n",
       "      <td>James Monroe</td>\n",
       "    </tr>\n",
       "    <tr>\n",
       "      <th>5</th>\n",
       "      <td>John Quincy Adams</td>\n",
       "    </tr>\n",
       "    <tr>\n",
       "      <th>6</th>\n",
       "      <td>Andrew Jackson</td>\n",
       "    </tr>\n",
       "    <tr>\n",
       "      <th>7</th>\n",
       "      <td>Martin Van Buren</td>\n",
       "    </tr>\n",
       "    <tr>\n",
       "      <th>8</th>\n",
       "      <td>William Henry Harrison</td>\n",
       "    </tr>\n",
       "    <tr>\n",
       "      <th>9</th>\n",
       "      <td>John Tyler</td>\n",
       "    </tr>\n",
       "    <tr>\n",
       "      <th>10</th>\n",
       "      <td>James K. Polk</td>\n",
       "    </tr>\n",
       "    <tr>\n",
       "      <th>11</th>\n",
       "      <td>Zachary Taylor</td>\n",
       "    </tr>\n",
       "    <tr>\n",
       "      <th>12</th>\n",
       "      <td>Millard Fillmore</td>\n",
       "    </tr>\n",
       "    <tr>\n",
       "      <th>13</th>\n",
       "      <td>Franklin Pierce</td>\n",
       "    </tr>\n",
       "    <tr>\n",
       "      <th>14</th>\n",
       "      <td>James Buchanan</td>\n",
       "    </tr>\n",
       "    <tr>\n",
       "      <th>15</th>\n",
       "      <td>Abraham Lincoln</td>\n",
       "    </tr>\n",
       "    <tr>\n",
       "      <th>16</th>\n",
       "      <td>Andrew Johnson</td>\n",
       "    </tr>\n",
       "    <tr>\n",
       "      <th>17</th>\n",
       "      <td>Ulysses S. Grant</td>\n",
       "    </tr>\n",
       "    <tr>\n",
       "      <th>18</th>\n",
       "      <td>Rutherford B. Hayes</td>\n",
       "    </tr>\n",
       "    <tr>\n",
       "      <th>19</th>\n",
       "      <td>James A. Garfield</td>\n",
       "    </tr>\n",
       "    <tr>\n",
       "      <th>20</th>\n",
       "      <td>Chester A. Arthur</td>\n",
       "    </tr>\n",
       "    <tr>\n",
       "      <th>21</th>\n",
       "      <td>Grover Cleveland</td>\n",
       "    </tr>\n",
       "    <tr>\n",
       "      <th>22</th>\n",
       "      <td>Benjamin Harrison</td>\n",
       "    </tr>\n",
       "    <tr>\n",
       "      <th>23</th>\n",
       "      <td>Grover Cleveland</td>\n",
       "    </tr>\n",
       "    <tr>\n",
       "      <th>24</th>\n",
       "      <td>William McKinley</td>\n",
       "    </tr>\n",
       "    <tr>\n",
       "      <th>25</th>\n",
       "      <td>Theodore Roosevelt</td>\n",
       "    </tr>\n",
       "    <tr>\n",
       "      <th>26</th>\n",
       "      <td>William Howard Taft</td>\n",
       "    </tr>\n",
       "    <tr>\n",
       "      <th>27</th>\n",
       "      <td>Woodrow Wilson</td>\n",
       "    </tr>\n",
       "    <tr>\n",
       "      <th>28</th>\n",
       "      <td>Warren G. Harding</td>\n",
       "    </tr>\n",
       "    <tr>\n",
       "      <th>29</th>\n",
       "      <td>Calvin Coolidge</td>\n",
       "    </tr>\n",
       "    <tr>\n",
       "      <th>30</th>\n",
       "      <td>Herbert Hoover</td>\n",
       "    </tr>\n",
       "    <tr>\n",
       "      <th>31</th>\n",
       "      <td>Franklin D. Roosevelt</td>\n",
       "    </tr>\n",
       "    <tr>\n",
       "      <th>32</th>\n",
       "      <td>Harry S. Truman</td>\n",
       "    </tr>\n",
       "    <tr>\n",
       "      <th>33</th>\n",
       "      <td>Dwight D. Eisenhower</td>\n",
       "    </tr>\n",
       "    <tr>\n",
       "      <th>34</th>\n",
       "      <td>John F. Kennedy</td>\n",
       "    </tr>\n",
       "    <tr>\n",
       "      <th>35</th>\n",
       "      <td>Lyndon B. Johnson</td>\n",
       "    </tr>\n",
       "    <tr>\n",
       "      <th>36</th>\n",
       "      <td>Richard Nixon</td>\n",
       "    </tr>\n",
       "    <tr>\n",
       "      <th>37</th>\n",
       "      <td>Gerald Ford</td>\n",
       "    </tr>\n",
       "    <tr>\n",
       "      <th>38</th>\n",
       "      <td>Jimmy Carter</td>\n",
       "    </tr>\n",
       "    <tr>\n",
       "      <th>39</th>\n",
       "      <td>Ronald Reagan</td>\n",
       "    </tr>\n",
       "    <tr>\n",
       "      <th>40</th>\n",
       "      <td>George H. W. Bush</td>\n",
       "    </tr>\n",
       "    <tr>\n",
       "      <th>41</th>\n",
       "      <td>Bill Clinton</td>\n",
       "    </tr>\n",
       "    <tr>\n",
       "      <th>42</th>\n",
       "      <td>George W. Bush</td>\n",
       "    </tr>\n",
       "    <tr>\n",
       "      <th>43</th>\n",
       "      <td>Barack Obama</td>\n",
       "    </tr>\n",
       "    <tr>\n",
       "      <th>44</th>\n",
       "      <td>Donald Trump</td>\n",
       "    </tr>\n",
       "  </tbody>\n",
       "</table>\n",
       "</div>"
      ],
      "text/plain": [
       "                 president\n",
       "0        George Washington\n",
       "1               John Adams\n",
       "2         Thomas Jefferson\n",
       "3            James Madison\n",
       "4             James Monroe\n",
       "5        John Quincy Adams\n",
       "6           Andrew Jackson\n",
       "7         Martin Van Buren\n",
       "8   William Henry Harrison\n",
       "9               John Tyler\n",
       "10           James K. Polk\n",
       "11          Zachary Taylor\n",
       "12        Millard Fillmore\n",
       "13         Franklin Pierce\n",
       "14          James Buchanan\n",
       "15         Abraham Lincoln\n",
       "16          Andrew Johnson\n",
       "17        Ulysses S. Grant\n",
       "18     Rutherford B. Hayes\n",
       "19       James A. Garfield\n",
       "20       Chester A. Arthur\n",
       "21        Grover Cleveland\n",
       "22       Benjamin Harrison\n",
       "23        Grover Cleveland\n",
       "24        William McKinley\n",
       "25      Theodore Roosevelt\n",
       "26     William Howard Taft\n",
       "27          Woodrow Wilson\n",
       "28       Warren G. Harding\n",
       "29         Calvin Coolidge\n",
       "30          Herbert Hoover\n",
       "31   Franklin D. Roosevelt\n",
       "32         Harry S. Truman\n",
       "33    Dwight D. Eisenhower\n",
       "34         John F. Kennedy\n",
       "35       Lyndon B. Johnson\n",
       "36           Richard Nixon\n",
       "37             Gerald Ford\n",
       "38            Jimmy Carter\n",
       "39           Ronald Reagan\n",
       "40       George H. W. Bush\n",
       "41            Bill Clinton\n",
       "42          George W. Bush\n",
       "43            Barack Obama\n",
       "44            Donald Trump"
      ]
     },
     "execution_count": 93,
     "metadata": {},
     "output_type": "execute_result"
    }
   ],
   "source": [
    "Presidentes_archivo[['president']]"
   ]
  },
  {
   "cell_type": "code",
   "execution_count": 94,
   "id": "a2107a17",
   "metadata": {},
   "outputs": [],
   "source": [
    "Presidentes_nombres = pd.Series(Presidentes_archivo['president'])"
   ]
  },
  {
   "cell_type": "code",
   "execution_count": 96,
   "id": "b64bc0ba-371a-4494-b251-71d28146c7df",
   "metadata": {},
   "outputs": [
    {
     "name": "stdout",
     "output_type": "stream",
     "text": [
      "0          George Washington\n",
      "1                 John Adams\n",
      "2           Thomas Jefferson\n",
      "3              James Madison\n",
      "4               James Monroe\n",
      "5          John Quincy Adams\n",
      "6             Andrew Jackson\n",
      "7           Martin Van Buren\n",
      "8     William Henry Harrison\n",
      "9                 John Tyler\n",
      "10             James K. Polk\n",
      "11            Zachary Taylor\n",
      "12          Millard Fillmore\n",
      "13           Franklin Pierce\n",
      "14            James Buchanan\n",
      "15           Abraham Lincoln\n",
      "16            Andrew Johnson\n",
      "17          Ulysses S. Grant\n",
      "18       Rutherford B. Hayes\n",
      "19         James A. Garfield\n",
      "20         Chester A. Arthur\n",
      "21          Grover Cleveland\n",
      "22         Benjamin Harrison\n",
      "23          Grover Cleveland\n",
      "24          William McKinley\n",
      "25        Theodore Roosevelt\n",
      "26       William Howard Taft\n",
      "27            Woodrow Wilson\n",
      "28         Warren G. Harding\n",
      "29           Calvin Coolidge\n",
      "30            Herbert Hoover\n",
      "31     Franklin D. Roosevelt\n",
      "32           Harry S. Truman\n",
      "33      Dwight D. Eisenhower\n",
      "34           John F. Kennedy\n",
      "35         Lyndon B. Johnson\n",
      "36             Richard Nixon\n",
      "37               Gerald Ford\n",
      "38              Jimmy Carter\n",
      "39             Ronald Reagan\n",
      "40         George H. W. Bush\n",
      "41              Bill Clinton\n",
      "42            George W. Bush\n",
      "43              Barack Obama\n",
      "44              Donald Trump\n",
      "Name: president, dtype: object\n"
     ]
    }
   ],
   "source": [
    "print(Presidentes_nombres) # Nombres de todos los presidentes de EEUU"
   ]
  },
  {
   "cell_type": "code",
   "execution_count": 97,
   "id": "c0114e6a",
   "metadata": {},
   "outputs": [
    {
     "name": "stdout",
     "output_type": "stream",
     "text": [
      "0          GEORGE WASHINGTON\n",
      "1                 JOHN ADAMS\n",
      "2           THOMAS JEFFERSON\n",
      "3              JAMES MADISON\n",
      "4               JAMES MONROE\n",
      "5          JOHN QUINCY ADAMS\n",
      "6             ANDREW JACKSON\n",
      "7           MARTIN VAN BUREN\n",
      "8     WILLIAM HENRY HARRISON\n",
      "9                 JOHN TYLER\n",
      "10             JAMES K. POLK\n",
      "11            ZACHARY TAYLOR\n",
      "12          MILLARD FILLMORE\n",
      "13           FRANKLIN PIERCE\n",
      "14            JAMES BUCHANAN\n",
      "15           ABRAHAM LINCOLN\n",
      "16            ANDREW JOHNSON\n",
      "17          ULYSSES S. GRANT\n",
      "18       RUTHERFORD B. HAYES\n",
      "19         JAMES A. GARFIELD\n",
      "20         CHESTER A. ARTHUR\n",
      "21          GROVER CLEVELAND\n",
      "22         BENJAMIN HARRISON\n",
      "23          GROVER CLEVELAND\n",
      "24          WILLIAM MCKINLEY\n",
      "25        THEODORE ROOSEVELT\n",
      "26       WILLIAM HOWARD TAFT\n",
      "27            WOODROW WILSON\n",
      "28         WARREN G. HARDING\n",
      "29           CALVIN COOLIDGE\n",
      "30            HERBERT HOOVER\n",
      "31     FRANKLIN D. ROOSEVELT\n",
      "32           HARRY S. TRUMAN\n",
      "33      DWIGHT D. EISENHOWER\n",
      "34           JOHN F. KENNEDY\n",
      "35         LYNDON B. JOHNSON\n",
      "36             RICHARD NIXON\n",
      "37               GERALD FORD\n",
      "38              JIMMY CARTER\n",
      "39             RONALD REAGAN\n",
      "40         GEORGE H. W. BUSH\n",
      "41              BILL CLINTON\n",
      "42            GEORGE W. BUSH\n",
      "43              BARACK OBAMA\n",
      "44              DONALD TRUMP\n",
      "Name: president, dtype: object\n"
     ]
    }
   ],
   "source": [
    "print(Presidentes_nombres.str.upper()) # Todos los nombres en mayúsculas"
   ]
  },
  {
   "cell_type": "code",
   "execution_count": 98,
   "id": "eca4dc01",
   "metadata": {},
   "outputs": [
    {
     "name": "stdout",
     "output_type": "stream",
     "text": [
      "0     17\n",
      "1     10\n",
      "2     16\n",
      "3     13\n",
      "4     12\n",
      "5     17\n",
      "6     14\n",
      "7     16\n",
      "8     22\n",
      "9     10\n",
      "10    13\n",
      "11    14\n",
      "12    16\n",
      "13    15\n",
      "14    14\n",
      "15    15\n",
      "16    14\n",
      "17    16\n",
      "18    19\n",
      "19    17\n",
      "20    17\n",
      "21    16\n",
      "22    17\n",
      "23    16\n",
      "24    16\n",
      "25    18\n",
      "26    19\n",
      "27    14\n",
      "28    17\n",
      "29    15\n",
      "30    14\n",
      "31    21\n",
      "32    15\n",
      "33    20\n",
      "34    15\n",
      "35    17\n",
      "36    13\n",
      "37    11\n",
      "38    12\n",
      "39    13\n",
      "40    17\n",
      "41    12\n",
      "42    14\n",
      "43    12\n",
      "44    12\n",
      "Name: president, dtype: int64\n"
     ]
    }
   ],
   "source": [
    "print(Presidentes_nombres.str.len()) # Longitud de cada nombre, incluyendo puntos y espacios"
   ]
  },
  {
   "cell_type": "code",
   "execution_count": 99,
   "id": "f4d04fb1",
   "metadata": {},
   "outputs": [
    {
     "name": "stdout",
     "output_type": "stream",
     "text": [
      "0     False\n",
      "1      True\n",
      "2     False\n",
      "3      True\n",
      "4      True\n",
      "5      True\n",
      "6     False\n",
      "7     False\n",
      "8     False\n",
      "9      True\n",
      "10     True\n",
      "11    False\n",
      "12    False\n",
      "13    False\n",
      "14     True\n",
      "15    False\n",
      "16    False\n",
      "17    False\n",
      "18    False\n",
      "19     True\n",
      "20    False\n",
      "21    False\n",
      "22    False\n",
      "23    False\n",
      "24    False\n",
      "25    False\n",
      "26    False\n",
      "27    False\n",
      "28    False\n",
      "29    False\n",
      "30    False\n",
      "31    False\n",
      "32    False\n",
      "33    False\n",
      "34     True\n",
      "35    False\n",
      "36    False\n",
      "37    False\n",
      "38     True\n",
      "39    False\n",
      "40    False\n",
      "41    False\n",
      "42    False\n",
      "43    False\n",
      "44    False\n",
      "Name: president, dtype: bool\n"
     ]
    }
   ],
   "source": [
    "print(Presidentes_nombres.str.startswith('J')) # ¿Qué nombres completos tienen \"J\" como primera letra?"
   ]
  },
  {
   "cell_type": "code",
   "execution_count": 100,
   "id": "065de98b",
   "metadata": {},
   "outputs": [
    {
     "name": "stdout",
     "output_type": "stream",
     "text": [
      "0           [George, Washington]\n",
      "1                  [John, Adams]\n",
      "2            [Thomas, Jefferson]\n",
      "3               [James, Madison]\n",
      "4                [James, Monroe]\n",
      "5          [John, Quincy, Adams]\n",
      "6              [Andrew, Jackson]\n",
      "7           [Martin, Van, Buren]\n",
      "8     [William, Henry, Harrison]\n",
      "9                  [John, Tyler]\n",
      "10             [James, K., Polk]\n",
      "11             [Zachary, Taylor]\n",
      "12           [Millard, Fillmore]\n",
      "13            [Franklin, Pierce]\n",
      "14             [James, Buchanan]\n",
      "15            [Abraham, Lincoln]\n",
      "16             [Andrew, Johnson]\n",
      "17          [Ulysses, S., Grant]\n",
      "18       [Rutherford, B., Hayes]\n",
      "19         [James, A., Garfield]\n",
      "20         [Chester, A., Arthur]\n",
      "21           [Grover, Cleveland]\n",
      "22          [Benjamin, Harrison]\n",
      "23           [Grover, Cleveland]\n",
      "24           [William, McKinley]\n",
      "25         [Theodore, Roosevelt]\n",
      "26       [William, Howard, Taft]\n",
      "27             [Woodrow, Wilson]\n",
      "28         [Warren, G., Harding]\n",
      "29            [Calvin, Coolidge]\n",
      "30             [Herbert, Hoover]\n",
      "31     [Franklin, D., Roosevelt]\n",
      "32           [Harry, S., Truman]\n",
      "33      [Dwight, D., Eisenhower]\n",
      "34           [John, F., Kennedy]\n",
      "35         [Lyndon, B., Johnson]\n",
      "36              [Richard, Nixon]\n",
      "37                [Gerald, Ford]\n",
      "38               [Jimmy, Carter]\n",
      "39              [Ronald, Reagan]\n",
      "40        [George, H., W., Bush]\n",
      "41               [Bill, Clinton]\n",
      "42            [George, W., Bush]\n",
      "43               [Barack, Obama]\n",
      "44               [Donald, Trump]\n",
      "Name: president, dtype: object\n"
     ]
    }
   ],
   "source": [
    "print(Presidentes_nombres.str.split()) # Separar cada texto por espacios. Ojo, presidentes con segundo nombre generan tres strings."
   ]
  },
  {
   "cell_type": "code",
   "execution_count": 120,
   "id": "d2a92ddb",
   "metadata": {},
   "outputs": [
    {
     "data": {
      "text/plain": [
       "0     False\n",
       "1      True\n",
       "2     False\n",
       "3      True\n",
       "4      True\n",
       "5      True\n",
       "6     False\n",
       "7     False\n",
       "8     False\n",
       "9      True\n",
       "10     True\n",
       "11    False\n",
       "12    False\n",
       "13    False\n",
       "14     True\n",
       "15    False\n",
       "16    False\n",
       "17    False\n",
       "18    False\n",
       "19     True\n",
       "20    False\n",
       "21    False\n",
       "22    False\n",
       "23    False\n",
       "24    False\n",
       "25    False\n",
       "26    False\n",
       "27    False\n",
       "28    False\n",
       "29    False\n",
       "30    False\n",
       "31    False\n",
       "32    False\n",
       "33    False\n",
       "34     True\n",
       "35    False\n",
       "36    False\n",
       "37    False\n",
       "38     True\n",
       "39    False\n",
       "40    False\n",
       "41    False\n",
       "42    False\n",
       "43    False\n",
       "44    False\n",
       "Name: president, dtype: bool"
      ]
     },
     "execution_count": 120,
     "metadata": {},
     "output_type": "execute_result"
    }
   ],
   "source": [
    "Presidentes_archivo['president'].str.startswith('J')"
   ]
  },
  {
   "cell_type": "code",
   "execution_count": 121,
   "id": "90f5d26f",
   "metadata": {},
   "outputs": [
    {
     "data": {
      "text/html": [
       "<div>\n",
       "<style scoped>\n",
       "    .dataframe tbody tr th:only-of-type {\n",
       "        vertical-align: middle;\n",
       "    }\n",
       "\n",
       "    .dataframe tbody tr th {\n",
       "        vertical-align: top;\n",
       "    }\n",
       "\n",
       "    .dataframe thead th {\n",
       "        text-align: right;\n",
       "    }\n",
       "</style>\n",
       "<table border=\"1\" class=\"dataframe\">\n",
       "  <thead>\n",
       "    <tr style=\"text-align: right;\">\n",
       "      <th></th>\n",
       "      <th>Unnamed: 0</th>\n",
       "      <th>S.No.</th>\n",
       "      <th>start</th>\n",
       "      <th>end</th>\n",
       "      <th>president</th>\n",
       "      <th>prior</th>\n",
       "      <th>party</th>\n",
       "      <th>vice</th>\n",
       "    </tr>\n",
       "  </thead>\n",
       "  <tbody>\n",
       "    <tr>\n",
       "      <th>1</th>\n",
       "      <td>1</td>\n",
       "      <td>2</td>\n",
       "      <td>March 4, 1797</td>\n",
       "      <td>March 4, 1801</td>\n",
       "      <td>John Adams</td>\n",
       "      <td>1st  Vice President of the United States</td>\n",
       "      <td>Federalist</td>\n",
       "      <td>Thomas Jefferson</td>\n",
       "    </tr>\n",
       "    <tr>\n",
       "      <th>3</th>\n",
       "      <td>3</td>\n",
       "      <td>4</td>\n",
       "      <td>March 4, 1809</td>\n",
       "      <td>March 4, 1817</td>\n",
       "      <td>James Madison</td>\n",
       "      <td>5th  United States Secretary of State   (1801–...</td>\n",
       "      <td>Democratic-  Republican</td>\n",
       "      <td>George Clinton</td>\n",
       "    </tr>\n",
       "    <tr>\n",
       "      <th>4</th>\n",
       "      <td>4</td>\n",
       "      <td>5</td>\n",
       "      <td>March 4, 1817</td>\n",
       "      <td>March 4, 1825</td>\n",
       "      <td>James Monroe</td>\n",
       "      <td>7th  United States Secretary of State   (1811–...</td>\n",
       "      <td>Democratic-  Republican</td>\n",
       "      <td>Daniel D. Tompkins</td>\n",
       "    </tr>\n",
       "    <tr>\n",
       "      <th>5</th>\n",
       "      <td>5</td>\n",
       "      <td>6</td>\n",
       "      <td>March 4, 1825</td>\n",
       "      <td>March 4, 1829</td>\n",
       "      <td>John Quincy Adams</td>\n",
       "      <td>8th  United States Secretary of State   (1817–...</td>\n",
       "      <td>Democratic-  Republican</td>\n",
       "      <td>John C. Calhoun</td>\n",
       "    </tr>\n",
       "    <tr>\n",
       "      <th>9</th>\n",
       "      <td>9</td>\n",
       "      <td>10</td>\n",
       "      <td>April 4, 1841</td>\n",
       "      <td>March 4, 1845</td>\n",
       "      <td>John Tyler</td>\n",
       "      <td>10th  Vice President of the United States</td>\n",
       "      <td>Whig   April 4, 1841  –  September 13, 1841</td>\n",
       "      <td>Office vacant</td>\n",
       "    </tr>\n",
       "    <tr>\n",
       "      <th>10</th>\n",
       "      <td>10</td>\n",
       "      <td>11</td>\n",
       "      <td>March 4, 1845</td>\n",
       "      <td>March 4, 1849</td>\n",
       "      <td>James K. Polk</td>\n",
       "      <td>9th  Governor of Tennessee   (1839–1841)</td>\n",
       "      <td>Democratic</td>\n",
       "      <td>George M. Dallas</td>\n",
       "    </tr>\n",
       "    <tr>\n",
       "      <th>14</th>\n",
       "      <td>14</td>\n",
       "      <td>15</td>\n",
       "      <td>March 4, 1857</td>\n",
       "      <td>March 4, 1861</td>\n",
       "      <td>James Buchanan</td>\n",
       "      <td>United States Minister  to the   Court of St J...</td>\n",
       "      <td>Democratic</td>\n",
       "      <td>John C. Breckinridge</td>\n",
       "    </tr>\n",
       "    <tr>\n",
       "      <th>19</th>\n",
       "      <td>19</td>\n",
       "      <td>20</td>\n",
       "      <td>March 4, 1881</td>\n",
       "      <td>September 19, 1881</td>\n",
       "      <td>James A. Garfield</td>\n",
       "      <td>U.S. Representative  for  Ohio's 19th District...</td>\n",
       "      <td>Republican</td>\n",
       "      <td>Chester A. Arthur</td>\n",
       "    </tr>\n",
       "    <tr>\n",
       "      <th>34</th>\n",
       "      <td>34</td>\n",
       "      <td>35</td>\n",
       "      <td>January 20, 1961</td>\n",
       "      <td>November 22, 1963</td>\n",
       "      <td>John F. Kennedy</td>\n",
       "      <td>U.S. Senator   ( Class 1 )   from  Massachuset...</td>\n",
       "      <td>Democratic</td>\n",
       "      <td>Lyndon B. Johnson</td>\n",
       "    </tr>\n",
       "    <tr>\n",
       "      <th>38</th>\n",
       "      <td>38</td>\n",
       "      <td>39</td>\n",
       "      <td>January 20, 1977</td>\n",
       "      <td>January 20, 1981</td>\n",
       "      <td>Jimmy Carter</td>\n",
       "      <td>76th  Governor of Georgia   (1971–1975)</td>\n",
       "      <td>Democratic</td>\n",
       "      <td>Walter Mondale</td>\n",
       "    </tr>\n",
       "  </tbody>\n",
       "</table>\n",
       "</div>"
      ],
      "text/plain": [
       "    Unnamed: 0  S.No.             start                 end  \\\n",
       "1            1      2     March 4, 1797       March 4, 1801   \n",
       "3            3      4     March 4, 1809       March 4, 1817   \n",
       "4            4      5     March 4, 1817       March 4, 1825   \n",
       "5            5      6     March 4, 1825       March 4, 1829   \n",
       "9            9     10     April 4, 1841       March 4, 1845   \n",
       "10          10     11     March 4, 1845       March 4, 1849   \n",
       "14          14     15     March 4, 1857       March 4, 1861   \n",
       "19          19     20     March 4, 1881  September 19, 1881   \n",
       "34          34     35  January 20, 1961   November 22, 1963   \n",
       "38          38     39  January 20, 1977    January 20, 1981   \n",
       "\n",
       "            president                                              prior  \\\n",
       "1          John Adams           1st  Vice President of the United States   \n",
       "3       James Madison  5th  United States Secretary of State   (1801–...   \n",
       "4        James Monroe  7th  United States Secretary of State   (1811–...   \n",
       "5   John Quincy Adams  8th  United States Secretary of State   (1817–...   \n",
       "9          John Tyler          10th  Vice President of the United States   \n",
       "10      James K. Polk           9th  Governor of Tennessee   (1839–1841)   \n",
       "14     James Buchanan  United States Minister  to the   Court of St J...   \n",
       "19  James A. Garfield  U.S. Representative  for  Ohio's 19th District...   \n",
       "34    John F. Kennedy  U.S. Senator   ( Class 1 )   from  Massachuset...   \n",
       "38       Jimmy Carter            76th  Governor of Georgia   (1971–1975)   \n",
       "\n",
       "                                          party                  vice  \n",
       "1                                    Federalist      Thomas Jefferson  \n",
       "3                       Democratic-  Republican        George Clinton  \n",
       "4                       Democratic-  Republican    Daniel D. Tompkins  \n",
       "5                       Democratic-  Republican       John C. Calhoun  \n",
       "9   Whig   April 4, 1841  –  September 13, 1841         Office vacant  \n",
       "10                                   Democratic      George M. Dallas  \n",
       "14                                   Democratic  John C. Breckinridge  \n",
       "19                                   Republican     Chester A. Arthur  \n",
       "34                                   Democratic     Lyndon B. Johnson  \n",
       "38                                   Democratic        Walter Mondale  "
      ]
     },
     "execution_count": 121,
     "metadata": {},
     "output_type": "execute_result"
    }
   ],
   "source": [
    "Presidentes_archivo[Presidentes_archivo['president'].str.startswith('J')]"
   ]
  },
  {
   "cell_type": "markdown",
   "id": "605921bf",
   "metadata": {},
   "source": [
    "#  Formato de fechas y horas"
   ]
  },
  {
   "cell_type": "markdown",
   "id": "236daceb",
   "metadata": {},
   "source": [
    "Lo primero que se tiene que hacer para un correcto manejo de las fechas (y horas) es identificar las columnas o variables que contienen fechas. Por ejemplo, de la tabla `transactions`:"
   ]
  },
  {
   "cell_type": "code",
   "execution_count": 122,
   "id": "f2142aa4",
   "metadata": {},
   "outputs": [
    {
     "data": {
      "text/html": [
       "<div>\n",
       "<style scoped>\n",
       "    .dataframe tbody tr th:only-of-type {\n",
       "        vertical-align: middle;\n",
       "    }\n",
       "\n",
       "    .dataframe tbody tr th {\n",
       "        vertical-align: top;\n",
       "    }\n",
       "\n",
       "    .dataframe thead th {\n",
       "        text-align: right;\n",
       "    }\n",
       "</style>\n",
       "<table border=\"1\" class=\"dataframe\">\n",
       "  <thead>\n",
       "    <tr style=\"text-align: right;\">\n",
       "      <th></th>\n",
       "      <th>transaction_id</th>\n",
       "      <th>session_id</th>\n",
       "      <th>transaction_time</th>\n",
       "      <th>product_id</th>\n",
       "      <th>amount</th>\n",
       "    </tr>\n",
       "  </thead>\n",
       "  <tbody>\n",
       "    <tr>\n",
       "      <th>0</th>\n",
       "      <td>298</td>\n",
       "      <td>1</td>\n",
       "      <td>2014-01-01 00:00:00</td>\n",
       "      <td>5</td>\n",
       "      <td>127.64</td>\n",
       "    </tr>\n",
       "    <tr>\n",
       "      <th>1</th>\n",
       "      <td>2</td>\n",
       "      <td>1</td>\n",
       "      <td>2014-01-01 00:01:05</td>\n",
       "      <td>2</td>\n",
       "      <td>109.48</td>\n",
       "    </tr>\n",
       "    <tr>\n",
       "      <th>2</th>\n",
       "      <td>308</td>\n",
       "      <td>1</td>\n",
       "      <td>2014-01-01 00:02:10</td>\n",
       "      <td>3</td>\n",
       "      <td>95.06</td>\n",
       "    </tr>\n",
       "    <tr>\n",
       "      <th>3</th>\n",
       "      <td>116</td>\n",
       "      <td>1</td>\n",
       "      <td>2014-01-01 00:03:15</td>\n",
       "      <td>4</td>\n",
       "      <td>78.92</td>\n",
       "    </tr>\n",
       "    <tr>\n",
       "      <th>4</th>\n",
       "      <td>371</td>\n",
       "      <td>1</td>\n",
       "      <td>2014-01-01 00:04:20</td>\n",
       "      <td>3</td>\n",
       "      <td>31.54</td>\n",
       "    </tr>\n",
       "  </tbody>\n",
       "</table>\n",
       "</div>"
      ],
      "text/plain": [
       "   transaction_id  session_id     transaction_time  product_id  amount\n",
       "0             298           1  2014-01-01 00:00:00           5  127.64\n",
       "1               2           1  2014-01-01 00:01:05           2  109.48\n",
       "2             308           1  2014-01-01 00:02:10           3   95.06\n",
       "3             116           1  2014-01-01 00:03:15           4   78.92\n",
       "4             371           1  2014-01-01 00:04:20           3   31.54"
      ]
     },
     "execution_count": 122,
     "metadata": {},
     "output_type": "execute_result"
    }
   ],
   "source": [
    "# Cargar transactions_data\n",
    "transactions = pd.read_csv(\"data/transactions_data.csv\", index_col=0)\n",
    "transactions.head()"
   ]
  },
  {
   "cell_type": "code",
   "execution_count": 123,
   "id": "2dd949d2",
   "metadata": {},
   "outputs": [
    {
     "data": {
      "text/plain": [
       "0      2014-01-01 00:00:00\n",
       "1      2014-01-01 00:01:05\n",
       "2      2014-01-01 00:02:10\n",
       "3      2014-01-01 00:03:15\n",
       "4      2014-01-01 00:04:20\n",
       "              ...         \n",
       "495    2014-01-01 08:56:15\n",
       "496    2014-01-01 08:57:20\n",
       "497    2014-01-01 08:58:25\n",
       "498    2014-01-01 08:59:30\n",
       "499    2014-01-01 09:00:35\n",
       "Name: transaction_time, Length: 500, dtype: object"
      ]
     },
     "execution_count": 123,
     "metadata": {},
     "output_type": "execute_result"
    }
   ],
   "source": [
    "transactions[\"transaction_time\"]"
   ]
  },
  {
   "cell_type": "markdown",
   "id": "07fbe4b4",
   "metadata": {},
   "source": [
    "Lo que sigue, es especificarle a pandas el formato en que vienen esas fechas con la función `to_datetime()` de pandas"
   ]
  },
  {
   "cell_type": "code",
   "execution_count": 124,
   "id": "dc0370c2",
   "metadata": {},
   "outputs": [
    {
     "data": {
      "text/plain": [
       "transaction_id        int64\n",
       "session_id            int64\n",
       "transaction_time     object\n",
       "product_id            int64\n",
       "amount              float64\n",
       "dtype: object"
      ]
     },
     "execution_count": 124,
     "metadata": {},
     "output_type": "execute_result"
    }
   ],
   "source": [
    "transactions.dtypes"
   ]
  },
  {
   "cell_type": "code",
   "execution_count": 125,
   "id": "1ec31297",
   "metadata": {},
   "outputs": [
    {
     "data": {
      "text/html": [
       "<div>\n",
       "<style scoped>\n",
       "    .dataframe tbody tr th:only-of-type {\n",
       "        vertical-align: middle;\n",
       "    }\n",
       "\n",
       "    .dataframe tbody tr th {\n",
       "        vertical-align: top;\n",
       "    }\n",
       "\n",
       "    .dataframe thead th {\n",
       "        text-align: right;\n",
       "    }\n",
       "</style>\n",
       "<table border=\"1\" class=\"dataframe\">\n",
       "  <thead>\n",
       "    <tr style=\"text-align: right;\">\n",
       "      <th></th>\n",
       "      <th>session_id</th>\n",
       "      <th>customer_id</th>\n",
       "      <th>device</th>\n",
       "      <th>session_start</th>\n",
       "    </tr>\n",
       "  </thead>\n",
       "  <tbody>\n",
       "    <tr>\n",
       "      <th>0</th>\n",
       "      <td>1</td>\n",
       "      <td>2</td>\n",
       "      <td>desktop</td>\n",
       "      <td>2014-01-01 00:00:00</td>\n",
       "    </tr>\n",
       "    <tr>\n",
       "      <th>1</th>\n",
       "      <td>2</td>\n",
       "      <td>5</td>\n",
       "      <td>mobile</td>\n",
       "      <td>2014-01-01 00:17:20</td>\n",
       "    </tr>\n",
       "    <tr>\n",
       "      <th>2</th>\n",
       "      <td>3</td>\n",
       "      <td>4</td>\n",
       "      <td>mobile</td>\n",
       "      <td>2014-01-01 00:28:10</td>\n",
       "    </tr>\n",
       "    <tr>\n",
       "      <th>3</th>\n",
       "      <td>4</td>\n",
       "      <td>1</td>\n",
       "      <td>mobile</td>\n",
       "      <td>2014-01-01 00:44:25</td>\n",
       "    </tr>\n",
       "    <tr>\n",
       "      <th>4</th>\n",
       "      <td>5</td>\n",
       "      <td>4</td>\n",
       "      <td>mobile</td>\n",
       "      <td>2014-01-01 01:11:30</td>\n",
       "    </tr>\n",
       "  </tbody>\n",
       "</table>\n",
       "</div>"
      ],
      "text/plain": [
       "   session_id  customer_id   device        session_start\n",
       "0           1            2  desktop  2014-01-01 00:00:00\n",
       "1           2            5   mobile  2014-01-01 00:17:20\n",
       "2           3            4   mobile  2014-01-01 00:28:10\n",
       "3           4            1   mobile  2014-01-01 00:44:25\n",
       "4           5            4   mobile  2014-01-01 01:11:30"
      ]
     },
     "execution_count": 125,
     "metadata": {},
     "output_type": "execute_result"
    }
   ],
   "source": [
    "# Cargar sessions_data\n",
    "sessions = pd.read_csv(\"data/sessions_data.csv\", index_col=0)\n",
    "sessions.head()"
   ]
  },
  {
   "cell_type": "code",
   "execution_count": 126,
   "id": "cf3631ab",
   "metadata": {},
   "outputs": [
    {
     "data": {
      "text/plain": [
       "session_id        int64\n",
       "customer_id       int64\n",
       "device           object\n",
       "session_start    object\n",
       "dtype: object"
      ]
     },
     "execution_count": 126,
     "metadata": {},
     "output_type": "execute_result"
    }
   ],
   "source": [
    "sessions.dtypes"
   ]
  },
  {
   "cell_type": "code",
   "execution_count": 128,
   "id": "d8af3d17",
   "metadata": {},
   "outputs": [],
   "source": [
    "# Especificar el formato de fechas en la tabla sessions\n",
    "sessions[\"session_start\"] = pd.to_datetime(sessions[\"session_start\"],\n",
    "                                           format=\"%Y-%m-%d %H:%M:%S\",\n",
    "                                           errors=\"coerce\")"
   ]
  },
  {
   "cell_type": "code",
   "execution_count": 130,
   "id": "3dc79183",
   "metadata": {},
   "outputs": [
    {
     "data": {
      "text/plain": [
       "session_id                int64\n",
       "customer_id               int64\n",
       "device                   object\n",
       "session_start    datetime64[ns]\n",
       "dtype: object"
      ]
     },
     "execution_count": 130,
     "metadata": {},
     "output_type": "execute_result"
    }
   ],
   "source": [
    "sessions.dtypes"
   ]
  },
  {
   "cell_type": "code",
   "execution_count": 143,
   "id": "fcf49a3a",
   "metadata": {},
   "outputs": [
    {
     "data": {
      "text/plain": [
       "0   2011-04-17 10:48:33\n",
       "1   2012-04-15 23:31:04\n",
       "2   2011-08-13 15:42:34\n",
       "3   2011-04-08 20:08:14\n",
       "4   2010-07-17 05:27:50\n",
       "Name: join_date, dtype: datetime64[ns]"
      ]
     },
     "execution_count": 143,
     "metadata": {},
     "output_type": "execute_result"
    }
   ],
   "source": [
    "customers[\"join_date\"]"
   ]
  },
  {
   "cell_type": "code",
   "execution_count": 132,
   "id": "a7e0a406",
   "metadata": {},
   "outputs": [
    {
     "data": {
      "text/plain": [
       "0    1994-07-18\n",
       "1    1986-08-18\n",
       "2    2003-11-21\n",
       "3    2006-08-15\n",
       "4    1984-07-28\n",
       "Name: date_of_birth, dtype: object"
      ]
     },
     "execution_count": 132,
     "metadata": {},
     "output_type": "execute_result"
    }
   ],
   "source": [
    "customers[\"date_of_birth\"]"
   ]
  },
  {
   "cell_type": "code",
   "execution_count": 133,
   "id": "106950f5",
   "metadata": {},
   "outputs": [],
   "source": [
    "# Especificar el formato de fechas en la tabla customers\n",
    "customers[\"join_date\"] = pd.to_datetime(customers[\"join_date\"],\n",
    "                                        format=\"%Y-%m-%d %H:%M:%S\",\n",
    "                                        errors=\"coerce\")\n",
    "customers[\"date_of_birth\"] = pd.to_datetime(customers[\"date_of_birth\"],\n",
    "                                            format=\"%Y-%m-%d\",\n",
    "                                            errors=\"coerce\")"
   ]
  },
  {
   "cell_type": "code",
   "execution_count": 134,
   "id": "188fd061",
   "metadata": {},
   "outputs": [
    {
     "data": {
      "text/plain": [
       "0   1994-07-18\n",
       "1   1986-08-18\n",
       "2   2003-11-21\n",
       "3   2006-08-15\n",
       "4   1984-07-28\n",
       "Name: date_of_birth, dtype: datetime64[ns]"
      ]
     },
     "execution_count": 134,
     "metadata": {},
     "output_type": "execute_result"
    }
   ],
   "source": [
    "customers[\"date_of_birth\"]"
   ]
  },
  {
   "cell_type": "markdown",
   "id": "0c21f36a",
   "metadata": {},
   "source": [
    "Contenido de slide"
   ]
  },
  {
   "cell_type": "code",
   "execution_count": 135,
   "id": "d7754b2d-94fa-43dd-b27b-62f82a11d5bb",
   "metadata": {},
   "outputs": [
    {
     "name": "stdout",
     "output_type": "stream",
     "text": [
      "2020-01-03 00:00:00\n"
     ]
    }
   ],
   "source": [
    "fecha = pd.to_datetime('03/01/2020',dayfirst=True) # Definiendo una fecha a partir de un texto. Si omitimos dayfirst, la fecha por defecto es mes/día/año\n",
    "print(fecha)"
   ]
  },
  {
   "cell_type": "code",
   "execution_count": 136,
   "id": "1b6b8704",
   "metadata": {},
   "outputs": [
    {
     "name": "stdout",
     "output_type": "stream",
     "text": [
      "DatetimeIndex(['2020-01-03', '2020-01-04', '2020-01-05', '2020-01-06',\n",
      "               '2020-01-07', '2020-01-08', '2020-01-09', '2020-01-10'],\n",
      "              dtype='datetime64[ns]', freq='D')\n"
     ]
    }
   ],
   "source": [
    "fechas_1 = pd.date_range(start= fecha, end= pd.to_datetime('10/01/2020',dayfirst=True))\n",
    "print(fechas_1) # Días desde el 3 de enero de 2020 hasta el 10 de enero de 2020\n"
   ]
  },
  {
   "cell_type": "code",
   "execution_count": 137,
   "id": "dcc910fb",
   "metadata": {},
   "outputs": [
    {
     "name": "stdout",
     "output_type": "stream",
     "text": [
      "DatetimeIndex(['2020-01-03', '2020-01-04', '2020-01-05', '2020-01-06',\n",
      "               '2020-01-07', '2020-01-08', '2020-01-09', '2020-01-10'],\n",
      "              dtype='datetime64[ns]', freq='D')\n"
     ]
    }
   ],
   "source": [
    "fechas_2 = pd.date_range(start= fecha, periods= 8) # Equivalente al anterior. Los períodos por defecto se cuentan en días, pueden cambiarse.\n",
    "print(fechas_2)\n"
   ]
  },
  {
   "cell_type": "code",
   "execution_count": 138,
   "id": "2f41d995",
   "metadata": {},
   "outputs": [
    {
     "name": "stdout",
     "output_type": "stream",
     "text": [
      "DatetimeIndex(['2020-01-31', '2020-02-29', '2020-03-31', '2020-04-30',\n",
      "               '2020-05-31', '2020-06-30', '2020-07-31', '2020-08-31'],\n",
      "              dtype='datetime64[ns]', freq='M')\n"
     ]
    }
   ],
   "source": [
    "fechas_3 = pd.date_range(start= fecha, periods= 8,freq='M') # Aquí se cuentan 8 períodos en meses, marcando como día el último de cada período.\n",
    "print(fechas_3)\n"
   ]
  },
  {
   "cell_type": "code",
   "execution_count": 139,
   "id": "24233231",
   "metadata": {},
   "outputs": [
    {
     "name": "stdout",
     "output_type": "stream",
     "text": [
      "2020-01\n"
     ]
    }
   ],
   "source": [
    "mes_inicio = fecha.strftime('%Y-%m')\n",
    "print(mes_inicio)\n"
   ]
  },
  {
   "cell_type": "code",
   "execution_count": 140,
   "id": "51de996f",
   "metadata": {},
   "outputs": [
    {
     "name": "stdout",
     "output_type": "stream",
     "text": [
      "PeriodIndex(['2020-01', '2020-02', '2020-03', '2020-04', '2020-05', '2020-06',\n",
      "             '2020-07', '2020-08'],\n",
      "            dtype='period[M]')\n"
     ]
    }
   ],
   "source": [
    "fechas_4 = pd.period_range(start= mes_inicio,periods= 8,freq='M') # Generar 8 meses consecutivos a partir de mes_inicio\n",
    "print(fechas_4)\n"
   ]
  },
  {
   "cell_type": "code",
   "execution_count": 141,
   "id": "d09f4d7e",
   "metadata": {},
   "outputs": [
    {
     "name": "stdout",
     "output_type": "stream",
     "text": [
      "213 days 00:00:00\n"
     ]
    }
   ],
   "source": [
    "cuanto_tiempo = fechas_3[7] - fechas_3[0] # ¿Cuánto tiempo pasó desde el primer período hasta el último? Esto es un objeto Timedelta\n",
    "print(cuanto_tiempo)\n"
   ]
  },
  {
   "cell_type": "code",
   "execution_count": 142,
   "id": "4291c031",
   "metadata": {},
   "outputs": [
    {
     "name": "stdout",
     "output_type": "stream",
     "text": [
      "<7 * MonthEnds>\n"
     ]
    }
   ],
   "source": [
    "cuanto_tiempo_meses = fechas_3[7].to_period('M') - fechas_3[0].to_period('M') # Lo mismo pero en meses. Hay que pasar cada término a meses\n",
    "print(cuanto_tiempo_meses)"
   ]
  },
  {
   "cell_type": "code",
   "execution_count": 144,
   "id": "826150c5-ff4f-4382-ab90-eae15b9e972e",
   "metadata": {},
   "outputs": [
    {
     "name": "stdout",
     "output_type": "stream",
     "text": [
      "0         April 30, 1789\n",
      "1          March 4, 1797\n",
      "2          March 4, 1801\n",
      "3          March 4, 1809\n",
      "4          March 4, 1817\n",
      "5          March 4, 1825\n",
      "6          March 4, 1829\n",
      "7          March 4, 1837\n",
      "8          March 4, 1841\n",
      "9          April 4, 1841\n",
      "10         March 4, 1845\n",
      "11         March 4, 1849\n",
      "12          July 9, 1850\n",
      "13         March 4, 1853\n",
      "14         March 4, 1857\n",
      "15         March 4, 1861\n",
      "16        April 15, 1865\n",
      "17         March 4, 1869\n",
      "18         March 4, 1877\n",
      "19         March 4, 1881\n",
      "20    September 19, 1881\n",
      "21         March 4, 1885\n",
      "22         March 4, 1889\n",
      "23         March 4, 1893\n",
      "24         March 4, 1897\n",
      "25    September 14, 1901\n",
      "26         March 4, 1909\n",
      "27         March 4, 1913\n",
      "28         March 4, 1921\n",
      "29        August 2, 1923\n",
      "30         March 4, 1929\n",
      "31         March 4, 1933\n",
      "32        April 12, 1945\n",
      "33      January 20, 1953\n",
      "34      January 20, 1961\n",
      "35     November 22, 1963\n",
      "36      January 20, 1969\n",
      "37        August 9, 1974\n",
      "38      January 20, 1977\n",
      "39      January 20, 1981\n",
      "40      January 20, 1989\n",
      "41      January 20, 1993\n",
      "42      January 20, 2001\n",
      "43      January 20, 2009\n",
      "44      January 20, 2017\n",
      "Name: start, dtype: object\n"
     ]
    }
   ],
   "source": [
    "fechas_presidentes_orig = Presidentes_archivo['start'] # Extraigo fechas de inicio de período presidencial\n",
    "print(fechas_presidentes_orig)\n"
   ]
  },
  {
   "cell_type": "code",
   "execution_count": 145,
   "id": "de59d6d1",
   "metadata": {},
   "outputs": [
    {
     "name": "stdout",
     "output_type": "stream",
     "text": [
      "<class 'pandas.core.series.Series'>\n"
     ]
    }
   ],
   "source": [
    "print(type(fechas_presidentes_orig)) # Estas fechas son objetos Series. Necesito transformarlos en índices\n"
   ]
  },
  {
   "cell_type": "code",
   "execution_count": 146,
   "id": "e2b315ac",
   "metadata": {},
   "outputs": [
    {
     "name": "stdout",
     "output_type": "stream",
     "text": [
      "DatetimeIndex(['1789-04-30', '1797-03-04', '1801-03-04', '1809-03-04',\n",
      "               '1817-03-04', '1825-03-04', '1829-03-04', '1837-03-04',\n",
      "               '1841-03-04', '1841-04-04', '1845-03-04', '1849-03-04',\n",
      "               '1850-07-09', '1853-03-04', '1857-03-04', '1861-03-04',\n",
      "               '1865-04-15', '1869-03-04', '1877-03-04', '1881-03-04',\n",
      "               '1881-09-19', '1885-03-04', '1889-03-04', '1893-03-04',\n",
      "               '1897-03-04', '1901-09-14', '1909-03-04', '1913-03-04',\n",
      "               '1921-03-04', '1923-08-02', '1929-03-04', '1933-03-04',\n",
      "               '1945-04-12', '1953-01-20', '1961-01-20', '1963-11-22',\n",
      "               '1969-01-20', '1974-08-09', '1977-01-20', '1981-01-20',\n",
      "               '1989-01-20', '1993-01-20', '2001-01-20', '2009-01-20',\n",
      "               '2017-01-20'],\n",
      "              dtype='datetime64[ns]', name='start', freq=None)\n"
     ]
    }
   ],
   "source": [
    "fechas_presidentes = pd.DatetimeIndex(fechas_presidentes_orig) # Transformo Series en índices\n",
    "print(fechas_presidentes)\n"
   ]
  },
  {
   "cell_type": "code",
   "execution_count": 147,
   "id": "37c53aab",
   "metadata": {},
   "outputs": [
    {
     "name": "stdout",
     "output_type": "stream",
     "text": [
      "start\n",
      "1789-04-30         George Washington\n",
      "1797-03-04                John Adams\n",
      "1801-03-04          Thomas Jefferson\n",
      "1809-03-04             James Madison\n",
      "1817-03-04              James Monroe\n",
      "1825-03-04         John Quincy Adams\n",
      "1829-03-04            Andrew Jackson\n",
      "1837-03-04          Martin Van Buren\n",
      "1841-03-04    William Henry Harrison\n",
      "1841-04-04                John Tyler\n",
      "1845-03-04             James K. Polk\n",
      "1849-03-04            Zachary Taylor\n",
      "1850-07-09          Millard Fillmore\n",
      "1853-03-04           Franklin Pierce\n",
      "1857-03-04            James Buchanan\n",
      "1861-03-04           Abraham Lincoln\n",
      "1865-04-15            Andrew Johnson\n",
      "1869-03-04          Ulysses S. Grant\n",
      "1877-03-04       Rutherford B. Hayes\n",
      "1881-03-04         James A. Garfield\n",
      "1881-09-19         Chester A. Arthur\n",
      "1885-03-04          Grover Cleveland\n",
      "1889-03-04         Benjamin Harrison\n",
      "1893-03-04          Grover Cleveland\n",
      "1897-03-04          William McKinley\n",
      "1901-09-14        Theodore Roosevelt\n",
      "1909-03-04       William Howard Taft\n",
      "1913-03-04            Woodrow Wilson\n",
      "1921-03-04         Warren G. Harding\n",
      "1923-08-02           Calvin Coolidge\n",
      "1929-03-04            Herbert Hoover\n",
      "1933-03-04     Franklin D. Roosevelt\n",
      "1945-04-12           Harry S. Truman\n",
      "1953-01-20      Dwight D. Eisenhower\n",
      "1961-01-20           John F. Kennedy\n",
      "1963-11-22         Lyndon B. Johnson\n",
      "1969-01-20             Richard Nixon\n",
      "1974-08-09               Gerald Ford\n",
      "1977-01-20              Jimmy Carter\n",
      "1981-01-20             Ronald Reagan\n",
      "1989-01-20         George H. W. Bush\n",
      "1993-01-20              Bill Clinton\n",
      "2001-01-20            George W. Bush\n",
      "2009-01-20              Barack Obama\n",
      "2017-01-20              Donald Trump\n",
      "dtype: object\n"
     ]
    }
   ],
   "source": [
    "Serie_presidentes = pd.Series(Presidentes_nombres.values,index=fechas_presidentes) # Creo un objeto Series con los nombres y las fechas de los presidentes\n",
    "print(Serie_presidentes)"
   ]
  },
  {
   "cell_type": "code",
   "execution_count": 148,
   "id": "4311f0da-1ef7-4b73-a8c7-a1dc8f322146",
   "metadata": {},
   "outputs": [
    {
     "data": {
      "text/plain": [
       "start\n",
       "1850-07-09       Millard Fillmore\n",
       "1853-03-04        Franklin Pierce\n",
       "1857-03-04         James Buchanan\n",
       "1861-03-04        Abraham Lincoln\n",
       "1865-04-15         Andrew Johnson\n",
       "1869-03-04       Ulysses S. Grant\n",
       "1877-03-04    Rutherford B. Hayes\n",
       "1881-03-04      James A. Garfield\n",
       "1881-09-19      Chester A. Arthur\n",
       "1885-03-04       Grover Cleveland\n",
       "1889-03-04      Benjamin Harrison\n",
       "1893-03-04       Grover Cleveland\n",
       "1897-03-04       William McKinley\n",
       "1901-09-14     Theodore Roosevelt\n",
       "dtype: object"
      ]
     },
     "execution_count": 148,
     "metadata": {},
     "output_type": "execute_result"
    }
   ],
   "source": [
    "Serie_presidentes['1850':'1901'] # ¿Qué presidentes gobernaron entre 1850 y 1901 inclusive? Muy útil"
   ]
  }
 ],
 "metadata": {
  "kernelspec": {
   "display_name": "Python 3 (ipykernel)",
   "language": "python",
   "name": "python3"
  },
  "language_info": {
   "codemirror_mode": {
    "name": "ipython",
    "version": 3
   },
   "file_extension": ".py",
   "mimetype": "text/x-python",
   "name": "python",
   "nbconvert_exporter": "python",
   "pygments_lexer": "ipython3",
   "version": "3.8.10"
  }
 },
 "nbformat": 4,
 "nbformat_minor": 5
}
