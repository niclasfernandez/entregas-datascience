{
 "cells": [
  {
   "cell_type": "markdown",
   "id": "406fd11c-0af3-4725-a288-b54f8e7b8d41",
   "metadata": {},
   "source": [
    "**Diagnose the Data**"
   ]
  },
  {
   "cell_type": "code",
   "execution_count": 5,
   "id": "297e1f4f-edee-47d0-88ee-09ff09e3862c",
   "metadata": {},
   "outputs": [
    {
     "name": "stdout",
     "output_type": "stream",
     "text": [
      "  Grocery Item  Cake Recipe  Pancake Recipe  Cookie Recipe\n",
      "0         Eggs            2               3              1\n",
      "1         Milk            1               2              1\n",
      "2        Flour            2               1              2\n",
      "  Grocery Item          Recipe  Number\n",
      "0         Eggs     Cake Recipe       2\n",
      "1         Milk     Cake Recipe       1\n",
      "2        Flour     Cake Recipe       2\n",
      "3         Eggs  Pancake Recipe       3\n",
      "4         Milk  Pancake Recipe       2\n"
     ]
    }
   ],
   "source": [
    "import pandas as pd\n",
    "\n",
    "df1 = pd.read_csv(\"df1.csv\")\n",
    "df2 = pd.read_csv(\"df2.csv\")\n",
    "\n",
    "print(df1.head())\n",
    "\n",
    "print(df2.head())\n",
    "\n",
    "clean=2"
   ]
  },
  {
   "cell_type": "markdown",
   "id": "53d25625-8853-4006-b73d-d9d638b7b7dc",
   "metadata": {},
   "source": [
    "**Dealing with Multiple Files**"
   ]
  },
  {
   "cell_type": "code",
   "execution_count": 24,
   "id": "cd964ea2-b669-48d3-a851-4e940d5a9363",
   "metadata": {},
   "outputs": [
    {
     "data": {
      "text/html": [
       "<div>\n",
       "<style scoped>\n",
       "    .dataframe tbody tr th:only-of-type {\n",
       "        vertical-align: middle;\n",
       "    }\n",
       "\n",
       "    .dataframe tbody tr th {\n",
       "        vertical-align: top;\n",
       "    }\n",
       "\n",
       "    .dataframe thead th {\n",
       "        text-align: right;\n",
       "    }\n",
       "</style>\n",
       "<table border=\"1\" class=\"dataframe\">\n",
       "  <thead>\n",
       "    <tr style=\"text-align: right;\">\n",
       "      <th></th>\n",
       "      <th>id</th>\n",
       "      <th>full_name</th>\n",
       "      <th>gender_age</th>\n",
       "      <th>fractions</th>\n",
       "      <th>probability</th>\n",
       "      <th>grade</th>\n",
       "    </tr>\n",
       "  </thead>\n",
       "  <tbody>\n",
       "    <tr>\n",
       "      <th>0</th>\n",
       "      <td>0</td>\n",
       "      <td>Barrett Feragh</td>\n",
       "      <td>M14</td>\n",
       "      <td>76%</td>\n",
       "      <td>72%</td>\n",
       "      <td>9th grade</td>\n",
       "    </tr>\n",
       "    <tr>\n",
       "      <th>1</th>\n",
       "      <td>1</td>\n",
       "      <td>Llewellyn Keech</td>\n",
       "      <td>M14</td>\n",
       "      <td>83%</td>\n",
       "      <td>NaN</td>\n",
       "      <td>12th grade</td>\n",
       "    </tr>\n",
       "    <tr>\n",
       "      <th>2</th>\n",
       "      <td>2</td>\n",
       "      <td>Llewellyn Keech</td>\n",
       "      <td>M14</td>\n",
       "      <td>83%</td>\n",
       "      <td>NaN</td>\n",
       "      <td>12th grade</td>\n",
       "    </tr>\n",
       "    <tr>\n",
       "      <th>3</th>\n",
       "      <td>3</td>\n",
       "      <td>Terrell Geri</td>\n",
       "      <td>M15</td>\n",
       "      <td>80%</td>\n",
       "      <td>86%</td>\n",
       "      <td>11th grade</td>\n",
       "    </tr>\n",
       "    <tr>\n",
       "      <th>4</th>\n",
       "      <td>4</td>\n",
       "      <td>Gram Hallewell</td>\n",
       "      <td>M14</td>\n",
       "      <td>67%</td>\n",
       "      <td>78%</td>\n",
       "      <td>10th grade</td>\n",
       "    </tr>\n",
       "  </tbody>\n",
       "</table>\n",
       "</div>"
      ],
      "text/plain": [
       "   id        full_name gender_age fractions probability       grade\n",
       "0   0   Barrett Feragh        M14       76%         72%   9th grade\n",
       "1   1  Llewellyn Keech        M14       83%         NaN  12th grade\n",
       "2   2  Llewellyn Keech        M14       83%         NaN  12th grade\n",
       "3   3     Terrell Geri        M15       80%         86%  11th grade\n",
       "4   4   Gram Hallewell        M14       67%         78%  10th grade"
      ]
     },
     "execution_count": 24,
     "metadata": {},
     "output_type": "execute_result"
    }
   ],
   "source": [
    "import glob\n",
    "\n",
    "student_files = glob.glob('data/exams*.csv')\n",
    "\n",
    "df_list = []\n",
    "\n",
    "for file in student_files:\n",
    "    data = pd.read_csv(file)\n",
    "    df_list.append(data)\n",
    "    \n",
    "students = pd.concat(df_list)\n",
    "students.head()"
   ]
  },
  {
   "cell_type": "code",
   "execution_count": 16,
   "id": "682627a4-b766-4015-aafa-d7c1926c9bbb",
   "metadata": {},
   "outputs": [
    {
     "data": {
      "text/plain": [
       "1000"
      ]
     },
     "execution_count": 16,
     "metadata": {},
     "output_type": "execute_result"
    }
   ],
   "source": [
    "len(students)"
   ]
  },
  {
   "cell_type": "markdown",
   "id": "28477715-608a-40e3-999f-eeba83a25854",
   "metadata": {},
   "source": [
    "**Reshaping your Data**"
   ]
  },
  {
   "cell_type": "code",
   "execution_count": 18,
   "id": "3a67c3e2-7e42-426e-998a-7e58fdf406d5",
   "metadata": {},
   "outputs": [
    {
     "data": {
      "text/plain": [
       "Index(['id', 'full_name', 'gender_age', 'fractions', 'probability', 'grade'], dtype='object')"
      ]
     },
     "execution_count": 18,
     "metadata": {},
     "output_type": "execute_result"
    }
   ],
   "source": [
    "students.columns"
   ]
  },
  {
   "cell_type": "code",
   "execution_count": 25,
   "id": "3581c695-efa0-42f9-a116-ec97b4ed553a",
   "metadata": {},
   "outputs": [],
   "source": [
    "# There is a column for the scores on the fractions exam, \n",
    "# and a column for the scores on the probabilities exam.\n",
    "# We want to make each row an observation, \n",
    "students = pd.melt(frame = students, id_vars=['full_name', 'gender_age', 'grade'],\\\n",
    "                   value_vars=['fractions', 'probability'], value_name='score', var_name='exam')"
   ]
  },
  {
   "cell_type": "code",
   "execution_count": 27,
   "id": "9c0f6f5e-f1f8-418b-8d05-1a796c9a893d",
   "metadata": {},
   "outputs": [
    {
     "name": "stdout",
     "output_type": "stream",
     "text": [
      "         full_name gender_age       grade       exam score\n",
      "0   Barrett Feragh        M14   9th grade  fractions   76%\n",
      "1  Llewellyn Keech        M14  12th grade  fractions   83%\n",
      "2  Llewellyn Keech        M14  12th grade  fractions   83%\n",
      "3     Terrell Geri        M15  11th grade  fractions   80%\n",
      "4   Gram Hallewell        M14  10th grade  fractions   67%\n",
      "Index(['full_name', 'gender_age', 'grade', 'exam', 'score'], dtype='object')\n",
      "fractions      1000\n",
      "probability    1000\n",
      "Name: exam, dtype: int64\n"
     ]
    }
   ],
   "source": [
    "students.head()\n",
    "\n",
    "print(students.head())\n",
    "print(students.columns)\n",
    "print(students['exam'].value_counts())"
   ]
  },
  {
   "cell_type": "markdown",
   "id": "984c0aa6-dcd5-4306-b365-615640160eac",
   "metadata": {},
   "source": [
    "**Dealing with Duplicates**"
   ]
  },
  {
   "cell_type": "code",
   "execution_count": 30,
   "id": "6274a065-5fde-46a7-9bb1-2d91c2f6d30c",
   "metadata": {},
   "outputs": [
    {
     "name": "stdout",
     "output_type": "stream",
     "text": [
      "False    1976\n",
      "True       24\n",
      "dtype: int64\n"
     ]
    }
   ],
   "source": [
    "duplicates = students.duplicated()\n",
    "print(duplicates.value_counts())"
   ]
  },
  {
   "cell_type": "code",
   "execution_count": 32,
   "id": "534b3f29-25e5-4968-a8fa-95461a530cbf",
   "metadata": {},
   "outputs": [
    {
     "name": "stdout",
     "output_type": "stream",
     "text": [
      "False    1976\n",
      "dtype: int64\n"
     ]
    }
   ],
   "source": [
    "students = students.drop_duplicates()\n",
    "\n",
    "duplicates = students.duplicated()\n",
    "print(duplicates.value_counts())"
   ]
  },
  {
   "cell_type": "markdown",
   "id": "75fce44f-a46a-42b4-8064-11c68f1dc607",
   "metadata": {},
   "source": [
    "**Splitting by Index**"
   ]
  },
  {
   "cell_type": "code",
   "execution_count": 33,
   "id": "5dfccce6-74d0-4a7d-a163-73d6adaaa0e3",
   "metadata": {},
   "outputs": [
    {
     "data": {
      "text/plain": [
       "0    M14\n",
       "1    M14\n",
       "3    M15\n",
       "4    M14\n",
       "5    F18\n",
       "Name: gender_age, dtype: object"
      ]
     },
     "execution_count": 33,
     "metadata": {},
     "output_type": "execute_result"
    }
   ],
   "source": [
    "# The column gender_age sounds like it contains both gender and age\n",
    "students['gender_age'].head()"
   ]
  },
  {
   "cell_type": "code",
   "execution_count": 34,
   "id": "25a007b5-53d8-4c89-98e9-a8183e888c51",
   "metadata": {},
   "outputs": [
    {
     "data": {
      "text/html": [
       "<div>\n",
       "<style scoped>\n",
       "    .dataframe tbody tr th:only-of-type {\n",
       "        vertical-align: middle;\n",
       "    }\n",
       "\n",
       "    .dataframe tbody tr th {\n",
       "        vertical-align: top;\n",
       "    }\n",
       "\n",
       "    .dataframe thead th {\n",
       "        text-align: right;\n",
       "    }\n",
       "</style>\n",
       "<table border=\"1\" class=\"dataframe\">\n",
       "  <thead>\n",
       "    <tr style=\"text-align: right;\">\n",
       "      <th></th>\n",
       "      <th>full_name</th>\n",
       "      <th>gender_age</th>\n",
       "      <th>grade</th>\n",
       "      <th>exam</th>\n",
       "      <th>score</th>\n",
       "      <th>gender</th>\n",
       "      <th>age</th>\n",
       "    </tr>\n",
       "  </thead>\n",
       "  <tbody>\n",
       "    <tr>\n",
       "      <th>0</th>\n",
       "      <td>Barrett Feragh</td>\n",
       "      <td>M14</td>\n",
       "      <td>9th grade</td>\n",
       "      <td>fractions</td>\n",
       "      <td>76%</td>\n",
       "      <td>M</td>\n",
       "      <td>14</td>\n",
       "    </tr>\n",
       "    <tr>\n",
       "      <th>1</th>\n",
       "      <td>Llewellyn Keech</td>\n",
       "      <td>M14</td>\n",
       "      <td>12th grade</td>\n",
       "      <td>fractions</td>\n",
       "      <td>83%</td>\n",
       "      <td>M</td>\n",
       "      <td>14</td>\n",
       "    </tr>\n",
       "    <tr>\n",
       "      <th>3</th>\n",
       "      <td>Terrell Geri</td>\n",
       "      <td>M15</td>\n",
       "      <td>11th grade</td>\n",
       "      <td>fractions</td>\n",
       "      <td>80%</td>\n",
       "      <td>M</td>\n",
       "      <td>15</td>\n",
       "    </tr>\n",
       "    <tr>\n",
       "      <th>4</th>\n",
       "      <td>Gram Hallewell</td>\n",
       "      <td>M14</td>\n",
       "      <td>10th grade</td>\n",
       "      <td>fractions</td>\n",
       "      <td>67%</td>\n",
       "      <td>M</td>\n",
       "      <td>14</td>\n",
       "    </tr>\n",
       "    <tr>\n",
       "      <th>5</th>\n",
       "      <td>Stephana Boots</td>\n",
       "      <td>F18</td>\n",
       "      <td>9th grade</td>\n",
       "      <td>fractions</td>\n",
       "      <td>NaN</td>\n",
       "      <td>F</td>\n",
       "      <td>18</td>\n",
       "    </tr>\n",
       "  </tbody>\n",
       "</table>\n",
       "</div>"
      ],
      "text/plain": [
       "         full_name gender_age       grade       exam score gender age\n",
       "0   Barrett Feragh        M14   9th grade  fractions   76%      M  14\n",
       "1  Llewellyn Keech        M14  12th grade  fractions   83%      M  14\n",
       "3     Terrell Geri        M15  11th grade  fractions   80%      M  15\n",
       "4   Gram Hallewell        M14  10th grade  fractions   67%      M  14\n",
       "5   Stephana Boots        F18   9th grade  fractions   NaN      F  18"
      ]
     },
     "execution_count": 34,
     "metadata": {},
     "output_type": "execute_result"
    }
   ],
   "source": [
    "students['gender'] = students['gender_age'].str[0:1]\n",
    "students['age'] = students['gender_age'].str[1:]\n",
    "\n",
    "students.head()"
   ]
  },
  {
   "cell_type": "code",
   "execution_count": 35,
   "id": "f4b5bae1-a559-4786-82ff-13c9d4562f4b",
   "metadata": {},
   "outputs": [
    {
     "data": {
      "text/html": [
       "<div>\n",
       "<style scoped>\n",
       "    .dataframe tbody tr th:only-of-type {\n",
       "        vertical-align: middle;\n",
       "    }\n",
       "\n",
       "    .dataframe tbody tr th {\n",
       "        vertical-align: top;\n",
       "    }\n",
       "\n",
       "    .dataframe thead th {\n",
       "        text-align: right;\n",
       "    }\n",
       "</style>\n",
       "<table border=\"1\" class=\"dataframe\">\n",
       "  <thead>\n",
       "    <tr style=\"text-align: right;\">\n",
       "      <th></th>\n",
       "      <th>full_name</th>\n",
       "      <th>grade</th>\n",
       "      <th>exam</th>\n",
       "      <th>score</th>\n",
       "      <th>gender</th>\n",
       "      <th>age</th>\n",
       "    </tr>\n",
       "  </thead>\n",
       "  <tbody>\n",
       "    <tr>\n",
       "      <th>0</th>\n",
       "      <td>Barrett Feragh</td>\n",
       "      <td>9th grade</td>\n",
       "      <td>fractions</td>\n",
       "      <td>76%</td>\n",
       "      <td>M</td>\n",
       "      <td>14</td>\n",
       "    </tr>\n",
       "    <tr>\n",
       "      <th>1</th>\n",
       "      <td>Llewellyn Keech</td>\n",
       "      <td>12th grade</td>\n",
       "      <td>fractions</td>\n",
       "      <td>83%</td>\n",
       "      <td>M</td>\n",
       "      <td>14</td>\n",
       "    </tr>\n",
       "    <tr>\n",
       "      <th>3</th>\n",
       "      <td>Terrell Geri</td>\n",
       "      <td>11th grade</td>\n",
       "      <td>fractions</td>\n",
       "      <td>80%</td>\n",
       "      <td>M</td>\n",
       "      <td>15</td>\n",
       "    </tr>\n",
       "    <tr>\n",
       "      <th>4</th>\n",
       "      <td>Gram Hallewell</td>\n",
       "      <td>10th grade</td>\n",
       "      <td>fractions</td>\n",
       "      <td>67%</td>\n",
       "      <td>M</td>\n",
       "      <td>14</td>\n",
       "    </tr>\n",
       "    <tr>\n",
       "      <th>5</th>\n",
       "      <td>Stephana Boots</td>\n",
       "      <td>9th grade</td>\n",
       "      <td>fractions</td>\n",
       "      <td>NaN</td>\n",
       "      <td>F</td>\n",
       "      <td>18</td>\n",
       "    </tr>\n",
       "  </tbody>\n",
       "</table>\n",
       "</div>"
      ],
      "text/plain": [
       "         full_name       grade       exam score gender age\n",
       "0   Barrett Feragh   9th grade  fractions   76%      M  14\n",
       "1  Llewellyn Keech  12th grade  fractions   83%      M  14\n",
       "3     Terrell Geri  11th grade  fractions   80%      M  15\n",
       "4   Gram Hallewell  10th grade  fractions   67%      M  14\n",
       "5   Stephana Boots   9th grade  fractions   NaN      F  18"
      ]
     },
     "execution_count": 35,
     "metadata": {},
     "output_type": "execute_result"
    }
   ],
   "source": [
    "studens = students[['full_name', 'grade', 'exam', 'score', 'gender','age']]\n",
    "studens.head()"
   ]
  },
  {
   "cell_type": "markdown",
   "id": "3c896511-f2bf-4a2a-bcc2-dc14faafa09e",
   "metadata": {},
   "source": [
    "**Splitting by Character**"
   ]
  },
  {
   "cell_type": "code",
   "execution_count": 36,
   "id": "1b34cd8c-209c-441e-917d-3507f3a6edda",
   "metadata": {},
   "outputs": [
    {
     "name": "stdout",
     "output_type": "stream",
     "text": [
      "         full_name gender_age       grade       exam score gender age  \\\n",
      "0   Barrett Feragh        M14   9th grade  fractions   76%      M  14   \n",
      "1  Llewellyn Keech        M14  12th grade  fractions   83%      M  14   \n",
      "3     Terrell Geri        M15  11th grade  fractions   80%      M  15   \n",
      "4   Gram Hallewell        M14  10th grade  fractions   67%      M  14   \n",
      "5   Stephana Boots        F18   9th grade  fractions   NaN      F  18   \n",
      "\n",
      "  first_name  last_name  \n",
      "0    Barrett     Feragh  \n",
      "1  Llewellyn      Keech  \n",
      "3    Terrell       Geri  \n",
      "4       Gram  Hallewell  \n",
      "5   Stephana      Boots  \n"
     ]
    }
   ],
   "source": [
    "name_split = students['full_name'].str.split(\" \")\n",
    "students['first_name'] = name_split.str.get(0)\n",
    "students['last_name'] = name_split.str.get(1)\n",
    "\n",
    "print(students.head())"
   ]
  },
  {
   "cell_type": "markdown",
   "id": "0083c41f-0528-4866-8581-f08fc747a9ab",
   "metadata": {},
   "source": [
    "**Looking at types**"
   ]
  },
  {
   "cell_type": "code",
   "execution_count": 37,
   "id": "abf206af-d70e-4374-bcbf-3fffb9011455",
   "metadata": {},
   "outputs": [
    {
     "name": "stdout",
     "output_type": "stream",
     "text": [
      "full_name     object\n",
      "gender_age    object\n",
      "grade         object\n",
      "exam          object\n",
      "score         object\n",
      "gender        object\n",
      "age           object\n",
      "first_name    object\n",
      "last_name     object\n",
      "dtype: object\n"
     ]
    },
    {
     "ename": "TypeError",
     "evalue": "can only concatenate str (not \"int\") to str",
     "output_type": "error",
     "traceback": [
      "\u001b[0;31m---------------------------------------------------------------------------\u001b[0m",
      "\u001b[0;31mTypeError\u001b[0m                                 Traceback (most recent call last)",
      "File \u001b[0;32m/usr/lib/python3.8/site-packages/pandas/core/nanops.py:120\u001b[0m, in \u001b[0;36mbottleneck_switch.__call__.<locals>.f\u001b[0;34m(values, axis, skipna, **kwds)\u001b[0m\n\u001b[1;32m    119\u001b[0m     \u001b[38;5;28;01melse\u001b[39;00m:\n\u001b[0;32m--> 120\u001b[0m         result \u001b[38;5;241m=\u001b[39m \u001b[43malt\u001b[49m\u001b[43m(\u001b[49m\u001b[43mvalues\u001b[49m\u001b[43m,\u001b[49m\u001b[43m \u001b[49m\u001b[43maxis\u001b[49m\u001b[38;5;241;43m=\u001b[39;49m\u001b[43maxis\u001b[49m\u001b[43m,\u001b[49m\u001b[43m \u001b[49m\u001b[43mskipna\u001b[49m\u001b[38;5;241;43m=\u001b[39;49m\u001b[43mskipna\u001b[49m\u001b[43m,\u001b[49m\u001b[43m \u001b[49m\u001b[38;5;241;43m*\u001b[39;49m\u001b[38;5;241;43m*\u001b[39;49m\u001b[43mkwds\u001b[49m\u001b[43m)\u001b[49m\n\u001b[1;32m    121\u001b[0m \u001b[38;5;28;01mexcept\u001b[39;00m \u001b[38;5;167;01mException\u001b[39;00m:\n",
      "File \u001b[0;32m/usr/lib/python3.8/site-packages/pandas/core/nanops.py:551\u001b[0m, in \u001b[0;36mnanmean\u001b[0;34m(values, axis, skipna, mask)\u001b[0m\n\u001b[1;32m    550\u001b[0m count \u001b[38;5;241m=\u001b[39m _get_counts(values\u001b[38;5;241m.\u001b[39mshape, mask, axis, dtype\u001b[38;5;241m=\u001b[39mdtype_count)\n\u001b[0;32m--> 551\u001b[0m the_sum \u001b[38;5;241m=\u001b[39m _ensure_numeric(\u001b[43mvalues\u001b[49m\u001b[38;5;241;43m.\u001b[39;49m\u001b[43msum\u001b[49m\u001b[43m(\u001b[49m\u001b[43maxis\u001b[49m\u001b[43m,\u001b[49m\u001b[43m \u001b[49m\u001b[43mdtype\u001b[49m\u001b[38;5;241;43m=\u001b[39;49m\u001b[43mdtype_sum\u001b[49m\u001b[43m)\u001b[49m)\n\u001b[1;32m    553\u001b[0m \u001b[38;5;28;01mif\u001b[39;00m axis \u001b[38;5;129;01mis\u001b[39;00m \u001b[38;5;129;01mnot\u001b[39;00m \u001b[38;5;28;01mNone\u001b[39;00m \u001b[38;5;129;01mand\u001b[39;00m \u001b[38;5;28mgetattr\u001b[39m(the_sum, \u001b[38;5;124m\"\u001b[39m\u001b[38;5;124mndim\u001b[39m\u001b[38;5;124m\"\u001b[39m, \u001b[38;5;28;01mFalse\u001b[39;00m):\n",
      "File \u001b[0;32m/usr/lib/python3.8/site-packages/numpy/core/_methods.py:48\u001b[0m, in \u001b[0;36m_sum\u001b[0;34m(a, axis, dtype, out, keepdims, initial, where)\u001b[0m\n\u001b[1;32m     46\u001b[0m \u001b[38;5;28;01mdef\u001b[39;00m \u001b[38;5;21m_sum\u001b[39m(a, axis\u001b[38;5;241m=\u001b[39m\u001b[38;5;28;01mNone\u001b[39;00m, dtype\u001b[38;5;241m=\u001b[39m\u001b[38;5;28;01mNone\u001b[39;00m, out\u001b[38;5;241m=\u001b[39m\u001b[38;5;28;01mNone\u001b[39;00m, keepdims\u001b[38;5;241m=\u001b[39m\u001b[38;5;28;01mFalse\u001b[39;00m,\n\u001b[1;32m     47\u001b[0m          initial\u001b[38;5;241m=\u001b[39m_NoValue, where\u001b[38;5;241m=\u001b[39m\u001b[38;5;28;01mTrue\u001b[39;00m):\n\u001b[0;32m---> 48\u001b[0m     \u001b[38;5;28;01mreturn\u001b[39;00m \u001b[43mumr_sum\u001b[49m\u001b[43m(\u001b[49m\u001b[43ma\u001b[49m\u001b[43m,\u001b[49m\u001b[43m \u001b[49m\u001b[43maxis\u001b[49m\u001b[43m,\u001b[49m\u001b[43m \u001b[49m\u001b[43mdtype\u001b[49m\u001b[43m,\u001b[49m\u001b[43m \u001b[49m\u001b[43mout\u001b[49m\u001b[43m,\u001b[49m\u001b[43m \u001b[49m\u001b[43mkeepdims\u001b[49m\u001b[43m,\u001b[49m\u001b[43m \u001b[49m\u001b[43minitial\u001b[49m\u001b[43m,\u001b[49m\u001b[43m \u001b[49m\u001b[43mwhere\u001b[49m\u001b[43m)\u001b[49m\n",
      "\u001b[0;31mTypeError\u001b[0m: can only concatenate str (not \"int\") to str",
      "\nDuring handling of the above exception, another exception occurred:\n",
      "\u001b[0;31mTypeError\u001b[0m                                 Traceback (most recent call last)",
      "Input \u001b[0;32mIn [37]\u001b[0m, in \u001b[0;36m<module>\u001b[0;34m\u001b[0m\n\u001b[1;32m      1\u001b[0m \u001b[38;5;28mprint\u001b[39m(students\u001b[38;5;241m.\u001b[39mdtypes)\n\u001b[0;32m----> 3\u001b[0m \u001b[38;5;28mprint\u001b[39m(\u001b[43mstudents\u001b[49m\u001b[38;5;241;43m.\u001b[39;49m\u001b[43mscore\u001b[49m\u001b[38;5;241;43m.\u001b[39;49m\u001b[43mmean\u001b[49m\u001b[43m(\u001b[49m\u001b[43m)\u001b[49m)\n",
      "File \u001b[0;32m/usr/lib/python3.8/site-packages/pandas/core/generic.py:11617\u001b[0m, in \u001b[0;36m_make_stat_function.<locals>.stat_func\u001b[0;34m(self, axis, skipna, level, numeric_only, **kwargs)\u001b[0m\n\u001b[1;32m  11615\u001b[0m \u001b[38;5;28;01mif\u001b[39;00m level \u001b[38;5;129;01mis\u001b[39;00m \u001b[38;5;129;01mnot\u001b[39;00m \u001b[38;5;28;01mNone\u001b[39;00m:\n\u001b[1;32m  11616\u001b[0m     \u001b[38;5;28;01mreturn\u001b[39;00m \u001b[38;5;28mself\u001b[39m\u001b[38;5;241m.\u001b[39m_agg_by_level(name, axis\u001b[38;5;241m=\u001b[39maxis, level\u001b[38;5;241m=\u001b[39mlevel, skipna\u001b[38;5;241m=\u001b[39mskipna)\n\u001b[0;32m> 11617\u001b[0m \u001b[38;5;28;01mreturn\u001b[39;00m \u001b[38;5;28;43mself\u001b[39;49m\u001b[38;5;241;43m.\u001b[39;49m\u001b[43m_reduce\u001b[49m\u001b[43m(\u001b[49m\n\u001b[1;32m  11618\u001b[0m \u001b[43m    \u001b[49m\u001b[43mf\u001b[49m\u001b[43m,\u001b[49m\u001b[43m \u001b[49m\u001b[43mname\u001b[49m\u001b[43m,\u001b[49m\u001b[43m \u001b[49m\u001b[43maxis\u001b[49m\u001b[38;5;241;43m=\u001b[39;49m\u001b[43maxis\u001b[49m\u001b[43m,\u001b[49m\u001b[43m \u001b[49m\u001b[43mskipna\u001b[49m\u001b[38;5;241;43m=\u001b[39;49m\u001b[43mskipna\u001b[49m\u001b[43m,\u001b[49m\u001b[43m \u001b[49m\u001b[43mnumeric_only\u001b[49m\u001b[38;5;241;43m=\u001b[39;49m\u001b[43mnumeric_only\u001b[49m\n\u001b[1;32m  11619\u001b[0m \u001b[43m\u001b[49m\u001b[43m)\u001b[49m\n",
      "File \u001b[0;32m/usr/lib/python3.8/site-packages/pandas/core/series.py:4090\u001b[0m, in \u001b[0;36mSeries._reduce\u001b[0;34m(self, op, name, axis, skipna, numeric_only, filter_type, **kwds)\u001b[0m\n\u001b[1;32m   4086\u001b[0m         \u001b[38;5;28;01mraise\u001b[39;00m \u001b[38;5;167;01mNotImplementedError\u001b[39;00m(\n\u001b[1;32m   4087\u001b[0m             \u001b[38;5;124m\"\u001b[39m\u001b[38;5;124mSeries.\u001b[39m\u001b[38;5;132;01m{0}\u001b[39;00m\u001b[38;5;124m does not implement \u001b[39m\u001b[38;5;124m\"\u001b[39m \u001b[38;5;124m\"\u001b[39m\u001b[38;5;124mnumeric_only.\u001b[39m\u001b[38;5;124m\"\u001b[39m\u001b[38;5;241m.\u001b[39mformat(name)\n\u001b[1;32m   4088\u001b[0m         )\n\u001b[1;32m   4089\u001b[0m     \u001b[38;5;28;01mwith\u001b[39;00m np\u001b[38;5;241m.\u001b[39merrstate(\u001b[38;5;28mall\u001b[39m\u001b[38;5;241m=\u001b[39m\u001b[38;5;124m\"\u001b[39m\u001b[38;5;124mignore\u001b[39m\u001b[38;5;124m\"\u001b[39m):\n\u001b[0;32m-> 4090\u001b[0m         \u001b[38;5;28;01mreturn\u001b[39;00m \u001b[43mop\u001b[49m\u001b[43m(\u001b[49m\u001b[43mdelegate\u001b[49m\u001b[43m,\u001b[49m\u001b[43m \u001b[49m\u001b[43mskipna\u001b[49m\u001b[38;5;241;43m=\u001b[39;49m\u001b[43mskipna\u001b[49m\u001b[43m,\u001b[49m\u001b[43m \u001b[49m\u001b[38;5;241;43m*\u001b[39;49m\u001b[38;5;241;43m*\u001b[39;49m\u001b[43mkwds\u001b[49m\u001b[43m)\u001b[49m\n\u001b[1;32m   4092\u001b[0m \u001b[38;5;66;03m# TODO(EA) dispatch to Index\u001b[39;00m\n\u001b[1;32m   4093\u001b[0m \u001b[38;5;66;03m# remove once all internals extension types are\u001b[39;00m\n\u001b[1;32m   4094\u001b[0m \u001b[38;5;66;03m# moved to ExtensionArrays\u001b[39;00m\n\u001b[1;32m   4095\u001b[0m \u001b[38;5;28;01mreturn\u001b[39;00m delegate\u001b[38;5;241m.\u001b[39m_reduce(\n\u001b[1;32m   4096\u001b[0m     op\u001b[38;5;241m=\u001b[39mop,\n\u001b[1;32m   4097\u001b[0m     name\u001b[38;5;241m=\u001b[39mname,\n\u001b[0;32m   (...)\u001b[0m\n\u001b[1;32m   4102\u001b[0m     \u001b[38;5;241m*\u001b[39m\u001b[38;5;241m*\u001b[39mkwds\n\u001b[1;32m   4103\u001b[0m )\n",
      "File \u001b[0;32m/usr/lib/python3.8/site-packages/pandas/core/nanops.py:70\u001b[0m, in \u001b[0;36mdisallow.__call__.<locals>._f\u001b[0;34m(*args, **kwargs)\u001b[0m\n\u001b[1;32m     68\u001b[0m \u001b[38;5;28;01mtry\u001b[39;00m:\n\u001b[1;32m     69\u001b[0m     \u001b[38;5;28;01mwith\u001b[39;00m np\u001b[38;5;241m.\u001b[39merrstate(invalid\u001b[38;5;241m=\u001b[39m\u001b[38;5;124m\"\u001b[39m\u001b[38;5;124mignore\u001b[39m\u001b[38;5;124m\"\u001b[39m):\n\u001b[0;32m---> 70\u001b[0m         \u001b[38;5;28;01mreturn\u001b[39;00m \u001b[43mf\u001b[49m\u001b[43m(\u001b[49m\u001b[38;5;241;43m*\u001b[39;49m\u001b[43margs\u001b[49m\u001b[43m,\u001b[49m\u001b[43m \u001b[49m\u001b[38;5;241;43m*\u001b[39;49m\u001b[38;5;241;43m*\u001b[39;49m\u001b[43mkwargs\u001b[49m\u001b[43m)\u001b[49m\n\u001b[1;32m     71\u001b[0m \u001b[38;5;28;01mexcept\u001b[39;00m \u001b[38;5;167;01mValueError\u001b[39;00m \u001b[38;5;28;01mas\u001b[39;00m e:\n\u001b[1;32m     72\u001b[0m     \u001b[38;5;66;03m# we want to transform an object array\u001b[39;00m\n\u001b[1;32m     73\u001b[0m     \u001b[38;5;66;03m# ValueError message to the more typical TypeError\u001b[39;00m\n\u001b[1;32m     74\u001b[0m     \u001b[38;5;66;03m# e.g. this is normally a disallowed function on\u001b[39;00m\n\u001b[1;32m     75\u001b[0m     \u001b[38;5;66;03m# object arrays that contain strings\u001b[39;00m\n\u001b[1;32m     76\u001b[0m     \u001b[38;5;28;01mif\u001b[39;00m is_object_dtype(args[\u001b[38;5;241m0\u001b[39m]):\n",
      "File \u001b[0;32m/usr/lib/python3.8/site-packages/pandas/core/nanops.py:123\u001b[0m, in \u001b[0;36mbottleneck_switch.__call__.<locals>.f\u001b[0;34m(values, axis, skipna, **kwds)\u001b[0m\n\u001b[1;32m    121\u001b[0m \u001b[38;5;28;01mexcept\u001b[39;00m \u001b[38;5;167;01mException\u001b[39;00m:\n\u001b[1;32m    122\u001b[0m     \u001b[38;5;28;01mtry\u001b[39;00m:\n\u001b[0;32m--> 123\u001b[0m         result \u001b[38;5;241m=\u001b[39m \u001b[43malt\u001b[49m\u001b[43m(\u001b[49m\u001b[43mvalues\u001b[49m\u001b[43m,\u001b[49m\u001b[43m \u001b[49m\u001b[43maxis\u001b[49m\u001b[38;5;241;43m=\u001b[39;49m\u001b[43maxis\u001b[49m\u001b[43m,\u001b[49m\u001b[43m \u001b[49m\u001b[43mskipna\u001b[49m\u001b[38;5;241;43m=\u001b[39;49m\u001b[43mskipna\u001b[49m\u001b[43m,\u001b[49m\u001b[43m \u001b[49m\u001b[38;5;241;43m*\u001b[39;49m\u001b[38;5;241;43m*\u001b[39;49m\u001b[43mkwds\u001b[49m\u001b[43m)\u001b[49m\n\u001b[1;32m    124\u001b[0m     \u001b[38;5;28;01mexcept\u001b[39;00m \u001b[38;5;167;01mValueError\u001b[39;00m \u001b[38;5;28;01mas\u001b[39;00m e:\n\u001b[1;32m    125\u001b[0m         \u001b[38;5;66;03m# we want to transform an object array\u001b[39;00m\n\u001b[1;32m    126\u001b[0m         \u001b[38;5;66;03m# ValueError message to the more typical TypeError\u001b[39;00m\n\u001b[1;32m    127\u001b[0m         \u001b[38;5;66;03m# e.g. this is normally a disallowed function on\u001b[39;00m\n\u001b[1;32m    128\u001b[0m         \u001b[38;5;66;03m# object arrays that contain strings\u001b[39;00m\n\u001b[1;32m    130\u001b[0m         \u001b[38;5;28;01mif\u001b[39;00m is_object_dtype(values):\n",
      "File \u001b[0;32m/usr/lib/python3.8/site-packages/pandas/core/nanops.py:551\u001b[0m, in \u001b[0;36mnanmean\u001b[0;34m(values, axis, skipna, mask)\u001b[0m\n\u001b[1;32m    549\u001b[0m     dtype_count \u001b[38;5;241m=\u001b[39m dtype\n\u001b[1;32m    550\u001b[0m count \u001b[38;5;241m=\u001b[39m _get_counts(values\u001b[38;5;241m.\u001b[39mshape, mask, axis, dtype\u001b[38;5;241m=\u001b[39mdtype_count)\n\u001b[0;32m--> 551\u001b[0m the_sum \u001b[38;5;241m=\u001b[39m _ensure_numeric(\u001b[43mvalues\u001b[49m\u001b[38;5;241;43m.\u001b[39;49m\u001b[43msum\u001b[49m\u001b[43m(\u001b[49m\u001b[43maxis\u001b[49m\u001b[43m,\u001b[49m\u001b[43m \u001b[49m\u001b[43mdtype\u001b[49m\u001b[38;5;241;43m=\u001b[39;49m\u001b[43mdtype_sum\u001b[49m\u001b[43m)\u001b[49m)\n\u001b[1;32m    553\u001b[0m \u001b[38;5;28;01mif\u001b[39;00m axis \u001b[38;5;129;01mis\u001b[39;00m \u001b[38;5;129;01mnot\u001b[39;00m \u001b[38;5;28;01mNone\u001b[39;00m \u001b[38;5;129;01mand\u001b[39;00m \u001b[38;5;28mgetattr\u001b[39m(the_sum, \u001b[38;5;124m\"\u001b[39m\u001b[38;5;124mndim\u001b[39m\u001b[38;5;124m\"\u001b[39m, \u001b[38;5;28;01mFalse\u001b[39;00m):\n\u001b[1;32m    554\u001b[0m     \u001b[38;5;28;01mwith\u001b[39;00m np\u001b[38;5;241m.\u001b[39merrstate(\u001b[38;5;28mall\u001b[39m\u001b[38;5;241m=\u001b[39m\u001b[38;5;124m\"\u001b[39m\u001b[38;5;124mignore\u001b[39m\u001b[38;5;124m\"\u001b[39m):\n\u001b[1;32m    555\u001b[0m         \u001b[38;5;66;03m# suppress division by zero warnings\u001b[39;00m\n",
      "File \u001b[0;32m/usr/lib/python3.8/site-packages/numpy/core/_methods.py:48\u001b[0m, in \u001b[0;36m_sum\u001b[0;34m(a, axis, dtype, out, keepdims, initial, where)\u001b[0m\n\u001b[1;32m     46\u001b[0m \u001b[38;5;28;01mdef\u001b[39;00m \u001b[38;5;21m_sum\u001b[39m(a, axis\u001b[38;5;241m=\u001b[39m\u001b[38;5;28;01mNone\u001b[39;00m, dtype\u001b[38;5;241m=\u001b[39m\u001b[38;5;28;01mNone\u001b[39;00m, out\u001b[38;5;241m=\u001b[39m\u001b[38;5;28;01mNone\u001b[39;00m, keepdims\u001b[38;5;241m=\u001b[39m\u001b[38;5;28;01mFalse\u001b[39;00m,\n\u001b[1;32m     47\u001b[0m          initial\u001b[38;5;241m=\u001b[39m_NoValue, where\u001b[38;5;241m=\u001b[39m\u001b[38;5;28;01mTrue\u001b[39;00m):\n\u001b[0;32m---> 48\u001b[0m     \u001b[38;5;28;01mreturn\u001b[39;00m \u001b[43mumr_sum\u001b[49m\u001b[43m(\u001b[49m\u001b[43ma\u001b[49m\u001b[43m,\u001b[49m\u001b[43m \u001b[49m\u001b[43maxis\u001b[49m\u001b[43m,\u001b[49m\u001b[43m \u001b[49m\u001b[43mdtype\u001b[49m\u001b[43m,\u001b[49m\u001b[43m \u001b[49m\u001b[43mout\u001b[49m\u001b[43m,\u001b[49m\u001b[43m \u001b[49m\u001b[43mkeepdims\u001b[49m\u001b[43m,\u001b[49m\u001b[43m \u001b[49m\u001b[43minitial\u001b[49m\u001b[43m,\u001b[49m\u001b[43m \u001b[49m\u001b[43mwhere\u001b[49m\u001b[43m)\u001b[49m\n",
      "\u001b[0;31mTypeError\u001b[0m: can only concatenate str (not \"int\") to str"
     ]
    }
   ],
   "source": [
    "print(students.dtypes)\n",
    "\n",
    "print(students.score.mean())"
   ]
  },
  {
   "cell_type": "markdown",
   "id": "825c5158-9532-4789-998e-22c9d1595e9e",
   "metadata": {},
   "source": [
    "**String Parsing**"
   ]
  },
  {
   "cell_type": "code",
   "execution_count": 38,
   "id": "3e42d2c6-5545-4202-bdac-4b0b0a9ed128",
   "metadata": {},
   "outputs": [
    {
     "name": "stdout",
     "output_type": "stream",
     "text": [
      "76.0\n"
     ]
    }
   ],
   "source": [
    "students.score = students['score'].replace('[\\%,]', '', regex=True)\n",
    "students.score = pd.to_numeric(students['score'])\n",
    "\n",
    "print(students.score[0])"
   ]
  },
  {
   "cell_type": "code",
   "execution_count": 39,
   "id": "1fb55ab7-8305-4772-a13c-3b78873ce5fa",
   "metadata": {},
   "outputs": [
    {
     "name": "stdout",
     "output_type": "stream",
     "text": [
      "0     9th grade\n",
      "1    12th grade\n",
      "3    11th grade\n",
      "4    10th grade\n",
      "5     9th grade\n",
      "Name: grade, dtype: object\n",
      "full_name      object\n",
      "gender_age     object\n",
      "grade          object\n",
      "exam           object\n",
      "score         float64\n",
      "gender         object\n",
      "age            object\n",
      "first_name     object\n",
      "last_name      object\n",
      "dtype: object\n",
      "10.620445344129555\n"
     ]
    }
   ],
   "source": [
    "print(students.grade.head())\n",
    "\n",
    "students.grade = students.grade.str.split('(\\d+)', expand=True)[1]\n",
    "\n",
    "print(students.dtypes)\n",
    "\n",
    "students.grade = pd.to_numeric(students.grade)\n",
    "avg_grade = students.grade.mean()\n",
    "\n",
    "print(avg_grade)"
   ]
  },
  {
   "cell_type": "markdown",
   "id": "88103b22-2c1b-4def-ad21-93285ea6e9e2",
   "metadata": {},
   "source": [
    "**Missing Values**"
   ]
  },
  {
   "cell_type": "code",
   "execution_count": 40,
   "id": "37f17774-45b3-4120-be25-6d331811efb7",
   "metadata": {},
   "outputs": [
    {
     "name": "stdout",
     "output_type": "stream",
     "text": [
      "77.69657422512235\n",
      "72.30971659919028\n"
     ]
    }
   ],
   "source": [
    "score_mean = students.score.mean()\n",
    "\n",
    "print(score_mean)\n",
    "\n",
    "students = students.fillna(0)\n",
    "\n",
    "score_mean_2 = students.score.mean()\n",
    "\n",
    "print(score_mean_2)"
   ]
  }
 ],
 "metadata": {
  "kernelspec": {
   "display_name": "Python 3 (ipykernel)",
   "language": "python",
   "name": "python3"
  },
  "language_info": {
   "codemirror_mode": {
    "name": "ipython",
    "version": 3
   },
   "file_extension": ".py",
   "mimetype": "text/x-python",
   "name": "python",
   "nbconvert_exporter": "python",
   "pygments_lexer": "ipython3",
   "version": "3.8.10"
  }
 },
 "nbformat": 4,
 "nbformat_minor": 5
}
