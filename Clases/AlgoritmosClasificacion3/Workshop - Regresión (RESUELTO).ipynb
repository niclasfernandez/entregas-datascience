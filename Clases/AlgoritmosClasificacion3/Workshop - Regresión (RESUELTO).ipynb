{
 "cells": [
  {
   "cell_type": "markdown",
   "metadata": {},
   "source": [
    "### WorkShop: Regresión!"
   ]
  },
  {
   "cell_type": "markdown",
   "metadata": {},
   "source": [
    "Para iniciar con el workshop, deberemos importar las librerías necesarias para la realización del desafío y el dataset propuesto para la ejercitación."
   ]
  },
  {
   "cell_type": "code",
   "execution_count": 1,
   "metadata": {},
   "outputs": [
    {
     "data": {
      "text/html": [
       "<div>\n",
       "<style scoped>\n",
       "    .dataframe tbody tr th:only-of-type {\n",
       "        vertical-align: middle;\n",
       "    }\n",
       "\n",
       "    .dataframe tbody tr th {\n",
       "        vertical-align: top;\n",
       "    }\n",
       "\n",
       "    .dataframe thead th {\n",
       "        text-align: right;\n",
       "    }\n",
       "</style>\n",
       "<table border=\"1\" class=\"dataframe\">\n",
       "  <thead>\n",
       "    <tr style=\"text-align: right;\">\n",
       "      <th></th>\n",
       "      <th>Unnamed: 0</th>\n",
       "      <th>id</th>\n",
       "      <th>title</th>\n",
       "      <th>seller_id</th>\n",
       "      <th>category_id</th>\n",
       "      <th>price</th>\n",
       "      <th>currency_id</th>\n",
       "      <th>start_time</th>\n",
       "      <th>stop_time</th>\n",
       "      <th>condition</th>\n",
       "      <th>...</th>\n",
       "      <th>PROFESSIONAL_USE_ALLOWED_Sí</th>\n",
       "      <th>SUITABLE_FOR_MORTGAGE_LOAN_No</th>\n",
       "      <th>SUITABLE_FOR_MORTGAGE_LOAN_Sí</th>\n",
       "      <th>HAS_SECURITY_No</th>\n",
       "      <th>HAS_SECURITY_Sí</th>\n",
       "      <th>HAS_LAUNDRY_No</th>\n",
       "      <th>HAS_LAUNDRY_Sí</th>\n",
       "      <th>listing_type_id_gold</th>\n",
       "      <th>listing_type_id_gold_premium</th>\n",
       "      <th>listing_type_id_silver</th>\n",
       "    </tr>\n",
       "  </thead>\n",
       "  <tbody>\n",
       "    <tr>\n",
       "      <th>0</th>\n",
       "      <td>2101</td>\n",
       "      <td>MLA931544724</td>\n",
       "      <td>Zona Centro, Cochera En Alquiler</td>\n",
       "      <td>463239451</td>\n",
       "      <td>MLA50543</td>\n",
       "      <td>20000.0</td>\n",
       "      <td>USD</td>\n",
       "      <td>2021-07-29T17:33:25.000Z</td>\n",
       "      <td>2021-08-29T04:00:00.000Z</td>\n",
       "      <td>new</td>\n",
       "      <td>...</td>\n",
       "      <td>0</td>\n",
       "      <td>0</td>\n",
       "      <td>0</td>\n",
       "      <td>1</td>\n",
       "      <td>0</td>\n",
       "      <td>0</td>\n",
       "      <td>0</td>\n",
       "      <td>0</td>\n",
       "      <td>1</td>\n",
       "      <td>0</td>\n",
       "    </tr>\n",
       "    <tr>\n",
       "      <th>1</th>\n",
       "      <td>2103</td>\n",
       "      <td>MLA931546573</td>\n",
       "      <td>Santiago 1431</td>\n",
       "      <td>463239451</td>\n",
       "      <td>MLA50543</td>\n",
       "      <td>16000.0</td>\n",
       "      <td>USD</td>\n",
       "      <td>2021-07-29T17:33:24.000Z</td>\n",
       "      <td>2021-08-29T04:00:00.000Z</td>\n",
       "      <td>new</td>\n",
       "      <td>...</td>\n",
       "      <td>0</td>\n",
       "      <td>0</td>\n",
       "      <td>0</td>\n",
       "      <td>1</td>\n",
       "      <td>0</td>\n",
       "      <td>0</td>\n",
       "      <td>0</td>\n",
       "      <td>0</td>\n",
       "      <td>1</td>\n",
       "      <td>0</td>\n",
       "    </tr>\n",
       "    <tr>\n",
       "      <th>2</th>\n",
       "      <td>2106</td>\n",
       "      <td>MLA878310331</td>\n",
       "      <td>Cochera Disponible Con Unidad De Departamento ...</td>\n",
       "      <td>416541318</td>\n",
       "      <td>MLA50543</td>\n",
       "      <td>11000.0</td>\n",
       "      <td>USD</td>\n",
       "      <td>2020-09-12T13:35:55.000Z</td>\n",
       "      <td>2021-08-06T21:16:04.000Z</td>\n",
       "      <td>new</td>\n",
       "      <td>...</td>\n",
       "      <td>0</td>\n",
       "      <td>0</td>\n",
       "      <td>0</td>\n",
       "      <td>1</td>\n",
       "      <td>0</td>\n",
       "      <td>0</td>\n",
       "      <td>0</td>\n",
       "      <td>0</td>\n",
       "      <td>1</td>\n",
       "      <td>0</td>\n",
       "    </tr>\n",
       "    <tr>\n",
       "      <th>3</th>\n",
       "      <td>2107</td>\n",
       "      <td>MLA884623112</td>\n",
       "      <td>Cochera A La Venta Necochea Al 2000 - Rep.de L...</td>\n",
       "      <td>416541318</td>\n",
       "      <td>MLA50543</td>\n",
       "      <td>10000.0</td>\n",
       "      <td>USD</td>\n",
       "      <td>2020-10-20T13:16:35.000Z</td>\n",
       "      <td>2021-08-06T21:16:04.000Z</td>\n",
       "      <td>used</td>\n",
       "      <td>...</td>\n",
       "      <td>0</td>\n",
       "      <td>0</td>\n",
       "      <td>0</td>\n",
       "      <td>1</td>\n",
       "      <td>0</td>\n",
       "      <td>0</td>\n",
       "      <td>0</td>\n",
       "      <td>0</td>\n",
       "      <td>1</td>\n",
       "      <td>0</td>\n",
       "    </tr>\n",
       "    <tr>\n",
       "      <th>4</th>\n",
       "      <td>2108</td>\n",
       "      <td>MLA909343476</td>\n",
       "      <td>Cochera En Oportunidad - Edificio Catedral - C...</td>\n",
       "      <td>521095123</td>\n",
       "      <td>MLA50543</td>\n",
       "      <td>13700.0</td>\n",
       "      <td>USD</td>\n",
       "      <td>2021-02-23T14:42:07.000Z</td>\n",
       "      <td>2021-11-01T02:15:33.000Z</td>\n",
       "      <td>new</td>\n",
       "      <td>...</td>\n",
       "      <td>0</td>\n",
       "      <td>0</td>\n",
       "      <td>0</td>\n",
       "      <td>1</td>\n",
       "      <td>0</td>\n",
       "      <td>0</td>\n",
       "      <td>0</td>\n",
       "      <td>0</td>\n",
       "      <td>1</td>\n",
       "      <td>0</td>\n",
       "    </tr>\n",
       "  </tbody>\n",
       "</table>\n",
       "<p>5 rows × 62 columns</p>\n",
       "</div>"
      ],
      "text/plain": [
       "   Unnamed: 0            id  \\\n",
       "0        2101  MLA931544724   \n",
       "1        2103  MLA931546573   \n",
       "2        2106  MLA878310331   \n",
       "3        2107  MLA884623112   \n",
       "4        2108  MLA909343476   \n",
       "\n",
       "                                               title  seller_id category_id  \\\n",
       "0                   Zona Centro, Cochera En Alquiler  463239451    MLA50543   \n",
       "1                                      Santiago 1431  463239451    MLA50543   \n",
       "2  Cochera Disponible Con Unidad De Departamento ...  416541318    MLA50543   \n",
       "3  Cochera A La Venta Necochea Al 2000 - Rep.de L...  416541318    MLA50543   \n",
       "4  Cochera En Oportunidad - Edificio Catedral - C...  521095123    MLA50543   \n",
       "\n",
       "     price currency_id                start_time                 stop_time  \\\n",
       "0  20000.0         USD  2021-07-29T17:33:25.000Z  2021-08-29T04:00:00.000Z   \n",
       "1  16000.0         USD  2021-07-29T17:33:24.000Z  2021-08-29T04:00:00.000Z   \n",
       "2  11000.0         USD  2020-09-12T13:35:55.000Z  2021-08-06T21:16:04.000Z   \n",
       "3  10000.0         USD  2020-10-20T13:16:35.000Z  2021-08-06T21:16:04.000Z   \n",
       "4  13700.0         USD  2021-02-23T14:42:07.000Z  2021-11-01T02:15:33.000Z   \n",
       "\n",
       "  condition  ... PROFESSIONAL_USE_ALLOWED_Sí SUITABLE_FOR_MORTGAGE_LOAN_No  \\\n",
       "0       new  ...                           0                             0   \n",
       "1       new  ...                           0                             0   \n",
       "2       new  ...                           0                             0   \n",
       "3      used  ...                           0                             0   \n",
       "4       new  ...                           0                             0   \n",
       "\n",
       "  SUITABLE_FOR_MORTGAGE_LOAN_Sí HAS_SECURITY_No HAS_SECURITY_Sí  \\\n",
       "0                             0               1               0   \n",
       "1                             0               1               0   \n",
       "2                             0               1               0   \n",
       "3                             0               1               0   \n",
       "4                             0               1               0   \n",
       "\n",
       "  HAS_LAUNDRY_No HAS_LAUNDRY_Sí listing_type_id_gold  \\\n",
       "0              0              0                    0   \n",
       "1              0              0                    0   \n",
       "2              0              0                    0   \n",
       "3              0              0                    0   \n",
       "4              0              0                    0   \n",
       "\n",
       "   listing_type_id_gold_premium  listing_type_id_silver  \n",
       "0                             1                       0  \n",
       "1                             1                       0  \n",
       "2                             1                       0  \n",
       "3                             1                       0  \n",
       "4                             1                       0  \n",
       "\n",
       "[5 rows x 62 columns]"
      ]
     },
     "execution_count": 1,
     "metadata": {},
     "output_type": "execute_result"
    }
   ],
   "source": [
    "import pandas as pd\n",
    "import numpy as np\n",
    "import matplotlib.pyplot as plt\n",
    "\n",
    "cocheras = pd.read_csv(\"C:/Users/Layla/Desktop/Docencia/Coder House/Materiales complementarios/Mod 5 - Data Science/3. Algoritmos de Clasificación III/Workshop - Alumno/cocheras.csv\", sep = \",\")\n",
    "cocheras.head()"
   ]
  },
  {
   "cell_type": "markdown",
   "metadata": {},
   "source": [
    "**Resolución**: Modelos de Regresión"
   ]
  },
  {
   "cell_type": "markdown",
   "metadata": {},
   "source": [
    "1. Importar las librerías requeridas de sklearn para la creación de los siguientes modelos:\n",
    "   * Arbol de Decisión para Regresión (DecisionTreeRegressor).\n",
    "   * Random Forest RandomForestRegressor (RandomForestRegressor).\n",
    "   * Regresión Lineal (LinearRegression).\n",
    "   * SVM (SVR).\n",
    "   * Knn (KNeighborsRegressor)\n",
    "\n",
    "Aclaración: Para la resolución de este punto será necesario buscar más información al respecto! 😉"
   ]
  },
  {
   "cell_type": "code",
   "execution_count": 2,
   "metadata": {},
   "outputs": [],
   "source": [
    "from sklearn.linear_model import LinearRegression\n",
    "from sklearn.tree import DecisionTreeRegressor\n",
    "from sklearn.neighbors import KNeighborsRegressor\n",
    "from sklearn.ensemble import RandomForestRegressor\n",
    "from sklearn.svm import SVR"
   ]
  },
  {
   "cell_type": "markdown",
   "metadata": {},
   "source": [
    "2. En base al Template propuesto, separar los datos en Train (70 %) y Test (30 %) con un random_state=123475."
   ]
  },
  {
   "cell_type": "code",
   "execution_count": 3,
   "metadata": {},
   "outputs": [
    {
     "name": "stdout",
     "output_type": "stream",
     "text": [
      "Dimensión de la matriz de features: (580, 41)\n",
      "Dimensión del vector a predecir: (580,)\n"
     ]
    }
   ],
   "source": [
    "# Lista de features que vamos a considerar como para probar \n",
    "features_cocheras = [ 'COVERED_AREA', 'TOTAL_AREA',\n",
    "       'PROPERTY_AGE', 'HAS_SWIMMING_POOL_No',\n",
    "       'HAS_SWIMMING_POOL_Sí', 'HAS_GRILL_No', 'HAS_GRILL_Sí', 'HAS_STUDY_No',\n",
    "       'HAS_STUDY_Sí', 'HAS_HEATING_No', 'HAS_HEATING_Sí',\n",
    "       'HAS_NATURAL_GAS_No', 'HAS_NATURAL_GAS_Sí', 'FACING_Este',\n",
    "       'FACING_Norte', 'FACING_Oeste', 'FACING_Sur', 'HAS_BALCONY_No',\n",
    "       'HAS_BALCONY_Sí', 'HAS_DRESSING_ROOM_No', 'HAS_DRESSING_ROOM_Sí',\n",
    "       'HAS_GARDEN_No', 'HAS_GARDEN_Sí', 'HAS_HALF_BATH_No',\n",
    "       'HAS_HALF_BATH_Sí', 'HAS_MAID_ROOM_No', 'HAS_MAID_ROOM_Sí',\n",
    "       'HAS_PATIO_No', 'HAS_PATIO_Sí', 'HAS_PLAYROOM_No', 'HAS_PLAYROOM_Sí',\n",
    "       'HAS_TERRACE_No', 'HAS_TERRACE_Sí', 'PROFESSIONAL_USE_ALLOWED_No',\n",
    "       'PROFESSIONAL_USE_ALLOWED_Sí', 'SUITABLE_FOR_MORTGAGE_LOAN_No',\n",
    "       'SUITABLE_FOR_MORTGAGE_LOAN_Sí', 'HAS_SECURITY_No', 'HAS_SECURITY_Sí',\n",
    "       'HAS_LAUNDRY_No', 'HAS_LAUNDRY_Sí' ]\n",
    "\n",
    "# Variable a predecir\n",
    "target_cocheras = 'price'\n",
    "\n",
    "# Construcción de la matriz de features\n",
    "X_cocheras = cocheras[features_cocheras].to_numpy()\n",
    "\n",
    "# Construcción del vector a predecir\n",
    "y_cocheras = cocheras[target_cocheras].to_numpy()\n",
    "\n",
    "print('Dimensión de la matriz de features: {}'.format(X_cocheras.shape))\n",
    "print('Dimensión del vector a predecir: {}'.format(y_cocheras.shape))"
   ]
  },
  {
   "cell_type": "code",
   "execution_count": 4,
   "metadata": {},
   "outputs": [],
   "source": [
    "from sklearn.model_selection import train_test_split\n",
    "\n",
    "# Creacion de las matrices de entrenamiento y testeo.\n",
    "X_train_cocheras, X_test_cocheras, y_train_cocheras, y_test_cocheras = train_test_split(X_cocheras, y_cocheras, test_size = 0.30, random_state = 123475)"
   ]
  },
  {
   "cell_type": "markdown",
   "metadata": {},
   "source": [
    "3.\tCrear los modelos de Regresión solicitados, con las siguientes características:\n",
    "\n",
    "* LinearRegression()\n",
    "* DecisionTreeRegressor(max_depth=3, random_state=42)\n",
    "* KNeighborsRegressor(n_neighbors=5)\n",
    "* RandomForestRegressor(random_state=11, n_estimators=200)\n",
    "* SVR(kernel='linear', C=100, gamma='auto', degree=3, epsilon=.1, coef0=1)"
   ]
  },
  {
   "cell_type": "code",
   "execution_count": 5,
   "metadata": {},
   "outputs": [],
   "source": [
    "linear_model_cocheras = LinearRegression()\n",
    "tree_regressor_cocheras = DecisionTreeRegressor(max_depth=3, random_state=42)\n",
    "knn_regressor_cocheras = KNeighborsRegressor(n_neighbors=5)\n",
    "random_forest_cocheras = RandomForestRegressor(random_state=11, n_estimators=200)\n",
    "svm_cocheras = SVR(kernel='linear', C=100, gamma='auto', degree=3, epsilon=.1, coef0=1)"
   ]
  },
  {
   "cell_type": "markdown",
   "metadata": {},
   "source": [
    "4.\tFitear los modelos"
   ]
  },
  {
   "cell_type": "code",
   "execution_count": 6,
   "metadata": {},
   "outputs": [
    {
     "data": {
      "text/plain": [
       "SVR(C=100, coef0=1, gamma='auto', kernel='linear')"
      ]
     },
     "execution_count": 6,
     "metadata": {},
     "output_type": "execute_result"
    }
   ],
   "source": [
    "#Fiteo el modelo\n",
    "linear_model_cocheras.fit(X_train_cocheras,y_train_cocheras)\n",
    "tree_regressor_cocheras.fit(X_train_cocheras, y_train_cocheras)\n",
    "knn_regressor_cocheras.fit(X_train_cocheras, y_train_cocheras)\n",
    "random_forest_cocheras.fit(X_train_cocheras, y_train_cocheras)\n",
    "svm_cocheras.fit(X_train_cocheras, y_train_cocheras)"
   ]
  },
  {
   "cell_type": "markdown",
   "metadata": {},
   "source": [
    "5. Calcular la predicción para cada uno de los modelos desarrollados."
   ]
  },
  {
   "cell_type": "code",
   "execution_count": 7,
   "metadata": {},
   "outputs": [],
   "source": [
    "#linear_model_cocheras\n",
    "y_train_pred_cocheras_linear_model = linear_model_cocheras.predict(X_train_cocheras)\n",
    "y_test_pred_cocheras_linear_model = linear_model_cocheras.predict (X_test_cocheras)\n",
    "\n",
    "#tree_regressor_cocheras\n",
    "y_train_pred_cocheras_tree_regressor = tree_regressor_cocheras.predict(X_train_cocheras)\n",
    "y_test_pred_cocheras_tree_regressor = tree_regressor_cocheras.predict (X_test_cocheras)\n",
    "\n",
    "#knn_regressor_cocheras\n",
    "y_train_pred_cocheras_knn_regressor = knn_regressor_cocheras.predict(X_train_cocheras)\n",
    "y_test_pred_cocheras_knn_regressor = knn_regressor_cocheras.predict (X_test_cocheras)\n",
    "\n",
    "#random_forest_cocheras\n",
    "y_train_pred_cocheras_random_forest = random_forest_cocheras.predict(X_train_cocheras)\n",
    "y_test_pred_cocheras_random_forest = random_forest_cocheras.predict (X_test_cocheras)\n",
    "\n",
    "#svm_cocheras\n",
    "y_train_pred_cocheras_svm = svm_cocheras.predict(X_train_cocheras)\n",
    "y_test_pred_cocheras_svm = svm_cocheras.predict (X_test_cocheras)"
   ]
  },
  {
   "cell_type": "markdown",
   "metadata": {},
   "source": [
    "Sólo nos restaría analizar las métricas de error, pero ese tema lo veremos en la sección correspondiente 😉"
   ]
  }
 ],
 "metadata": {
  "kernelspec": {
   "display_name": "Python 3",
   "language": "python",
   "name": "python3"
  },
  "language_info": {
   "codemirror_mode": {
    "name": "ipython",
    "version": 3
   },
   "file_extension": ".py",
   "mimetype": "text/x-python",
   "name": "python",
   "nbconvert_exporter": "python",
   "pygments_lexer": "ipython3",
   "version": "3.8.5"
  },
  "varInspector": {
   "cols": {
    "lenName": 16,
    "lenType": 16,
    "lenVar": 40
   },
   "kernels_config": {
    "python": {
     "delete_cmd_postfix": "",
     "delete_cmd_prefix": "del ",
     "library": "var_list.py",
     "varRefreshCmd": "print(var_dic_list())"
    },
    "r": {
     "delete_cmd_postfix": ") ",
     "delete_cmd_prefix": "rm(",
     "library": "var_list.r",
     "varRefreshCmd": "cat(var_dic_list()) "
    }
   },
   "types_to_exclude": [
    "module",
    "function",
    "builtin_function_or_method",
    "instance",
    "_Feature"
   ],
   "window_display": false
  }
 },
 "nbformat": 4,
 "nbformat_minor": 4
}
