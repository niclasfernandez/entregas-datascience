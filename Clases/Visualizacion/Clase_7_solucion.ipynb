{
 "cells": [
  {
   "cell_type": "markdown",
   "id": "e5ec620b-db47-4398-ad20-ce3a53da7f81",
   "metadata": {
    "id": "e5ec620b-db47-4398-ad20-ce3a53da7f81",
    "tags": []
   },
   "source": [
    "# 0. Motivación\n",
    "\n",
    "Cuando un científico de datos trabaja, típicamente los datos que utiliza están guardados en archivos `.csv`, archivos de excel, bases de datos y otros tipos de formatos. \n",
    "\n",
    "Estos datos se deben cargar a Python dentro de alguno de los tipos de variables disponibles: NumPy `ndarray`, Pandas `DataFrame` (estos son los más comunes, y los estaremos estudiando la próxima clase).\n",
    "\n",
    "Una vez tenemos los datos dentro de variables en Python, podemos proceder a graficarlos fácilmente."
   ]
  },
  {
   "cell_type": "markdown",
   "id": "b8972c18-ec39-4360-b792-32c2eb0388dc",
   "metadata": {
    "id": "b8972c18-ec39-4360-b792-32c2eb0388dc"
   },
   "source": [
    "Por otra parte, la visualización de datos es una parte muy importante del análisis de datos.\n",
    "\n",
    "- Puedes usarla para explorar los datos gráficamente.\n",
    "\n",
    "- Si ya hay un buen entendimiento de los datos, tendrás una mejor oportunidad de ganar intuición.\n",
    "\n",
    "- Finalmente, si ya has visto algún patrón en los datos, puedes usar visualizaciones para compartir tus ideas con otras personas.\n",
    "___"
   ]
  },
  {
   "cell_type": "markdown",
   "id": "48676c58-948e-451a-a667-018b03e49a48",
   "metadata": {
    "id": "48676c58-948e-451a-a667-018b03e49a48"
   },
   "source": [
    "# 1. Conociendo matplotlib: gráficos de funciones\n",
    "\n",
    "Antes de empezar a revisar distintos tipos gráficos para datos, vamos a comenzar con un tipo de gráfico muy básico, y al que estamos habituados desde la secundaria/preparatoria: **gráficos de funciones**.\n",
    "\n",
    "Para empezar a trabajar con una librería, ¿qué tenemos que hacer?"
   ]
  },
  {
   "cell_type": "code",
   "execution_count": null,
   "id": "10d08923-00c4-47f7-a542-87387f134432",
   "metadata": {
    "id": "10d08923-00c4-47f7-a542-87387f134432"
   },
   "outputs": [],
   "source": [
    "# Importar el módulo pyplot de la librería matplotlib\n",
    "import matplotlib.pyplot as plt"
   ]
  },
  {
   "cell_type": "markdown",
   "id": "340ec146-1114-4725-9d0d-064d4470dcd7",
   "metadata": {
    "id": "340ec146-1114-4725-9d0d-064d4470dcd7"
   },
   "source": [
    "### Graficando funciones seno y coseno:"
   ]
  },
  {
   "cell_type": "code",
   "execution_count": null,
   "id": "1be50db2-f9e3-472a-b227-80a0beb1bd01",
   "metadata": {
    "id": "1be50db2-f9e3-472a-b227-80a0beb1bd01",
    "outputId": "38496d22-bb7b-4c80-a270-cc61fad84110",
    "scrolled": true
   },
   "outputs": [
    {
     "name": "stdout",
     "output_type": "stream",
     "text": [
      "Help on function plot in module matplotlib.pyplot:\n",
      "\n",
      "plot(*args, scalex=True, scaley=True, data=None, **kwargs)\n",
      "    Plot y versus x as lines and/or markers.\n",
      "    \n",
      "    Call signatures::\n",
      "    \n",
      "        plot([x], y, [fmt], *, data=None, **kwargs)\n",
      "        plot([x], y, [fmt], [x2], y2, [fmt2], ..., **kwargs)\n",
      "    \n",
      "    The coordinates of the points or line nodes are given by *x*, *y*.\n",
      "    \n",
      "    The optional parameter *fmt* is a convenient way for defining basic\n",
      "    formatting like color, marker and linestyle. It's a shortcut string\n",
      "    notation described in the *Notes* section below.\n",
      "    \n",
      "    >>> plot(x, y)        # plot x and y using default line style and color\n",
      "    >>> plot(x, y, 'bo')  # plot x and y using blue circle markers\n",
      "    >>> plot(y)           # plot y using x as index array 0..N-1\n",
      "    >>> plot(y, 'r+')     # ditto, but with red plusses\n",
      "    \n",
      "    You can use `.Line2D` properties as keyword arguments for more\n",
      "    control on the appearance. Line properties and *fmt* can be mixed.\n",
      "    The following two calls yield identical results:\n",
      "    \n",
      "    >>> plot(x, y, 'go--', linewidth=2, markersize=12)\n",
      "    >>> plot(x, y, color='green', marker='o', linestyle='dashed',\n",
      "    ...      linewidth=2, markersize=12)\n",
      "    \n",
      "    When conflicting with *fmt*, keyword arguments take precedence.\n",
      "    \n",
      "    \n",
      "    **Plotting labelled data**\n",
      "    \n",
      "    There's a convenient way for plotting objects with labelled data (i.e.\n",
      "    data that can be accessed by index ``obj['y']``). Instead of giving\n",
      "    the data in *x* and *y*, you can provide the object in the *data*\n",
      "    parameter and just give the labels for *x* and *y*::\n",
      "    \n",
      "    >>> plot('xlabel', 'ylabel', data=obj)\n",
      "    \n",
      "    All indexable objects are supported. This could e.g. be a `dict`, a\n",
      "    `pandas.DataFrame` or a structured numpy array.\n",
      "    \n",
      "    \n",
      "    **Plotting multiple sets of data**\n",
      "    \n",
      "    There are various ways to plot multiple sets of data.\n",
      "    \n",
      "    - The most straight forward way is just to call `plot` multiple times.\n",
      "      Example:\n",
      "    \n",
      "      >>> plot(x1, y1, 'bo')\n",
      "      >>> plot(x2, y2, 'go')\n",
      "    \n",
      "    - If *x* and/or *y* are 2D arrays a separate data set will be drawn\n",
      "      for every column. If both *x* and *y* are 2D, they must have the\n",
      "      same shape. If only one of them is 2D with shape (N, m) the other\n",
      "      must have length N and will be used for every data set m.\n",
      "    \n",
      "      Example:\n",
      "    \n",
      "      >>> x = [1, 2, 3]\n",
      "      >>> y = np.array([[1, 2], [3, 4], [5, 6]])\n",
      "      >>> plot(x, y)\n",
      "    \n",
      "      is equivalent to:\n",
      "    \n",
      "      >>> for col in range(y.shape[1]):\n",
      "      ...     plot(x, y[:, col])\n",
      "    \n",
      "    - The third way is to specify multiple sets of *[x]*, *y*, *[fmt]*\n",
      "      groups::\n",
      "    \n",
      "      >>> plot(x1, y1, 'g^', x2, y2, 'g-')\n",
      "    \n",
      "      In this case, any additional keyword argument applies to all\n",
      "      datasets. Also this syntax cannot be combined with the *data*\n",
      "      parameter.\n",
      "    \n",
      "    By default, each line is assigned a different style specified by a\n",
      "    'style cycle'. The *fmt* and line property parameters are only\n",
      "    necessary if you want explicit deviations from these defaults.\n",
      "    Alternatively, you can also change the style cycle using\n",
      "    :rc:`axes.prop_cycle`.\n",
      "    \n",
      "    \n",
      "    Parameters\n",
      "    ----------\n",
      "    x, y : array-like or scalar\n",
      "        The horizontal / vertical coordinates of the data points.\n",
      "        *x* values are optional and default to ``range(len(y))``.\n",
      "    \n",
      "        Commonly, these parameters are 1D arrays.\n",
      "    \n",
      "        They can also be scalars, or two-dimensional (in that case, the\n",
      "        columns represent separate data sets).\n",
      "    \n",
      "        These arguments cannot be passed as keywords.\n",
      "    \n",
      "    fmt : str, optional\n",
      "        A format string, e.g. 'ro' for red circles. See the *Notes*\n",
      "        section for a full description of the format strings.\n",
      "    \n",
      "        Format strings are just an abbreviation for quickly setting\n",
      "        basic line properties. All of these and more can also be\n",
      "        controlled by keyword arguments.\n",
      "    \n",
      "        This argument cannot be passed as keyword.\n",
      "    \n",
      "    data : indexable object, optional\n",
      "        An object with labelled data. If given, provide the label names to\n",
      "        plot in *x* and *y*.\n",
      "    \n",
      "        .. note::\n",
      "            Technically there's a slight ambiguity in calls where the\n",
      "            second label is a valid *fmt*. ``plot('n', 'o', data=obj)``\n",
      "            could be ``plt(x, y)`` or ``plt(y, fmt)``. In such cases,\n",
      "            the former interpretation is chosen, but a warning is issued.\n",
      "            You may suppress the warning by adding an empty format string\n",
      "            ``plot('n', 'o', '', data=obj)``.\n",
      "    \n",
      "    Returns\n",
      "    -------\n",
      "    list of `.Line2D`\n",
      "        A list of lines representing the plotted data.\n",
      "    \n",
      "    Other Parameters\n",
      "    ----------------\n",
      "    scalex, scaley : bool, default: True\n",
      "        These parameters determine if the view limits are adapted to the\n",
      "        data limits. The values are passed on to `autoscale_view`.\n",
      "    \n",
      "    **kwargs : `.Line2D` properties, optional\n",
      "        *kwargs* are used to specify properties like a line label (for\n",
      "        auto legends), linewidth, antialiasing, marker face color.\n",
      "        Example::\n",
      "    \n",
      "        >>> plot([1, 2, 3], [1, 2, 3], 'go-', label='line 1', linewidth=2)\n",
      "        >>> plot([1, 2, 3], [1, 4, 9], 'rs', label='line 2')\n",
      "    \n",
      "        If you specify multiple lines with one plot call, the kwargs apply\n",
      "        to all those lines. In case the label object is iterable, each\n",
      "        element is used as labels for each set of data.\n",
      "    \n",
      "        Here is a list of available `.Line2D` properties:\n",
      "    \n",
      "        Properties:\n",
      "        agg_filter: a filter function, which takes a (m, n, 3) float array and a dpi value, and returns a (m, n, 3) array\n",
      "        alpha: scalar or None\n",
      "        animated: bool\n",
      "        antialiased or aa: bool\n",
      "        clip_box: `.Bbox`\n",
      "        clip_on: bool\n",
      "        clip_path: Patch or (Path, Transform) or None\n",
      "        color or c: color\n",
      "        dash_capstyle: `.CapStyle` or {'butt', 'projecting', 'round'}\n",
      "        dash_joinstyle: `.JoinStyle` or {'miter', 'round', 'bevel'}\n",
      "        dashes: sequence of floats (on/off ink in points) or (None, None)\n",
      "        data: (2, N) array or two 1D arrays\n",
      "        drawstyle or ds: {'default', 'steps', 'steps-pre', 'steps-mid', 'steps-post'}, default: 'default'\n",
      "        figure: `.Figure`\n",
      "        fillstyle: {'full', 'left', 'right', 'bottom', 'top', 'none'}\n",
      "        gid: str\n",
      "        in_layout: bool\n",
      "        label: object\n",
      "        linestyle or ls: {'-', '--', '-.', ':', '', (offset, on-off-seq), ...}\n",
      "        linewidth or lw: float\n",
      "        marker: marker style string, `~.path.Path` or `~.markers.MarkerStyle`\n",
      "        markeredgecolor or mec: color\n",
      "        markeredgewidth or mew: float\n",
      "        markerfacecolor or mfc: color\n",
      "        markerfacecoloralt or mfcalt: color\n",
      "        markersize or ms: float\n",
      "        markevery: None or int or (int, int) or slice or list[int] or float or (float, float) or list[bool]\n",
      "        path_effects: `.AbstractPathEffect`\n",
      "        picker: float or callable[[Artist, Event], tuple[bool, dict]]\n",
      "        pickradius: float\n",
      "        rasterized: bool\n",
      "        sketch_params: (scale: float, length: float, randomness: float)\n",
      "        snap: bool or None\n",
      "        solid_capstyle: `.CapStyle` or {'butt', 'projecting', 'round'}\n",
      "        solid_joinstyle: `.JoinStyle` or {'miter', 'round', 'bevel'}\n",
      "        transform: unknown\n",
      "        url: str\n",
      "        visible: bool\n",
      "        xdata: 1D array\n",
      "        ydata: 1D array\n",
      "        zorder: float\n",
      "    \n",
      "    See Also\n",
      "    --------\n",
      "    scatter : XY scatter plot with markers of varying size and/or color (\n",
      "        sometimes also called bubble chart).\n",
      "    \n",
      "    Notes\n",
      "    -----\n",
      "    **Format Strings**\n",
      "    \n",
      "    A format string consists of a part for color, marker and line::\n",
      "    \n",
      "        fmt = '[marker][line][color]'\n",
      "    \n",
      "    Each of them is optional. If not provided, the value from the style\n",
      "    cycle is used. Exception: If ``line`` is given, but no ``marker``,\n",
      "    the data will be a line without markers.\n",
      "    \n",
      "    Other combinations such as ``[color][marker][line]`` are also\n",
      "    supported, but note that their parsing may be ambiguous.\n",
      "    \n",
      "    **Markers**\n",
      "    \n",
      "    =============   ===============================\n",
      "    character       description\n",
      "    =============   ===============================\n",
      "    ``'.'``         point marker\n",
      "    ``','``         pixel marker\n",
      "    ``'o'``         circle marker\n",
      "    ``'v'``         triangle_down marker\n",
      "    ``'^'``         triangle_up marker\n",
      "    ``'<'``         triangle_left marker\n",
      "    ``'>'``         triangle_right marker\n",
      "    ``'1'``         tri_down marker\n",
      "    ``'2'``         tri_up marker\n",
      "    ``'3'``         tri_left marker\n",
      "    ``'4'``         tri_right marker\n",
      "    ``'8'``         octagon marker\n",
      "    ``'s'``         square marker\n",
      "    ``'p'``         pentagon marker\n",
      "    ``'P'``         plus (filled) marker\n",
      "    ``'*'``         star marker\n",
      "    ``'h'``         hexagon1 marker\n",
      "    ``'H'``         hexagon2 marker\n",
      "    ``'+'``         plus marker\n",
      "    ``'x'``         x marker\n",
      "    ``'X'``         x (filled) marker\n",
      "    ``'D'``         diamond marker\n",
      "    ``'d'``         thin_diamond marker\n",
      "    ``'|'``         vline marker\n",
      "    ``'_'``         hline marker\n",
      "    =============   ===============================\n",
      "    \n",
      "    **Line Styles**\n",
      "    \n",
      "    =============    ===============================\n",
      "    character        description\n",
      "    =============    ===============================\n",
      "    ``'-'``          solid line style\n",
      "    ``'--'``         dashed line style\n",
      "    ``'-.'``         dash-dot line style\n",
      "    ``':'``          dotted line style\n",
      "    =============    ===============================\n",
      "    \n",
      "    Example format strings::\n",
      "    \n",
      "        'b'    # blue markers with default shape\n",
      "        'or'   # red circles\n",
      "        '-g'   # green solid line\n",
      "        '--'   # dashed line with default color\n",
      "        '^k:'  # black triangle_up markers connected by a dotted line\n",
      "    \n",
      "    **Colors**\n",
      "    \n",
      "    The supported color abbreviations are the single letter codes\n",
      "    \n",
      "    =============    ===============================\n",
      "    character        color\n",
      "    =============    ===============================\n",
      "    ``'b'``          blue\n",
      "    ``'g'``          green\n",
      "    ``'r'``          red\n",
      "    ``'c'``          cyan\n",
      "    ``'m'``          magenta\n",
      "    ``'y'``          yellow\n",
      "    ``'k'``          black\n",
      "    ``'w'``          white\n",
      "    =============    ===============================\n",
      "    \n",
      "    and the ``'CN'`` colors that index into the default property cycle.\n",
      "    \n",
      "    If the color is the only part of the format string, you can\n",
      "    additionally use any  `matplotlib.colors` spec, e.g. full names\n",
      "    (``'green'``) or hex strings (``'#008000'``).\n",
      "\n"
     ]
    }
   ],
   "source": [
    "# help de la función plt.plot()\n",
    "help(plt.plot)"
   ]
  },
  {
   "cell_type": "markdown",
   "id": "1c7c07e9-eb41-4080-b5f2-ab6e7fc2ffce",
   "metadata": {
    "id": "1c7c07e9-eb41-4080-b5f2-ab6e7fc2ffce"
   },
   "source": [
    "Entonces, para graficar las funciones seno y coseno, necesitamos generar un vector de abscisas (x), y otro vector de ordenadas (y).\n",
    "\n",
    "Acá es donde el papel de NumPy se vuelve relevante..."
   ]
  },
  {
   "cell_type": "code",
   "execution_count": null,
   "id": "efc35e89-1393-4369-bfe0-a002a8508538",
   "metadata": {
    "id": "efc35e89-1393-4369-bfe0-a002a8508538"
   },
   "outputs": [],
   "source": [
    "# Importar numpy\n",
    "import numpy as np"
   ]
  },
  {
   "cell_type": "code",
   "execution_count": null,
   "id": "69960308-98ff-45f4-b8b8-da9d26e92ce8",
   "metadata": {
    "id": "69960308-98ff-45f4-b8b8-da9d26e92ce8",
    "outputId": "e31176d1-de5e-4664-cd45-b734d65b6968",
    "scrolled": true
   },
   "outputs": [
    {
     "name": "stdout",
     "output_type": "stream",
     "text": [
      "Help on function linspace in module numpy:\n",
      "\n",
      "linspace(start, stop, num=50, endpoint=True, retstep=False, dtype=None, axis=0)\n",
      "    Return evenly spaced numbers over a specified interval.\n",
      "    \n",
      "    Returns `num` evenly spaced samples, calculated over the\n",
      "    interval [`start`, `stop`].\n",
      "    \n",
      "    The endpoint of the interval can optionally be excluded.\n",
      "    \n",
      "    .. versionchanged:: 1.16.0\n",
      "        Non-scalar `start` and `stop` are now supported.\n",
      "    \n",
      "    .. versionchanged:: 1.20.0\n",
      "        Values are rounded towards ``-inf`` instead of ``0`` when an\n",
      "        integer ``dtype`` is specified. The old behavior can\n",
      "        still be obtained with ``np.linspace(start, stop, num).astype(int)``\n",
      "    \n",
      "    Parameters\n",
      "    ----------\n",
      "    start : array_like\n",
      "        The starting value of the sequence.\n",
      "    stop : array_like\n",
      "        The end value of the sequence, unless `endpoint` is set to False.\n",
      "        In that case, the sequence consists of all but the last of ``num + 1``\n",
      "        evenly spaced samples, so that `stop` is excluded.  Note that the step\n",
      "        size changes when `endpoint` is False.\n",
      "    num : int, optional\n",
      "        Number of samples to generate. Default is 50. Must be non-negative.\n",
      "    endpoint : bool, optional\n",
      "        If True, `stop` is the last sample. Otherwise, it is not included.\n",
      "        Default is True.\n",
      "    retstep : bool, optional\n",
      "        If True, return (`samples`, `step`), where `step` is the spacing\n",
      "        between samples.\n",
      "    dtype : dtype, optional\n",
      "        The type of the output array.  If `dtype` is not given, the data type\n",
      "        is inferred from `start` and `stop`. The inferred dtype will never be\n",
      "        an integer; `float` is chosen even if the arguments would produce an\n",
      "        array of integers.\n",
      "    \n",
      "        .. versionadded:: 1.9.0\n",
      "    \n",
      "    axis : int, optional\n",
      "        The axis in the result to store the samples.  Relevant only if start\n",
      "        or stop are array-like.  By default (0), the samples will be along a\n",
      "        new axis inserted at the beginning. Use -1 to get an axis at the end.\n",
      "    \n",
      "        .. versionadded:: 1.16.0\n",
      "    \n",
      "    Returns\n",
      "    -------\n",
      "    samples : ndarray\n",
      "        There are `num` equally spaced samples in the closed interval\n",
      "        ``[start, stop]`` or the half-open interval ``[start, stop)``\n",
      "        (depending on whether `endpoint` is True or False).\n",
      "    step : float, optional\n",
      "        Only returned if `retstep` is True\n",
      "    \n",
      "        Size of spacing between samples.\n",
      "    \n",
      "    \n",
      "    See Also\n",
      "    --------\n",
      "    arange : Similar to `linspace`, but uses a step size (instead of the\n",
      "             number of samples).\n",
      "    geomspace : Similar to `linspace`, but with numbers spaced evenly on a log\n",
      "                scale (a geometric progression).\n",
      "    logspace : Similar to `geomspace`, but with the end points specified as\n",
      "               logarithms.\n",
      "    \n",
      "    Examples\n",
      "    --------\n",
      "    >>> np.linspace(2.0, 3.0, num=5)\n",
      "    array([2.  , 2.25, 2.5 , 2.75, 3.  ])\n",
      "    >>> np.linspace(2.0, 3.0, num=5, endpoint=False)\n",
      "    array([2. ,  2.2,  2.4,  2.6,  2.8])\n",
      "    >>> np.linspace(2.0, 3.0, num=5, retstep=True)\n",
      "    (array([2.  ,  2.25,  2.5 ,  2.75,  3.  ]), 0.25)\n",
      "    \n",
      "    Graphical illustration:\n",
      "    \n",
      "    >>> import matplotlib.pyplot as plt\n",
      "    >>> N = 8\n",
      "    >>> y = np.zeros(N)\n",
      "    >>> x1 = np.linspace(0, 10, N, endpoint=True)\n",
      "    >>> x2 = np.linspace(0, 10, N, endpoint=False)\n",
      "    >>> plt.plot(x1, y, 'o')\n",
      "    [<matplotlib.lines.Line2D object at 0x...>]\n",
      "    >>> plt.plot(x2, y + 0.5, 'o')\n",
      "    [<matplotlib.lines.Line2D object at 0x...>]\n",
      "    >>> plt.ylim([-0.5, 1])\n",
      "    (-0.5, 1)\n",
      "    >>> plt.show()\n",
      "\n"
     ]
    }
   ],
   "source": [
    "# help de la función np.linspace\n",
    "help(np.linspace)"
   ]
  },
  {
   "cell_type": "markdown",
   "id": "30e33e0b-2647-486c-a469-656fe7677d90",
   "metadata": {
    "id": "30e33e0b-2647-486c-a469-656fe7677d90"
   },
   "source": [
    "Con lo anterior:"
   ]
  },
  {
   "cell_type": "code",
   "execution_count": null,
   "id": "f7354ad2-25cf-4897-80ff-9950756801b4",
   "metadata": {
    "id": "f7354ad2-25cf-4897-80ff-9950756801b4",
    "outputId": "f2d4487d-c419-4a7c-e9b7-daa9370b4648"
   },
   "outputs": [
    {
     "data": {
      "text/plain": [
       "array([ 0.        ,  0.1010101 ,  0.2020202 ,  0.3030303 ,  0.4040404 ,\n",
       "        0.50505051,  0.60606061,  0.70707071,  0.80808081,  0.90909091,\n",
       "        1.01010101,  1.11111111,  1.21212121,  1.31313131,  1.41414141,\n",
       "        1.51515152,  1.61616162,  1.71717172,  1.81818182,  1.91919192,\n",
       "        2.02020202,  2.12121212,  2.22222222,  2.32323232,  2.42424242,\n",
       "        2.52525253,  2.62626263,  2.72727273,  2.82828283,  2.92929293,\n",
       "        3.03030303,  3.13131313,  3.23232323,  3.33333333,  3.43434343,\n",
       "        3.53535354,  3.63636364,  3.73737374,  3.83838384,  3.93939394,\n",
       "        4.04040404,  4.14141414,  4.24242424,  4.34343434,  4.44444444,\n",
       "        4.54545455,  4.64646465,  4.74747475,  4.84848485,  4.94949495,\n",
       "        5.05050505,  5.15151515,  5.25252525,  5.35353535,  5.45454545,\n",
       "        5.55555556,  5.65656566,  5.75757576,  5.85858586,  5.95959596,\n",
       "        6.06060606,  6.16161616,  6.26262626,  6.36363636,  6.46464646,\n",
       "        6.56565657,  6.66666667,  6.76767677,  6.86868687,  6.96969697,\n",
       "        7.07070707,  7.17171717,  7.27272727,  7.37373737,  7.47474747,\n",
       "        7.57575758,  7.67676768,  7.77777778,  7.87878788,  7.97979798,\n",
       "        8.08080808,  8.18181818,  8.28282828,  8.38383838,  8.48484848,\n",
       "        8.58585859,  8.68686869,  8.78787879,  8.88888889,  8.98989899,\n",
       "        9.09090909,  9.19191919,  9.29292929,  9.39393939,  9.49494949,\n",
       "        9.5959596 ,  9.6969697 ,  9.7979798 ,  9.8989899 , 10.        ])"
      ]
     },
     "execution_count": 54,
     "metadata": {},
     "output_type": "execute_result"
    }
   ],
   "source": [
    "# Crear un vector x que vaya desde 0 hasta 10\n",
    "x = np.linspace(0, 10, 100)\n",
    "x"
   ]
  },
  {
   "cell_type": "code",
   "execution_count": null,
   "id": "a1749ab8-e2ae-4c4d-96d3-89a9c7b18b0b",
   "metadata": {
    "id": "a1749ab8-e2ae-4c4d-96d3-89a9c7b18b0b",
    "outputId": "80d4d46f-2767-4f20-a6a2-b9cf82f802d6"
   },
   "outputs": [
    {
     "data": {
      "text/plain": [
       "100"
      ]
     },
     "execution_count": 55,
     "metadata": {},
     "output_type": "execute_result"
    }
   ],
   "source": [
    "len(x)"
   ]
  },
  {
   "cell_type": "code",
   "execution_count": null,
   "id": "c09aee8f-555e-4a7f-a79f-2bf9a0ab898f",
   "metadata": {
    "id": "c09aee8f-555e-4a7f-a79f-2bf9a0ab898f"
   },
   "outputs": [],
   "source": [
    "# Evaluar las funciones sin y cos\n",
    "y1 = np.sin(x)\n",
    "y2 = np.cos(x)"
   ]
  },
  {
   "cell_type": "code",
   "execution_count": null,
   "id": "eca04b89-326b-48bf-a013-d1ff3caaed50",
   "metadata": {
    "id": "eca04b89-326b-48bf-a013-d1ff3caaed50",
    "outputId": "7fa81cf7-9fcd-43f4-9970-1a3717d353ab"
   },
   "outputs": [
    {
     "data": {
      "text/plain": [
       "[<matplotlib.lines.Line2D at 0x7f34f6aa8ac0>,\n",
       " <matplotlib.lines.Line2D at 0x7f34f6aa8b20>]"
      ]
     },
     "execution_count": 57,
     "metadata": {},
     "output_type": "execute_result"
    },
    {
     "data": {
      "image/png": "[encoded data removed]",
      "text/plain": [
       "<Figure size 432x288 with 1 Axes>"
      ]
     },
     "metadata": {
      "needs_background": "light"
     },
     "output_type": "display_data"
    }
   ],
   "source": [
    "# Graficar en un mismo gráfico\n",
    "plt.plot(x, y1, x, y2)"
   ]
  },
  {
   "cell_type": "markdown",
   "id": "5da0d09e-378d-40c3-968c-c08c4028d778",
   "metadata": {
    "id": "5da0d09e-378d-40c3-968c-c08c4028d778"
   },
   "source": [
    "¿Qué opciones son útiles?"
   ]
  },
  {
   "cell_type": "code",
   "execution_count": null,
   "id": "5a34017a-677c-45fb-9eb8-a41754fb2ada",
   "metadata": {
    "id": "5a34017a-677c-45fb-9eb8-a41754fb2ada",
    "outputId": "cd28f791-7734-44f0-b506-04af95eb97f0"
   },
   "outputs": [
    {
     "data": {
      "text/plain": [
       "Text(0, 0.5, '$y$')"
      ]
     },
     "execution_count": 58,
     "metadata": {},
     "output_type": "execute_result"
    },
    {
     "data": {
      "image/png": "[encoded data removed]",
      "text/plain": [
       "<Figure size 432x288 with 1 Axes>"
      ]
     },
     "metadata": {
      "needs_background": "light"
     },
     "output_type": "display_data"
    }
   ],
   "source": [
    "# plt.xlabel, plt.ylabel\n",
    "plt.plot(x, y1, x, y2)\n",
    "plt.xlabel(\"$x$\")\n",
    "plt.ylabel(\"$y$\")"
   ]
  },
  {
   "cell_type": "code",
   "execution_count": null,
   "id": "18d392bd-122e-4f15-bb02-676d01b3e448",
   "metadata": {
    "id": "18d392bd-122e-4f15-bb02-676d01b3e448",
    "outputId": "a8a91670-f9c2-4dec-9bfc-7c5eac80bb8b"
   },
   "outputs": [
    {
     "data": {
      "text/plain": [
       "<matplotlib.legend.Legend at 0x7f34f69102e0>"
      ]
     },
     "execution_count": 59,
     "metadata": {},
     "output_type": "execute_result"
    },
    {
     "data": {
      "image/png": "[encoded data removed]",
      "text/plain": [
       "<Figure size 432x288 with 1 Axes>"
      ]
     },
     "metadata": {
      "needs_background": "light"
     },
     "output_type": "display_data"
    }
   ],
   "source": [
    "# plt.legend\n",
    "plt.plot(x, y1, label=\"$\\sin(x)$\")\n",
    "plt.plot(x, y2, label=\"$\\cos(x)$\")\n",
    "plt.xlabel(\"$x$\")\n",
    "plt.ylabel(\"$y$\")\n",
    "plt.legend(loc=\"upper left\", bbox_to_anchor=(1.05, 1))"
   ]
  },
  {
   "cell_type": "code",
   "execution_count": null,
   "id": "046f8832-7d17-45d6-ba94-482c1dbbd9bc",
   "metadata": {
    "id": "046f8832-7d17-45d6-ba94-482c1dbbd9bc",
    "outputId": "5d493e4a-111e-47b3-f5f3-6caf01a3c50b"
   },
   "outputs": [
    {
     "data": {
      "image/png": "[encoded data removed]",
      "text/plain": [
       "<Figure size 432x288 with 1 Axes>"
      ]
     },
     "metadata": {
      "needs_background": "light"
     },
     "output_type": "display_data"
    }
   ],
   "source": [
    "# plt.grid\n",
    "plt.plot(x, y1, color=(0.8, 0.1, 0.8), lw=3, label=\"$\\sin(x)$\")\n",
    "plt.plot(x, y2, \"r*\", ms=2, label=\"$\\cos(x)$\")\n",
    "plt.xlabel(\"$x$\")\n",
    "plt.ylabel(\"$y$\")\n",
    "plt.legend(loc=\"upper left\", bbox_to_anchor=(1.05, 1))\n",
    "plt.grid()"
   ]
  },
  {
   "cell_type": "markdown",
   "id": "3e8332df-2c4a-4b95-ade7-45da68232ad0",
   "metadata": {
    "id": "3e8332df-2c4a-4b95-ade7-45da68232ad0"
   },
   "source": [
    "Muy bien todo lo anterior. Sin embargo, a veces puede ser útil tener gráficos alineados, pero separados.\n",
    "\n",
    "Graficar las funciones seno y coseno en dos gráficos separados pero alineados verticalmente:"
   ]
  },
  {
   "cell_type": "code",
   "execution_count": null,
   "id": "d1d65b29-1ccd-4ba2-8ef0-2a01210a8478",
   "metadata": {
    "id": "d1d65b29-1ccd-4ba2-8ef0-2a01210a8478",
    "outputId": "28ded771-44e1-463b-d9de-e31f6a921974"
   },
   "outputs": [
    {
     "data": {
      "image/png": "[encoded data removed]",
      "text/plain": [
       "<Figure size 432x288 with 2 Axes>"
      ]
     },
     "metadata": {
      "needs_background": "light"
     },
     "output_type": "display_data"
    }
   ],
   "source": [
    "plt.subplot(2, 1, 1)\n",
    "plt.plot(x, y1, color=(0.8, 0.1, 0.8), lw=3)\n",
    "plt.xlabel(\"$x$\")\n",
    "plt.ylabel(\"$y=\\sin(x)$\")\n",
    "plt.grid()\n",
    "plt.subplot(2, 1, 2)\n",
    "plt.plot(x, y2, \"r*\", ms=2)\n",
    "plt.xlabel(\"$x$\")\n",
    "plt.ylabel(\"$y=\\cos(x)$\")\n",
    "plt.grid()"
   ]
  },
  {
   "cell_type": "markdown",
   "id": "5252e5b5-f644-4d65-9d61-bb3d4ce14f92",
   "metadata": {
    "id": "5252e5b5-f644-4d65-9d61-bb3d4ce14f92"
   },
   "source": [
    "# Visualizaciones en Python (Parte I)\n",
    "### Setup para la clase"
   ]
  },
  {
   "cell_type": "code",
   "execution_count": 1,
   "id": "174a71eb-9d54-4297-88b5-89ac39e97f10",
   "metadata": {
    "executionInfo": {
     "elapsed": 958,
     "status": "ok",
     "timestamp": 1645744387707,
     "user": {
      "displayName": "Jaime Alberto Fraustro Valdez",
      "photoUrl": "https://lh3.googleusercontent.com/a-/AOh14GhApH5EfdbdoMlflk2MciPhrBAlNb3-i3z60zClCss=s64",
      "userId": "10236622073644934646"
     },
     "user_tz": 360
    },
    "id": "174a71eb-9d54-4297-88b5-89ac39e97f10"
   },
   "outputs": [],
   "source": [
    "import matplotlib as mpl\n",
    "import matplotlib.pyplot as plt\n",
    "import seaborn as sns\n",
    "import pandas as pd"
   ]
  },
  {
   "cell_type": "code",
   "execution_count": null,
   "id": "a5dab9bc-f78b-46c4-b040-7ba735f5bf39",
   "metadata": {
    "id": "a5dab9bc-f78b-46c4-b040-7ba735f5bf39",
    "outputId": "abbdc692-8428-4824-d6fb-3041a8363c89"
   },
   "outputs": [
    {
     "name": "stdout",
     "output_type": "stream",
     "text": [
      "Requirement already satisfied: seaborn in /mnt/c/Users/betof/OneDrive - Instituto Tecnologico y de Estudios Superiores de Monterrey/Repositorios/prope_programacion/venv/lib/python3.8/site-packages (0.11.2)\n",
      "Requirement already satisfied: scipy>=1.0 in /mnt/c/Users/betof/OneDrive - Instituto Tecnologico y de Estudios Superiores de Monterrey/Repositorios/prope_programacion/venv/lib/python3.8/site-packages (from seaborn) (1.8.0)\n",
      "Requirement already satisfied: pandas>=0.23 in /mnt/c/Users/betof/OneDrive - Instituto Tecnologico y de Estudios Superiores de Monterrey/Repositorios/prope_programacion/venv/lib/python3.8/site-packages (from seaborn) (1.4.0)\n",
      "Requirement already satisfied: numpy>=1.15 in /mnt/c/Users/betof/OneDrive - Instituto Tecnologico y de Estudios Superiores de Monterrey/Repositorios/prope_programacion/venv/lib/python3.8/site-packages (from seaborn) (1.22.2)\n",
      "Requirement already satisfied: matplotlib>=2.2 in /mnt/c/Users/betof/OneDrive - Instituto Tecnologico y de Estudios Superiores de Monterrey/Repositorios/prope_programacion/venv/lib/python3.8/site-packages (from seaborn) (3.5.1)\n",
      "Requirement already satisfied: python-dateutil>=2.8.1 in /mnt/c/Users/betof/OneDrive - Instituto Tecnologico y de Estudios Superiores de Monterrey/Repositorios/prope_programacion/venv/lib/python3.8/site-packages (from pandas>=0.23->seaborn) (2.8.2)\n",
      "Requirement already satisfied: pytz>=2020.1 in /mnt/c/Users/betof/OneDrive - Instituto Tecnologico y de Estudios Superiores de Monterrey/Repositorios/prope_programacion/venv/lib/python3.8/site-packages (from pandas>=0.23->seaborn) (2021.3)\n",
      "Requirement already satisfied: packaging>=20.0 in /mnt/c/Users/betof/OneDrive - Instituto Tecnologico y de Estudios Superiores de Monterrey/Repositorios/prope_programacion/venv/lib/python3.8/site-packages (from matplotlib>=2.2->seaborn) (21.3)\n",
      "Requirement already satisfied: fonttools>=4.22.0 in /mnt/c/Users/betof/OneDrive - Instituto Tecnologico y de Estudios Superiores de Monterrey/Repositorios/prope_programacion/venv/lib/python3.8/site-packages (from matplotlib>=2.2->seaborn) (4.29.1)\n",
      "Requirement already satisfied: kiwisolver>=1.0.1 in /mnt/c/Users/betof/OneDrive - Instituto Tecnologico y de Estudios Superiores de Monterrey/Repositorios/prope_programacion/venv/lib/python3.8/site-packages (from matplotlib>=2.2->seaborn) (1.3.2)\n",
      "Requirement already satisfied: cycler>=0.10 in /mnt/c/Users/betof/OneDrive - Instituto Tecnologico y de Estudios Superiores de Monterrey/Repositorios/prope_programacion/venv/lib/python3.8/site-packages (from matplotlib>=2.2->seaborn) (0.11.0)\n",
      "Requirement already satisfied: pyparsing>=2.2.1 in /mnt/c/Users/betof/OneDrive - Instituto Tecnologico y de Estudios Superiores de Monterrey/Repositorios/prope_programacion/venv/lib/python3.8/site-packages (from matplotlib>=2.2->seaborn) (3.0.7)\n",
      "Requirement already satisfied: pillow>=6.2.0 in /mnt/c/Users/betof/OneDrive - Instituto Tecnologico y de Estudios Superiores de Monterrey/Repositorios/prope_programacion/venv/lib/python3.8/site-packages (from matplotlib>=2.2->seaborn) (9.0.1)\n",
      "Requirement already satisfied: six>=1.5 in /mnt/c/Users/betof/OneDrive - Instituto Tecnologico y de Estudios Superiores de Monterrey/Repositorios/prope_programacion/venv/lib/python3.8/site-packages (from python-dateutil>=2.8.1->pandas>=0.23->seaborn) (1.16.0)\n"
     ]
    }
   ],
   "source": [
    "!pip install seaborn"
   ]
  },
  {
   "cell_type": "code",
   "execution_count": 2,
   "id": "531cac43-f308-415f-ab91-ef3deb586947",
   "metadata": {
    "executionInfo": {
     "elapsed": 121,
     "status": "ok",
     "timestamp": 1645744390335,
     "user": {
      "displayName": "Jaime Alberto Fraustro Valdez",
      "photoUrl": "https://lh3.googleusercontent.com/a-/AOh14GhApH5EfdbdoMlflk2MciPhrBAlNb3-i3z60zClCss=s64",
      "userId": "10236622073644934646"
     },
     "user_tz": 360
    },
    "id": "531cac43-f308-415f-ab91-ef3deb586947"
   },
   "outputs": [],
   "source": [
    "mpl.style.use('bmh')"
   ]
  },
  {
   "cell_type": "markdown",
   "id": "e9187443-af64-40a3-93ef-7eb72136ef21",
   "metadata": {
    "id": "e9187443-af64-40a3-93ef-7eb72136ef21"
   },
   "source": [
    "### Primera toma de contacto"
   ]
  },
  {
   "cell_type": "code",
   "execution_count": null,
   "id": "e53a50e0-bc77-40c6-89d2-4b74a53c1e02",
   "metadata": {
    "id": "e53a50e0-bc77-40c6-89d2-4b74a53c1e02",
    "outputId": "c0c28196-e82d-42b7-fe92-a688532a405e"
   },
   "outputs": [
    {
     "data": {
      "text/plain": [
       "[<matplotlib.lines.Line2D at 0x7f34f685b760>]"
      ]
     },
     "execution_count": 65,
     "metadata": {},
     "output_type": "execute_result"
    },
    {
     "data": {
      "image/png": "[encoded data removed]",
      "text/plain": [
       "<Figure size 432x288 with 1 Axes>"
      ]
     },
     "metadata": {
      "needs_background": "light"
     },
     "output_type": "display_data"
    }
   ],
   "source": [
    "fig, ax = plt.subplots()\n",
    "ax.plot([1, 3], [2, 4])"
   ]
  },
  {
   "cell_type": "code",
   "execution_count": null,
   "id": "47c9b069-f29d-4f4f-9513-9ba0e7cd4c7e",
   "metadata": {
    "id": "47c9b069-f29d-4f4f-9513-9ba0e7cd4c7e",
    "outputId": "c0b3d6cd-f5dd-49ec-b0a7-62fd576732eb"
   },
   "outputs": [
    {
     "data": {
      "text/plain": [
       "[<matplotlib.lines.Line2D at 0x7f34fa751070>]"
      ]
     },
     "execution_count": 66,
     "metadata": {},
     "output_type": "execute_result"
    },
    {
     "data": {
      "image/png": "[encoded data removed]",
      "text/plain": [
       "<Figure size 432x288 with 1 Axes>"
      ]
     },
     "metadata": {
      "needs_background": "light"
     },
     "output_type": "display_data"
    }
   ],
   "source": [
    "plt.plot([1, 3], [2, 4])"
   ]
  },
  {
   "cell_type": "markdown",
   "id": "545affba-7f30-4ef9-9bba-ec4726be9924",
   "metadata": {
    "id": "545affba-7f30-4ef9-9bba-ec4726be9924"
   },
   "source": [
    "### Ejemplo de uso"
   ]
  },
  {
   "cell_type": "code",
   "execution_count": 4,
   "id": "24efc666-b557-44d4-aabd-eac874789e1c",
   "metadata": {
    "colab": {
     "base_uri": "https://localhost:8080/",
     "height": 250
    },
    "executionInfo": {
     "elapsed": 413,
     "status": "ok",
     "timestamp": 1645744400650,
     "user": {
      "displayName": "Jaime Alberto Fraustro Valdez",
      "photoUrl": "https://lh3.googleusercontent.com/a-/AOh14GhApH5EfdbdoMlflk2MciPhrBAlNb3-i3z60zClCss=s64",
      "userId": "10236622073644934646"
     },
     "user_tz": 360
    },
    "id": "24efc666-b557-44d4-aabd-eac874789e1c",
    "outputId": "67ec9ffd-fa70-467a-eb7a-64f89fe2fca3"
   },
   "outputs": [
    {
     "data": {
      "text/html": [
       "\n",
       "  <div id=\"df-af6f0ce9-866a-491d-b412-dbbdf93a358b\">\n",
       "    <div class=\"colab-df-container\">\n",
       "      <div>\n",
       "<style scoped>\n",
       "    .dataframe tbody tr th:only-of-type {\n",
       "        vertical-align: middle;\n",
       "    }\n",
       "\n",
       "    .dataframe tbody tr th {\n",
       "        vertical-align: top;\n",
       "    }\n",
       "\n",
       "    .dataframe thead th {\n",
       "        text-align: right;\n",
       "    }\n",
       "</style>\n",
       "<table border=\"1\" class=\"dataframe\">\n",
       "  <thead>\n",
       "    <tr style=\"text-align: right;\">\n",
       "      <th></th>\n",
       "      <th>Year</th>\n",
       "      <th>Jan</th>\n",
       "      <th>Feb</th>\n",
       "      <th>Mar</th>\n",
       "      <th>Apr</th>\n",
       "      <th>May</th>\n",
       "      <th>Jun</th>\n",
       "      <th>Jul</th>\n",
       "      <th>Aug</th>\n",
       "      <th>Sep</th>\n",
       "      <th>Oct</th>\n",
       "      <th>Nov</th>\n",
       "      <th>Dec</th>\n",
       "    </tr>\n",
       "  </thead>\n",
       "  <tbody>\n",
       "    <tr>\n",
       "      <th>0</th>\n",
       "      <td>1965</td>\n",
       "      <td>0.029</td>\n",
       "      <td>0.069</td>\n",
       "      <td>0.000</td>\n",
       "      <td>21.667</td>\n",
       "      <td>17.859</td>\n",
       "      <td>102.111</td>\n",
       "      <td>606.071</td>\n",
       "      <td>402.521</td>\n",
       "      <td>69.511</td>\n",
       "      <td>5.249</td>\n",
       "      <td>16.232</td>\n",
       "      <td>22.075</td>\n",
       "    </tr>\n",
       "    <tr>\n",
       "      <th>1</th>\n",
       "      <td>1966</td>\n",
       "      <td>0.905</td>\n",
       "      <td>0.000</td>\n",
       "      <td>0.000</td>\n",
       "      <td>2.981</td>\n",
       "      <td>63.008</td>\n",
       "      <td>94.088</td>\n",
       "      <td>481.942</td>\n",
       "      <td>59.386</td>\n",
       "      <td>150.624</td>\n",
       "      <td>1.308</td>\n",
       "      <td>41.214</td>\n",
       "      <td>4.132</td>\n",
       "    </tr>\n",
       "    <tr>\n",
       "      <th>2</th>\n",
       "      <td>1967</td>\n",
       "      <td>0.248</td>\n",
       "      <td>3.390</td>\n",
       "      <td>1.320</td>\n",
       "      <td>13.482</td>\n",
       "      <td>11.116</td>\n",
       "      <td>251.314</td>\n",
       "      <td>780.006</td>\n",
       "      <td>181.069</td>\n",
       "      <td>183.757</td>\n",
       "      <td>50.404</td>\n",
       "      <td>8.393</td>\n",
       "      <td>37.685</td>\n",
       "    </tr>\n",
       "    <tr>\n",
       "      <th>3</th>\n",
       "      <td>1968</td>\n",
       "      <td>0.318</td>\n",
       "      <td>3.035</td>\n",
       "      <td>1.704</td>\n",
       "      <td>23.307</td>\n",
       "      <td>7.441</td>\n",
       "      <td>179.872</td>\n",
       "      <td>379.354</td>\n",
       "      <td>171.979</td>\n",
       "      <td>219.884</td>\n",
       "      <td>73.997</td>\n",
       "      <td>23.326</td>\n",
       "      <td>2.020</td>\n",
       "    </tr>\n",
       "    <tr>\n",
       "      <th>4</th>\n",
       "      <td>1969</td>\n",
       "      <td>0.248</td>\n",
       "      <td>2.524</td>\n",
       "      <td>0.334</td>\n",
       "      <td>4.569</td>\n",
       "      <td>6.213</td>\n",
       "      <td>393.682</td>\n",
       "      <td>678.354</td>\n",
       "      <td>397.335</td>\n",
       "      <td>205.413</td>\n",
       "      <td>24.014</td>\n",
       "      <td>24.385</td>\n",
       "      <td>1.951</td>\n",
       "    </tr>\n",
       "  </tbody>\n",
       "</table>\n",
       "</div>\n",
       "      <button class=\"colab-df-convert\" onclick=\"convertToInteractive('df-af6f0ce9-866a-491d-b412-dbbdf93a358b')\"\n",
       "              title=\"Convert this dataframe to an interactive table.\"\n",
       "              style=\"display:none;\">\n",
       "        \n",
       "  <svg xmlns=\"http://www.w3.org/2000/svg\" height=\"24px\"viewBox=\"0 0 24 24\"\n",
       "       width=\"24px\">\n",
       "    <path d=\"M0 0h24v24H0V0z\" fill=\"none\"/>\n",
       "    <path d=\"M18.56 5.44l.94 2.06.94-2.06 2.06-.94-2.06-.94-.94-2.06-.94 2.06-2.06.94zm-11 1L8.5 8.5l.94-2.06 2.06-.94-2.06-.94L8.5 2.5l-.94 2.06-2.06.94zm10 10l.94 2.06.94-2.06 2.06-.94-2.06-.94-.94-2.06-.94 2.06-2.06.94z\"/><path d=\"M17.41 7.96l-1.37-1.37c-.4-.4-.92-.59-1.43-.59-.52 0-1.04.2-1.43.59L10.3 9.45l-7.72 7.72c-.78.78-.78 2.05 0 2.83L4 21.41c.39.39.9.59 1.41.59.51 0 1.02-.2 1.41-.59l7.78-7.78 2.81-2.81c.8-.78.8-2.07 0-2.86zM5.41 20L4 18.59l7.72-7.72 1.47 1.35L5.41 20z\"/>\n",
       "  </svg>\n",
       "      </button>\n",
       "      \n",
       "  <style>\n",
       "    .colab-df-container {\n",
       "      display:flex;\n",
       "      flex-wrap:wrap;\n",
       "      gap: 12px;\n",
       "    }\n",
       "\n",
       "    .colab-df-convert {\n",
       "      background-color: #E8F0FE;\n",
       "      border: none;\n",
       "      border-radius: 50%;\n",
       "      cursor: pointer;\n",
       "      display: none;\n",
       "      fill: #1967D2;\n",
       "      height: 32px;\n",
       "      padding: 0 0 0 0;\n",
       "      width: 32px;\n",
       "    }\n",
       "\n",
       "    .colab-df-convert:hover {\n",
       "      background-color: #E2EBFA;\n",
       "      box-shadow: 0px 1px 2px rgba(60, 64, 67, 0.3), 0px 1px 3px 1px rgba(60, 64, 67, 0.15);\n",
       "      fill: #174EA6;\n",
       "    }\n",
       "\n",
       "    [theme=dark] .colab-df-convert {\n",
       "      background-color: #3B4455;\n",
       "      fill: #D2E3FC;\n",
       "    }\n",
       "\n",
       "    [theme=dark] .colab-df-convert:hover {\n",
       "      background-color: #434B5C;\n",
       "      box-shadow: 0px 1px 3px 1px rgba(0, 0, 0, 0.15);\n",
       "      filter: drop-shadow(0px 1px 2px rgba(0, 0, 0, 0.3));\n",
       "      fill: #FFFFFF;\n",
       "    }\n",
       "  </style>\n",
       "\n",
       "      <script>\n",
       "        const buttonEl =\n",
       "          document.querySelector('#df-af6f0ce9-866a-491d-b412-dbbdf93a358b button.colab-df-convert');\n",
       "        buttonEl.style.display =\n",
       "          google.colab.kernel.accessAllowed ? 'block' : 'none';\n",
       "\n",
       "        async function convertToInteractive(key) {\n",
       "          const element = document.querySelector('#df-af6f0ce9-866a-491d-b412-dbbdf93a358b');\n",
       "          const dataTable =\n",
       "            await google.colab.kernel.invokeFunction('convertToInteractive',\n",
       "                                                     [key], {});\n",
       "          if (!dataTable) return;\n",
       "\n",
       "          const docLinkHtml = 'Like what you see? Visit the ' +\n",
       "            '<a target=\"_blank\" href=https://colab.research.google.com/notebooks/data_table.ipynb>data table notebook</a>'\n",
       "            + ' to learn more about interactive tables.';\n",
       "          element.innerHTML = '';\n",
       "          dataTable['output_type'] = 'display_data';\n",
       "          await google.colab.output.renderOutput(dataTable, element);\n",
       "          const docLink = document.createElement('div');\n",
       "          docLink.innerHTML = docLinkHtml;\n",
       "          element.appendChild(docLink);\n",
       "        }\n",
       "      </script>\n",
       "    </div>\n",
       "  </div>\n",
       "  "
      ],
      "text/plain": [
       "   Year    Jan    Feb    Mar     Apr  ...      Aug      Sep     Oct     Nov     Dec\n",
       "0  1965  0.029  0.069  0.000  21.667  ...  402.521   69.511   5.249  16.232  22.075\n",
       "1  1966  0.905  0.000  0.000   2.981  ...   59.386  150.624   1.308  41.214   4.132\n",
       "2  1967  0.248  3.390  1.320  13.482  ...  181.069  183.757  50.404   8.393  37.685\n",
       "3  1968  0.318  3.035  1.704  23.307  ...  171.979  219.884  73.997  23.326   2.020\n",
       "4  1969  0.248  2.524  0.334   4.569  ...  397.335  205.413  24.014  24.385   1.951\n",
       "\n",
       "[5 rows x 13 columns]"
      ]
     },
     "execution_count": 4,
     "metadata": {},
     "output_type": "execute_result"
    }
   ],
   "source": [
    "df_lluvias = pd.read_csv('/content/pune_1965_to_2002.csv')\n",
    "df_lluvias.head()"
   ]
  },
  {
   "cell_type": "code",
   "execution_count": 5,
   "id": "87a75376-7a03-4d0f-90bb-b2b6d658771d",
   "metadata": {
    "executionInfo": {
     "elapsed": 4,
     "status": "ok",
     "timestamp": 1645744401844,
     "user": {
      "displayName": "Jaime Alberto Fraustro Valdez",
      "photoUrl": "https://lh3.googleusercontent.com/a-/AOh14GhApH5EfdbdoMlflk2MciPhrBAlNb3-i3z60zClCss=s64",
      "userId": "10236622073644934646"
     },
     "user_tz": 360
    },
    "id": "87a75376-7a03-4d0f-90bb-b2b6d658771d"
   },
   "outputs": [],
   "source": [
    "df_lluvias.index = df_lluvias['Year']\n",
    "df_lluvias = df_lluvias.drop('Year', axis='columns')"
   ]
  },
  {
   "cell_type": "code",
   "execution_count": 6,
   "id": "1d19ac24-ed01-40ec-a6cf-3c2d6f0cba92",
   "metadata": {
    "colab": {
     "base_uri": "https://localhost:8080/",
     "height": 282
    },
    "executionInfo": {
     "elapsed": 446,
     "status": "ok",
     "timestamp": 1645744403368,
     "user": {
      "displayName": "Jaime Alberto Fraustro Valdez",
      "photoUrl": "https://lh3.googleusercontent.com/a-/AOh14GhApH5EfdbdoMlflk2MciPhrBAlNb3-i3z60zClCss=s64",
      "userId": "10236622073644934646"
     },
     "user_tz": 360
    },
    "id": "1d19ac24-ed01-40ec-a6cf-3c2d6f0cba92",
    "outputId": "1b772700-bcac-402d-b241-778bf00c1fc8"
   },
   "outputs": [
    {
     "data": {
      "text/html": [
       "\n",
       "  <div id=\"df-3521fbda-735d-4545-8bb3-0d0ae69c40c9\">\n",
       "    <div class=\"colab-df-container\">\n",
       "      <div>\n",
       "<style scoped>\n",
       "    .dataframe tbody tr th:only-of-type {\n",
       "        vertical-align: middle;\n",
       "    }\n",
       "\n",
       "    .dataframe tbody tr th {\n",
       "        vertical-align: top;\n",
       "    }\n",
       "\n",
       "    .dataframe thead th {\n",
       "        text-align: right;\n",
       "    }\n",
       "</style>\n",
       "<table border=\"1\" class=\"dataframe\">\n",
       "  <thead>\n",
       "    <tr style=\"text-align: right;\">\n",
       "      <th></th>\n",
       "      <th>Jan</th>\n",
       "      <th>Feb</th>\n",
       "      <th>Mar</th>\n",
       "      <th>Apr</th>\n",
       "      <th>May</th>\n",
       "      <th>Jun</th>\n",
       "      <th>Jul</th>\n",
       "      <th>Aug</th>\n",
       "      <th>Sep</th>\n",
       "      <th>Oct</th>\n",
       "      <th>Nov</th>\n",
       "      <th>Dec</th>\n",
       "    </tr>\n",
       "    <tr>\n",
       "      <th>Year</th>\n",
       "      <th></th>\n",
       "      <th></th>\n",
       "      <th></th>\n",
       "      <th></th>\n",
       "      <th></th>\n",
       "      <th></th>\n",
       "      <th></th>\n",
       "      <th></th>\n",
       "      <th></th>\n",
       "      <th></th>\n",
       "      <th></th>\n",
       "      <th></th>\n",
       "    </tr>\n",
       "  </thead>\n",
       "  <tbody>\n",
       "    <tr>\n",
       "      <th>1965</th>\n",
       "      <td>0.029</td>\n",
       "      <td>0.069</td>\n",
       "      <td>0.000</td>\n",
       "      <td>21.667</td>\n",
       "      <td>17.859</td>\n",
       "      <td>102.111</td>\n",
       "      <td>606.071</td>\n",
       "      <td>402.521</td>\n",
       "      <td>69.511</td>\n",
       "      <td>5.249</td>\n",
       "      <td>16.232</td>\n",
       "      <td>22.075</td>\n",
       "    </tr>\n",
       "    <tr>\n",
       "      <th>1966</th>\n",
       "      <td>0.905</td>\n",
       "      <td>0.000</td>\n",
       "      <td>0.000</td>\n",
       "      <td>2.981</td>\n",
       "      <td>63.008</td>\n",
       "      <td>94.088</td>\n",
       "      <td>481.942</td>\n",
       "      <td>59.386</td>\n",
       "      <td>150.624</td>\n",
       "      <td>1.308</td>\n",
       "      <td>41.214</td>\n",
       "      <td>4.132</td>\n",
       "    </tr>\n",
       "    <tr>\n",
       "      <th>1967</th>\n",
       "      <td>0.248</td>\n",
       "      <td>3.390</td>\n",
       "      <td>1.320</td>\n",
       "      <td>13.482</td>\n",
       "      <td>11.116</td>\n",
       "      <td>251.314</td>\n",
       "      <td>780.006</td>\n",
       "      <td>181.069</td>\n",
       "      <td>183.757</td>\n",
       "      <td>50.404</td>\n",
       "      <td>8.393</td>\n",
       "      <td>37.685</td>\n",
       "    </tr>\n",
       "    <tr>\n",
       "      <th>1968</th>\n",
       "      <td>0.318</td>\n",
       "      <td>3.035</td>\n",
       "      <td>1.704</td>\n",
       "      <td>23.307</td>\n",
       "      <td>7.441</td>\n",
       "      <td>179.872</td>\n",
       "      <td>379.354</td>\n",
       "      <td>171.979</td>\n",
       "      <td>219.884</td>\n",
       "      <td>73.997</td>\n",
       "      <td>23.326</td>\n",
       "      <td>2.020</td>\n",
       "    </tr>\n",
       "    <tr>\n",
       "      <th>1969</th>\n",
       "      <td>0.248</td>\n",
       "      <td>2.524</td>\n",
       "      <td>0.334</td>\n",
       "      <td>4.569</td>\n",
       "      <td>6.213</td>\n",
       "      <td>393.682</td>\n",
       "      <td>678.354</td>\n",
       "      <td>397.335</td>\n",
       "      <td>205.413</td>\n",
       "      <td>24.014</td>\n",
       "      <td>24.385</td>\n",
       "      <td>1.951</td>\n",
       "    </tr>\n",
       "  </tbody>\n",
       "</table>\n",
       "</div>\n",
       "      <button class=\"colab-df-convert\" onclick=\"convertToInteractive('df-3521fbda-735d-4545-8bb3-0d0ae69c40c9')\"\n",
       "              title=\"Convert this dataframe to an interactive table.\"\n",
       "              style=\"display:none;\">\n",
       "        \n",
       "  <svg xmlns=\"http://www.w3.org/2000/svg\" height=\"24px\"viewBox=\"0 0 24 24\"\n",
       "       width=\"24px\">\n",
       "    <path d=\"M0 0h24v24H0V0z\" fill=\"none\"/>\n",
       "    <path d=\"M18.56 5.44l.94 2.06.94-2.06 2.06-.94-2.06-.94-.94-2.06-.94 2.06-2.06.94zm-11 1L8.5 8.5l.94-2.06 2.06-.94-2.06-.94L8.5 2.5l-.94 2.06-2.06.94zm10 10l.94 2.06.94-2.06 2.06-.94-2.06-.94-.94-2.06-.94 2.06-2.06.94z\"/><path d=\"M17.41 7.96l-1.37-1.37c-.4-.4-.92-.59-1.43-.59-.52 0-1.04.2-1.43.59L10.3 9.45l-7.72 7.72c-.78.78-.78 2.05 0 2.83L4 21.41c.39.39.9.59 1.41.59.51 0 1.02-.2 1.41-.59l7.78-7.78 2.81-2.81c.8-.78.8-2.07 0-2.86zM5.41 20L4 18.59l7.72-7.72 1.47 1.35L5.41 20z\"/>\n",
       "  </svg>\n",
       "      </button>\n",
       "      \n",
       "  <style>\n",
       "    .colab-df-container {\n",
       "      display:flex;\n",
       "      flex-wrap:wrap;\n",
       "      gap: 12px;\n",
       "    }\n",
       "\n",
       "    .colab-df-convert {\n",
       "      background-color: #E8F0FE;\n",
       "      border: none;\n",
       "      border-radius: 50%;\n",
       "      cursor: pointer;\n",
       "      display: none;\n",
       "      fill: #1967D2;\n",
       "      height: 32px;\n",
       "      padding: 0 0 0 0;\n",
       "      width: 32px;\n",
       "    }\n",
       "\n",
       "    .colab-df-convert:hover {\n",
       "      background-color: #E2EBFA;\n",
       "      box-shadow: 0px 1px 2px rgba(60, 64, 67, 0.3), 0px 1px 3px 1px rgba(60, 64, 67, 0.15);\n",
       "      fill: #174EA6;\n",
       "    }\n",
       "\n",
       "    [theme=dark] .colab-df-convert {\n",
       "      background-color: #3B4455;\n",
       "      fill: #D2E3FC;\n",
       "    }\n",
       "\n",
       "    [theme=dark] .colab-df-convert:hover {\n",
       "      background-color: #434B5C;\n",
       "      box-shadow: 0px 1px 3px 1px rgba(0, 0, 0, 0.15);\n",
       "      filter: drop-shadow(0px 1px 2px rgba(0, 0, 0, 0.3));\n",
       "      fill: #FFFFFF;\n",
       "    }\n",
       "  </style>\n",
       "\n",
       "      <script>\n",
       "        const buttonEl =\n",
       "          document.querySelector('#df-3521fbda-735d-4545-8bb3-0d0ae69c40c9 button.colab-df-convert');\n",
       "        buttonEl.style.display =\n",
       "          google.colab.kernel.accessAllowed ? 'block' : 'none';\n",
       "\n",
       "        async function convertToInteractive(key) {\n",
       "          const element = document.querySelector('#df-3521fbda-735d-4545-8bb3-0d0ae69c40c9');\n",
       "          const dataTable =\n",
       "            await google.colab.kernel.invokeFunction('convertToInteractive',\n",
       "                                                     [key], {});\n",
       "          if (!dataTable) return;\n",
       "\n",
       "          const docLinkHtml = 'Like what you see? Visit the ' +\n",
       "            '<a target=\"_blank\" href=https://colab.research.google.com/notebooks/data_table.ipynb>data table notebook</a>'\n",
       "            + ' to learn more about interactive tables.';\n",
       "          element.innerHTML = '';\n",
       "          dataTable['output_type'] = 'display_data';\n",
       "          await google.colab.output.renderOutput(dataTable, element);\n",
       "          const docLink = document.createElement('div');\n",
       "          docLink.innerHTML = docLinkHtml;\n",
       "          element.appendChild(docLink);\n",
       "        }\n",
       "      </script>\n",
       "    </div>\n",
       "  </div>\n",
       "  "
      ],
      "text/plain": [
       "        Jan    Feb    Mar     Apr  ...      Sep     Oct     Nov     Dec\n",
       "Year                               ...                                 \n",
       "1965  0.029  0.069  0.000  21.667  ...   69.511   5.249  16.232  22.075\n",
       "1966  0.905  0.000  0.000   2.981  ...  150.624   1.308  41.214   4.132\n",
       "1967  0.248  3.390  1.320  13.482  ...  183.757  50.404   8.393  37.685\n",
       "1968  0.318  3.035  1.704  23.307  ...  219.884  73.997  23.326   2.020\n",
       "1969  0.248  2.524  0.334   4.569  ...  205.413  24.014  24.385   1.951\n",
       "\n",
       "[5 rows x 12 columns]"
      ]
     },
     "execution_count": 6,
     "metadata": {},
     "output_type": "execute_result"
    }
   ],
   "source": [
    "df_lluvias.head()"
   ]
  },
  {
   "cell_type": "code",
   "execution_count": 7,
   "id": "52ae157e-58bc-430d-b4ac-28c611b3427a",
   "metadata": {
    "colab": {
     "base_uri": "https://localhost:8080/"
    },
    "executionInfo": {
     "elapsed": 117,
     "status": "ok",
     "timestamp": 1645744404404,
     "user": {
      "displayName": "Jaime Alberto Fraustro Valdez",
      "photoUrl": "https://lh3.googleusercontent.com/a-/AOh14GhApH5EfdbdoMlflk2MciPhrBAlNb3-i3z60zClCss=s64",
      "userId": "10236622073644934646"
     },
     "user_tz": 360
    },
    "id": "52ae157e-58bc-430d-b4ac-28c611b3427a",
    "outputId": "56a90894-cf48-40b3-b8b6-5f318e054937"
   },
   "outputs": [
    {
     "data": {
      "text/plain": [
       "Int64Index([1965, 1966, 1967, 1968, 1969], dtype='int64', name='Year')"
      ]
     },
     "execution_count": 7,
     "metadata": {},
     "output_type": "execute_result"
    }
   ],
   "source": [
    "x = df_lluvias.index\n",
    "x[0:5]"
   ]
  },
  {
   "cell_type": "code",
   "execution_count": 8,
   "id": "f3402475-883c-4668-81b5-d8e020dd41d4",
   "metadata": {
    "colab": {
     "base_uri": "https://localhost:8080/"
    },
    "executionInfo": {
     "elapsed": 106,
     "status": "ok",
     "timestamp": 1645744405569,
     "user": {
      "displayName": "Jaime Alberto Fraustro Valdez",
      "photoUrl": "https://lh3.googleusercontent.com/a-/AOh14GhApH5EfdbdoMlflk2MciPhrBAlNb3-i3z60zClCss=s64",
      "userId": "10236622073644934646"
     },
     "user_tz": 360
    },
    "id": "f3402475-883c-4668-81b5-d8e020dd41d4",
    "outputId": "ad794f01-448d-41fa-f992-2cd2206a8ce5"
   },
   "outputs": [
    {
     "data": {
      "text/plain": [
       "Year\n",
       "1965    1263.394\n",
       "1966     899.588\n",
       "1967    1522.184\n",
       "1968    1086.237\n",
       "1969    1739.022\n",
       "dtype: float64"
      ]
     },
     "execution_count": 8,
     "metadata": {},
     "output_type": "execute_result"
    }
   ],
   "source": [
    "y = df_lluvias.sum(axis='columns')\n",
    "y[0:5]"
   ]
  },
  {
   "cell_type": "code",
   "execution_count": 9,
   "id": "c60d01e9-8eef-44bf-b2dd-c5e37ff0a534",
   "metadata": {
    "colab": {
     "base_uri": "https://localhost:8080/",
     "height": 314
    },
    "executionInfo": {
     "elapsed": 365,
     "status": "ok",
     "timestamp": 1645744407029,
     "user": {
      "displayName": "Jaime Alberto Fraustro Valdez",
      "photoUrl": "https://lh3.googleusercontent.com/a-/AOh14GhApH5EfdbdoMlflk2MciPhrBAlNb3-i3z60zClCss=s64",
      "userId": "10236622073644934646"
     },
     "user_tz": 360
    },
    "id": "c60d01e9-8eef-44bf-b2dd-c5e37ff0a534",
    "outputId": "6857b8bf-7218-46a2-b18b-293deafa3de4"
   },
   "outputs": [
    {
     "data": {
      "text/plain": [
       "<matplotlib.legend.Legend at 0x7fa958449610>"
      ]
     },
     "execution_count": 9,
     "metadata": {},
     "output_type": "execute_result"
    },
    {
     "data": {
      "image/png": "[encoded data removed]",
      "text/plain": [
       "<Figure size 864x288 with 1 Axes>"
      ]
     },
     "metadata": {
      "needs_background": "light"
     },
     "output_type": "display_data"
    }
   ],
   "source": [
    "fig, ax = plt.subplots(figsize=(12, 4))\n",
    "ax.plot(x, y, label='Precipitaciones acumuladas')\n",
    "\n",
    "ax.set_xlabel('Año')  \n",
    "ax.set_ylabel('Precipitación acumulada (mm.)')\n",
    "ax.set_title('Precipitaciones acumuladas según el año')\n",
    "ax.legend()\n"
   ]
  },
  {
   "cell_type": "code",
   "execution_count": 10,
   "id": "e67480d4-a1c3-4c4b-8173-2cf7ee4e95d0",
   "metadata": {
    "colab": {
     "base_uri": "https://localhost:8080/",
     "height": 301
    },
    "executionInfo": {
     "elapsed": 316,
     "status": "ok",
     "timestamp": 1645744408365,
     "user": {
      "displayName": "Jaime Alberto Fraustro Valdez",
      "photoUrl": "https://lh3.googleusercontent.com/a-/AOh14GhApH5EfdbdoMlflk2MciPhrBAlNb3-i3z60zClCss=s64",
      "userId": "10236622073644934646"
     },
     "user_tz": 360
    },
    "id": "e67480d4-a1c3-4c4b-8173-2cf7ee4e95d0",
    "outputId": "ce918311-9a0d-4398-aacf-6cef8affc4d7"
   },
   "outputs": [
    {
     "name": "stderr",
     "output_type": "stream",
     "text": [
      "No handles with labels found to put in legend.\n"
     ]
    },
    {
     "data": {
      "text/plain": [
       "<matplotlib.legend.Legend at 0x7fa958487e10>"
      ]
     },
     "execution_count": 10,
     "metadata": {},
     "output_type": "execute_result"
    },
    {
     "data": {
      "image/png": "[encoded data removed]",
      "text/plain": [
       "<Figure size 864x288 with 1 Axes>"
      ]
     },
     "metadata": {
      "needs_background": "light"
     },
     "output_type": "display_data"
    }
   ],
   "source": [
    "fig, ax = plt.subplots(figsize=(12, 4))\n",
    "ax.legend(loc='upper right')"
   ]
  },
  {
   "cell_type": "code",
   "execution_count": 11,
   "id": "ed385d20-e240-4bb7-a9f1-28080e6e47e3",
   "metadata": {
    "executionInfo": {
     "elapsed": 143,
     "status": "ok",
     "timestamp": 1645744409604,
     "user": {
      "displayName": "Jaime Alberto Fraustro Valdez",
      "photoUrl": "https://lh3.googleusercontent.com/a-/AOh14GhApH5EfdbdoMlflk2MciPhrBAlNb3-i3z60zClCss=s64",
      "userId": "10236622073644934646"
     },
     "user_tz": 360
    },
    "id": "ed385d20-e240-4bb7-a9f1-28080e6e47e3"
   },
   "outputs": [],
   "source": [
    "ax.legend?"
   ]
  },
  {
   "cell_type": "code",
   "execution_count": 12,
   "id": "20287690-aed6-4afb-8594-83dddf345194",
   "metadata": {
    "colab": {
     "base_uri": "https://localhost:8080/"
    },
    "executionInfo": {
     "elapsed": 110,
     "status": "ok",
     "timestamp": 1645744413588,
     "user": {
      "displayName": "Jaime Alberto Fraustro Valdez",
      "photoUrl": "https://lh3.googleusercontent.com/a-/AOh14GhApH5EfdbdoMlflk2MciPhrBAlNb3-i3z60zClCss=s64",
      "userId": "10236622073644934646"
     },
     "user_tz": 360
    },
    "id": "20287690-aed6-4afb-8594-83dddf345194",
    "outputId": "7dd29c15-4dd0-4695-989e-4f6e65f9ad5f"
   },
   "outputs": [
    {
     "data": {
      "text/plain": [
       "(1965.0, 2002.0)"
      ]
     },
     "execution_count": 12,
     "metadata": {},
     "output_type": "execute_result"
    }
   ],
   "source": [
    "ax.set_xlim(df_lluvias.index[0], df_lluvias.index[-1])"
   ]
  },
  {
   "cell_type": "code",
   "execution_count": 15,
   "id": "7981db46-5918-4711-b42d-484d3da410ac",
   "metadata": {
    "executionInfo": {
     "elapsed": 270,
     "status": "ok",
     "timestamp": 1645744458131,
     "user": {
      "displayName": "Jaime Alberto Fraustro Valdez",
      "photoUrl": "https://lh3.googleusercontent.com/a-/AOh14GhApH5EfdbdoMlflk2MciPhrBAlNb3-i3z60zClCss=s64",
      "userId": "10236622073644934646"
     },
     "user_tz": 360
    },
    "id": "7981db46-5918-4711-b42d-484d3da410ac"
   },
   "outputs": [],
   "source": [
    "fig.savefig(\"precipitaciones_año.pdf\")"
   ]
  },
  {
   "cell_type": "markdown",
   "id": "5eb12d9b-9fd6-47a5-8660-d621904242fc",
   "metadata": {
    "id": "5eb12d9b-9fd6-47a5-8660-d621904242fc"
   },
   "source": [
    "## Gráficos más comunes\n",
    "### Gráficos de líneas"
   ]
  },
  {
   "cell_type": "code",
   "execution_count": null,
   "id": "e733081d-0e90-4e4e-95dc-f7fd579a4084",
   "metadata": {
    "id": "e733081d-0e90-4e4e-95dc-f7fd579a4084",
    "outputId": "7f2dfc76-cac0-47b3-9a97-21310fb46b61"
   },
   "outputs": [
    {
     "data": {
      "text/plain": [
       "[<matplotlib.lines.Line2D at 0x7ffb7d836700>]"
      ]
     },
     "execution_count": 59,
     "metadata": {},
     "output_type": "execute_result"
    },
    {
     "data": {
      "image/png": "[encoded data removed]",
      "text/plain": [
       "<Figure size 432x288 with 1 Axes>"
      ]
     },
     "metadata": {
      "needs_background": "light"
     },
     "output_type": "display_data"
    }
   ],
   "source": [
    "fig, ax = plt.subplots()\n",
    "ax.plot([0, 1, 2, 3, 4, 5, 6], [1, 5, 2, 4, 8, 9, 2])"
   ]
  },
  {
   "cell_type": "code",
   "execution_count": null,
   "id": "3dad727e-84a6-4980-90ac-993014c5e5e3",
   "metadata": {
    "id": "3dad727e-84a6-4980-90ac-993014c5e5e3",
    "outputId": "e60271cc-3441-43c2-e90d-23d333abea3d"
   },
   "outputs": [
    {
     "data": {
      "text/plain": [
       "[<matplotlib.lines.Line2D at 0x7ffb7d79eb50>]"
      ]
     },
     "execution_count": 60,
     "metadata": {},
     "output_type": "execute_result"
    },
    {
     "data": {
      "image/png": "[encoded data removed]",
      "text/plain": [
       "<Figure size 432x288 with 1 Axes>"
      ]
     },
     "metadata": {
      "needs_background": "light"
     },
     "output_type": "display_data"
    }
   ],
   "source": [
    "fig, ax = plt.subplots()\n",
    "ax.plot([1, 5, 2, 4, 8, 9, 2])"
   ]
  },
  {
   "cell_type": "markdown",
   "id": "a1b29e9c-e02a-4077-affc-74527e78cd5c",
   "metadata": {
    "id": "a1b29e9c-e02a-4077-affc-74527e78cd5c"
   },
   "source": [
    "### Gráficos de puntos"
   ]
  },
  {
   "cell_type": "code",
   "execution_count": null,
   "id": "093f90ff-384e-45cf-8be3-afff1eef06f7",
   "metadata": {
    "id": "093f90ff-384e-45cf-8be3-afff1eef06f7"
   },
   "outputs": [],
   "source": [
    "pesos = [42.8, 43.3, 42. , 44. , 44.1, 43.5, 48.1, 48.9, 47.7,46.9,50.4,\n",
    "       52.7, 51.8, 54.5, 54.2, 56.9, 55.4, 55.5, 57.1, 58.3, 63.7, 58.8,\n",
    "       64.6, 60.2, 64. , 63.8, 61.4, 66.3, 64.7, 63.9, 69.3, 67.9, 65.2,\n",
    "       70.8, 70.5, 69.3, 75.3, 75.5, 78.2, 78. , 73.2, 78. , 80.1, 78.2,\n",
    "       76. , 81.5, 79.4, 81.8, 81.8, 84.1]\n",
    "alturas = [149. , 149. , 149.9, 156.8, 150.6, 155.4, 151. , 162. , 165.,\n",
    "       157.8, 164.4, 160.1, 160.8, 163.8, 175.2, 162. , 159.5, 159.2,\n",
    "       169.8, 166.7, 179.4, 180.6, 163.3, 178.8, 176.3, 184.8, 181. ,\n",
    "       170.5, 184.1, 187.1, 187.1, 177.7, 184.5, 190.3, 196. , 192.1,\n",
    "       200.4, 201.8, 187.5, 202.1, 200.3, 208.8, 204.6, 193.5, 200.9,\n",
    "       196.8, 213.1, 204.8, 215.5, 210.2] \n"
   ]
  },
  {
   "cell_type": "code",
   "execution_count": null,
   "id": "3a01a654-7e50-4cd8-85bd-b84592977936",
   "metadata": {
    "id": "3a01a654-7e50-4cd8-85bd-b84592977936",
    "outputId": "ece199a5-ccc2-4612-90b6-9ed65481c3e3"
   },
   "outputs": [
    {
     "data": {
      "text/plain": [
       "Text(0, 0.5, 'Peso (kg.)')"
      ]
     },
     "execution_count": 62,
     "metadata": {},
     "output_type": "execute_result"
    },
    {
     "data": {
      "image/png": "[encoded data removed]",
      "text/plain": [
       "<Figure size 432x288 with 1 Axes>"
      ]
     },
     "metadata": {
      "needs_background": "light"
     },
     "output_type": "display_data"
    }
   ],
   "source": [
    "fig, ax = plt.subplots()\n",
    "ax.scatter(alturas, pesos, alpha=0.7)\n",
    "ax.set_title('Altura vs. Peso de 50 alumnos')\n",
    "ax.set_xlabel('Altura (cm.)')\n",
    "ax.set_ylabel('Peso (kg.)')"
   ]
  },
  {
   "cell_type": "code",
   "execution_count": 14,
   "id": "c4614d29-4115-46f0-818b-79e4ad71fc44",
   "metadata": {
    "colab": {
     "base_uri": "https://localhost:8080/",
     "height": 314
    },
    "executionInfo": {
     "elapsed": 535,
     "status": "ok",
     "timestamp": 1645744450812,
     "user": {
      "displayName": "Jaime Alberto Fraustro Valdez",
      "photoUrl": "https://lh3.googleusercontent.com/a-/AOh14GhApH5EfdbdoMlflk2MciPhrBAlNb3-i3z60zClCss=s64",
      "userId": "10236622073644934646"
     },
     "user_tz": 360
    },
    "id": "c4614d29-4115-46f0-818b-79e4ad71fc44",
    "outputId": "69c06938-236c-41b6-ddda-6e0339b6b350"
   },
   "outputs": [
    {
     "data": {
      "text/plain": [
       "Text(0, 0.5, 'Precipitaciones en Septiembre (mm.)')"
      ]
     },
     "execution_count": 14,
     "metadata": {},
     "output_type": "execute_result"
    },
    {
     "data": {
      "image/png": "[encoded data removed]",
      "text/plain": [
       "<Figure size 432x288 with 2 Axes>"
      ]
     },
     "metadata": {
      "needs_background": "light"
     },
     "output_type": "display_data"
    }
   ],
   "source": [
    "fig, ax = plt.subplots()  \n",
    "mapeo_colores = ax.scatter(df_lluvias['Aug'], df_lluvias['Sep'], c=df_lluvias.index)\n",
    "fig.colorbar(mapeo_colores)\n",
    "ax.set_title('Precipitaciones Agosto-Septiembre')\n",
    "ax.set_xlabel('Precipitaciones en Agosto (mm.)')\n",
    "ax.set_ylabel('Precipitaciones en Septiembre (mm.)')"
   ]
  },
  {
   "cell_type": "markdown",
   "id": "cebe9658-e78c-43c5-9a29-6e621735fbc0",
   "metadata": {
    "id": "cebe9658-e78c-43c5-9a29-6e621735fbc0"
   },
   "source": [
    "### Gráficos de barras"
   ]
  },
  {
   "cell_type": "code",
   "execution_count": null,
   "id": "da4ce1dd-48f8-454b-9a82-a2636ad99b01",
   "metadata": {
    "id": "da4ce1dd-48f8-454b-9a82-a2636ad99b01",
    "outputId": "a0d2a951-5c18-487c-85c7-b7defd1869f8"
   },
   "outputs": [
    {
     "ename": "NameError",
     "evalue": "name 'df_lluvias' is not defined",
     "output_type": "error",
     "traceback": [
      "\u001b[0;31m---------------------------------------------------------------------------\u001b[0m",
      "\u001b[0;31mNameError\u001b[0m                                 Traceback (most recent call last)",
      "Input \u001b[0;32mIn [64]\u001b[0m, in \u001b[0;36m<module>\u001b[0;34m\u001b[0m\n\u001b[0;32m----> 1\u001b[0m precipitaciones_acumuladas \u001b[38;5;241m=\u001b[39m \u001b[43mdf_lluvias\u001b[49m\u001b[38;5;241m.\u001b[39msum()\n\u001b[1;32m      2\u001b[0m precipitaciones_acumuladas\n",
      "\u001b[0;31mNameError\u001b[0m: name 'df_lluvias' is not defined"
     ]
    }
   ],
   "source": [
    "precipitaciones_acumuladas = df_lluvias.sum()\n",
    "precipitaciones_acumuladas"
   ]
  },
  {
   "cell_type": "code",
   "execution_count": null,
   "id": "8714fa01-24c9-45af-a40c-d47bfaabd5fa",
   "metadata": {
    "id": "8714fa01-24c9-45af-a40c-d47bfaabd5fa",
    "outputId": "de7bf9f8-93b8-40d4-c8d6-b2db5f95ce1c"
   },
   "outputs": [
    {
     "ename": "NameError",
     "evalue": "name 'df_lluvias' is not defined",
     "output_type": "error",
     "traceback": [
      "\u001b[0;31m---------------------------------------------------------------------------\u001b[0m",
      "\u001b[0;31mNameError\u001b[0m                                 Traceback (most recent call last)",
      "Input \u001b[0;32mIn [65]\u001b[0m, in \u001b[0;36m<module>\u001b[0;34m\u001b[0m\n\u001b[1;32m      1\u001b[0m fig, ax \u001b[38;5;241m=\u001b[39m plt\u001b[38;5;241m.\u001b[39msubplots(figsize\u001b[38;5;241m=\u001b[39m(\u001b[38;5;241m8\u001b[39m,\u001b[38;5;241m4\u001b[39m))\n\u001b[0;32m----> 2\u001b[0m precipitaciones_acumuladas \u001b[38;5;241m=\u001b[39m \u001b[43mdf_lluvias\u001b[49m\u001b[38;5;241m.\u001b[39msum()\n\u001b[1;32m      3\u001b[0m ax\u001b[38;5;241m.\u001b[39mbar(df_lluvias\u001b[38;5;241m.\u001b[39mcolumns, precipitaciones_acumuladas)\n\u001b[1;32m      4\u001b[0m ax\u001b[38;5;241m.\u001b[39mset_title(\u001b[38;5;124m'\u001b[39m\u001b[38;5;124mPrecipitaciones acumuladas desde 1965 a 2002, según el mes\u001b[39m\u001b[38;5;124m'\u001b[39m)\n",
      "\u001b[0;31mNameError\u001b[0m: name 'df_lluvias' is not defined"
     ]
    },
    {
     "data": {
      "image/png": "[encoded data removed]",
      "text/plain": [
       "<Figure size 576x288 with 1 Axes>"
      ]
     },
     "metadata": {
      "needs_background": "light"
     },
     "output_type": "display_data"
    }
   ],
   "source": [
    "fig, ax = plt.subplots(figsize=(8,4))\n",
    "precipitaciones_acumuladas = df_lluvias.sum()\n",
    "ax.bar(df_lluvias.columns, precipitaciones_acumuladas)\n",
    "ax.set_title('Precipitaciones acumuladas desde 1965 a 2002, según el mes')\n",
    "ax.set_ylabel('Precipitación total (mm.)')\n",
    "ax.set_xlabel('Mes')"
   ]
  },
  {
   "cell_type": "markdown",
   "id": "be999241-47c5-46e7-bc84-b3a4ce2b591a",
   "metadata": {
    "id": "be999241-47c5-46e7-bc84-b3a4ce2b591a"
   },
   "source": [
    "### Histograma"
   ]
  },
  {
   "cell_type": "code",
   "execution_count": null,
   "id": "28b02b65-185f-489d-90d7-b2f33591fa2e",
   "metadata": {
    "id": "28b02b65-185f-489d-90d7-b2f33591fa2e",
    "outputId": "d146045e-49f5-4008-d5ee-a8892155e60c"
   },
   "outputs": [
    {
     "ename": "NameError",
     "evalue": "name 'df_lluvias' is not defined",
     "output_type": "error",
     "traceback": [
      "\u001b[0;31m---------------------------------------------------------------------------\u001b[0m",
      "\u001b[0;31mNameError\u001b[0m                                 Traceback (most recent call last)",
      "Input \u001b[0;32mIn [66]\u001b[0m, in \u001b[0;36m<module>\u001b[0;34m\u001b[0m\n\u001b[0;32m----> 1\u001b[0m \u001b[43mdf_lluvias\u001b[49m\u001b[38;5;241m.\u001b[39mvalues\u001b[38;5;241m.\u001b[39mflatten()\n",
      "\u001b[0;31mNameError\u001b[0m: name 'df_lluvias' is not defined"
     ]
    }
   ],
   "source": [
    "df_lluvias.values.flatten()"
   ]
  },
  {
   "cell_type": "code",
   "execution_count": null,
   "id": "d980b118-abf1-4a04-bea9-e998873ca2f9",
   "metadata": {
    "id": "d980b118-abf1-4a04-bea9-e998873ca2f9",
    "outputId": "aec70336-879f-4504-f8f3-660fbd299abf"
   },
   "outputs": [
    {
     "ename": "NameError",
     "evalue": "name 'df_lluvias' is not defined",
     "output_type": "error",
     "traceback": [
      "\u001b[0;31m---------------------------------------------------------------------------\u001b[0m",
      "\u001b[0;31mNameError\u001b[0m                                 Traceback (most recent call last)",
      "Input \u001b[0;32mIn [67]\u001b[0m, in \u001b[0;36m<module>\u001b[0;34m\u001b[0m\n\u001b[1;32m      1\u001b[0m fig, ax \u001b[38;5;241m=\u001b[39m plt\u001b[38;5;241m.\u001b[39msubplots(figsize\u001b[38;5;241m=\u001b[39m(\u001b[38;5;241m8\u001b[39m, \u001b[38;5;241m4\u001b[39m))\n\u001b[0;32m----> 2\u001b[0m ax\u001b[38;5;241m.\u001b[39mhist(\u001b[43mdf_lluvias\u001b[49m\u001b[38;5;241m.\u001b[39mvalues\u001b[38;5;241m.\u001b[39mflatten(), bins\u001b[38;5;241m=\u001b[39m\u001b[38;5;241m10\u001b[39m)\n\u001b[1;32m      3\u001b[0m ax\u001b[38;5;241m.\u001b[39mset_title(\u001b[38;5;124m'\u001b[39m\u001b[38;5;124mHistograma de precipitaciones\u001b[39m\u001b[38;5;124m'\u001b[39m)\n\u001b[1;32m      4\u001b[0m ax\u001b[38;5;241m.\u001b[39mset_xlabel(\u001b[38;5;124m'\u001b[39m\u001b[38;5;124mIntervalos de precipitaciones (mm.)\u001b[39m\u001b[38;5;124m'\u001b[39m)\n",
      "\u001b[0;31mNameError\u001b[0m: name 'df_lluvias' is not defined"
     ]
    },
    {
     "data": {
      "image/png": "[encoded data removed]",
      "text/plain": [
       "<Figure size 576x288 with 1 Axes>"
      ]
     },
     "metadata": {
      "needs_background": "light"
     },
     "output_type": "display_data"
    }
   ],
   "source": [
    "fig, ax = plt.subplots(figsize=(8, 4))\n",
    "ax.hist(df_lluvias.values.flatten(), bins=10)\n",
    "ax.set_title('Histograma de precipitaciones')\n",
    "ax.set_xlabel('Intervalos de precipitaciones (mm.)')\n",
    "ax.set_ylabel('Frecuencia absoluta')"
   ]
  },
  {
   "cell_type": "markdown",
   "id": "5bdcf35b-b3ab-46b1-83e1-543e7a19c6d5",
   "metadata": {
    "id": "5bdcf35b-b3ab-46b1-83e1-543e7a19c6d5"
   },
   "source": [
    "### Múltiples elementos"
   ]
  },
  {
   "cell_type": "code",
   "execution_count": null,
   "id": "99cc8d56-98ff-4a5c-a549-39d1cf7d6e02",
   "metadata": {
    "id": "99cc8d56-98ff-4a5c-a549-39d1cf7d6e02",
    "outputId": "fa9ef99a-65ee-41dc-99b3-97a30c674c19"
   },
   "outputs": [
    {
     "ename": "NameError",
     "evalue": "name 'df_lluvias' is not defined",
     "output_type": "error",
     "traceback": [
      "\u001b[0;31m---------------------------------------------------------------------------\u001b[0m",
      "\u001b[0;31mNameError\u001b[0m                                 Traceback (most recent call last)",
      "Input \u001b[0;32mIn [68]\u001b[0m, in \u001b[0;36m<module>\u001b[0;34m\u001b[0m\n\u001b[1;32m      1\u001b[0m fig, ax \u001b[38;5;241m=\u001b[39m plt\u001b[38;5;241m.\u001b[39msubplots(figsize\u001b[38;5;241m=\u001b[39m(\u001b[38;5;241m12\u001b[39m, \u001b[38;5;241m3\u001b[39m))  \n\u001b[0;32m----> 2\u001b[0m ax\u001b[38;5;241m.\u001b[39mplot(\u001b[43mdf_lluvias\u001b[49m\u001b[38;5;241m.\u001b[39mindex, df[\u001b[38;5;124m'\u001b[39m\u001b[38;5;124mJan\u001b[39m\u001b[38;5;124m'\u001b[39m], label\u001b[38;5;241m=\u001b[39m\u001b[38;5;124m'\u001b[39m\u001b[38;5;124mPrecipitaciones de enero\u001b[39m\u001b[38;5;124m'\u001b[39m)\n\u001b[1;32m      3\u001b[0m ax\u001b[38;5;241m.\u001b[39mplot(df_lluvias\u001b[38;5;241m.\u001b[39mindex, df[\u001b[38;5;124m'\u001b[39m\u001b[38;5;124mFeb\u001b[39m\u001b[38;5;124m'\u001b[39m], label\u001b[38;5;241m=\u001b[39m\u001b[38;5;124m'\u001b[39m\u001b[38;5;124mPrecipitaciones de febrero\u001b[39m\u001b[38;5;124m'\u001b[39m, color\u001b[38;5;241m=\u001b[39m\u001b[38;5;124m'\u001b[39m\u001b[38;5;124mC1\u001b[39m\u001b[38;5;124m'\u001b[39m)\n",
      "\u001b[0;31mNameError\u001b[0m: name 'df_lluvias' is not defined"
     ]
    },
    {
     "data": {
      "image/png": "[encoded data removed]",
      "text/plain": [
       "<Figure size 864x216 with 1 Axes>"
      ]
     },
     "metadata": {
      "needs_background": "light"
     },
     "output_type": "display_data"
    }
   ],
   "source": [
    "fig, ax = plt.subplots(figsize=(12, 3))  \n",
    "ax.plot(df_lluvias.index, df_lluvias['Jan'], label='Precipitaciones de enero')\n",
    "ax.plot(df_lluvias.index, df_lluvias['Feb'], label='Precipitaciones de febrero', color='C1')"
   ]
  },
  {
   "cell_type": "code",
   "execution_count": null,
   "id": "c75d35d6-5f6c-4a2d-b01e-1744f0bea0e6",
   "metadata": {
    "id": "c75d35d6-5f6c-4a2d-b01e-1744f0bea0e6",
    "outputId": "966cf538-245f-4495-9166-ab556d5dd4e2"
   },
   "outputs": [
    {
     "ename": "NameError",
     "evalue": "name 'df_lluvias' is not defined",
     "output_type": "error",
     "traceback": [
      "\u001b[0;31m---------------------------------------------------------------------------\u001b[0m",
      "\u001b[0;31mNameError\u001b[0m                                 Traceback (most recent call last)",
      "Input \u001b[0;32mIn [69]\u001b[0m, in \u001b[0;36m<module>\u001b[0;34m\u001b[0m\n\u001b[0;32m----> 1\u001b[0m maximo_enero \u001b[38;5;241m=\u001b[39m \u001b[43mdf_lluvias\u001b[49m[\u001b[38;5;124m'\u001b[39m\u001b[38;5;124mJan\u001b[39m\u001b[38;5;124m'\u001b[39m]\u001b[38;5;241m.\u001b[39mmax()\n\u001b[1;32m      2\u001b[0m maximo_febrero \u001b[38;5;241m=\u001b[39m  df_lluvias[\u001b[38;5;124m'\u001b[39m\u001b[38;5;124mFeb\u001b[39m\u001b[38;5;124m'\u001b[39m]\u001b[38;5;241m.\u001b[39mmax()\n",
      "\u001b[0;31mNameError\u001b[0m: name 'df_lluvias' is not defined"
     ]
    }
   ],
   "source": [
    "maximo_enero = df_lluvias['Jan'].max()\n",
    "maximo_febrero =  df_lluvias['Feb'].max()"
   ]
  },
  {
   "cell_type": "code",
   "execution_count": null,
   "id": "57ef6693-0bd8-4239-b3e8-6282f95a50f8",
   "metadata": {
    "id": "57ef6693-0bd8-4239-b3e8-6282f95a50f8",
    "outputId": "6062c54c-3c03-41b6-a51b-f1a95327b29e"
   },
   "outputs": [
    {
     "ename": "NameError",
     "evalue": "name 'maximo_enero' is not defined",
     "output_type": "error",
     "traceback": [
      "\u001b[0;31m---------------------------------------------------------------------------\u001b[0m",
      "\u001b[0;31mNameError\u001b[0m                                 Traceback (most recent call last)",
      "Input \u001b[0;32mIn [70]\u001b[0m, in \u001b[0;36m<module>\u001b[0;34m\u001b[0m\n\u001b[0;32m----> 1\u001b[0m ax\u001b[38;5;241m.\u001b[39maxhline(\u001b[43mmaximo_enero\u001b[49m, color\u001b[38;5;241m=\u001b[39m\u001b[38;5;124m'\u001b[39m\u001b[38;5;124mred\u001b[39m\u001b[38;5;124m'\u001b[39m, linestyle\u001b[38;5;241m=\u001b[39m\u001b[38;5;124m'\u001b[39m\u001b[38;5;124m--\u001b[39m\u001b[38;5;124m'\u001b[39m, alpha\u001b[38;5;241m=\u001b[39m\u001b[38;5;241m0.5\u001b[39m,    linewidth\u001b[38;5;241m=\u001b[39m\u001b[38;5;241m3\u001b[39m, label\u001b[38;5;241m=\u001b[39m\u001b[38;5;124m'\u001b[39m\u001b[38;5;124mMáxima de enero\u001b[39m\u001b[38;5;124m'\u001b[39m)\n\u001b[1;32m      2\u001b[0m ax\u001b[38;5;241m.\u001b[39maxhline(maximo_febrero, color\u001b[38;5;241m=\u001b[39m\u001b[38;5;124m'\u001b[39m\u001b[38;5;124mred\u001b[39m\u001b[38;5;124m'\u001b[39m, linestyle\u001b[38;5;241m=\u001b[39m\u001b[38;5;124m'\u001b[39m\u001b[38;5;124m:\u001b[39m\u001b[38;5;124m'\u001b[39m, alpha\u001b[38;5;241m=\u001b[39m\u001b[38;5;241m0.5\u001b[39m, linewidth\u001b[38;5;241m=\u001b[39m\u001b[38;5;241m3\u001b[39m, label\u001b[38;5;241m=\u001b[39m\u001b[38;5;124m'\u001b[39m\u001b[38;5;124mMáxima de febrero\u001b[39m\u001b[38;5;124m'\u001b[39m)\n",
      "\u001b[0;31mNameError\u001b[0m: name 'maximo_enero' is not defined"
     ]
    }
   ],
   "source": [
    "ax.axhline(maximo_enero, color='red', linestyle='--', alpha=0.5,    linewidth=3, label='Máxima de enero')\n",
    "ax.axhline(maximo_febrero, color='red', linestyle=':', alpha=0.5, linewidth=3, label='Máxima de febrero')"
   ]
  },
  {
   "cell_type": "code",
   "execution_count": null,
   "id": "266316f8-b359-4e2e-b757-7461760e6c5a",
   "metadata": {
    "id": "266316f8-b359-4e2e-b757-7461760e6c5a",
    "outputId": "07e3daf7-ab11-4ec5-9f97-0088ee08494a"
   },
   "outputs": [
    {
     "ename": "NameError",
     "evalue": "name 'df_lluvias' is not defined",
     "output_type": "error",
     "traceback": [
      "\u001b[0;31m---------------------------------------------------------------------------\u001b[0m",
      "\u001b[0;31mNameError\u001b[0m                                 Traceback (most recent call last)",
      "Input \u001b[0;32mIn [71]\u001b[0m, in \u001b[0;36m<module>\u001b[0;34m\u001b[0m\n\u001b[1;32m      2\u001b[0m ax\u001b[38;5;241m.\u001b[39mset_ylabel(\u001b[38;5;124m'\u001b[39m\u001b[38;5;124mPrecipitación (mm.)\u001b[39m\u001b[38;5;124m'\u001b[39m) \n\u001b[1;32m      3\u001b[0m ax\u001b[38;5;241m.\u001b[39mset_title(\u001b[38;5;124m'\u001b[39m\u001b[38;5;124mPrecipitaciones de enero y febrero\u001b[39m\u001b[38;5;124m'\u001b[39m) \t\n\u001b[0;32m----> 4\u001b[0m ax\u001b[38;5;241m.\u001b[39mset_xlim(\u001b[43mdf_lluvias\u001b[49m\u001b[38;5;241m.\u001b[39mindex[\u001b[38;5;241m0\u001b[39m], df_lluvias\u001b[38;5;241m.\u001b[39mindex[\u001b[38;5;241m-\u001b[39m\u001b[38;5;241m1\u001b[39m])\n\u001b[1;32m      5\u001b[0m ax\u001b[38;5;241m.\u001b[39mlegend()\n",
      "\u001b[0;31mNameError\u001b[0m: name 'df_lluvias' is not defined"
     ]
    }
   ],
   "source": [
    "ax.set_xlabel('Año')  \n",
    "ax.set_ylabel('Precipitación (mm.)') \n",
    "ax.set_title('Precipitaciones de enero y febrero') \t\n",
    "ax.set_xlim(df_lluvias.index[0], df_lluvias.index[-1])\n",
    "ax.legend()"
   ]
  },
  {
   "cell_type": "code",
   "execution_count": null,
   "id": "8abaec02-41a2-48c5-8205-c09ac772875b",
   "metadata": {
    "id": "8abaec02-41a2-48c5-8205-c09ac772875b"
   },
   "outputs": [],
   "source": []
  },
  {
   "cell_type": "markdown",
   "id": "cd05646d-12b6-4450-9df7-9882051235b1",
   "metadata": {
    "id": "cd05646d-12b6-4450-9df7-9882051235b1",
    "tags": []
   },
   "source": [
    "___\n",
    "# 2. Distintos gráficos para datos"
   ]
  },
  {
   "cell_type": "markdown",
   "id": "61249c11-4d8f-43b0-8d41-67b7033e600b",
   "metadata": {
    "id": "61249c11-4d8f-43b0-8d41-67b7033e600b"
   },
   "source": [
    "## 2.1 Reglas básicas de visualización\n",
    "\n",
    "Antes de empezar a revisar distintos tipos de gráficos, veremos algunas reglas básicas. Estas reglas nos ayudarán a realizar gráficos chidos e informativos, en lugar de gráficos confusos:\n",
    "\n",
    "1. El primer paso es escoger el tipo de gráfico apropiado. Si te decantas por varias opciones, podrías tratar de compararlos y elegir el que mejor se adapte a lo que quieres mostrar."
   ]
  },
  {
   "cell_type": "markdown",
   "id": "f72db43f-3605-4bd2-9bf1-cd5ce07db5ed",
   "metadata": {
    "id": "f72db43f-3605-4bd2-9bf1-cd5ce07db5ed"
   },
   "source": [
    "2. Cuando elegimos nuestro tipo de gráfico, una de las cosas más importantes es etiquetar nuestro ejes. Si no lo hacemos, la gráfica no será suficientemente informativa. \n",
    "\n",
    " - Si no hay ejes, podemos intentar revisar el código para ver de dónde vienen los datos, y si contamos con suerte, entenderemos el gráfico. Pero, ¿y si solo tenemos la imagen y no el código?, o peor aún, ¿qué tal si le mostramos este gráfico a un cliente que no tiene ni idea de como realizar gráficos en Python?"
   ]
  },
  {
   "cell_type": "markdown",
   "id": "488047be-3d22-47a4-bc7f-300af849fa95",
   "metadata": {
    "id": "488047be-3d22-47a4-bc7f-300af849fa95"
   },
   "source": [
    "3. Podemos añadir un título para hacer nuestra gráfica más informativa (opcional)."
   ]
  },
  {
   "cell_type": "markdown",
   "id": "b4e79fc2-e360-40d7-8eba-850435604a96",
   "metadata": {
    "id": "b4e79fc2-e360-40d7-8eba-850435604a96"
   },
   "source": [
    "4. Añadir etiquetas para diferentes líneas cuando sea necesario."
   ]
  },
  {
   "cell_type": "markdown",
   "id": "6f745a0a-fac2-487e-a6e4-c438d58e5401",
   "metadata": {
    "id": "6f745a0a-fac2-487e-a6e4-c438d58e5401"
   },
   "source": [
    "5. Añadir texto o una flecha para indicar puntos relevantes en los datos."
   ]
  },
  {
   "cell_type": "markdown",
   "id": "f3d9fd6a-e611-46e9-b490-c0fc0735d0e4",
   "metadata": {
    "id": "f3d9fd6a-e611-46e9-b490-c0fc0735d0e4"
   },
   "source": [
    "6. Siempre es bueno usar la creatividad con los tamaños, tipos y colores para hacer los gráficos de los datos más entretenidos e informativos."
   ]
  },
  {
   "cell_type": "markdown",
   "id": "4ee005d9-56c7-498a-af1b-aae4b70e56fb",
   "metadata": {
    "id": "4ee005d9-56c7-498a-af1b-aae4b70e56fb",
    "tags": []
   },
   "source": [
    "## 2.2 Tipos de visualizaciones y ejemplos con matplotlib\n",
    "\n",
    "Existen muchos tipos de visualizaciones y gráficos. Algunos de los más famosos de ellos son: gráfico de línea, gráfico de dispersión de puntos, histograma, diagrama de bigotes, gráfico de barras, y gráfico de pastel.\n",
    "\n",
    "¿Cuál de todas ellas elegimos para una visualización correcta? Primero, tenemos que hacer un análisis exploratorio de datos. Una vez tengamos una idea de los datos, el tipo de los datos y algunas medidas estadísticas, será más facil elegir el tipo de gráfico correcto.\n",
    "\n",
    "Bueno, eso lo veremos después y se perfeccionarán a medida que avancen en sus materias de maestría."
   ]
  },
  {
   "cell_type": "markdown",
   "id": "1c695840-2999-4ee7-bee7-3f40e0217952",
   "metadata": {
    "id": "1c695840-2999-4ee7-bee7-3f40e0217952"
   },
   "source": [
    "Veremos cada uno de los tipos de gráfico con un ejemplo.\n",
    "\n",
    "### Gráfico de línea: \n",
    "\n",
    "Es el que ya vimos para hacer funciones. Es un tipo de gráfico que muestra información como una serie de puntos llamados `markers` y conectados por líneas rectas. En este tipo de gráfico, necesitamos que los datos estén ordenados en sus valores x.\n",
    "\n",
    "Suele ser usado para visualizar tendencias de variables sobre intervalos de tiempo (series de tiempo)."
   ]
  },
  {
   "cell_type": "code",
   "execution_count": null,
   "id": "c112f1bf-49c8-488c-90a7-279141a392c8",
   "metadata": {
    "id": "c112f1bf-49c8-488c-90a7-279141a392c8"
   },
   "outputs": [],
   "source": [
    "# Datos de población en Bulgaria en el tiempo\n",
    "years = np.array([1983, 1984, 1985, 1986, 1987])\n",
    "total_populations = np.array([8939007, 8954518, 8960387, 8956741, 8943721])"
   ]
  },
  {
   "cell_type": "code",
   "execution_count": null,
   "id": "22049061-7940-46de-b27b-3ce691029edb",
   "metadata": {
    "id": "22049061-7940-46de-b27b-3ce691029edb",
    "outputId": "65c07c5b-42e9-484b-a792-e00ed9a06d5a"
   },
   "outputs": [
    {
     "data": {
      "text/plain": [
       "Text(0, 0.5, 'Población de Bulgaria')"
      ]
     },
     "execution_count": 78,
     "metadata": {},
     "output_type": "execute_result"
    },
    {
     "data": {
      "image/png": "[encoded data removed]",
      "text/plain": [
       "<Figure size 432x288 with 1 Axes>"
      ]
     },
     "metadata": {
      "needs_background": "light"
     },
     "output_type": "display_data"
    }
   ],
   "source": [
    "# Gráfico de línea\n",
    "plt.figure(figsize=(6, 4))\n",
    "plt.plot(years, total_populations, '*')\n",
    "plt.xticks(years)\n",
    "plt.grid()\n",
    "plt.xlabel(\"Años\")\n",
    "plt.ylabel(\"Población de Bulgaria\")"
   ]
  },
  {
   "cell_type": "code",
   "execution_count": null,
   "id": "a6ae1b74-c55b-410e-a54a-381148b8c116",
   "metadata": {
    "id": "a6ae1b74-c55b-410e-a54a-381148b8c116"
   },
   "outputs": [],
   "source": [
    "import pandas as pd"
   ]
  },
  {
   "cell_type": "code",
   "execution_count": null,
   "id": "434801a2-2970-44e1-a597-f9b3591ce965",
   "metadata": {
    "id": "434801a2-2970-44e1-a597-f9b3591ce965",
    "outputId": "c50fb8c5-68d4-4f9b-80cb-d76b3b612c6b"
   },
   "outputs": [
    {
     "name": "stdout",
     "output_type": "stream",
     "text": [
      "Requirement already satisfied: lxml in /mnt/c/Users/betof/OneDrive - Instituto Tecnologico y de Estudios Superiores de Monterrey/Repositorios/prope_programacion/venv/lib/python3.8/site-packages (4.8.0)\n"
     ]
    }
   ],
   "source": [
    "!pip install lxml"
   ]
  },
  {
   "cell_type": "code",
   "execution_count": null,
   "id": "47e72e6a-9d64-46b7-b4ad-7f6af52dcda5",
   "metadata": {
    "id": "47e72e6a-9d64-46b7-b4ad-7f6af52dcda5"
   },
   "outputs": [],
   "source": [
    "tables = pd.read_html(\"https://en.wikipedia.org/wiki/Demographics_of_Bulgaria\")"
   ]
  },
  {
   "cell_type": "code",
   "execution_count": null,
   "id": "da87bdf3-8b2a-419f-b3c4-3874ab39401e",
   "metadata": {
    "id": "da87bdf3-8b2a-419f-b3c4-3874ab39401e",
    "outputId": "c19cd68f-46ea-42f2-ecc8-c7b1e2420a98"
   },
   "outputs": [
    {
     "data": {
      "text/html": [
       "<div>\n",
       "<style scoped>\n",
       "    .dataframe tbody tr th:only-of-type {\n",
       "        vertical-align: middle;\n",
       "    }\n",
       "\n",
       "    .dataframe tbody tr th {\n",
       "        vertical-align: top;\n",
       "    }\n",
       "\n",
       "    .dataframe thead th {\n",
       "        text-align: right;\n",
       "    }\n",
       "</style>\n",
       "<table border=\"1\" class=\"dataframe\">\n",
       "  <thead>\n",
       "    <tr style=\"text-align: right;\">\n",
       "      <th></th>\n",
       "      <th>Years</th>\n",
       "      <th>1881</th>\n",
       "      <th>1882</th>\n",
       "      <th>1883</th>\n",
       "      <th>1884</th>\n",
       "      <th>1885</th>\n",
       "      <th>1886</th>\n",
       "      <th>1887</th>\n",
       "      <th>1888</th>\n",
       "      <th>1889</th>\n",
       "      <th>1890[9]</th>\n",
       "    </tr>\n",
       "  </thead>\n",
       "  <tbody>\n",
       "    <tr>\n",
       "      <th>0</th>\n",
       "      <td>Total Fertility Rate in Bulgaria</td>\n",
       "      <td>4.52</td>\n",
       "      <td>4.92</td>\n",
       "      <td>5.16</td>\n",
       "      <td>5.16</td>\n",
       "      <td>5.04</td>\n",
       "      <td>4.37</td>\n",
       "      <td>5.15</td>\n",
       "      <td>5.05</td>\n",
       "      <td>4.92</td>\n",
       "      <td>4.7</td>\n",
       "    </tr>\n",
       "  </tbody>\n",
       "</table>\n",
       "</div>"
      ],
      "text/plain": [
       "                              Years  1881  1882  1883  1884  1885  1886  1887  \\\n",
       "0  Total Fertility Rate in Bulgaria  4.52  4.92  5.16  5.16  5.04  4.37  5.15   \n",
       "\n",
       "   1888  1889  1890[9]  \n",
       "0  5.05  4.92      4.7  "
      ]
     },
     "execution_count": 14,
     "metadata": {},
     "output_type": "execute_result"
    }
   ],
   "source": [
    "tables[3]"
   ]
  },
  {
   "cell_type": "code",
   "execution_count": null,
   "id": "be7ee0c6-697d-49ba-8a05-4a3adc5841f6",
   "metadata": {
    "id": "be7ee0c6-697d-49ba-8a05-4a3adc5841f6",
    "outputId": "6ffbf540-8021-47ba-9fdd-8cda9cf99cd6"
   },
   "outputs": [
    {
     "data": {
      "text/html": [
       "<div>\n",
       "<style scoped>\n",
       "    .dataframe tbody tr th:only-of-type {\n",
       "        vertical-align: middle;\n",
       "    }\n",
       "\n",
       "    .dataframe tbody tr th {\n",
       "        vertical-align: top;\n",
       "    }\n",
       "\n",
       "    .dataframe thead th {\n",
       "        text-align: right;\n",
       "    }\n",
       "</style>\n",
       "<table border=\"1\" class=\"dataframe\">\n",
       "  <thead>\n",
       "    <tr style=\"text-align: right;\">\n",
       "      <th></th>\n",
       "      <th>Unnamed: 0</th>\n",
       "      <th>Average population</th>\n",
       "      <th>Live births</th>\n",
       "      <th>Deaths</th>\n",
       "      <th>Natural change</th>\n",
       "      <th>Crude birth rate (per 1000)</th>\n",
       "      <th>Crude death rate (per 1000)</th>\n",
       "      <th>Natural change (per 1000)</th>\n",
       "      <th>Total fertility rates[fn 1]</th>\n",
       "    </tr>\n",
       "  </thead>\n",
       "  <tbody>\n",
       "    <tr>\n",
       "      <th>0</th>\n",
       "      <td>1941</td>\n",
       "      <td>6715100.0</td>\n",
       "      <td>147293</td>\n",
       "      <td>85011</td>\n",
       "      <td>62282</td>\n",
       "      <td>21.9</td>\n",
       "      <td>12.7</td>\n",
       "      <td>9.3</td>\n",
       "      <td>2.80</td>\n",
       "    </tr>\n",
       "    <tr>\n",
       "      <th>1</th>\n",
       "      <td>1942</td>\n",
       "      <td>6771100.0</td>\n",
       "      <td>153272</td>\n",
       "      <td>88082</td>\n",
       "      <td>65190</td>\n",
       "      <td>22.6</td>\n",
       "      <td>13.0</td>\n",
       "      <td>9.6</td>\n",
       "      <td>2.91</td>\n",
       "    </tr>\n",
       "    <tr>\n",
       "      <th>2</th>\n",
       "      <td>1943</td>\n",
       "      <td>6827600.0</td>\n",
       "      <td>148840</td>\n",
       "      <td>88386</td>\n",
       "      <td>60454</td>\n",
       "      <td>21.8</td>\n",
       "      <td>13.0</td>\n",
       "      <td>8.9</td>\n",
       "      <td>2.79</td>\n",
       "    </tr>\n",
       "    <tr>\n",
       "      <th>3</th>\n",
       "      <td>1944</td>\n",
       "      <td>6884600.0</td>\n",
       "      <td>151013</td>\n",
       "      <td>94082</td>\n",
       "      <td>56931</td>\n",
       "      <td>22.0</td>\n",
       "      <td>13.7</td>\n",
       "      <td>8.3</td>\n",
       "      <td>2.83</td>\n",
       "    </tr>\n",
       "    <tr>\n",
       "      <th>4</th>\n",
       "      <td>1945</td>\n",
       "      <td>6942200.0</td>\n",
       "      <td>166960</td>\n",
       "      <td>103591</td>\n",
       "      <td>63369</td>\n",
       "      <td>24.1</td>\n",
       "      <td>14.9</td>\n",
       "      <td>9.1</td>\n",
       "      <td>3.09</td>\n",
       "    </tr>\n",
       "    <tr>\n",
       "      <th>...</th>\n",
       "      <td>...</td>\n",
       "      <td>...</td>\n",
       "      <td>...</td>\n",
       "      <td>...</td>\n",
       "      <td>...</td>\n",
       "      <td>...</td>\n",
       "      <td>...</td>\n",
       "      <td>...</td>\n",
       "      <td>...</td>\n",
       "    </tr>\n",
       "    <tr>\n",
       "      <th>76</th>\n",
       "      <td>2017[19]</td>\n",
       "      <td>7050034.0</td>\n",
       "      <td>63955</td>\n",
       "      <td>109791</td>\n",
       "      <td>-45836</td>\n",
       "      <td>9.0</td>\n",
       "      <td>15.5</td>\n",
       "      <td>-6.5</td>\n",
       "      <td>1.56</td>\n",
       "    </tr>\n",
       "    <tr>\n",
       "      <th>77</th>\n",
       "      <td>2018[20]</td>\n",
       "      <td>7000039.0</td>\n",
       "      <td>62197</td>\n",
       "      <td>108526</td>\n",
       "      <td>-46329</td>\n",
       "      <td>8.9</td>\n",
       "      <td>15.4</td>\n",
       "      <td>-6.6</td>\n",
       "      <td>1.56</td>\n",
       "    </tr>\n",
       "    <tr>\n",
       "      <th>78</th>\n",
       "      <td>2019[21]</td>\n",
       "      <td>6951482.0</td>\n",
       "      <td>61538</td>\n",
       "      <td>108083</td>\n",
       "      <td>-46545</td>\n",
       "      <td>8.8</td>\n",
       "      <td>15.5</td>\n",
       "      <td>-6.7</td>\n",
       "      <td>1.58</td>\n",
       "    </tr>\n",
       "    <tr>\n",
       "      <th>79</th>\n",
       "      <td>2020[22][23]</td>\n",
       "      <td>6916548.0</td>\n",
       "      <td>59086</td>\n",
       "      <td>124735</td>\n",
       "      <td>-65649</td>\n",
       "      <td>8.5</td>\n",
       "      <td>18.0</td>\n",
       "      <td>-9.5</td>\n",
       "      <td>1.56</td>\n",
       "    </tr>\n",
       "    <tr>\n",
       "      <th>80</th>\n",
       "      <td>2021[24]</td>\n",
       "      <td>6520314.0</td>\n",
       "      <td>58393</td>\n",
       "      <td>147727</td>\n",
       "      <td>-89334</td>\n",
       "      <td>9.0</td>\n",
       "      <td>22.7</td>\n",
       "      <td>-13.7</td>\n",
       "      <td>NaN</td>\n",
       "    </tr>\n",
       "  </tbody>\n",
       "</table>\n",
       "<p>81 rows × 9 columns</p>\n",
       "</div>"
      ],
      "text/plain": [
       "      Unnamed: 0  Average population  Live births  Deaths  Natural change  \\\n",
       "0           1941           6715100.0       147293   85011           62282   \n",
       "1           1942           6771100.0       153272   88082           65190   \n",
       "2           1943           6827600.0       148840   88386           60454   \n",
       "3           1944           6884600.0       151013   94082           56931   \n",
       "4           1945           6942200.0       166960  103591           63369   \n",
       "..           ...                 ...          ...     ...             ...   \n",
       "76      2017[19]           7050034.0        63955  109791          -45836   \n",
       "77      2018[20]           7000039.0        62197  108526          -46329   \n",
       "78      2019[21]           6951482.0        61538  108083          -46545   \n",
       "79  2020[22][23]           6916548.0        59086  124735          -65649   \n",
       "80      2021[24]           6520314.0        58393  147727          -89334   \n",
       "\n",
       "    Crude birth rate (per 1000)  Crude death rate (per 1000)  \\\n",
       "0                          21.9                         12.7   \n",
       "1                          22.6                         13.0   \n",
       "2                          21.8                         13.0   \n",
       "3                          22.0                         13.7   \n",
       "4                          24.1                         14.9   \n",
       "..                          ...                          ...   \n",
       "76                          9.0                         15.5   \n",
       "77                          8.9                         15.4   \n",
       "78                          8.8                         15.5   \n",
       "79                          8.5                         18.0   \n",
       "80                          9.0                         22.7   \n",
       "\n",
       "    Natural change (per 1000)  Total fertility rates[fn 1]  \n",
       "0                         9.3                         2.80  \n",
       "1                         9.6                         2.91  \n",
       "2                         8.9                         2.79  \n",
       "3                         8.3                         2.83  \n",
       "4                         9.1                         3.09  \n",
       "..                        ...                          ...  \n",
       "76                       -6.5                         1.56  \n",
       "77                       -6.6                         1.56  \n",
       "78                       -6.7                         1.58  \n",
       "79                       -9.5                         1.56  \n",
       "80                      -13.7                          NaN  \n",
       "\n",
       "[81 rows x 9 columns]"
      ]
     },
     "execution_count": 24,
     "metadata": {},
     "output_type": "execute_result"
    }
   ],
   "source": [
    "population = tables[9]\n",
    "population"
   ]
  },
  {
   "cell_type": "code",
   "execution_count": null,
   "id": "941adbc2-bf12-43fc-a837-92cde786820a",
   "metadata": {
    "id": "941adbc2-bf12-43fc-a837-92cde786820a",
    "outputId": "8a4f244b-a15f-4c0a-93b3-469494e5a25a"
   },
   "outputs": [
    {
     "data": {
      "text/html": [
       "<div>\n",
       "<style scoped>\n",
       "    .dataframe tbody tr th:only-of-type {\n",
       "        vertical-align: middle;\n",
       "    }\n",
       "\n",
       "    .dataframe tbody tr th {\n",
       "        vertical-align: top;\n",
       "    }\n",
       "\n",
       "    .dataframe thead th {\n",
       "        text-align: right;\n",
       "    }\n",
       "</style>\n",
       "<table border=\"1\" class=\"dataframe\">\n",
       "  <thead>\n",
       "    <tr style=\"text-align: right;\">\n",
       "      <th></th>\n",
       "      <th>Year</th>\n",
       "      <th>Average population</th>\n",
       "      <th>Live births</th>\n",
       "      <th>Deaths</th>\n",
       "      <th>Natural change</th>\n",
       "      <th>Crude birth rate (per 1000)</th>\n",
       "      <th>Crude death rate (per 1000)</th>\n",
       "      <th>Natural change (per 1000)</th>\n",
       "      <th>Total fertility rates[fn 1]</th>\n",
       "    </tr>\n",
       "  </thead>\n",
       "  <tbody>\n",
       "    <tr>\n",
       "      <th>76</th>\n",
       "      <td>2017[19]</td>\n",
       "      <td>7050034.0</td>\n",
       "      <td>63955</td>\n",
       "      <td>109791</td>\n",
       "      <td>-45836</td>\n",
       "      <td>9.0</td>\n",
       "      <td>15.5</td>\n",
       "      <td>-6.5</td>\n",
       "      <td>1.56</td>\n",
       "    </tr>\n",
       "    <tr>\n",
       "      <th>77</th>\n",
       "      <td>2018[20]</td>\n",
       "      <td>7000039.0</td>\n",
       "      <td>62197</td>\n",
       "      <td>108526</td>\n",
       "      <td>-46329</td>\n",
       "      <td>8.9</td>\n",
       "      <td>15.4</td>\n",
       "      <td>-6.6</td>\n",
       "      <td>1.56</td>\n",
       "    </tr>\n",
       "    <tr>\n",
       "      <th>78</th>\n",
       "      <td>2019[21]</td>\n",
       "      <td>6951482.0</td>\n",
       "      <td>61538</td>\n",
       "      <td>108083</td>\n",
       "      <td>-46545</td>\n",
       "      <td>8.8</td>\n",
       "      <td>15.5</td>\n",
       "      <td>-6.7</td>\n",
       "      <td>1.58</td>\n",
       "    </tr>\n",
       "    <tr>\n",
       "      <th>79</th>\n",
       "      <td>2020[22][23]</td>\n",
       "      <td>6916548.0</td>\n",
       "      <td>59086</td>\n",
       "      <td>124735</td>\n",
       "      <td>-65649</td>\n",
       "      <td>8.5</td>\n",
       "      <td>18.0</td>\n",
       "      <td>-9.5</td>\n",
       "      <td>1.56</td>\n",
       "    </tr>\n",
       "    <tr>\n",
       "      <th>80</th>\n",
       "      <td>2021[24]</td>\n",
       "      <td>6520314.0</td>\n",
       "      <td>58393</td>\n",
       "      <td>147727</td>\n",
       "      <td>-89334</td>\n",
       "      <td>9.0</td>\n",
       "      <td>22.7</td>\n",
       "      <td>-13.7</td>\n",
       "      <td>NaN</td>\n",
       "    </tr>\n",
       "  </tbody>\n",
       "</table>\n",
       "</div>"
      ],
      "text/plain": [
       "            Year  Average population  Live births  Deaths  Natural change  \\\n",
       "76      2017[19]           7050034.0        63955  109791          -45836   \n",
       "77      2018[20]           7000039.0        62197  108526          -46329   \n",
       "78      2019[21]           6951482.0        61538  108083          -46545   \n",
       "79  2020[22][23]           6916548.0        59086  124735          -65649   \n",
       "80      2021[24]           6520314.0        58393  147727          -89334   \n",
       "\n",
       "    Crude birth rate (per 1000)  Crude death rate (per 1000)  \\\n",
       "76                          9.0                         15.5   \n",
       "77                          8.9                         15.4   \n",
       "78                          8.8                         15.5   \n",
       "79                          8.5                         18.0   \n",
       "80                          9.0                         22.7   \n",
       "\n",
       "    Natural change (per 1000)  Total fertility rates[fn 1]  \n",
       "76                       -6.5                         1.56  \n",
       "77                       -6.6                         1.56  \n",
       "78                       -6.7                         1.58  \n",
       "79                       -9.5                         1.56  \n",
       "80                      -13.7                          NaN  "
      ]
     },
     "execution_count": 25,
     "metadata": {},
     "output_type": "execute_result"
    }
   ],
   "source": [
    "population.rename(columns={\"Unnamed: 0\": \"Year\"}, inplace=True)\n",
    "population.tail(5)"
   ]
  },
  {
   "cell_type": "code",
   "execution_count": null,
   "id": "622dd7c5-2cfe-4961-8ba8-1c84de618265",
   "metadata": {
    "id": "622dd7c5-2cfe-4961-8ba8-1c84de618265",
    "outputId": "f4358ef4-34f4-4492-b8f1-feaa45855c33"
   },
   "outputs": [
    {
     "data": {
      "text/html": [
       "<div>\n",
       "<style scoped>\n",
       "    .dataframe tbody tr th:only-of-type {\n",
       "        vertical-align: middle;\n",
       "    }\n",
       "\n",
       "    .dataframe tbody tr th {\n",
       "        vertical-align: top;\n",
       "    }\n",
       "\n",
       "    .dataframe thead th {\n",
       "        text-align: right;\n",
       "    }\n",
       "</style>\n",
       "<table border=\"1\" class=\"dataframe\">\n",
       "  <thead>\n",
       "    <tr style=\"text-align: right;\">\n",
       "      <th></th>\n",
       "      <th>Year</th>\n",
       "      <th>Average population</th>\n",
       "      <th>Live births</th>\n",
       "      <th>Deaths</th>\n",
       "      <th>Natural change</th>\n",
       "      <th>Crude birth rate (per 1000)</th>\n",
       "      <th>Crude death rate (per 1000)</th>\n",
       "      <th>Natural change (per 1000)</th>\n",
       "      <th>Total fertility rates[fn 1]</th>\n",
       "    </tr>\n",
       "  </thead>\n",
       "  <tbody>\n",
       "    <tr>\n",
       "      <th>76</th>\n",
       "      <td>2017</td>\n",
       "      <td>7050034.0</td>\n",
       "      <td>63955</td>\n",
       "      <td>109791</td>\n",
       "      <td>-45836</td>\n",
       "      <td>9.0</td>\n",
       "      <td>15.5</td>\n",
       "      <td>-6.5</td>\n",
       "      <td>1.56</td>\n",
       "    </tr>\n",
       "    <tr>\n",
       "      <th>77</th>\n",
       "      <td>2018</td>\n",
       "      <td>7000039.0</td>\n",
       "      <td>62197</td>\n",
       "      <td>108526</td>\n",
       "      <td>-46329</td>\n",
       "      <td>8.9</td>\n",
       "      <td>15.4</td>\n",
       "      <td>-6.6</td>\n",
       "      <td>1.56</td>\n",
       "    </tr>\n",
       "    <tr>\n",
       "      <th>78</th>\n",
       "      <td>2019</td>\n",
       "      <td>6951482.0</td>\n",
       "      <td>61538</td>\n",
       "      <td>108083</td>\n",
       "      <td>-46545</td>\n",
       "      <td>8.8</td>\n",
       "      <td>15.5</td>\n",
       "      <td>-6.7</td>\n",
       "      <td>1.58</td>\n",
       "    </tr>\n",
       "    <tr>\n",
       "      <th>79</th>\n",
       "      <td>2020</td>\n",
       "      <td>6916548.0</td>\n",
       "      <td>59086</td>\n",
       "      <td>124735</td>\n",
       "      <td>-65649</td>\n",
       "      <td>8.5</td>\n",
       "      <td>18.0</td>\n",
       "      <td>-9.5</td>\n",
       "      <td>1.56</td>\n",
       "    </tr>\n",
       "    <tr>\n",
       "      <th>80</th>\n",
       "      <td>2021</td>\n",
       "      <td>6520314.0</td>\n",
       "      <td>58393</td>\n",
       "      <td>147727</td>\n",
       "      <td>-89334</td>\n",
       "      <td>9.0</td>\n",
       "      <td>22.7</td>\n",
       "      <td>-13.7</td>\n",
       "      <td>NaN</td>\n",
       "    </tr>\n",
       "  </tbody>\n",
       "</table>\n",
       "</div>"
      ],
      "text/plain": [
       "    Year  Average population  Live births  Deaths  Natural change  \\\n",
       "76  2017           7050034.0        63955  109791          -45836   \n",
       "77  2018           7000039.0        62197  108526          -46329   \n",
       "78  2019           6951482.0        61538  108083          -46545   \n",
       "79  2020           6916548.0        59086  124735          -65649   \n",
       "80  2021           6520314.0        58393  147727          -89334   \n",
       "\n",
       "    Crude birth rate (per 1000)  Crude death rate (per 1000)  \\\n",
       "76                          9.0                         15.5   \n",
       "77                          8.9                         15.4   \n",
       "78                          8.8                         15.5   \n",
       "79                          8.5                         18.0   \n",
       "80                          9.0                         22.7   \n",
       "\n",
       "    Natural change (per 1000)  Total fertility rates[fn 1]  \n",
       "76                       -6.5                         1.56  \n",
       "77                       -6.6                         1.56  \n",
       "78                       -6.7                         1.58  \n",
       "79                       -9.5                         1.56  \n",
       "80                      -13.7                          NaN  "
      ]
     },
     "execution_count": 26,
     "metadata": {},
     "output_type": "execute_result"
    }
   ],
   "source": [
    "population[\"Year\"] = population[\"Year\"].apply(lambda x: x[:4])\n",
    "population.tail(5)"
   ]
  },
  {
   "cell_type": "code",
   "execution_count": null,
   "id": "49252e4c-3f3f-468a-89a1-99479d6dbf73",
   "metadata": {
    "id": "49252e4c-3f3f-468a-89a1-99479d6dbf73",
    "outputId": "6e4154a2-188b-47ae-bce4-7eb3020b1d99"
   },
   "outputs": [
    {
     "data": {
      "text/plain": [
       "[<matplotlib.lines.Line2D at 0x7ffb96e57bb0>]"
      ]
     },
     "execution_count": 29,
     "metadata": {},
     "output_type": "execute_result"
    },
    {
     "data": {
      "image/png": "[encoded data removed]",
      "text/plain": [
       "<Figure size 432x288 with 1 Axes>"
      ]
     },
     "metadata": {
      "needs_background": "light"
     },
     "output_type": "display_data"
    }
   ],
   "source": [
    "plt.plot(\"Year\", \"Average population\", data=population.iloc[-20:])"
   ]
  },
  {
   "cell_type": "markdown",
   "id": "568d272d-2331-4c31-908a-8a0c9c58a697",
   "metadata": {
    "id": "568d272d-2331-4c31-908a-8a0c9c58a697",
    "tags": []
   },
   "source": [
    "### Dispersión de puntos:\n",
    "\n",
    "Este tipo de gráfico muestra puntos individuales. No se conectan con líneas. Cada punto tiene su valor en `x` y su valor en `y`. \n",
    "\n",
    "Este tipo de gráfico suele ser útil para mostrar tendencias o correlaciones (comparando dos variables)."
   ]
  },
  {
   "cell_type": "code",
   "execution_count": null,
   "id": "5f9cf2c9-2782-493d-8023-49ab7f7a2051",
   "metadata": {
    "id": "5f9cf2c9-2782-493d-8023-49ab7f7a2051"
   },
   "outputs": [],
   "source": [
    "# Datos de temperatura y de cantidad de helados vendidos\n",
    "temp = np.array([30, 32, 33, 28.5, 35, 29, 29])\n",
    "ice_creams_count = np.array([100, 115, 115, 75, 125, 79, 89])"
   ]
  },
  {
   "cell_type": "code",
   "execution_count": null,
   "id": "5d857691-6cff-4c48-a75c-3e40fc0671a6",
   "metadata": {
    "id": "5d857691-6cff-4c48-a75c-3e40fc0671a6",
    "outputId": "a5f997ad-56c8-4b72-a3e4-2a701a0dfb84"
   },
   "outputs": [
    {
     "data": {
      "image/png": "[encoded data removed]",
      "text/plain": [
       "<Figure size 432x288 with 1 Axes>"
      ]
     },
     "metadata": {
      "needs_background": "light"
     },
     "output_type": "display_data"
    }
   ],
   "source": [
    "# Dispersión de puntos\n",
    "plt.figure(figsize=(6, 4))\n",
    "plt.scatter(temp, ice_creams_count)\n",
    "plt.xlabel(\"Temperatura [Celsius]\")\n",
    "plt.ylabel(\"Ventas de nieves\")\n",
    "plt.grid()"
   ]
  },
  {
   "cell_type": "code",
   "execution_count": null,
   "id": "bb5c373e-ed70-454e-bac2-1c978cd862de",
   "metadata": {
    "id": "bb5c373e-ed70-454e-bac2-1c978cd862de"
   },
   "outputs": [],
   "source": [
    "from sklearn.linear_model import LinearRegression"
   ]
  },
  {
   "cell_type": "code",
   "execution_count": null,
   "id": "ca1882ed-e777-48ee-bbbb-efbe6b1af8b3",
   "metadata": {
    "id": "ca1882ed-e777-48ee-bbbb-efbe6b1af8b3",
    "outputId": "151f458f-b0c0-4a57-a8c3-ef1b2e39c58e"
   },
   "outputs": [
    {
     "name": "stdout",
     "output_type": "stream",
     "text": [
      "Collecting sklearn\n",
      "  Using cached sklearn-0.0.tar.gz (1.1 kB)\n",
      "Collecting scikit-learn\n",
      "  Using cached scikit_learn-1.0.2-cp38-cp38-manylinux_2_17_x86_64.manylinux2014_x86_64.whl (26.7 MB)\n",
      "Requirement already satisfied: numpy>=1.14.6 in /mnt/c/Users/betof/OneDrive - Instituto Tecnologico y de Estudios Superiores de Monterrey/Repositorios/prope_programacion/venv/lib/python3.8/site-packages (from scikit-learn->sklearn) (1.22.2)\n",
      "Requirement already satisfied: scipy>=1.1.0 in /mnt/c/Users/betof/OneDrive - Instituto Tecnologico y de Estudios Superiores de Monterrey/Repositorios/prope_programacion/venv/lib/python3.8/site-packages (from scikit-learn->sklearn) (1.8.0)\n",
      "Collecting threadpoolctl>=2.0.0\n",
      "  Downloading threadpoolctl-3.1.0-py3-none-any.whl (14 kB)\n",
      "Collecting joblib>=0.11\n",
      "  Using cached joblib-1.1.0-py2.py3-none-any.whl (306 kB)\n",
      "Building wheels for collected packages: sklearn\n",
      "  Building wheel for sklearn (setup.py) ... \u001b[?25lerror\n",
      "\u001b[31m  ERROR: Command errored out with exit status 1:\n",
      "   command: '/mnt/c/Users/betof/OneDrive - Instituto Tecnologico y de Estudios Superiores de Monterrey/Repositorios/prope_programacion/venv/bin/python3' -u -c 'import sys, setuptools, tokenize; sys.argv[0] = '\"'\"'/tmp/pip-install-3hvcy4re/sklearn/setup.py'\"'\"'; __file__='\"'\"'/tmp/pip-install-3hvcy4re/sklearn/setup.py'\"'\"';f=getattr(tokenize, '\"'\"'open'\"'\"', open)(__file__);code=f.read().replace('\"'\"'\\r\\n'\"'\"', '\"'\"'\\n'\"'\"');f.close();exec(compile(code, __file__, '\"'\"'exec'\"'\"'))' bdist_wheel -d /tmp/pip-wheel-1yz_1j47\n",
      "       cwd: /tmp/pip-install-3hvcy4re/sklearn/\n",
      "  Complete output (6 lines):\n",
      "  usage: setup.py [global_opts] cmd1 [cmd1_opts] [cmd2 [cmd2_opts] ...]\n",
      "     or: setup.py --help [cmd1 cmd2 ...]\n",
      "     or: setup.py --help-commands\n",
      "     or: setup.py cmd --help\n",
      "  \n",
      "  error: invalid command 'bdist_wheel'\n",
      "  ----------------------------------------\u001b[0m\n",
      "\u001b[31m  ERROR: Failed building wheel for sklearn\u001b[0m\n",
      "\u001b[?25h  Running setup.py clean for sklearn\n",
      "Failed to build sklearn\n",
      "Installing collected packages: threadpoolctl, joblib, scikit-learn, sklearn\n",
      "    Running setup.py install for sklearn ... \u001b[?25ldone\n",
      "\u001b[?25hSuccessfully installed joblib-1.1.0 scikit-learn-1.0.2 sklearn-0.0 threadpoolctl-3.1.0\n"
     ]
    }
   ],
   "source": [
    "!pip install sklearn"
   ]
  },
  {
   "cell_type": "code",
   "execution_count": null,
   "id": "65e49c62-f4d0-46e1-b864-7f5da4c4d6f2",
   "metadata": {
    "id": "65e49c62-f4d0-46e1-b864-7f5da4c4d6f2",
    "outputId": "3cf3cfc2-b2ad-49b4-cfc5-51a91a33c408",
    "tags": []
   },
   "outputs": [
    {
     "data": {
      "text/plain": [
       "array([[30. ],\n",
       "       [32. ],\n",
       "       [33. ],\n",
       "       [28.5],\n",
       "       [35. ],\n",
       "       [29. ],\n",
       "       [29. ]])"
      ]
     },
     "execution_count": 38,
     "metadata": {},
     "output_type": "execute_result"
    }
   ],
   "source": [
    "np.array([temp]).reshape(len(temp), 1)"
   ]
  },
  {
   "cell_type": "code",
   "execution_count": null,
   "id": "82ed0d25-e09b-4786-b165-8ea0c2c200b4",
   "metadata": {
    "id": "82ed0d25-e09b-4786-b165-8ea0c2c200b4",
    "outputId": "bfb39a40-9190-4388-8134-90418914d0aa"
   },
   "outputs": [
    {
     "data": {
      "text/plain": [
       "LinearRegression()"
      ]
     },
     "execution_count": 41,
     "metadata": {},
     "output_type": "execute_result"
    }
   ],
   "source": [
    "model = LinearRegression()\n",
    "model.fit(np.array([temp]).reshape(len(temp), 1), ice_creams_count)"
   ]
  },
  {
   "cell_type": "code",
   "execution_count": null,
   "id": "285ad967-cac2-4859-991c-42430042bb44",
   "metadata": {
    "id": "285ad967-cac2-4859-991c-42430042bb44",
    "outputId": "27fa0a27-063d-40b4-deb3-44833a90d1a4"
   },
   "outputs": [
    {
     "data": {
      "text/plain": [
       "(array([7.49309665]), -132.0364891518737)"
      ]
     },
     "execution_count": 42,
     "metadata": {},
     "output_type": "execute_result"
    }
   ],
   "source": [
    "model.coef_, model.intercept_"
   ]
  },
  {
   "cell_type": "code",
   "execution_count": null,
   "id": "1ad10456-b9bb-4d52-9ddc-91d6f1230824",
   "metadata": {
    "id": "1ad10456-b9bb-4d52-9ddc-91d6f1230824",
    "outputId": "9b74a55f-2653-423b-cd20-376a2adf9cdb"
   },
   "outputs": [
    {
     "data": {
      "image/png": "[encoded data removed]",
      "text/plain": [
       "<Figure size 432x288 with 1 Axes>"
      ]
     },
     "metadata": {
      "needs_background": "light"
     },
     "output_type": "display_data"
    }
   ],
   "source": [
    "plt.figure(figsize=(6, 4))\n",
    "plt.scatter(temp, ice_creams_count)\n",
    "plt.plot(temp, model.predict(np.array([temp]).reshape(len(temp), 1)))\n",
    "plt.xlabel(\"Temperatura [Celsius]\")\n",
    "plt.ylabel(\"Ventas de nieves\")\n",
    "plt.grid()"
   ]
  },
  {
   "cell_type": "markdown",
   "id": "fc5b67b6-f943-4a3d-a26c-173d5fb6d3be",
   "metadata": {
    "id": "fc5b67b6-f943-4a3d-a26c-173d5fb6d3be",
    "tags": []
   },
   "source": [
    "### Histograma: \n",
    "\n",
    "Es una representación precisa para distribuciones de datos numéricos.\n",
    "\n",
    "El algoritmo para crear un histograma consta de ciertos pasos:\n",
    "- Primero, se divide el rango total de valores en una serie de intervalos consecutivos y disjuntos (bins).\n",
    "- Segundo, se cuenta cuantos valores caen dentro de cada intervalo.\n",
    "- Se grafican las cantidades en cada intervalo."
   ]
  },
  {
   "cell_type": "code",
   "execution_count": null,
   "id": "a9587df0-ceaa-48f4-ad94-b79dc575f224",
   "metadata": {
    "id": "a9587df0-ceaa-48f4-ad94-b79dc575f224"
   },
   "outputs": [],
   "source": [
    "# Números\n",
    "numbers = np.array([0.1, 0.5, 1, 1.5, 2, 4, 5.5, 6, 8, 9])"
   ]
  },
  {
   "cell_type": "code",
   "execution_count": null,
   "id": "b1f04b47-8c04-4fbe-80a2-64d113f3aa85",
   "metadata": {
    "id": "b1f04b47-8c04-4fbe-80a2-64d113f3aa85",
    "outputId": "55339d73-ed68-4f25-9546-61f4a5e616b9"
   },
   "outputs": [
    {
     "data": {
      "text/plain": [
       "(array([4., 1., 1., 2., 2.]),\n",
       " array([0.1 , 1.88, 3.66, 5.44, 7.22, 9.  ]),\n",
       " <BarContainer object of 5 artists>)"
      ]
     },
     "execution_count": 45,
     "metadata": {},
     "output_type": "execute_result"
    },
    {
     "data": {
      "image/png": "[encoded data removed]",
      "text/plain": [
       "<Figure size 432x288 with 1 Axes>"
      ]
     },
     "metadata": {
      "needs_background": "light"
     },
     "output_type": "display_data"
    }
   ],
   "source": [
    "# Histograma\n",
    "plt.hist(numbers, bins=5)"
   ]
  },
  {
   "cell_type": "code",
   "execution_count": null,
   "id": "7a9c2d28-e52d-477f-ab44-e087c7e2a8a8",
   "metadata": {
    "id": "7a9c2d28-e52d-477f-ab44-e087c7e2a8a8"
   },
   "outputs": [],
   "source": [
    "data = np.random.normal(size=10000)"
   ]
  },
  {
   "cell_type": "code",
   "execution_count": null,
   "id": "ada3111e-7fe0-4463-a96d-3a6e78f373ab",
   "metadata": {
    "id": "ada3111e-7fe0-4463-a96d-3a6e78f373ab",
    "outputId": "9ec0ef14-a73f-49ba-dca2-bc0d6dcb989c"
   },
   "outputs": [
    {
     "data": {
      "image/png": "[encoded data removed]",
      "text/plain": [
       "<Figure size 432x288 with 1 Axes>"
      ]
     },
     "metadata": {
      "needs_background": "light"
     },
     "output_type": "display_data"
    }
   ],
   "source": [
    "plt.hist(data, bins=50);"
   ]
  },
  {
   "cell_type": "code",
   "execution_count": null,
   "id": "92308bbb-2651-4fb4-b130-9854b8eb515e",
   "metadata": {
    "id": "92308bbb-2651-4fb4-b130-9854b8eb515e"
   },
   "outputs": [],
   "source": []
  },
  {
   "cell_type": "code",
   "execution_count": null,
   "id": "eb2bcece-554a-4234-a67a-7d50d8bcdc59",
   "metadata": {
    "id": "eb2bcece-554a-4234-a67a-7d50d8bcdc59",
    "outputId": "55af2289-694d-4786-eef2-b43be5fabda2"
   },
   "outputs": [
    {
     "data": {
      "text/plain": [
       "[<matplotlib.lines.Line2D at 0x7ffb7dac9880>]"
      ]
     },
     "execution_count": 48,
     "metadata": {},
     "output_type": "execute_result"
    },
    {
     "data": {
      "image/png": "[encoded data removed]",
      "text/plain": [
       "<Figure size 432x288 with 1 Axes>"
      ]
     },
     "metadata": {
      "needs_background": "light"
     },
     "output_type": "display_data"
    }
   ],
   "source": [
    "# Ejemplo: histograma para una distribución normal\n",
    "plt.hist(data, bins=100, density=True);\n",
    "x = np.linspace(-3, 3)\n",
    "f = np.exp(-x**2 / 2) / (np.sqrt(2 * np.pi))\n",
    "plt.plot(x, f)"
   ]
  },
  {
   "cell_type": "code",
   "execution_count": null,
   "id": "db921043-4837-4809-b392-ddbd5d8dbe95",
   "metadata": {
    "id": "db921043-4837-4809-b392-ddbd5d8dbe95"
   },
   "outputs": [],
   "source": []
  },
  {
   "cell_type": "code",
   "execution_count": null,
   "id": "959de8f9-2ba5-49ef-bb4d-f8929b46d1b9",
   "metadata": {
    "id": "959de8f9-2ba5-49ef-bb4d-f8929b46d1b9"
   },
   "outputs": [],
   "source": []
  },
  {
   "cell_type": "code",
   "execution_count": null,
   "id": "f0c761e5-0df9-4e4d-9369-4718fd4164d9",
   "metadata": {
    "id": "f0c761e5-0df9-4e4d-9369-4718fd4164d9"
   },
   "outputs": [],
   "source": []
  },
  {
   "cell_type": "code",
   "execution_count": null,
   "id": "92cebeb5-ebc4-4505-a743-bb18c86807c0",
   "metadata": {
    "id": "92cebeb5-ebc4-4505-a743-bb18c86807c0"
   },
   "outputs": [],
   "source": []
  },
  {
   "cell_type": "markdown",
   "id": "37378e95-fbca-47a3-a5ae-15cb3911279a",
   "metadata": {
    "id": "37378e95-fbca-47a3-a5ae-15cb3911279a",
    "tags": []
   },
   "source": [
    "### Diagrama de caja:\n",
    "\n",
    "Es otra manera de resumir la distribución de datos basado en cinco números: mínimo, primer cuartil, mediana, tercer cuartil, y máximo. Veamos qué son cada uno de ellos:"
   ]
  },
  {
   "cell_type": "markdown",
   "id": "1cf4089b-2f26-4275-8ca9-e6d9a907b0bf",
   "metadata": {
    "id": "1cf4089b-2f26-4275-8ca9-e6d9a907b0bf"
   },
   "source": [
    "- El mínimo y el máximo creo que todos entendemos que son."
   ]
  },
  {
   "cell_type": "markdown",
   "id": "69b88598-140e-41e8-b21c-e2e8eb7689ca",
   "metadata": {
    "id": "69b88598-140e-41e8-b21c-e2e8eb7689ca"
   },
   "source": [
    "- La mediana es el valor que separa la mitad de los datos con valor más alto de la mitad de los datos con valor más bajo. \n",
    "\n",
    " - Se calcula de la siguiente manera: ordena tus valores y encuentra el valor de en medio. En caso de que el número de valores sea par, tenemos dos números de en medio, y por tanto la mediana es el número obtenido por la suma de esos dos números dividida entre dos. Por ejemplo, si tenemos 1, 2, 5, 6, 8, 9, la mediana es (5 + 6) / 2 = 5,5."
   ]
  },
  {
   "cell_type": "markdown",
   "id": "0596c6b3-00a5-47f9-90a4-9c79d94ff678",
   "metadata": {
    "id": "0596c6b3-00a5-47f9-90a4-9c79d94ff678"
   },
   "source": [
    "- El primer cuartil es la mediana de los valores menores a la mediana. Por ejemplo, si tenemos los valores 1, 3, 4, 7, 8, 8, 9, el primer cuartil es la mediana de los valores 1, 3, 4, de manera que es 3."
   ]
  },
  {
   "cell_type": "markdown",
   "id": "7c308b01-57ee-489b-aacd-bfefe010b93a",
   "metadata": {
    "id": "7c308b01-57ee-489b-aacd-bfefe010b93a"
   },
   "source": [
    "- El tercer cuartil es la mediana de los valores mayores a la mediana. Por ejemplo, si tenemos los valores 1, 3, 4, 7, 8, 8, 9, el primer cuartil es la mediana de los valores 8, 8, 9, de manera que es 8."
   ]
  },
  {
   "cell_type": "markdown",
   "id": "e0403f1b-a303-410d-8709-46b91b56eeaf",
   "metadata": {
    "id": "e0403f1b-a303-410d-8709-46b91b56eeaf"
   },
   "source": [
    "- Otro estadístico que se grafica es el IQR (interquartile range). El IQR aproxima la cantidad de dispersión datos en el 50% de datos de en medio. La fórmula es tercer cuartil - primer cuartil."
   ]
  },
  {
   "cell_type": "markdown",
   "id": "6f9a3ea9-570f-47f6-86ab-ece5374bdb86",
   "metadata": {
    "id": "6f9a3ea9-570f-47f6-86ab-ece5374bdb86"
   },
   "source": [
    "- Este tipo de gráfico también nos permite identificar valores atípicos. Un valor atípico es aquel que yace fuera del patrón general de los datos. Se visualizan como círculos en el diagrama de bigote. Cuando tenemos valores atípicos, los valores mínimo y máximo se calculan sobre los valores que no son atípicos.\n",
    "\n",
    " - Hay varias maneras de identificar valores atípicos. Una regla común es decir que un valor es atípico si es menor a primer cuartil - 1.5 * IQR, o mayor a tercer cuartil + 1.5 * IQR."
   ]
  },
  {
   "cell_type": "markdown",
   "id": "f2b92615-1a4f-41ea-aa39-e7d89e2e9329",
   "metadata": {
    "id": "f2b92615-1a4f-41ea-aa39-e7d89e2e9329"
   },
   "source": [
    "Demasiada información, ¿no?\n",
    "\n",
    "Veamos un ejemplo."
   ]
  },
  {
   "cell_type": "code",
   "execution_count": null,
   "id": "ff10d2d2-c625-419d-84df-ef2dc4b6821a",
   "metadata": {
    "id": "ff10d2d2-c625-419d-84df-ef2dc4b6821a"
   },
   "outputs": [],
   "source": [
    "# Valores\n",
    "values = np.array([1, 2, 5, 6, 6, 7, 7, 8, 8, 8, 9, 10, 21])"
   ]
  },
  {
   "cell_type": "code",
   "execution_count": null,
   "id": "fcf6a1e5-cbdb-4667-aed7-2c29d18f9235",
   "metadata": {
    "id": "fcf6a1e5-cbdb-4667-aed7-2c29d18f9235",
    "outputId": "ed8f8ebc-697b-409e-e22f-0981c0d74488"
   },
   "outputs": [
    {
     "data": {
      "image/png": "[encoded data removed]",
      "text/plain": [
       "<Figure size 432x288 with 1 Axes>"
      ]
     },
     "metadata": {
      "needs_background": "light"
     },
     "output_type": "display_data"
    }
   ],
   "source": [
    "# Diagrama de caja\n",
    "statistics = plt.boxplot(values)"
   ]
  },
  {
   "cell_type": "code",
   "execution_count": null,
   "id": "5fe8279b-75d0-436f-b345-8cdd7d6f6ccd",
   "metadata": {
    "id": "5fe8279b-75d0-436f-b345-8cdd7d6f6ccd",
    "outputId": "913a8dad-ff6b-4074-c409-04374139155c"
   },
   "outputs": [
    {
     "data": {
      "text/plain": [
       "7.0"
      ]
     },
     "execution_count": 51,
     "metadata": {},
     "output_type": "execute_result"
    }
   ],
   "source": [
    "np.median(values)"
   ]
  },
  {
   "cell_type": "code",
   "execution_count": null,
   "id": "05b7a7c7-3bee-4893-b009-0ec2bf1f15e4",
   "metadata": {
    "id": "05b7a7c7-3bee-4893-b009-0ec2bf1f15e4",
    "outputId": "ec68cb48-0d8d-4fce-e2d8-10a1c27cdc3d"
   },
   "outputs": [
    {
     "data": {
      "text/plain": [
       "3.0"
      ]
     },
     "execution_count": 52,
     "metadata": {},
     "output_type": "execute_result"
    }
   ],
   "source": [
    "q25 = 5.5\n",
    "q75 = 8.5\n",
    "IQR = q75 - q25\n",
    "IQR"
   ]
  },
  {
   "cell_type": "code",
   "execution_count": null,
   "id": "28d48d1c-197c-4631-b280-9898148fe239",
   "metadata": {
    "id": "28d48d1c-197c-4631-b280-9898148fe239",
    "outputId": "04a261a3-a965-40e8-e735-dac5e17c6a38"
   },
   "outputs": [
    {
     "data": {
      "text/plain": [
       "(13.0, 1.0)"
      ]
     },
     "execution_count": 53,
     "metadata": {},
     "output_type": "execute_result"
    }
   ],
   "source": [
    "q75 + 1.5 * IQR, q25 - 1.5 * IQR"
   ]
  },
  {
   "cell_type": "markdown",
   "id": "c8ad5c86-19a1-4fff-a5eb-8c9c9b8bb21c",
   "metadata": {
    "id": "c8ad5c86-19a1-4fff-a5eb-8c9c9b8bb21c"
   },
   "source": [
    "¿Qué identificamos?\n",
    "\n",
    "- La mediana es 7\n",
    "- El primer cuartil es 6\n",
    "- El tercer cuartil es 8\n",
    "- El IQR es 2"
   ]
  },
  {
   "cell_type": "markdown",
   "id": "26adf3b9-be58-4d96-b79e-629fab46a9c9",
   "metadata": {
    "id": "26adf3b9-be58-4d96-b79e-629fab46a9c9",
    "tags": []
   },
   "source": [
    "### Diagrama de barras\n",
    "\n",
    "Muy útil para representar datos categóricos. Cada barra tiene una altura que corresponde al valor que representa.\n",
    "\n",
    "Es útil cuando queremos comparar diferentes categorías en cuanto a alguna métrica."
   ]
  },
  {
   "cell_type": "code",
   "execution_count": null,
   "id": "3d1ffe04-abac-4f75-9544-71df283e7140",
   "metadata": {
    "id": "3d1ffe04-abac-4f75-9544-71df283e7140"
   },
   "outputs": [],
   "source": [
    "# Cantidad de búsquedas en google para lenguajes de programación en 2018\n",
    "# 100 representa el tráfico anual de búsquedas más alto\n",
    "labels = [\"Python\", \"Java\", \"JavaScript\", \"R\", \"C++\"]\n",
    "usage = np.array([60, 52, 42, 20, 15])"
   ]
  },
  {
   "cell_type": "code",
   "execution_count": null,
   "id": "ccd58789-cfe1-4ae8-b202-b473d588d591",
   "metadata": {
    "id": "ccd58789-cfe1-4ae8-b202-b473d588d591",
    "outputId": "c40dbdb6-ec05-475f-a54b-4513c38cabe8"
   },
   "outputs": [
    {
     "data": {
      "text/plain": [
       "<BarContainer object of 5 artists>"
      ]
     },
     "execution_count": 55,
     "metadata": {},
     "output_type": "execute_result"
    },
    {
     "data": {
      "image/png": "[encoded data removed]",
      "text/plain": [
       "<Figure size 432x288 with 1 Axes>"
      ]
     },
     "metadata": {
      "needs_background": "light"
     },
     "output_type": "display_data"
    }
   ],
   "source": [
    "# Diagrama de barras\n",
    "plt.bar(labels, usage)"
   ]
  },
  {
   "cell_type": "markdown",
   "id": "6e69f80f-c38c-4287-9afc-0ae55235cde4",
   "metadata": {
    "id": "6e69f80f-c38c-4287-9afc-0ae55235cde4",
    "tags": []
   },
   "source": [
    "### Dagrama de pastel:\n",
    "\n",
    "Es un gráfico circular, dividido en tajadas para mostrar la proporción numérica. Son ampliamente utilizados en el mundo de los negocios.\n",
    "\n",
    "Sin embargo, varios experos recomiendan evitarlos, argumentando que es difícil comparar las secciones de un diagrama de pastel. Por otra parte, es difícil comparar datos con distintos diagramas de pastel. En la mayoría de los casos, se pueden reemplazar por un diagrama de barras."
   ]
  },
  {
   "cell_type": "code",
   "execution_count": null,
   "id": "5c7851ed-5ace-4da0-9a64-d8d54cc479b5",
   "metadata": {
    "id": "5c7851ed-5ace-4da0-9a64-d8d54cc479b5"
   },
   "outputs": [],
   "source": [
    "sizes = [25, 20, 45, 10]\n",
    "labels = [\"Cats\", \"Dogs\", \"Tigers\", \"Goats\"]"
   ]
  },
  {
   "cell_type": "code",
   "execution_count": null,
   "id": "f2b29176-ee7d-4bbd-a4e2-70c7f69fe1af",
   "metadata": {
    "id": "f2b29176-ee7d-4bbd-a4e2-70c7f69fe1af",
    "outputId": "74c2afbe-99f4-4230-c5de-87423c2fa005"
   },
   "outputs": [
    {
     "name": "stdout",
     "output_type": "stream",
     "text": [
      "Help on function pie in module matplotlib.pyplot:\n",
      "\n",
      "pie(x, explode=None, labels=None, colors=None, autopct=None, pctdistance=0.6, shadow=False, labeldistance=1.1, startangle=0, radius=1, counterclock=True, wedgeprops=None, textprops=None, center=(0, 0), frame=False, rotatelabels=False, *, normalize=True, data=None)\n",
      "    Plot a pie chart.\n",
      "    \n",
      "    Make a pie chart of array *x*.  The fractional area of each wedge is\n",
      "    given by ``x/sum(x)``.  If ``sum(x) < 1``, then the values of *x* give\n",
      "    the fractional area directly and the array will not be normalized. The\n",
      "    resulting pie will have an empty wedge of size ``1 - sum(x)``.\n",
      "    \n",
      "    The wedges are plotted counterclockwise, by default starting from the\n",
      "    x-axis.\n",
      "    \n",
      "    Parameters\n",
      "    ----------\n",
      "    x : 1D array-like\n",
      "        The wedge sizes.\n",
      "    \n",
      "    explode : array-like, default: None\n",
      "        If not *None*, is a ``len(x)`` array which specifies the fraction\n",
      "        of the radius with which to offset each wedge.\n",
      "    \n",
      "    labels : list, default: None\n",
      "        A sequence of strings providing the labels for each wedge\n",
      "    \n",
      "    colors : array-like, default: None\n",
      "        A sequence of colors through which the pie chart will cycle.  If\n",
      "        *None*, will use the colors in the currently active cycle.\n",
      "    \n",
      "    autopct : None or str or callable, default: None\n",
      "        If not *None*, is a string or function used to label the wedges\n",
      "        with their numeric value.  The label will be placed inside the\n",
      "        wedge.  If it is a format string, the label will be ``fmt % pct``.\n",
      "        If it is a function, it will be called.\n",
      "    \n",
      "    pctdistance : float, default: 0.6\n",
      "        The ratio between the center of each pie slice and the start of\n",
      "        the text generated by *autopct*.  Ignored if *autopct* is *None*.\n",
      "    \n",
      "    shadow : bool, default: False\n",
      "        Draw a shadow beneath the pie.\n",
      "    \n",
      "    normalize : bool, default: True\n",
      "        When *True*, always make a full pie by normalizing x so that\n",
      "        ``sum(x) == 1``. *False* makes a partial pie if ``sum(x) <= 1``\n",
      "        and raises a `ValueError` for ``sum(x) > 1``.\n",
      "    \n",
      "    labeldistance : float or None, default: 1.1\n",
      "        The radial distance at which the pie labels are drawn.\n",
      "        If set to ``None``, label are not drawn, but are stored for use in\n",
      "        ``legend()``\n",
      "    \n",
      "    startangle : float, default: 0 degrees\n",
      "        The angle by which the start of the pie is rotated,\n",
      "        counterclockwise from the x-axis.\n",
      "    \n",
      "    radius : float, default: 1\n",
      "        The radius of the pie.\n",
      "    \n",
      "    counterclock : bool, default: True\n",
      "        Specify fractions direction, clockwise or counterclockwise.\n",
      "    \n",
      "    wedgeprops : dict, default: None\n",
      "        Dict of arguments passed to the wedge objects making the pie.\n",
      "        For example, you can pass in ``wedgeprops = {'linewidth': 3}``\n",
      "        to set the width of the wedge border lines equal to 3.\n",
      "        For more details, look at the doc/arguments of the wedge object.\n",
      "        By default ``clip_on=False``.\n",
      "    \n",
      "    textprops : dict, default: None\n",
      "        Dict of arguments to pass to the text objects.\n",
      "    \n",
      "    center : (float, float), default: (0, 0)\n",
      "        The coordinates of the center of the chart.\n",
      "    \n",
      "    frame : bool, default: False\n",
      "        Plot Axes frame with the chart if true.\n",
      "    \n",
      "    rotatelabels : bool, default: False\n",
      "        Rotate each label to the angle of the corresponding slice if true.\n",
      "    \n",
      "    data : indexable object, optional\n",
      "        If given, the following parameters also accept a string ``s``, which is\n",
      "        interpreted as ``data[s]`` (unless this raises an exception):\n",
      "    \n",
      "        *x*, *explode*, *labels*, *colors*\n",
      "    \n",
      "    Returns\n",
      "    -------\n",
      "    patches : list\n",
      "        A sequence of `matplotlib.patches.Wedge` instances\n",
      "    \n",
      "    texts : list\n",
      "        A list of the label `.Text` instances.\n",
      "    \n",
      "    autotexts : list\n",
      "        A list of `.Text` instances for the numeric labels. This will only\n",
      "        be returned if the parameter *autopct* is not *None*.\n",
      "    \n",
      "    Notes\n",
      "    -----\n",
      "    The pie chart will probably look best if the figure and Axes are\n",
      "    square, or the Axes aspect is equal.\n",
      "    This method sets the aspect ratio of the axis to \"equal\".\n",
      "    The Axes aspect ratio can be controlled with `.Axes.set_aspect`.\n",
      "\n"
     ]
    }
   ],
   "source": [
    "help(plt.pie)"
   ]
  },
  {
   "cell_type": "code",
   "execution_count": null,
   "id": "c443c5b9-85c4-4dea-9bcf-5b0f32135732",
   "metadata": {
    "id": "c443c5b9-85c4-4dea-9bcf-5b0f32135732",
    "outputId": "52e675ba-3e2c-40cb-f13e-9303322b578c"
   },
   "outputs": [
    {
     "data": {
      "text/plain": [
       "([<matplotlib.patches.Wedge at 0x7ffb7d85d8e0>,\n",
       "  <matplotlib.patches.Wedge at 0x7ffb7d85ddf0>,\n",
       "  <matplotlib.patches.Wedge at 0x7ffb7d86d310>,\n",
       "  <matplotlib.patches.Wedge at 0x7ffb7d86d7f0>],\n",
       " [Text(0.7778174593052024, 0.7778174593052023, 'Cats'),\n",
       "  Text(-0.6465637858537404, 0.8899186877588754, 'Dogs'),\n",
       "  Text(-0.49938956806635254, -0.9801071672559598, 'Tigers'),\n",
       "  Text(1.0461621504206509, -0.3399187476842658, 'Goats')])"
      ]
     },
     "execution_count": 58,
     "metadata": {},
     "output_type": "execute_result"
    },
    {
     "data": {
      "image/png": "[encoded data removed]",
      "text/plain": [
       "<Figure size 432x288 with 1 Axes>"
      ]
     },
     "metadata": {},
     "output_type": "display_data"
    }
   ],
   "source": [
    "# Diagrama de pastel\n",
    "plt.pie(sizes, labels=labels)"
   ]
  },
  {
   "cell_type": "markdown",
   "id": "116d3132-bbec-46f4-a049-362863d13181",
   "metadata": {
    "id": "116d3132-bbec-46f4-a049-362863d13181",
    "tags": []
   },
   "source": [
    "## Les recomiendo ampliamente este [tutorial](https://matplotlib.org/stable/tutorials/introductory/pyplot.html)\n"
   ]
  },
  {
   "cell_type": "code",
   "execution_count": null,
   "id": "d8a6638b-31cf-4d80-a3ac-a32647ef13b8",
   "metadata": {
    "id": "d8a6638b-31cf-4d80-a3ac-a32647ef13b8"
   },
   "outputs": [],
   "source": []
  }
 ],
 "metadata": {
  "colab": {
   "name": "Clase_7_solucion.ipynb",
   "provenance": []
  },
  "kernelspec": {
   "display_name": "Python 3",
   "language": "python",
   "name": "python3"
  },
  "language_info": {
   "codemirror_mode": {
    "name": "ipython",
    "version": 3
   },
   "file_extension": ".py",
   "mimetype": "text/x-python",
   "name": "python",
   "nbconvert_exporter": "python",
   "pygments_lexer": "ipython3",
   "version": "3.9.5"
  }
 },
 "nbformat": 4,
 "nbformat_minor": 5
}
