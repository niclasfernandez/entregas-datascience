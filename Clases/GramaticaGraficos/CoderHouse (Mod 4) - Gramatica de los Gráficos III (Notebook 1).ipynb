{
 "cells": [
  {
   "cell_type": "markdown",
   "metadata": {},
   "source": [
    "# Analisis Espacial en Python"
   ]
  },
  {
   "cell_type": "code",
   "execution_count": 59,
   "metadata": {},
   "outputs": [],
   "source": [
    "#Geolocalización\n",
    "from geopy.geocoders import Nominatim #api que me ofrece las geolocaliciones de diferentes ciudades\n",
    "import time\n",
    "import math"
   ]
  },
  {
   "cell_type": "code",
   "execution_count": 60,
   "metadata": {},
   "outputs": [],
   "source": [
    "# Creamos un Objeto Nominatim\n",
    "geo = Nominatim(user_agent=\"AppMap\")"
   ]
  },
  {
   "cell_type": "code",
   "execution_count": 61,
   "metadata": {},
   "outputs": [
    {
     "name": "stdout",
     "output_type": "stream",
     "text": [
      "Rosario, Municipio de Rosario, Gran Rosario, Departamento Rosario, Santa Fe, S2000, Argentina\n"
     ]
    }
   ],
   "source": [
    "#Definimos el lugar que deseo en el objeto previamente creado\n",
    "loc = geo.geocode(\"Rosario\")\n",
    "print(loc.address)"
   ]
  },
  {
   "cell_type": "code",
   "execution_count": 62,
   "metadata": {},
   "outputs": [
    {
     "name": "stdout",
     "output_type": "stream",
     "text": [
      "Avenida Pellegrini, La Serena, Alvear, Municipio de Alvear, Gran Rosario, Departamento Rosario, Santa Fe, 2126, Argentina\n"
     ]
    }
   ],
   "source": [
    "#Veamos otro ejemplo pero ahora con una calle!\n",
    "loc = geo.geocode(\"Avenida Pellegrini, Rosario\")\n",
    "print(loc.address)"
   ]
  },
  {
   "cell_type": "code",
   "execution_count": 63,
   "metadata": {},
   "outputs": [
    {
     "name": "stdout",
     "output_type": "stream",
     "text": [
      "Flatiron Building, 175, 5th Avenue, Flatiron District, Manhattan, New York County, New York, 10010, United States\n"
     ]
    }
   ],
   "source": [
    "#Incluso podemos pedir una direccion de NY\n",
    "loc = geo.geocode(\"175 5th Avenue NYC\")\n",
    "print(loc.address)"
   ]
  },
  {
   "cell_type": "code",
   "execution_count": 64,
   "metadata": {},
   "outputs": [
    {
     "name": "stdout",
     "output_type": "stream",
     "text": [
      "(40.741059199999995, -73.98964162240998)\n"
     ]
    }
   ],
   "source": [
    "#Imprimimos el lugar\n",
    "print((loc.latitude, loc.longitude))"
   ]
  },
  {
   "cell_type": "code",
   "execution_count": 65,
   "metadata": {},
   "outputs": [
    {
     "name": "stdout",
     "output_type": "stream",
     "text": [
      "Ingresa un lugar por favor175 5th Avenue NYC\n",
      "(40.741059199999995, -73.98964162240998)\n"
     ]
    }
   ],
   "source": [
    "#Tambien podemos hacer mas parametrizable nuestro código de la siguiente manera:\n",
    "lugar = input(\"Ingresa un lugar por favor\") #ejemplo: \"175 5th Avenue NYC\"\n",
    "loc = geo.geocode(lugar)\n",
    "print((loc.latitude, loc.longitude))"
   ]
  },
  {
   "cell_type": "markdown",
   "metadata": {},
   "source": [
    "# Localizacion de Varias Ciudades"
   ]
  },
  {
   "cell_type": "code",
   "execution_count": 18,
   "metadata": {},
   "outputs": [
    {
     "name": "stdout",
     "output_type": "stream",
     "text": [
      "Ciudad de Mexico : -100.0000375,22.5000485\n",
      "Ciudad de Madrid : -3.7035825,40.4167047\n",
      "Ciudad de Paris : 2.3514616,48.8566969\n"
     ]
    }
   ],
   "source": [
    "location_lista = [\"Mexico\",\"Madrid\",\"Paris\"]\n",
    "\n",
    "#Recorremos la lista\n",
    "for i in location_lista:\n",
    "    address = geo.geocode(i, timeout=10) #obtengo la direccion\n",
    "    print (\"Ciudad de \"+ i + \" : \" + str(address.longitude) + \",\" + str(address.latitude)) #muestro la longitud y latitud\n",
    "    time.sleep(1)"
   ]
  },
  {
   "cell_type": "markdown",
   "metadata": {},
   "source": [
    "# Calcular la distancia entre dos lugares"
   ]
  },
  {
   "cell_type": "code",
   "execution_count": 49,
   "metadata": {},
   "outputs": [
    {
     "name": "stdout",
     "output_type": "stream",
     "text": [
      "144.08715363813417\n"
     ]
    }
   ],
   "source": [
    "from geopy.distance import distance\n",
    "Rosario = (-32.94682, -60.63932)\n",
    "SantaFe = (-31.64881, -60.70868)\n",
    "distancia = distance(Rosario,SantaFe).km\n",
    "print (distancia)"
   ]
  },
  {
   "cell_type": "code",
   "execution_count": 58,
   "metadata": {},
   "outputs": [],
   "source": [
    "# Ejercicio - Alumnos: \n",
    "\n",
    "#Calcular la distancia entre Santa Fe y Paraná y luego calcular la distancia entre Paraná y Buenos Aires"
   ]
  }
 ],
 "metadata": {
  "kernelspec": {
   "display_name": "Python 3",
   "language": "python",
   "name": "python3"
  },
  "language_info": {
   "codemirror_mode": {
    "name": "ipython",
    "version": 3
   },
   "file_extension": ".py",
   "mimetype": "text/x-python",
   "name": "python",
   "nbconvert_exporter": "python",
   "pygments_lexer": "ipython3",
   "version": "3.8.5"
  },
  "varInspector": {
   "cols": {
    "lenName": 16,
    "lenType": 16,
    "lenVar": 40
   },
   "kernels_config": {
    "python": {
     "delete_cmd_postfix": "",
     "delete_cmd_prefix": "del ",
     "library": "var_list.py",
     "varRefreshCmd": "print(var_dic_list())"
    },
    "r": {
     "delete_cmd_postfix": ") ",
     "delete_cmd_prefix": "rm(",
     "library": "var_list.r",
     "varRefreshCmd": "cat(var_dic_list()) "
    }
   },
   "types_to_exclude": [
    "module",
    "function",
    "builtin_function_or_method",
    "instance",
    "_Feature"
   ],
   "window_display": false
  }
 },
 "nbformat": 4,
 "nbformat_minor": 4
}
