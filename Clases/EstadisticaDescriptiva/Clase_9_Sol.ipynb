{
 "cells": [
  {
   "cell_type": "markdown",
   "id": "f3902895-d36b-4ac9-8626-d5cd0d599141",
   "metadata": {},
   "source": [
    "# Clase 9. Estadística Descriptiva"
   ]
  },
  {
   "cell_type": "markdown",
   "id": "51545049-27a6-41e5-b4e8-261633063970",
   "metadata": {},
   "source": [
    "### TIPOS DE VARIABLES Y TIPOS DE DATOS"
   ]
  },
  {
   "cell_type": "code",
   "execution_count": 93,
   "id": "2f2f4a74-caec-42c7-ac2e-89fe68559908",
   "metadata": {},
   "outputs": [
    {
     "data": {
      "text/html": [
       "<div>\n",
       "<style scoped>\n",
       "    .dataframe tbody tr th:only-of-type {\n",
       "        vertical-align: middle;\n",
       "    }\n",
       "\n",
       "    .dataframe tbody tr th {\n",
       "        vertical-align: top;\n",
       "    }\n",
       "\n",
       "    .dataframe thead th {\n",
       "        text-align: right;\n",
       "    }\n",
       "</style>\n",
       "<table border=\"1\" class=\"dataframe\">\n",
       "  <thead>\n",
       "    <tr style=\"text-align: right;\">\n",
       "      <th></th>\n",
       "      <th>type</th>\n",
       "      <th>title</th>\n",
       "      <th>country</th>\n",
       "      <th>release_year</th>\n",
       "      <th>rating</th>\n",
       "      <th>duration</th>\n",
       "    </tr>\n",
       "  </thead>\n",
       "  <tbody>\n",
       "    <tr>\n",
       "      <th>0</th>\n",
       "      <td>Movie</td>\n",
       "      <td>Norm of the ...</td>\n",
       "      <td>United States</td>\n",
       "      <td>missing</td>\n",
       "      <td>PG</td>\n",
       "      <td>91.071</td>\n",
       "    </tr>\n",
       "    <tr>\n",
       "      <th>1</th>\n",
       "      <td>Movie</td>\n",
       "      <td>Jandino: Wha...</td>\n",
       "      <td>United Kingdom</td>\n",
       "      <td>2016</td>\n",
       "      <td>R</td>\n",
       "      <td>94.516</td>\n",
       "    </tr>\n",
       "    <tr>\n",
       "      <th>2</th>\n",
       "      <td>TV Show</td>\n",
       "      <td>Transformers...</td>\n",
       "      <td>United States</td>\n",
       "      <td>2013</td>\n",
       "      <td>G</td>\n",
       "      <td>1.127</td>\n",
       "    </tr>\n",
       "    <tr>\n",
       "      <th>3</th>\n",
       "      <td>TV Show</td>\n",
       "      <td>Transformers...</td>\n",
       "      <td>United States</td>\n",
       "      <td>2016</td>\n",
       "      <td>TV-14</td>\n",
       "      <td>1.687</td>\n",
       "    </tr>\n",
       "    <tr>\n",
       "      <th>4</th>\n",
       "      <td>Movie</td>\n",
       "      <td>#realityhigh...</td>\n",
       "      <td>United States</td>\n",
       "      <td>2017</td>\n",
       "      <td>TV-14</td>\n",
       "      <td>99.248</td>\n",
       "    </tr>\n",
       "  </tbody>\n",
       "</table>\n",
       "</div>"
      ],
      "text/plain": [
       "      type            title         country release_year rating  duration\n",
       "0    Movie  Norm of the ...   United States      missing     PG    91.071\n",
       "1    Movie  Jandino: Wha...  United Kingdom         2016      R    94.516\n",
       "2  TV Show  Transformers...   United States         2013      G     1.127\n",
       "3  TV Show  Transformers...   United States         2016  TV-14     1.687\n",
       "4    Movie  #realityhigh...   United States         2017  TV-14    99.248"
      ]
     },
     "execution_count": 93,
     "metadata": {},
     "output_type": "execute_result"
    }
   ],
   "source": [
    "# Import pandas with alias\n",
    "import pandas as pd\n",
    "\n",
    "# Import dataset as a Pandas dataframe\n",
    "movies = pd.read_csv(\"data/movie_show.csv\", index_col=0)\n",
    "\n",
    "# View the first five rows of the dataframe\n",
    "movies.head()"
   ]
  },
  {
   "cell_type": "code",
   "execution_count": 85,
   "id": "7fbd5ba0-9c4d-4c01-a210-a423dbee80e8",
   "metadata": {},
   "outputs": [
    {
     "name": "stdout",
     "output_type": "stream",
     "text": [
      "['United States' 'United Kingdom' 'Spain' 'Bulgaria' 'Chile' nan\n",
      " 'Netherlands' 'France' 'Thailand' 'China' 'Belgium' 'India' 'Pakistan'\n",
      " 'Canada' 'South Korea' 'Denmark' 'Turkey' 'Brazil' 'Indonesia' 'Ireland'\n",
      " 'Hong Kong' 'Mexico' 'Vietnam' 'Nigeria' 'Japan' 'Norway' 'Lebanon'\n",
      " 'Cambodia' 'Russia' 'Poland' 'Israel' 'Italy' 'Germany'\n",
      " 'United Arab Emirates' 'Egypt' 'Taiwan' 'Australia' 'Czech Republic'\n",
      " 'Argentina' 'Switzerland' 'Malaysia' 'Philippines' 'Serbia' 'Colombia'\n",
      " 'Singapore' 'Peru' 'South Africa' 'New Zealand' 'Venezuela'\n",
      " 'Saudi Arabia' 'Iceland' 'Austria' 'Uruguay' 'Finland' 'Ghana' 'Iran'\n",
      " 'Sweden' 'Hungary' 'Guatemala' 'Portugal' 'Paraguay' 'Somalia' 'Ukraine'\n",
      " 'Dominican Republic' 'Romania' 'Slovenia' 'Croatia' 'Bangladesh'\n",
      " 'Soviet Union' 'Georgia' 'West Germany' 'Mauritius' 'Cyprus']\n"
     ]
    }
   ],
   "source": [
    "# Print the unique values in the country column\n",
    "print(movies['country'].unique())"
   ]
  },
  {
   "cell_type": "code",
   "execution_count": 87,
   "id": "685f2976-0aef-4e0a-ba27-61226e620595",
   "metadata": {},
   "outputs": [],
   "source": [
    "# Set the correct value for country_variable_type\n",
    "country_variable_type = 'nominal'"
   ]
  },
  {
   "cell_type": "code",
   "execution_count": 88,
   "id": "34de3aa6-44b9-407e-8309-7b804acf3a18",
   "metadata": {},
   "outputs": [],
   "source": [
    "# Set the correct value for release_year_variable_type\n",
    "release_year_variable_type = 'discrete'"
   ]
  },
  {
   "cell_type": "code",
   "execution_count": 89,
   "id": "4b87a1f5-84d9-4198-8389-8b14e5516cf1",
   "metadata": {},
   "outputs": [],
   "source": [
    "# Set the correct value for duration_variable_type\n",
    "duration_variable_type = 'continuous'"
   ]
  },
  {
   "cell_type": "code",
   "execution_count": 94,
   "id": "f0f9f5a0-0bfe-4982-adbd-3b25226b5060",
   "metadata": {},
   "outputs": [
    {
     "data": {
      "text/plain": [
       "type             object\n",
       "title            object\n",
       "country          object\n",
       "release_year     object\n",
       "rating           object\n",
       "duration        float64\n",
       "dtype: object"
      ]
     },
     "execution_count": 94,
     "metadata": {},
     "output_type": "execute_result"
    }
   ],
   "source": [
    "# Print the data types of the dataframe with dtypes\n",
    "movies.dtypes"
   ]
  },
  {
   "cell_type": "code",
   "execution_count": 95,
   "id": "cff10f95-5905-4e88-9349-6bacce0362f7",
   "metadata": {},
   "outputs": [
    {
     "data": {
      "text/plain": [
       "array(['missing', '2016', '2013', '2017', '2014', '2015', '2009', '2012',\n",
       "       '2010', '2018', '2011', '2019', '2004', '2000', '1983', '1982',\n",
       "       '2006', '2005', '2002', '1997', '2008', '2007', '2003', '1981',\n",
       "       '1991', '1994', '1988', '1976', '1973', '1974', '1989', '1986',\n",
       "       '1984', '1978', '1998', '1972', '1979', '1960', '1959', '2001',\n",
       "       '1995', '1992', '1990', '1975', '1985', '1980', '1970', '1996',\n",
       "       '1967', '1999', '1987', '1968', '1993', '2020', '1958', '1965',\n",
       "       '1956', '1962', '1955', '1977', '1945', '1946', '1942', '1944',\n",
       "       '1947', '1943', '1969', '1954', '1966', '1971', '1964', '1925',\n",
       "       '1963'], dtype=object)"
      ]
     },
     "execution_count": 95,
     "metadata": {},
     "output_type": "execute_result"
    }
   ],
   "source": [
    "movies['release_year'].unique()"
   ]
  },
  {
   "cell_type": "code",
   "execution_count": 96,
   "id": "a2a0be96-0263-460e-8c5e-fbdf0e6ecddd",
   "metadata": {},
   "outputs": [
    {
     "data": {
      "text/plain": [
       "type             object\n",
       "title            object\n",
       "country          object\n",
       "release_year      int64\n",
       "rating           object\n",
       "duration        float64\n",
       "dtype: object"
      ]
     },
     "execution_count": 96,
     "metadata": {},
     "output_type": "execute_result"
    }
   ],
   "source": [
    "# Replace any missing values in release_year with 2019\n",
    "movies['release_year'] = movies['release_year'].replace(['missing'], 2019)\n",
    "\n",
    "# Change the data type of release_year to int\n",
    "movies['release_year'] = movies['release_year'].astype('int')\n",
    "\n",
    "# Recheck the data types with .dtypes.\n",
    "movies.dtypes"
   ]
  },
  {
   "cell_type": "code",
   "execution_count": 97,
   "id": "eecab629-a2bd-454f-b8c6-777551888e92",
   "metadata": {},
   "outputs": [
    {
     "data": {
      "text/plain": [
       "2013.3593198588387"
      ]
     },
     "execution_count": 97,
     "metadata": {},
     "output_type": "execute_result"
    }
   ],
   "source": [
    "# Calculate the mean of release_year\n",
    "movies['release_year'].mean()"
   ]
  },
  {
   "cell_type": "code",
   "execution_count": 98,
   "id": "e34a8914-05d3-440a-96c9-76918e5f92bf",
   "metadata": {},
   "outputs": [
    {
     "data": {
      "text/html": [
       "<div>\n",
       "<style scoped>\n",
       "    .dataframe tbody tr th:only-of-type {\n",
       "        vertical-align: middle;\n",
       "    }\n",
       "\n",
       "    .dataframe tbody tr th {\n",
       "        vertical-align: top;\n",
       "    }\n",
       "\n",
       "    .dataframe thead th {\n",
       "        text-align: right;\n",
       "    }\n",
       "</style>\n",
       "<table border=\"1\" class=\"dataframe\">\n",
       "  <thead>\n",
       "    <tr style=\"text-align: right;\">\n",
       "      <th></th>\n",
       "      <th>Clothing ID</th>\n",
       "      <th>Age</th>\n",
       "      <th>Title</th>\n",
       "      <th>Rating</th>\n",
       "      <th>Division Name</th>\n",
       "    </tr>\n",
       "  </thead>\n",
       "  <tbody>\n",
       "    <tr>\n",
       "      <th>0</th>\n",
       "      <td>767</td>\n",
       "      <td>33</td>\n",
       "      <td>NaN</td>\n",
       "      <td>satisfied</td>\n",
       "      <td>Initmates</td>\n",
       "    </tr>\n",
       "    <tr>\n",
       "      <th>1</th>\n",
       "      <td>1080</td>\n",
       "      <td>34</td>\n",
       "      <td>NaN</td>\n",
       "      <td>very satisfied</td>\n",
       "      <td>General</td>\n",
       "    </tr>\n",
       "    <tr>\n",
       "      <th>2</th>\n",
       "      <td>1077</td>\n",
       "      <td>60</td>\n",
       "      <td>Some major design flaws</td>\n",
       "      <td>neutral</td>\n",
       "      <td>General</td>\n",
       "    </tr>\n",
       "    <tr>\n",
       "      <th>3</th>\n",
       "      <td>1049</td>\n",
       "      <td>50</td>\n",
       "      <td>My favorite buy!</td>\n",
       "      <td>very satisfied</td>\n",
       "      <td>General Petite</td>\n",
       "    </tr>\n",
       "    <tr>\n",
       "      <th>4</th>\n",
       "      <td>847</td>\n",
       "      <td>47</td>\n",
       "      <td>Flattering shirt</td>\n",
       "      <td>very satisfied</td>\n",
       "      <td>General</td>\n",
       "    </tr>\n",
       "  </tbody>\n",
       "</table>\n",
       "</div>"
      ],
      "text/plain": [
       "   Clothing ID  Age                    Title          Rating   Division Name\n",
       "0          767   33                      NaN       satisfied       Initmates\n",
       "1         1080   34                      NaN  very satisfied         General\n",
       "2         1077   60  Some major design flaws         neutral         General\n",
       "3         1049   50         My favorite buy!  very satisfied  General Petite\n",
       "4          847   47         Flattering shirt  very satisfied         General"
      ]
     },
     "execution_count": 98,
     "metadata": {},
     "output_type": "execute_result"
    }
   ],
   "source": [
    "# Import dataset as a Pandas Dataframe\n",
    "clothes = pd.read_csv('data/clothing.csv', index_col=0)\n",
    "\n",
    "# View the first five rows of the dataframe\n",
    "clothes.head()"
   ]
  },
  {
   "cell_type": "code",
   "execution_count": 19,
   "id": "3d219eec-a1f6-46d6-916c-7fb27a52475b",
   "metadata": {},
   "outputs": [
    {
     "name": "stdout",
     "output_type": "stream",
     "text": [
      "['satisfied' 'very satisfied' 'neutral' 'unsatisfied' 'very unsatisfied']\n"
     ]
    }
   ],
   "source": [
    "# Print the unique values of the `Rating` column\n",
    "print(clothes['Rating'].unique())"
   ]
  },
  {
   "cell_type": "code",
   "execution_count": 102,
   "id": "1e69a137-1724-430a-85ce-dc2cdada4835",
   "metadata": {},
   "outputs": [
    {
     "name": "stdout",
     "output_type": "stream",
     "text": [
      "['satisfied', 'very satisfied', 'neutral', 'unsatisfied', 'very unsatisfied']\n",
      "Categories (5, object): ['very unsatisfied' < 'unsatisfied' < 'neutral' < 'satisfied' < 'very satisfied']\n"
     ]
    }
   ],
   "source": [
    "# Change the data type of `Rating` to category\n",
    "clothes['Rating'] = pd.Categorical(clothes['Rating'], ['very unsatisfied', 'unsatisfied', 'neutral', 'satisfied', 'very satisfied'],ordered=True)\n",
    "\n",
    "# Recheck the values of `Rating` with .unique()\n",
    "print(clothes['Rating'].unique())"
   ]
  },
  {
   "cell_type": "code",
   "execution_count": 101,
   "id": "7905fdb3-bc9b-401f-8e00-5a68b5fe77ce",
   "metadata": {},
   "outputs": [
    {
     "data": {
      "text/html": [
       "<div>\n",
       "<style scoped>\n",
       "    .dataframe tbody tr th:only-of-type {\n",
       "        vertical-align: middle;\n",
       "    }\n",
       "\n",
       "    .dataframe tbody tr th {\n",
       "        vertical-align: top;\n",
       "    }\n",
       "\n",
       "    .dataframe thead th {\n",
       "        text-align: right;\n",
       "    }\n",
       "</style>\n",
       "<table border=\"1\" class=\"dataframe\">\n",
       "  <thead>\n",
       "    <tr style=\"text-align: right;\">\n",
       "      <th></th>\n",
       "      <th>Clothing ID</th>\n",
       "      <th>Age</th>\n",
       "      <th>Title</th>\n",
       "      <th>Rating</th>\n",
       "      <th>Division Name</th>\n",
       "      <th>rating_codes</th>\n",
       "    </tr>\n",
       "  </thead>\n",
       "  <tbody>\n",
       "    <tr>\n",
       "      <th>0</th>\n",
       "      <td>767</td>\n",
       "      <td>33</td>\n",
       "      <td>NaN</td>\n",
       "      <td>satisfied</td>\n",
       "      <td>Initmates</td>\n",
       "      <td>3</td>\n",
       "    </tr>\n",
       "    <tr>\n",
       "      <th>1</th>\n",
       "      <td>1080</td>\n",
       "      <td>34</td>\n",
       "      <td>NaN</td>\n",
       "      <td>very satisfied</td>\n",
       "      <td>General</td>\n",
       "      <td>4</td>\n",
       "    </tr>\n",
       "    <tr>\n",
       "      <th>2</th>\n",
       "      <td>1077</td>\n",
       "      <td>60</td>\n",
       "      <td>Some major design flaws</td>\n",
       "      <td>neutral</td>\n",
       "      <td>General</td>\n",
       "      <td>2</td>\n",
       "    </tr>\n",
       "    <tr>\n",
       "      <th>3</th>\n",
       "      <td>1049</td>\n",
       "      <td>50</td>\n",
       "      <td>My favorite buy!</td>\n",
       "      <td>very satisfied</td>\n",
       "      <td>General Petite</td>\n",
       "      <td>4</td>\n",
       "    </tr>\n",
       "    <tr>\n",
       "      <th>4</th>\n",
       "      <td>847</td>\n",
       "      <td>47</td>\n",
       "      <td>Flattering shirt</td>\n",
       "      <td>very satisfied</td>\n",
       "      <td>General</td>\n",
       "      <td>4</td>\n",
       "    </tr>\n",
       "  </tbody>\n",
       "</table>\n",
       "</div>"
      ],
      "text/plain": [
       "   Clothing ID  Age                    Title          Rating   Division Name  \\\n",
       "0          767   33                      NaN       satisfied       Initmates   \n",
       "1         1080   34                      NaN  very satisfied         General   \n",
       "2         1077   60  Some major design flaws         neutral         General   \n",
       "3         1049   50         My favorite buy!  very satisfied  General Petite   \n",
       "4          847   47         Flattering shirt  very satisfied         General   \n",
       "\n",
       "   rating_codes  \n",
       "0             3  \n",
       "1             4  \n",
       "2             2  \n",
       "3             4  \n",
       "4             4  "
      ]
     },
     "execution_count": 101,
     "metadata": {},
     "output_type": "execute_result"
    }
   ],
   "source": [
    "# Create rating_codes by encoding the `Rating` variable with .cat.codes \n",
    "clothes['rating_codes'] = clothes['Rating'].cat.codes\n",
    "\n",
    "clothes.head()"
   ]
  },
  {
   "cell_type": "code",
   "execution_count": 106,
   "id": "209570ef-445e-489e-ba14-a957a174f5e5",
   "metadata": {},
   "outputs": [
    {
     "data": {
      "text/html": [
       "<div>\n",
       "<style scoped>\n",
       "    .dataframe tbody tr th:only-of-type {\n",
       "        vertical-align: middle;\n",
       "    }\n",
       "\n",
       "    .dataframe tbody tr th {\n",
       "        vertical-align: top;\n",
       "    }\n",
       "\n",
       "    .dataframe thead th {\n",
       "        text-align: right;\n",
       "    }\n",
       "</style>\n",
       "<table border=\"1\" class=\"dataframe\">\n",
       "  <thead>\n",
       "    <tr style=\"text-align: right;\">\n",
       "      <th></th>\n",
       "      <th>name</th>\n",
       "      <th>mfr</th>\n",
       "      <th>type</th>\n",
       "      <th>fiber</th>\n",
       "      <th>rating</th>\n",
       "      <th>shelf</th>\n",
       "      <th>vitamins</th>\n",
       "      <th>coupons</th>\n",
       "      <th>price</th>\n",
       "    </tr>\n",
       "  </thead>\n",
       "  <tbody>\n",
       "    <tr>\n",
       "      <th>0</th>\n",
       "      <td>100% Bran</td>\n",
       "      <td>Nestle</td>\n",
       "      <td>C</td>\n",
       "      <td>10.0</td>\n",
       "      <td>68.40</td>\n",
       "      <td>top</td>\n",
       "      <td>25</td>\n",
       "      <td>4</td>\n",
       "      <td>4.06</td>\n",
       "    </tr>\n",
       "    <tr>\n",
       "      <th>1</th>\n",
       "      <td>100% Natural Bran</td>\n",
       "      <td>Quaker Oats</td>\n",
       "      <td>C</td>\n",
       "      <td>2.0</td>\n",
       "      <td>33.98</td>\n",
       "      <td>top</td>\n",
       "      <td>0</td>\n",
       "      <td>1</td>\n",
       "      <td>4.62</td>\n",
       "    </tr>\n",
       "    <tr>\n",
       "      <th>2</th>\n",
       "      <td>All-Bran</td>\n",
       "      <td>Kelloggs</td>\n",
       "      <td>C</td>\n",
       "      <td>9.0</td>\n",
       "      <td>59.43</td>\n",
       "      <td>top</td>\n",
       "      <td>25</td>\n",
       "      <td>3</td>\n",
       "      <td>4.39</td>\n",
       "    </tr>\n",
       "    <tr>\n",
       "      <th>3</th>\n",
       "      <td>All-Bran with Extra Fiber</td>\n",
       "      <td>Kelloggs</td>\n",
       "      <td>C</td>\n",
       "      <td>14.0</td>\n",
       "      <td>93.70</td>\n",
       "      <td>top</td>\n",
       "      <td>25</td>\n",
       "      <td>2</td>\n",
       "      <td>6.18</td>\n",
       "    </tr>\n",
       "    <tr>\n",
       "      <th>4</th>\n",
       "      <td>Almond Delight</td>\n",
       "      <td>Ralston Purina</td>\n",
       "      <td>C</td>\n",
       "      <td>1.0</td>\n",
       "      <td>34.38</td>\n",
       "      <td>top</td>\n",
       "      <td>25</td>\n",
       "      <td>2</td>\n",
       "      <td>6.05</td>\n",
       "    </tr>\n",
       "  </tbody>\n",
       "</table>\n",
       "</div>"
      ],
      "text/plain": [
       "                        name             mfr type  fiber  rating shelf  \\\n",
       "0                  100% Bran          Nestle    C   10.0   68.40   top   \n",
       "1          100% Natural Bran     Quaker Oats    C    2.0   33.98   top   \n",
       "2                   All-Bran        Kelloggs    C    9.0   59.43   top   \n",
       "3  All-Bran with Extra Fiber        Kelloggs    C   14.0   93.70   top   \n",
       "4             Almond Delight  Ralston Purina    C    1.0   34.38   top   \n",
       "\n",
       "   vitamins  coupons  price  \n",
       "0        25        4   4.06  \n",
       "1         0        1   4.62  \n",
       "2        25        3   4.39  \n",
       "3        25        2   6.18  \n",
       "4        25        2   6.05  "
      ]
     },
     "execution_count": 106,
     "metadata": {},
     "output_type": "execute_result"
    }
   ],
   "source": [
    "# Import dataset as a Pandas Dataframe\n",
    "cereal = pd.read_csv('data/cereal.csv', index_col=0)\n",
    "\n",
    "cereal.head()"
   ]
  },
  {
   "cell_type": "code",
   "execution_count": 107,
   "id": "815b14c6-331b-431f-a5ff-13c29e2db116",
   "metadata": {},
   "outputs": [
    {
     "data": {
      "text/html": [
       "<div>\n",
       "<style scoped>\n",
       "    .dataframe tbody tr th:only-of-type {\n",
       "        vertical-align: middle;\n",
       "    }\n",
       "\n",
       "    .dataframe tbody tr th {\n",
       "        vertical-align: top;\n",
       "    }\n",
       "\n",
       "    .dataframe thead th {\n",
       "        text-align: right;\n",
       "    }\n",
       "</style>\n",
       "<table border=\"1\" class=\"dataframe\">\n",
       "  <thead>\n",
       "    <tr style=\"text-align: right;\">\n",
       "      <th></th>\n",
       "      <th>name</th>\n",
       "      <th>type</th>\n",
       "      <th>fiber</th>\n",
       "      <th>rating</th>\n",
       "      <th>shelf</th>\n",
       "      <th>vitamins</th>\n",
       "      <th>coupons</th>\n",
       "      <th>price</th>\n",
       "      <th>mfr_American Home</th>\n",
       "      <th>mfr_General Mills</th>\n",
       "      <th>mfr_Kelloggs</th>\n",
       "      <th>mfr_Nestle</th>\n",
       "      <th>mfr_Post</th>\n",
       "      <th>mfr_Quaker Oats</th>\n",
       "      <th>mfr_Ralston Purina</th>\n",
       "    </tr>\n",
       "  </thead>\n",
       "  <tbody>\n",
       "    <tr>\n",
       "      <th>0</th>\n",
       "      <td>100% Bran</td>\n",
       "      <td>C</td>\n",
       "      <td>10.0</td>\n",
       "      <td>68.40</td>\n",
       "      <td>top</td>\n",
       "      <td>25</td>\n",
       "      <td>4</td>\n",
       "      <td>4.06</td>\n",
       "      <td>0</td>\n",
       "      <td>0</td>\n",
       "      <td>0</td>\n",
       "      <td>1</td>\n",
       "      <td>0</td>\n",
       "      <td>0</td>\n",
       "      <td>0</td>\n",
       "    </tr>\n",
       "    <tr>\n",
       "      <th>1</th>\n",
       "      <td>100% Natural Bran</td>\n",
       "      <td>C</td>\n",
       "      <td>2.0</td>\n",
       "      <td>33.98</td>\n",
       "      <td>top</td>\n",
       "      <td>0</td>\n",
       "      <td>1</td>\n",
       "      <td>4.62</td>\n",
       "      <td>0</td>\n",
       "      <td>0</td>\n",
       "      <td>0</td>\n",
       "      <td>0</td>\n",
       "      <td>0</td>\n",
       "      <td>1</td>\n",
       "      <td>0</td>\n",
       "    </tr>\n",
       "    <tr>\n",
       "      <th>2</th>\n",
       "      <td>All-Bran</td>\n",
       "      <td>C</td>\n",
       "      <td>9.0</td>\n",
       "      <td>59.43</td>\n",
       "      <td>top</td>\n",
       "      <td>25</td>\n",
       "      <td>3</td>\n",
       "      <td>4.39</td>\n",
       "      <td>0</td>\n",
       "      <td>0</td>\n",
       "      <td>1</td>\n",
       "      <td>0</td>\n",
       "      <td>0</td>\n",
       "      <td>0</td>\n",
       "      <td>0</td>\n",
       "    </tr>\n",
       "    <tr>\n",
       "      <th>3</th>\n",
       "      <td>All-Bran with Extra Fiber</td>\n",
       "      <td>C</td>\n",
       "      <td>14.0</td>\n",
       "      <td>93.70</td>\n",
       "      <td>top</td>\n",
       "      <td>25</td>\n",
       "      <td>2</td>\n",
       "      <td>6.18</td>\n",
       "      <td>0</td>\n",
       "      <td>0</td>\n",
       "      <td>1</td>\n",
       "      <td>0</td>\n",
       "      <td>0</td>\n",
       "      <td>0</td>\n",
       "      <td>0</td>\n",
       "    </tr>\n",
       "    <tr>\n",
       "      <th>4</th>\n",
       "      <td>Almond Delight</td>\n",
       "      <td>C</td>\n",
       "      <td>1.0</td>\n",
       "      <td>34.38</td>\n",
       "      <td>top</td>\n",
       "      <td>25</td>\n",
       "      <td>2</td>\n",
       "      <td>6.05</td>\n",
       "      <td>0</td>\n",
       "      <td>0</td>\n",
       "      <td>0</td>\n",
       "      <td>0</td>\n",
       "      <td>0</td>\n",
       "      <td>0</td>\n",
       "      <td>1</td>\n",
       "    </tr>\n",
       "  </tbody>\n",
       "</table>\n",
       "</div>"
      ],
      "text/plain": [
       "                        name type  fiber  rating shelf  vitamins  coupons  \\\n",
       "0                  100% Bran    C   10.0   68.40   top        25        4   \n",
       "1          100% Natural Bran    C    2.0   33.98   top         0        1   \n",
       "2                   All-Bran    C    9.0   59.43   top        25        3   \n",
       "3  All-Bran with Extra Fiber    C   14.0   93.70   top        25        2   \n",
       "4             Almond Delight    C    1.0   34.38   top        25        2   \n",
       "\n",
       "   price  mfr_American Home  mfr_General Mills  mfr_Kelloggs  mfr_Nestle  \\\n",
       "0   4.06                  0                  0             0           1   \n",
       "1   4.62                  0                  0             0           0   \n",
       "2   4.39                  0                  0             1           0   \n",
       "3   6.18                  0                  0             1           0   \n",
       "4   6.05                  0                  0             0           0   \n",
       "\n",
       "   mfr_Post  mfr_Quaker Oats  mfr_Ralston Purina  \n",
       "0         0                0                   0  \n",
       "1         0                1                   0  \n",
       "2         0                0                   0  \n",
       "3         0                0                   0  \n",
       "4         0                0                   1  "
      ]
     },
     "execution_count": 107,
     "metadata": {},
     "output_type": "execute_result"
    }
   ],
   "source": [
    "# Create a new dataframe with the `mfr` variable One-Hot Encoded\n",
    "cereal = pd.get_dummies(cereal, columns=['mfr'])\n",
    "\n",
    "cereal.head()"
   ]
  },
  {
   "cell_type": "code",
   "execution_count": null,
   "id": "217a1595-d86a-4cc2-a9c0-456b1ee8f5eb",
   "metadata": {},
   "outputs": [],
   "source": []
  },
  {
   "cell_type": "markdown",
   "id": "89a8d4af-42c0-4444-a1a6-861bde9b840b",
   "metadata": {},
   "source": [
    "## Resumen estadístico"
   ]
  },
  {
   "cell_type": "markdown",
   "id": "ae42e6a2-65ee-4512-bb49-e64a1290b0ee",
   "metadata": {},
   "source": [
    "### Promedio [Mean]"
   ]
  },
  {
   "cell_type": "code",
   "execution_count": 108,
   "id": "fba16d53-f2b2-4986-97e1-845ebfd84f1d",
   "metadata": {},
   "outputs": [
    {
     "data": {
      "text/html": [
       "<div>\n",
       "<style scoped>\n",
       "    .dataframe tbody tr th:only-of-type {\n",
       "        vertical-align: middle;\n",
       "    }\n",
       "\n",
       "    .dataframe tbody tr th {\n",
       "        vertical-align: top;\n",
       "    }\n",
       "\n",
       "    .dataframe thead th {\n",
       "        text-align: right;\n",
       "    }\n",
       "</style>\n",
       "<table border=\"1\" class=\"dataframe\">\n",
       "  <thead>\n",
       "    <tr style=\"text-align: right;\">\n",
       "      <th></th>\n",
       "      <th>Unnamed: 0.1</th>\n",
       "      <th>Unnamed: 0</th>\n",
       "      <th>No.</th>\n",
       "      <th>Title</th>\n",
       "      <th>Author</th>\n",
       "      <th>Year</th>\n",
       "      <th>Language</th>\n",
       "      <th>Birth Date</th>\n",
       "      <th>Ages</th>\n",
       "    </tr>\n",
       "  </thead>\n",
       "  <tbody>\n",
       "    <tr>\n",
       "      <th>0</th>\n",
       "      <td>0</td>\n",
       "      <td>0</td>\n",
       "      <td>1</td>\n",
       "      <td>The StrangerThe Outsider</td>\n",
       "      <td>Albert Camus</td>\n",
       "      <td>1942.0</td>\n",
       "      <td>French</td>\n",
       "      <td>7 November 1913</td>\n",
       "      <td>29.0</td>\n",
       "    </tr>\n",
       "    <tr>\n",
       "      <th>1</th>\n",
       "      <td>1</td>\n",
       "      <td>1</td>\n",
       "      <td>2</td>\n",
       "      <td>In Search of Lost TimeRemembrance of Things Past</td>\n",
       "      <td>Marcel Proust</td>\n",
       "      <td>1920.0</td>\n",
       "      <td>French</td>\n",
       "      <td>10 July 1871</td>\n",
       "      <td>49.0</td>\n",
       "    </tr>\n",
       "    <tr>\n",
       "      <th>2</th>\n",
       "      <td>2</td>\n",
       "      <td>2</td>\n",
       "      <td>3</td>\n",
       "      <td>The Trial</td>\n",
       "      <td>Franz Kafka</td>\n",
       "      <td>1925.0</td>\n",
       "      <td>German</td>\n",
       "      <td>3 July 1883</td>\n",
       "      <td>42.0</td>\n",
       "    </tr>\n",
       "    <tr>\n",
       "      <th>3</th>\n",
       "      <td>3</td>\n",
       "      <td>3</td>\n",
       "      <td>4</td>\n",
       "      <td>The Little Prince</td>\n",
       "      <td>Antoine de Saint-Exupry</td>\n",
       "      <td>1943.0</td>\n",
       "      <td>French</td>\n",
       "      <td>29 June 1900</td>\n",
       "      <td>43.0</td>\n",
       "    </tr>\n",
       "    <tr>\n",
       "      <th>4</th>\n",
       "      <td>4</td>\n",
       "      <td>4</td>\n",
       "      <td>5</td>\n",
       "      <td>Man's Fate</td>\n",
       "      <td>Andr Malraux</td>\n",
       "      <td>1933.0</td>\n",
       "      <td>French</td>\n",
       "      <td>3 November 1901</td>\n",
       "      <td>32.0</td>\n",
       "    </tr>\n",
       "  </tbody>\n",
       "</table>\n",
       "</div>"
      ],
      "text/plain": [
       "   Unnamed: 0.1  Unnamed: 0  No.  \\\n",
       "0             0           0    1   \n",
       "1             1           1    2   \n",
       "2             2           2    3   \n",
       "3             3           3    4   \n",
       "4             4           4    5   \n",
       "\n",
       "                                              Title                   Author  \\\n",
       "0                          The StrangerThe Outsider             Albert Camus   \n",
       "1  In Search of Lost TimeRemembrance of Things Past            Marcel Proust   \n",
       "2                                         The Trial              Franz Kafka   \n",
       "3                                 The Little Prince  Antoine de Saint-Exupry   \n",
       "4                                        Man's Fate             Andr Malraux   \n",
       "\n",
       "     Year Language       Birth Date  Ages  \n",
       "0  1942.0   French  7 November 1913  29.0  \n",
       "1  1920.0   French     10 July 1871  49.0  \n",
       "2  1925.0   German      3 July 1883  42.0  \n",
       "3  1943.0   French     29 June 1900  43.0  \n",
       "4  1933.0   French  3 November 1901  32.0  "
      ]
     },
     "execution_count": 108,
     "metadata": {},
     "output_type": "execute_result"
    }
   ],
   "source": [
    "import numpy as np\n",
    "import pandas as pd\n",
    "\n",
    "# Import matplotlib pyplot\n",
    "from matplotlib import pyplot as plt\n",
    "\n",
    "greatest_books = pd.read_csv(\"data/top-hundred-books.csv\")\n",
    "greatest_books.head()"
   ]
  },
  {
   "cell_type": "code",
   "execution_count": 109,
   "id": "755c520f-f91d-487b-8132-7322e8220739",
   "metadata": {},
   "outputs": [
    {
     "data": {
      "image/png": "[encoded data removed]",
      "text/plain": [
       "<Figure size 432x288 with 1 Axes>"
      ]
     },
     "metadata": {
      "needs_background": "light"
     },
     "output_type": "display_data"
    }
   ],
   "source": [
    "author_ages = greatest_books['Ages']\n",
    "\n",
    "# Use plt.hist() below\n",
    "plt.hist(author_ages, range=(10, 80), bins=14,  edgecolor='black')\n",
    "plt.title(\"Age of Top 100 Authors at Publication\")\n",
    "plt.xlabel(\"Age\")\n",
    "plt.ylabel(\"Count\")\n",
    "\n",
    "plt.show()"
   ]
  },
  {
   "cell_type": "code",
   "execution_count": 110,
   "id": "11807800-aee9-4949-9d16-a5cb4454e7b8",
   "metadata": {},
   "outputs": [
    {
     "name": "stdout",
     "output_type": "stream",
     "text": [
      "The sum total is equal to: 163\n",
      "The mean value is equal to: 40.75\n"
     ]
    }
   ],
   "source": [
    "# Ejemplo\n",
    "# Set total equal to the sum\n",
    "total = 29 + 49+ 42+43\n",
    "\n",
    "# Set mean_value equal to the mean\n",
    "mean_value = total/4\n",
    "\n",
    "# The following code prints the total and mean\n",
    "print(\"The sum total is equal to: \" + str(total))\n",
    "print(\"The mean value is equal to: \" + str(mean_value))"
   ]
  },
  {
   "cell_type": "code",
   "execution_count": 111,
   "id": "edcad1bd-e45a-40c2-bb21-e75c130e08c7",
   "metadata": {},
   "outputs": [
    {
     "name": "stdout",
     "output_type": "stream",
     "text": [
      "The average age of the 100 greatest authors, according to a survey by Le Monde, is: 42.2020202020202\n"
     ]
    }
   ],
   "source": [
    "# NumPy Average\n",
    "# Use numpy to calculate the average age of the top 100 authors\n",
    "average_age = np.mean(author_ages)\n",
    "\n",
    "print(\"The average age of the 100 greatest authors, according to a survey by Le Monde, is: \" + str(average_age))"
   ]
  },
  {
   "cell_type": "code",
   "execution_count": 112,
   "id": "92b558c9-c991-4760-a34b-4b6b2978f5f9",
   "metadata": {},
   "outputs": [
    {
     "data": {
      "image/png": "[encoded data removed]",
      "text/plain": [
       "<Figure size 432x288 with 1 Axes>"
      ]
     },
     "metadata": {
      "needs_background": "light"
     },
     "output_type": "display_data"
    }
   ],
   "source": [
    "# Plot the figure\n",
    "plt.hist(author_ages, range=(10, 80), bins=14,  edgecolor='black')\n",
    "plt.title(\"Age of Top 100 Novel Authors at Publication\")\n",
    "plt.xlabel(\"Publication Age\")\n",
    "plt.ylabel(\"Count\")\n",
    "plt.axvline(average_age, color='r', linestyle='solid', linewidth=2, label=\"Mean\")\n",
    "plt.legend()\n",
    "\n",
    "plt.show()"
   ]
  },
  {
   "cell_type": "markdown",
   "id": "3d910ccc-9ef1-4b1a-b430-9c2f7ef3af2f",
   "metadata": {},
   "source": [
    "### Median"
   ]
  },
  {
   "cell_type": "code",
   "execution_count": 113,
   "id": "46485573-7d8e-48e8-adfc-a89d7f6ba9dd",
   "metadata": {},
   "outputs": [
    {
     "name": "stdout",
     "output_type": "stream",
     "text": [
      "The sorted array is: [29 32 42 43 49]\n",
      "The median of the array is: 42\n"
     ]
    }
   ],
   "source": [
    "# Array of the first five author ages\n",
    "five_author_ages = np.array([29, 49, 42, 43, 32])\n",
    "\n",
    "# Fill in the empty array with the values sorted\n",
    "sorted_author_ages = np.array([29,32,42,43,49])\n",
    "\n",
    "# Save the median value to median_value\n",
    "median_age = 42\n",
    "\n",
    "# Print the sorted array and median value\n",
    "print(\"The sorted array is: \" + str(sorted_author_ages))\n",
    "print(\"The median of the array is: \" + str(median_age))"
   ]
  },
  {
   "cell_type": "code",
   "execution_count": 114,
   "id": "4fe679a3-9b54-4c95-9365-d1aac6b4d366",
   "metadata": {},
   "outputs": [
    {
     "name": "stdout",
     "output_type": "stream",
     "text": [
      "The median age of the 100 greatest authors, according to a survey by Le Monde is: 41.0\n"
     ]
    }
   ],
   "source": [
    "# Use numpy to calculate the median age of the top 100 authors\n",
    "median_age = author_ages.median()\n",
    "\n",
    "print(\"The median age of the 100 greatest authors, according to a survey by Le Monde is: \" + str(median_age))"
   ]
  },
  {
   "cell_type": "code",
   "execution_count": 115,
   "id": "5c6a1881-9259-442f-84a0-b4f498bfbdce",
   "metadata": {},
   "outputs": [
    {
     "data": {
      "image/png": "[encoded data removed]",
      "text/plain": [
       "<Figure size 432x288 with 1 Axes>"
      ]
     },
     "metadata": {
      "needs_background": "light"
     },
     "output_type": "display_data"
    }
   ],
   "source": [
    "# Plot the figure\n",
    "plt.hist(author_ages, range=(10, 80), bins=14,  edgecolor='black')\n",
    "plt.title(\"Age of Top 100 Novel Authors at Publication\")\n",
    "plt.xlabel(\"Publication Age\")\n",
    "plt.ylabel(\"Count\")\n",
    "plt.axvline(average_age, color='r', linestyle='solid', linewidth=2, label=\"Mean\")\n",
    "plt.axvline(median_age, color='y', linestyle='solid', linewidth=2, label=\"Median\")\n",
    "plt.legend()\n",
    "\n",
    "plt.show()"
   ]
  },
  {
   "cell_type": "markdown",
   "id": "1e1d6c6e-f17f-408a-99eb-e040650a022b",
   "metadata": {},
   "source": [
    "### Mode"
   ]
  },
  {
   "cell_type": "code",
   "execution_count": 116,
   "id": "d838a1c9-a003-49db-a1cb-37521b73dc5a",
   "metadata": {},
   "outputs": [
    {
     "name": "stdout",
     "output_type": "stream",
     "text": [
      "The ages of the first ten authors is: [29 49 42 43 32 38 37 41 27 27]\n",
      "The mode of the first ten authors is: 27\n",
      "The number of authors who were 27 when their book was published is 2\n"
     ]
    }
   ],
   "source": [
    "# Set first_ten_authors equal to their ages\n",
    "first_ten_authors = np.array([29, 49, 42, 43, 32, 38, 37, 41, 27, 27])\n",
    "\n",
    "# Save the mode value to mode_age\n",
    "mode_age = 27\n",
    "\n",
    "# Save the count of authors with the mode age\n",
    "mode_count = 2\n",
    "\n",
    "# Print the sorted array and median value\n",
    "print(\"The ages of the first ten authors is: \" + str(first_ten_authors))\n",
    "print(\"The mode of the first ten authors is: \" + str(mode_age))\n",
    "print(\"The number of authors who were \" + str(mode_age) + \" when their book was published is \" + str(mode_count))"
   ]
  },
  {
   "cell_type": "code",
   "execution_count": 117,
   "id": "fdb2da8e-12d2-42f1-b686-709e6b508393",
   "metadata": {},
   "outputs": [
    {
     "name": "stdout",
     "output_type": "stream",
     "text": [
      "The mode age and its frequency of authors from Le Monde's 100 greatest books is: 38.0 and 7\n"
     ]
    }
   ],
   "source": [
    "from scipy import stats\n",
    "\n",
    "# Use numpy to calculate the mode age of the top 100 authors\n",
    "mode_age = stats.mode(author_ages)\n",
    "\n",
    "print(\"The mode age and its frequency of authors from Le Monde's 100 greatest books is: \" + str(mode_age[0][0]) + \" and \" + str(mode_age[1][0]))"
   ]
  },
  {
   "cell_type": "code",
   "execution_count": 118,
   "id": "13de25d0-7fcf-4281-b14c-e14fcabd0637",
   "metadata": {},
   "outputs": [
    {
     "data": {
      "image/png": "[encoded data removed]",
      "text/plain": [
       "<Figure size 432x288 with 1 Axes>"
      ]
     },
     "metadata": {
      "needs_background": "light"
     },
     "output_type": "display_data"
    }
   ],
   "source": [
    "mode_age = 38\n",
    "\n",
    "# Plot the figure\n",
    "plt.hist(author_ages, range=(10, 80), bins=14,  edgecolor='black')\n",
    "plt.title(\"Author Ages at Publication\")\n",
    "plt.xlabel(\"Publication Age\")\n",
    "plt.ylabel(\"Count\")\n",
    "plt.axvline(average_age, color='r', linestyle='solid', linewidth=3, label=\"Mean\")\n",
    "plt.axvline(median_age, color='y', linestyle='dotted', linewidth=3, label=\"Median\")\n",
    "plt.axvline(mode_age, color='orange', linestyle='dashed', linewidth=3, label=\"Mode\")\n",
    "plt.legend()\n",
    "\n",
    "plt.show()"
   ]
  },
  {
   "cell_type": "markdown",
   "id": "b0d2debe-8426-4edc-9f9d-b12b60d6dce6",
   "metadata": {},
   "source": [
    "### Varianza"
   ]
  },
  {
   "cell_type": "code",
   "execution_count": 119,
   "id": "2824212a-8149-4d4e-9057-75dfdb6124a0",
   "metadata": {},
   "outputs": [
    {
     "name": "stdout",
     "output_type": "stream",
     "text": [
      "Teacher One mean: 84.46766666666666\n",
      "Teacher Two mean: 84.298\n"
     ]
    },
    {
     "data": {
      "image/png": "[encoded data removed]",
      "text/plain": [
       "<Figure size 432x288 with 2 Axes>"
      ]
     },
     "metadata": {
      "needs_background": "light"
     },
     "output_type": "display_data"
    }
   ],
   "source": [
    "teacher_one_grades = [83.42, 88.04, 82.12, 85.02, 82.52, 87.47, 84.69, 85.18, 86.29, 85.53, 81.29, 82.54, 83.47, 83.91, 86.83, 88.5, 84.95, 83.79, 84.74, 84.03, 87.62, 81.15, 83.45, 80.24, 82.76, 83.98, 84.95, 83.37, 84.89, 87.29]\n",
    "teacher_two_grades = [85.15, 95.64, 84.73, 71.46, 95.99, 81.61, 86.55, 79.81, 77.06, 92.86, 83.67, 73.63, 90.12, 80.64, 78.46, 76.86, 104.4, 88.53, 74.62, 91.27, 76.53, 94.37, 84.74, 81.84, 97.69, 70.77, 84.44, 88.06, 91.62, 65.82]\n",
    "\n",
    "print(\"Teacher One mean: \" + str(np.mean(teacher_one_grades)))\n",
    "print(\"Teacher Two mean: \" + str(np.mean(teacher_two_grades)))\n",
    "\n",
    "plt.subplot(211)\n",
    "plt.title(\"Teacher One Grades\")\n",
    "plt.xlabel(\"Grades\")\n",
    "plt.hist(teacher_one_grades)\n",
    "plt.xlim(65, 105)\n",
    "\n",
    "\n",
    "plt.subplot(212)\n",
    "plt.title(\"Teacher Two Grades\")\n",
    "plt.xlabel(\"Grades\")\n",
    "plt.hist(teacher_two_grades, bins = 20)\n",
    "plt.xlim(65, 105)\n",
    "\n",
    "plt.tight_layout()\n",
    "plt.show()"
   ]
  },
  {
   "cell_type": "code",
   "execution_count": 120,
   "id": "bdc2d030-33ae-436e-97f1-bbddb5f15029",
   "metadata": {},
   "outputs": [],
   "source": [
    "grades = [88, 82, 85, 84, 90]\n",
    "mean = np.mean(grades)\n",
    "\n",
    "difference_one = 88 - mean\n",
    "difference_two = 82 - mean\n",
    "difference_three = 85 - mean\n",
    "difference_four = 84 - mean\n",
    "difference_five = 90 - mean"
   ]
  },
  {
   "cell_type": "code",
   "execution_count": 121,
   "id": "e1569975-e49a-4ce0-9dcd-d0441d3fe6b2",
   "metadata": {},
   "outputs": [
    {
     "name": "stdout",
     "output_type": "stream",
     "text": [
      "The sum of the differences is 0.000000\n",
      "The average difference is 0.000000\n"
     ]
    }
   ],
   "source": [
    "#Part 1: Sum the differences\n",
    "difference_sum = difference_one+ difference_two + difference_three + difference_four + difference_five\n",
    "\n",
    "#Part 2: Average the differences\n",
    "average_difference = difference_sum/5\n",
    "\n",
    "print(\"The sum of the differences is \" + str(format(difference_sum, \"f\")))\n",
    "print(\"The average difference is \" + str(format(average_difference, \"f\")))"
   ]
  },
  {
   "cell_type": "code",
   "execution_count": 123,
   "id": "f33d29b2-5985-4231-ae30-b4df64fadde1",
   "metadata": {},
   "outputs": [
    {
     "data": {
      "image/png": "[encoded data removed]",
      "text/plain": [
       "<Figure size 432x288 with 1 Axes>"
      ]
     },
     "metadata": {
      "needs_background": "light"
     },
     "output_type": "display_data"
    },
    {
     "name": "stdout",
     "output_type": "stream",
     "text": [
      "The mean of the test scores in teacher one's class is 84.46766666666666\n",
      "The mean of the test scores in teacher two's class is 84.298\n",
      "The variance of the test scores in teacher one's class is 4.266517888888889\n",
      "The variance of the test scores in teacher two's class is 78.13198933333337\n"
     ]
    }
   ],
   "source": [
    "#Set these two variables equal to the variance of each dataset using NumPy\n",
    "teacher_one_variance = np.var(teacher_one_grades)\n",
    "teacher_two_variance = np.var(teacher_two_grades)\n",
    "\n",
    "\n",
    "plt.hist(teacher_one_grades, alpha = 0.75, label = \"Teacher 1 Scores\", bins = 7)\n",
    "plt.hist(teacher_two_grades, alpha = 0.5, label = \"Teacher 2 Scores\", bins = 30)\n",
    "plt.title(\"Student test grades in two different classes\")\n",
    "plt.xlabel(\"Grades\")\n",
    "plt.legend()\n",
    "plt.show()\n",
    "\n",
    "print(\"The mean of the test scores in teacher one's class is \" + str(np.mean(teacher_one_grades)))\n",
    "print(\"The mean of the test scores in teacher two's class is \" + str(np.mean(teacher_two_grades)))\n",
    "\n",
    "print(\"The variance of the test scores in teacher one's class is \" +str(teacher_one_variance))\n",
    "print(\"The variance of the test scores in teacher two's class is \" +str(teacher_two_variance))\n"
   ]
  },
  {
   "cell_type": "markdown",
   "id": "b17ed37e-f252-42f7-b8e6-8eac58edfe65",
   "metadata": {},
   "source": [
    "## Desviación estándar"
   ]
  },
  {
   "cell_type": "code",
   "execution_count": 80,
   "id": "6040a74a-6a4d-43c9-90d8-b1136e78a5c8",
   "metadata": {},
   "outputs": [
    {
     "data": {
      "image/png": "[encoded data removed]",
      "text/plain": [
       "<Figure size 432x288 with 1 Axes>"
      ]
     },
     "metadata": {
      "needs_background": "light"
     },
     "output_type": "display_data"
    },
    {
     "name": "stdout",
     "output_type": "stream",
     "text": [
      "The variance of the NBA dataset is 13.323744000000001\n",
      "The variance of the OkCupid dataset is 15.400604\n",
      "\n",
      "The mean of the NBA dataset is 77.984 inches\n",
      "The mean of the OkCupid dataset is 68.414 inches\n"
     ]
    }
   ],
   "source": [
    "okcupid_data = [75.0, 70.0, 68.0, 71.0, 66.0, 67.0, 65.0, 65.0, 67.0, 65.0, 70.0, 72.0, 72.0, 66.0, 62.0, 65.0, 70.0, 64.0, 71.0, 72.0, 67.0, 67.0, 69.0, 71.0, 73.0, 70.0, 72.0, 67.0, 74.0, 68.0, 64.0, 72.0, 67.0, 60.0, 69.0, 69.0, 69.0, 69.0, 63.0, 74.0, 76.0, 72.0, 75.0, 71.0, 66.0, 69.0, 73.0, 70.0, 67.0, 66.0, 66.0, 65.0, 69.0, 69.0, 69.0, 70.0, 71.0, 72.0, 70.0, 71.0, 67.0, 75.0, 70.0, 67.0, 72.0, 68.0, 65.0, 66.0, 69.0, 76.0, 62.0, 67.0, 73.0, 61.0, 72.0, 67.0, 72.0, 65.0, 67.0, 71.0, 67.0, 69.0, 69.0, 64.0, 73.0, 68.0, 66.0, 61.0, 71.0, 64.0, 74.0, 74.0, 67.0, 69.0, 67.0, 78.0, 75.0, 70.0, 66.0, 72.0, 71.0, 68.0, 69.0, 70.0, 63.0, 65.0, 64.0, 72.0, 64.0, 66.0, 68.0, 71.0, 74.0, 66.0, 70.0, 72.0, 68.0, 67.0, 65.0, 66.0, 71.0, 75.0, 66.0, 70.0, 62.0, 68.0, 73.0, 68.0, 71.0, 66.0, 69.0, 68.0, 68.0, 68.0, 68.0, 67.0, 75.0, 73.0, 67.0, 73.0, 62.0, 73.0, 73.0, 74.0, 63.0, 67.0, 70.0, 66.0, 64.0, 67.0, 63.0, 68.0, 68.0, 75.0, 73.0, 61.0, 62.0, 68.0, 69.0, 63.0, 62.0, 66.0, 66.0, 66.0, 72.0, 74.0, 72.0, 63.0, 68.0, 66.0, 66.0, 70.0, 73.0, 63.0, 69.0, 66.0, 68.0, 72.0, 68.0, 71.0, 69.0, 66.0, 68.0, 70.0, 74.0, 63.0, 66.0, 60.0, 67.0, 79.0, 61.0, 69.0, 69.0, 67.0, 71.0, 63.0, 67.0, 63.0, 64.0, 62.0, 65.0, 67.0, 66.0, 63.0, 63.0, 69.0, 71.0, 69.0, 67.0, 66.0, 62.0, 72.0, 69.0, 69.0, 59.0, 74.0, 70.0, 65.0, 70.0, 66.0, 70.0, 64.0, 69.0, 63.0, 62.0, 68.0, 71.0, 71.0, 69.0, 70.0, 72.0, 66.0, 65.0, 65.0, 68.0, 68.0, 62.0, 72.0, 63.0, 73.0, 67.0, 65.0, 69.0, 80.0, 61.0, 63.0, 73.0, 63.0, 71.0, 62.0, 68.0, 72.0, 65.0, 67.0, 67.0, 68.0, 67.0, 67.0, 62.0, 63.0, 64.0, 72.0, 62.0, 66.0, 67.0, 62.0, 69.0, 69.0, 64.0, 62.0, 70.0, 64.0, 63.0, 67.0, 68.0, 67.0, 65.0, 67.0, 64.0, 71.0, 80.0, 60.0, 71.0, 69.0, 67.0, 64.0, 62.0, 63.0, 61.0, 69.0, 76.0, 70.0, 72.0, 63.0, 69.0, 72.0, 70.0, 73.0, 62.0, 62.0, 72.0, 66.0, 65.0, 70.0, 71.0, 71.0, 64.0, 63.0, 75.0, 70.0, 73.0, 68.0, 69.0, 64.0, 68.0, 68.0, 74.0, 61.0, 66.0, 62.0, 67.0, 72.0, 67.0, 64.0, 68.0, 63.0, 69.0, 68.0, 65.0, 66.0, 62.0, 72.0, 70.0, 69.0, 64.0, 63.0, 60.0, 65.0, 67.0, 72.0, 71.0, 73.0, 68.0, 62.0, 69.0, 71.0, 66.0, 72.0, 68.0, 73.0, 67.0, 75.0, 74.0, 74.0, 68.0, 64.0, 75.0, 63.0, 65.0, 72.0, 68.0, 69.0, 73.0, 70.0, 69.0, 73.0, 69.0, 71.0, 73.0, 63.0, 67.0, 64.0, 71.0, 72.0, 74.0, 72.0, 71.0, 64.0, 66.0, 74.0, 68.0, 70.0, 68.0, 76.0, 72.0, 70.0, 67.0, 64.0, 68.0, 66.0, 69.0, 72.0, 61.0, 74.0, 64.0, 66.0, 73.0, 76.0, 71.0, 69.0, 71.0, 71.0, 91.0, 74.0, 62.0, 67.0, 62.0, 71.0, 70.0, 72.0, 72.0, 64.0, 72.0, 68.0, 68.0, 71.0, 66.0, 67.0, 68.0, 61.0, 73.0, 71.0, 71.0, 64.0, 72.0, 67.0, 65.0, 74.0, 68.0, 61.0, 71.0, 67.0, 65.0, 79.0, 61.0, 66.0, 76.0, 69.0, 70.0, 65.0, 72.0, 71.0, 71.0, 62.0, 70.0, 72.0, 70.0, 69.0, 71.0, 70.0, 65.0, 64.0, 68.0, 68.0, 67.0, 64.0, 72.0, 61.0, 64.0, 72.0, 64.0, 70.0, 63.0, 72.0, 66.0, 65.0, 64.0, 65.0, 64.0, 64.0, 63.0, 63.0, 66.0, 70.0, 70.0, 67.0, 70.0, 68.0, 73.0, 64.0, 64.0, 71.0, 71.0, 62.0, 67.0, 67.0, 70.0, 66.0, 72.0, 70.0, 72.0, 66.0, 63.0, 70.0, 71.0, 68.0, 64.0, 70.0, 68.0, 69.0, 74.0, 72.0, 75.0, 65.0, 73.0, 69.0, 62.0, 64.0, 68.0, 70.0, 67.0, 72.0, 69.0, 68.0, 71.0, 72.0, 68.0, 72.0, 75.0, 67.0, 68.0, 67.0, 73.0, 72.0, 76.0, 68.0, 72.0, 67.0, 66.0, 71.0, 69.0, 64.0, 75.0, 69.0, 67.0, 70.0, 71.0, 74.0, 69.0, 68.0, 60.0, 68.0, 70.0, 70.0, 60.0, 67.0, 83.0, 70.0, 59.0, 71.0, 77.0, 69.0, 76.0, 71.0, 68.0, 70.0, 70.0, 62.0, 70.0, 66.0, 72.0, 73.0, 68.0, 72.0, 66.0, 70.0, 68.0, 76.0, 67.0, 68.0, 74.0, 67.0, 60.0, 70.0, 63.0, 68.0, 71.0, 73.0, 72.0, 68.0, 77.0, 73.0, 68.0, 66.0, 65.0, 69.0, 71.0, 61.0, 68.0, 63.0, 63.0, 72.0, 66.0, 64.0, 63.0, 68.0, 69.0, 67.0, 63.0, 74.0, 68.0, 67.0, 67.0, 63.0, 64.0, 67.0, 72.0, 72.0, 65.0, 68.0, 69.0, 69.0, 74.0, 73.0, 72.0, 63.0, 68.0, 68.0, 75.0, 73.0, 68.0, 67.0, 73.0, 64.0, 71.0, 64.0, 63.0, 71.0, 64.0, 74.0, 69.0, 73.0, 71.0, 73.0, 74.0, 68.0, 64.0, 65.0, 74.0, 64.0, 70.0, 75.0, 61.0, 70.0, 70.0, 63.0, 71.0, 62.0, 70.0, 69.0, 68.0, 71.0, 61.0, 69.0, 68.0, 71.0, 71.0, 72.0, 69.0, 66.0, 70.0, 70.0, 73.0, 73.0, 69.0, 67.0, 69.0, 68.0, 67.0, 70.0, 70.0, 62.0, 64.0, 69.0, 68.0, 68.0, 70.0, 68.0, 67.0, 63.0, 66.0, 70.0, 72.0, 70.0, 75.0, 71.0, 63.0, 71.0, 72.0, 76.0, 68.0, 70.0, 73.0, 70.0, 68.0, 67.0, 69.0, 72.0, 74.0, 64.0, 63.0, 67.0, 67.0, 72.0, 74.0, 72.0, 65.0, 62.0, 69.0, 73.0, 70.0, 67.0, 69.0, 72.0, 74.0, 67.0, 72.0, 70.0, 64.0, 74.0, 73.0, 65.0, 70.0, 64.0, 62.0, 64.0, 67.0, 74.0, 67.0, 68.0, 64.0, 73.0, 66.0, 72.0, 69.0, 62.0, 69.0, 75.0, 68.0, 64.0, 70.0, 69.0, 76.0, 73.0, 60.0, 70.0, 64.0, 64.0, 71.0, 68.0, 70.0, 71.0, 69.0, 68.0, 64.0, 72.0, 73.0, 69.0, 69.0, 67.0, 65.0, 69.0, 69.0, 72.0, 68.0, 74.0, 75.0, 68.0, 73.0, 60.0, 73.0, 69.0, 70.0, 68.0, 71.0, 72.0, 71.0, 74.0, 68.0, 68.0, 70.0, 60.0, 70.0, 74.0, 68.0, 72.0, 71.0, 69.0, 69.0, 64.0, 65.0, 76.0, 74.0, 70.0, 70.0, 73.0, 63.0, 71.0, 66.0, 74.0, 69.0, 67.0, 64.0, 73.0, 69.0, 68.0, 72.0, 68.0, 68.0, 68.0, 64.0, 66.0, 64.0, 72.0, 70.0, 65.0, 67.0, 73.0, 76.0, 68.0, 70.0, 71.0, 68.0, 70.0, 72.0, 74.0, 67.0, 70.0, 71.0, 72.0, 68.0, 71.0, 72.0, 70.0, 65.0, 72.0, 68.0, 72.0, 63.0, 69.0, 75.0, 66.0, 72.0, 70.0, 74.0, 72.0, 68.0, 69.0, 65.0, 71.0, 64.0, 72.0, 70.0, 70.0, 69.0, 67.0, 64.0, 68.0, 73.0, 66.0, 61.0, 76.0, 75.0, 72.0, 70.0, 66.0, 69.0, 63.0, 66.0, 68.0, 73.0, 73.0, 64.0, 68.0, 68.0, 67.0, 67.0, 70.0, 63.0, 72.0, 72.0, 67.0, 66.0, 63.0, 73.0, 65.0, 76.0, 66.0, 74.0, 65.0, 71.0, 68.0, 70.0, 62.0, 65.0, 67.0, 64.0, 62.0, 66.0, 70.0, 66.0, 67.0, 72.0, 67.0, 73.0, 65.0, 72.0, 66.0, 67.0, 58.0, 62.0, 69.0, 72.0, 67.0, 70.0, 64.0, 70.0, 66.0, 70.0, 64.0, 70.0, 66.0, 69.0, 73.0, 65.0, 66.0, 72.0, 66.0, 61.0, 67.0, 74.0, 64.0, 74.0, 67.0, 68.0, 70.0, 65.0, 71.0, 64.0, 67.0, 64.0, 66.0, 71.0, 67.0, 73.0, 66.0, 74.0, 67.0, 66.0, 71.0, 69.0, 71.0, 68.0, 61.0, 75.0, 66.0, 74.0, 69.0, 62.0, 65.0, 60.0, 74.0, 68.0, 64.0, 73.0, 64.0, 67.0, 73.0, 66.0, 60.0, 70.0, 69.0, 67.0, 72.0, 71.0, 65.0, 72.0, 65.0, 71.0, 66.0, 69.0, 66.0, 74.0, 73.0, 64.0, 64.0, 70.0, 66.0, 74.0, 66.0, 66.0, 68.0, 61.0, 68.0, 72.0, 72.0, 67.0, 59.0, 68.0, 65.0]\n",
    "\n",
    "nba_data = [82.0, 81.0, 86.0, 73.0, 78.0, 81.0, 79.0, 75.0, 75.0, 78.0, 77.0, 72.0, 83.0, 78.0, 79.0, 81.0, 78.0, 77.0, 76.0, 77.0, 70.0, 84.0, 79.0, 82.0, 73.0, 79.0, 77.0, 77.0, 78.0, 74.0, 76.0, 79.0, 86.0, 82.0, 71.0, 85.0, 80.0, 81.0, 82.0, 83.0, 83.0, 83.0, 80.0, 73.0, 77.0, 79.0, 80.0, 81.0, 74.0, 80.0, 81.0, 82.0, 76.0, 75.0, 81.0, 74.0, 82.0, 80.0, 77.0, 76.0, 78.0, 78.0, 83.0, 81.0, 78.0, 83.0, 74.0, 82.0, 82.0, 80.0, 81.0, 81.0, 75.0, 82.0, 83.0, 78.0, 74.0, 78.0, 74.0, 82.0, 74.0, 77.0, 75.0, 81.0, 82.0, 80.0, 78.0, 77.0, 78.0, 72.0, 79.0, 81.0, 71.0, 78.0, 82.0, 79.0, 82.0, 78.0, 79.0, 79.0, 86.0, 79.0, 82.0, 79.0, 84.0, 83.0, 79.0, 80.0, 72.0, 81.0, 83.0, 80.0, 73.0, 83.0, 76.0, 83.0, 73.0, 75.0, 80.0, 75.0, 80.0, 76.0, 81.0, 74.0, 80.0, 77.0, 71.0, 72.0, 83.0, 75.0, 77.0, 74.0, 77.0, 74.0, 81.0, 76.0, 79.0, 84.0, 78.0, 79.0, 74.0, 74.0, 71.0, 72.0, 70.0, 80.0, 72.0, 82.0, 82.0, 72.0, 81.0, 81.0, 73.0, 74.0, 82.0, 82.0, 81.0, 77.0, 77.0, 81.0, 84.0, 74.0, 78.0, 75.0, 76.0, 85.0, 72.0, 84.0, 77.0, 81.0, 83.0, 78.0, 81.0, 81.0, 73.0, 73.0, 72.0, 76.0, 83.0, 76.0, 80.0, 80.0, 78.0, 79.0, 76.0, 79.0, 74.0, 82.0, 81.0, 81.0, 78.0, 75.0, 77.0, 72.0, 84.0, 74.0, 83.0, 78.0, 73.0, 78.0, 80.0, 75.0, 80.0, 80.0, 79.0, 76.0, 76.0, 75.0, 73.0, 76.0, 76.0, 75.0, 75.0, 76.0, 70.0, 75.0, 74.0, 84.0, 71.0, 78.0, 77.0, 76.0, 79.0, 77.0, 84.0, 78.0, 77.0, 79.0, 80.0, 80.0, 81.0, 83.0, 76.0, 82.0, 80.0, 83.0, 80.0, 74.0, 78.0, 82.0, 76.0, 80.0, 77.0, 70.0, 80.0, 75.0, 77.0, 78.0, 82.0, 74.0, 77.0, 75.0, 77.0, 81.0, 75.0, 70.0, 77.0, 82.0, 81.0, 77.0, 81.0, 81.0, 72.0, 81.0, 73.0, 76.0, 79.0, 73.0, 79.0, 84.0, 78.0, 81.0, 79.0, 77.0, 75.0, 77.0, 81.0, 77.0, 73.0, 72.0, 83.0, 78.0, 75.0, 76.0, 85.0, 83.0, 80.0, 84.0, 78.0, 80.0, 72.0, 78.0, 79.0, 75.0, 72.0, 79.0, 80.0, 83.0, 82.0, 81.0, 71.0, 80.0, 80.0, 80.0, 80.0, 82.0, 71.0, 71.0, 73.0, 89.0, 74.0, 75.0, 71.0, 73.0, 73.0, 73.0, 83.0, 79.0, 79.0, 81.0, 75.0, 75.0, 80.0, 81.0, 78.0, 78.0, 81.0, 75.0, 75.0, 81.0, 82.0, 85.0, 77.0, 77.0, 81.0, 82.0, 78.0, 78.0, 78.0, 72.0, 76.0, 79.0, 75.0, 76.0, 72.0, 73.0, 76.0, 79.0, 83.0, 72.0, 73.0, 74.0, 81.0, 78.0, 81.0, 84.0, 76.0, 76.0, 72.0, 76.0, 76.0, 84.0, 77.0, 78.0, 80.0, 63.0, 84.0, 81.0, 91.0, 77.0, 81.0, 76.0, 80.0, 74.0, 77.0, 76.0, 77.0, 80.0, 82.0, 82.0, 78.0, 73.0, 80.0, 82.0, 74.0, 83.0, 78.0, 80.0, 81.0, 84.0, 77.0, 80.0, 80.0, 77.0, 83.0, 79.0, 80.0, 81.0, 84.0, 76.0, 82.0, 79.0, 79.0, 80.0, 78.0, 85.0, 82.0, 77.0, 82.0, 77.0, 73.0, 74.0, 77.0, 65.0, 82.0, 78.0, 78.0, 73.0, 82.0, 80.0, 78.0, 78.0, 74.0, 71.0, 77.0, 77.0, 78.0, 80.0, 75.0, 82.0, 90.0, 83.0, 82.0, 80.0, 80.0, 82.0, 79.0, 80.0, 71.0, 77.0, 82.0, 79.0, 73.0, 74.0, 77.0, 79.0, 74.0, 78.0, 75.0, 87.0, 81.0, 76.0, 81.0, 76.0, 79.0, 86.0, 73.0, 81.0, 77.0, 78.0, 74.0, 76.0, 77.0, 79.0, 76.0, 74.0, 84.0, 76.0, 79.0, 76.0, 77.0, 76.0, 76.0, 76.0, 72.0, 78.0, 78.0, 77.0, 79.0, 71.0, 81.0, 79.0, 76.0, 74.0, 79.0, 81.0, 74.0, 73.0, 72.0, 79.0, 77.0, 84.0, 75.0, 78.0, 76.0, 72.0, 76.0, 79.0, 79.0, 79.0, 83.0, 69.0, 75.0, 83.0, 77.0, 75.0, 75.0, 81.0, 75.0, 83.0, 74.0, 80.0, 82.0, 77.0, 83.0, 76.0, 75.0, 77.0, 74.0, 78.0, 82.0, 78.0, 78.0, 72.0, 76.0, 79.0, 73.0, 81.0, 78.0, 81.0, 82.0, 84.0, 81.0, 75.0, 79.0, 78.0, 81.0, 76.0, 75.0, 78.0, 79.0, 77.0, 78.0, 77.0, 82.0, 79.0, 84.0, 78.0, 72.0, 79.0, 80.0, 74.0, 83.0, 73.0, 77.0, 78.0, 73.0, 75.0, 86.0, 75.0, 74.0, 80.0, 75.0, 79.0, 77.0, 80.0, 79.0, 78.0, 80.0, 74.0, 76.0, 80.0, 74.0, 74.0, 79.0, 83.0, 82.0, 80.0, 74.0, 77.0, 79.0, 75.0, 79.0, 84.0, 72.0, 79.0, 79.0, 75.0, 73.0, 83.0, 79.0, 81.0, 80.0, 81.0, 73.0, 78.0, 75.0, 80.0, 82.0, 77.0, 77.0, 75.0, 79.0, 73.0, 73.0, 78.0, 70.0, 72.0, 79.0, 83.0, 83.0, 79.0, 72.0, 76.0, 82.0, 81.0, 79.0, 80.0, 69.0, 77.0, 75.0, 77.0, 77.0, 83.0, 72.0, 75.0, 79.0, 77.0, 81.0, 76.0, 77.0, 75.0, 79.0, 78.0, 75.0, 78.0, 80.0, 84.0, 78.0, 82.0, 73.0, 77.0, 75.0, 76.0, 77.0, 76.0, 77.0, 75.0, 77.0, 78.0, 78.0, 85.0, 80.0, 77.0, 80.0, 80.0, 75.0, 81.0, 81.0, 80.0, 78.0, 83.0, 81.0, 84.0, 84.0, 81.0, 85.0, 78.0, 76.0, 71.0, 72.0, 74.0, 78.0, 85.0, 77.0, 82.0, 82.0, 85.0, 80.0, 77.0, 75.0, 76.0, 78.0, 80.0, 75.0, 79.0, 79.0, 73.0, 75.0, 72.0, 79.0, 82.0, 80.0, 74.0, 75.0, 74.0, 83.0, 82.0, 76.0, 77.0, 82.0, 78.0, 77.0, 81.0, 75.0, 77.0, 74.0, 78.0, 74.0, 76.0, 82.0, 75.0, 83.0, 76.0, 79.0, 77.0, 76.0, 81.0, 76.0, 84.0, 71.0, 75.0, 74.0, 78.0, 78.0, 78.0, 77.0, 87.0, 74.0, 82.0, 79.0, 78.0, 75.0, 84.0, 74.0, 81.0, 82.0, 80.0, 79.0, 80.0, 73.0, 84.0, 76.0, 78.0, 78.0, 76.0, 83.0, 84.0, 74.0, 82.0, 78.0, 71.0, 84.0, 78.0, 72.0, 82.0, 77.0, 72.0, 75.0, 74.0, 80.0, 77.0, 81.0, 77.0, 73.0, 80.0, 75.0, 73.0, 77.0, 82.0, 77.0, 76.0, 76.0, 77.0, 74.0, 81.0, 75.0, 70.0, 81.0, 77.0, 75.0, 82.0, 80.0, 73.0, 74.0, 77.0, 80.0, 75.0, 81.0, 77.0, 73.0, 82.0, 77.0, 82.0, 82.0, 81.0, 78.0, 78.0, 78.0, 72.0, 77.0, 72.0, 83.0, 73.0, 81.0, 73.0, 79.0, 77.0, 79.0, 84.0, 73.0, 80.0, 83.0, 83.0, 73.0, 81.0, 81.0, 74.0, 76.0, 78.0, 78.0, 78.0, 81.0, 76.0, 77.0, 77.0, 76.0, 80.0, 84.0, 75.0, 72.0, 68.0, 70.0, 79.0, 77.0, 76.0, 82.0, 83.0, 76.0, 81.0, 82.0, 81.0, 82.0, 73.0, 73.0, 73.0, 79.0, 77.0, 78.0, 79.0, 81.0, 81.0, 75.0, 78.0, 80.0, 82.0, 76.0, 83.0, 82.0, 72.0, 81.0, 81.0, 72.0, 76.0, 84.0, 75.0, 77.0, 74.0, 75.0, 85.0, 75.0, 84.0, 77.0, 75.0, 83.0, 76.0, 83.0, 72.0, 78.0, 76.0, 80.0, 79.0, 78.0, 81.0, 76.0, 77.0, 77.0, 79.0, 73.0, 79.0, 84.0, 77.0, 82.0, 70.0, 80.0, 84.0, 75.0, 81.0, 82.0, 73.0, 82.0, 82.0, 81.0, 74.0, 75.0, 81.0, 75.0, 79.0, 75.0, 79.0, 79.0, 74.0, 83.0, 83.0, 80.0, 82.0, 76.0, 81.0, 79.0, 77.0, 81.0, 74.0, 80.0, 80.0, 78.0, 79.0, 78.0, 79.0, 75.0, 82.0, 79.0, 83.0, 76.0, 79.0, 78.0, 78.0, 81.0, 80.0, 78.0, 78.0, 80.0, 77.0, 83.0, 74.0, 77.0, 78.0, 81.0, 72.0, 79.0, 78.0, 83.0, 80.0, 77.0, 76.0, 73.0, 78.0, 82.0, 84.0, 80.0, 80.0, 74.0, 75.0, 78.0, 81.0, 76.0, 75.0, 81.0, 78.0, 73.0, 76.0, 78.0, 77.0, 81.0, 75.0, 74.0, 81.0, 80.0, 74.0, 71.0, 82.0, 75.0, 72.0, 79.0, 73.0, 77.0, 78.0, 76.0, 81.0, 80.0, 79.0, 74.0, 72.0, 80.0, 76.0, 77.0, 75.0, 79.0, 73.0, 82.0, 73.0]\n",
    "\n",
    "plt.hist(nba_data, alpha = 0.75, label = \"NBA Data\", bins = 20)\n",
    "plt.hist(okcupid_data, alpha = 0.5, label = \"OkCupid Data\", bins = 20)\n",
    "plt.xlabel(\"Height (inches)\")\n",
    "plt.legend()\n",
    "plt.show()\n",
    "\n",
    "print(\"The variance of the NBA dataset is \" +str(np.var(nba_data)))\n",
    "print(\"The variance of the OkCupid dataset is \" +str(np.var(okcupid_data)) + \"\\n\")\n",
    "print(\"The mean of the NBA dataset is \" +str(np.mean(nba_data)) + \" inches\")\n",
    "print(\"The mean of the OkCupid dataset is \" +str(np.mean(okcupid_data)) + \" inches\")"
   ]
  },
  {
   "cell_type": "code",
   "execution_count": 124,
   "id": "c428568c-a021-43dc-b7bf-9777776686cd",
   "metadata": {},
   "outputs": [
    {
     "name": "stdout",
     "output_type": "stream",
     "text": [
      "The standard deviation of the NBA dataset is 3.6501704069810224\n",
      "The standard deviation of the OkCupid dataset is 3.924360330041063\n"
     ]
    }
   ],
   "source": [
    "nba_variance = np.var(nba_data)\n",
    "okcupid_variance = np.var(okcupid_data)\n",
    "\n",
    "#Change these variables to be the standard deviation of each dataset.\n",
    "nba_standard_deviation = nba_variance**0.5\n",
    "okcupid_standard_deviation = okcupid_variance**0.5\n",
    "\n",
    "print(\"The standard deviation of the NBA dataset is \" +str(nba_standard_deviation))\n",
    "print(\"The standard deviation of the OkCupid dataset is \" + str(okcupid_standard_deviation))"
   ]
  },
  {
   "cell_type": "code",
   "execution_count": 125,
   "id": "1f6e2ef9-86f2-4e10-8541-3cac1a80db81",
   "metadata": {},
   "outputs": [
    {
     "name": "stdout",
     "output_type": "stream",
     "text": [
      "The standard deviation of the NBA dataset is 3.6501704069810224\n",
      "The standard deviation of the OkCupid dataset is 3.924360330041063\n"
     ]
    }
   ],
   "source": [
    "#Change these variables to be the standard deviation of each dataset. Use NumPy's function!\n",
    "nba_standard_deviation = np.std(nba_data)\n",
    "okcupid_standard_deviation = np.std(okcupid_data)\n",
    "\n",
    "print(\"The standard deviation of the NBA dataset is \" +str(nba_standard_deviation))\n",
    "print(\"The standard deviation of the OkCupid dataset is \" + str(okcupid_standard_deviation))"
   ]
  },
  {
   "cell_type": "code",
   "execution_count": 127,
   "id": "aabf0107-3323-4e3f-9258-7138b9c0a179",
   "metadata": {},
   "outputs": [
    {
     "name": "stdout",
     "output_type": "stream",
     "text": [
      "Your basketball player is 0.5523029818400713 standard deviations away from the mean of NBA player heights\n",
      "\n",
      "Your basketball player is 2.9523282842579257 standard deviations away from the mean of OkCupid profile heights\n"
     ]
    }
   ],
   "source": [
    "nba_mean = np.mean(nba_data)\n",
    "okcupid_mean = np.mean(okcupid_data)\n",
    "\n",
    "nba_standard_deviation = np.std(nba_data)\n",
    "okcupid_standard_deviation = np.std(okcupid_data)\n",
    "\n",
    "#Step 1: Calculate the difference between the player's height and the means\n",
    "nba_difference = 80 - nba_mean\n",
    "okcupid_difference = 80 - okcupid_mean\n",
    "\n",
    "#Step 2: Use the difference between the point and the mean to find how many standard deviations the player is away from the mean.\n",
    "\n",
    "num_nba_deviations = nba_difference/nba_standard_deviation\n",
    "num_okcupid_deviations = okcupid_difference/okcupid_standard_deviation\n",
    "\n",
    "\n",
    "print(\"Your basketball player is \" + str(num_nba_deviations) + \" standard deviations away from the mean of NBA player heights\\n\")\n",
    "print(\"Your basketball player is \" + str(num_okcupid_deviations) + \" standard deviations away from the mean of OkCupid profile heights\")"
   ]
  },
  {
   "cell_type": "markdown",
   "id": "f91735ed-5486-4fd0-a3b8-0c05fb4e6510",
   "metadata": {},
   "source": [
    "## Cuartiles"
   ]
  },
  {
   "cell_type": "code",
   "execution_count": 128,
   "id": "829ade75-a7f1-4b76-a93b-f9443602c782",
   "metadata": {},
   "outputs": [
    {
     "name": "stdout",
     "output_type": "stream",
     "text": [
      "The first quartile of dataset one is 175.93424 seconds\n",
      "The second quartile of dataset one is 222.82404 seconds\n",
      "The third quartile of dataset one is 275.47383 seconds\n"
     ]
    }
   ],
   "source": [
    "songs = [218.93178999999998, 148.03546, 177.47546, 233.40363, 209.60608, 267.7024, 114.78159, 189.57016000000002, 269.81832, 266.39628, 218.77506, 245.21097999999998, 226.35057, 191.84281000000001, 307.3824, 491.12771, 228.5971, 599.24853, 290.29832000000005, 165.69423999999998, 151.84933999999998, 220.78649, 269.58322000000004, 207.77751, 124.86485, 225.09669, 338.31138, 186.48771000000002, 168.25423999999998, 156.39465, 342.56934, 484.62322, 164.80608, 133.32853, 173.66159, 313.12934, 450.84689000000003, 303.09832, 128.83546, 456.30649000000005, 198.73914, 95.68608, 271.49016, 226.66404, 190.48443999999998, 277.78567000000004, 248.78975, 195.3171, 175.72526000000002, 217.23382999999998, 344.05832000000004, 251.42812, 269.7922, 206.05342, 190.04036000000002, 241.162, 122.64443999999999, 207.0722, 300.79955, 228.46649, 239.59465, 228.93669, 165.61587, 187.92444, 276.50567, 200.25423999999998, 144.50893, 285.17832000000004, 246.69995, 84.03546, 273.52771, 298.84036000000003, 161.38404, 209.29261, 229.61587000000003, 426.89261, 269.26975, 249.41669, 136.48934, 233.27302000000003, 187.24526, 72.61995, 272.63955, 142.75873, 194.11546, 195.91791, 118.33424, 288.41751, 123.21914, 283.76771, 239.3073, 206.75873, 134.81751, 285.64853, 124.18567, 134.08608, 155.61098, 275.40853, 223.4771, 443.24526, 177.81506000000002, 385.33179, 324.44036, 275.12118, 294.66077, 193.20118, 357.82485, 198.3473, 261.95546, 176.27383, 220.89097999999998, 235.91137999999998, 239.59465, 171.49342, 266.05669, 329.27302000000003, 198.922, 283.21914, 238.68036, 254.06649, 184.31955, 311.40526, 162.53342, 212.37506000000002, 338.33751, 126.51057, 205.58321999999998, 193.4624, 127.4771, 234.762, 292.8322, 241.10975, 270.68036, 188.73424, 211.80036, 254.32771, 210.36362999999997, 301.81832, 416.80933999999996, 413.36118, 117.00200000000001, 217.36444, 122.72281000000001, 203.98975, 192.44363, 285.36118, 225.12281000000002, 123.66322, 525.16526, 204.06812, 166.00771, 219.01016, 127.9473, 570.90567, 230.00771, 240.74403999999998, 192.20853, 152.0322, 215.30077000000003, 155.21913999999998, 207.12444, 428.56444000000005, 185.7824, 654.28853, 306.72934, 229.51137999999997, 205.58321999999998, 127.05913999999999, 44.35546, 203.83302, 176.50893, 140.66893000000002, 201.09016, 254.79791, 143.0722, 163.49995, 289.64526, 124.15955, 167.3922, 321.35791, 263.94077000000004, 341.36771, 333.13914, 349.12608, 168.56771, 350.71955, 175.62077, 190.24934, 255.16362999999998, 120.2673, 557.26975, 187.53261, 295.60118, 252.02892999999997, 329.35138, 180.00933999999998, 244.45342000000002, 282.53995, 388.28362999999996, 345.93914, 243.1473, 261.74649, 172.25098, 216.60689, 363.59791, 271.77751, 330.65751, 133.27628, 264.69832, 228.51872999999998, 240.3522, 145.57995, 235.80688999999998, 192.1824, 418.87302, 198.26893, 420.10077, 397.26975, 229.79872999999998, 150.64771000000002, 286.14485, 384.70485, 415.03302, 133.53751, 266.70975, 284.3424, 179.06893, 100.5971, 320.60036, 302.36689, 284.70812, 327.8624, 286.30159, 356.49261, 168.75056999999998, 201.56036, 185.67791, 218.8273, 303.04607999999996, 224.52200000000002, 315.27137999999997, 275.06892999999997, 191.81669, 177.24036, 233.58649, 38.3473, 100.85831999999999, 485.19791, 239.01995, 288.49587, 151.53587, 160.28689, 181.55057, 70.26893000000001, 173.24363, 155.74159, 148.03546, 94.06649, 241.52771, 226.82077, 106.52689, 224.28689, 340.29669, 216.55465, 279.2224, 158.56281, 234.44852999999998, 155.95057, 233.53423999999998, 256.80933999999996, 234.65751, 163.76118, 159.03302, 214.04689, 301.06077, 109.37423999999999, 151.82322, 287.11138, 239.98649, 229.642, 143.98649, 153.20771000000002, 316.65587, 182.09913999999998, 205.21751, 131.05587, 316.73424, 431.64689000000004, 183.37913999999998, 324.51873, 172.01587, 165.66812, 377.67791, 145.00526000000002, 153.28608, 215.35302000000001, 156.70812, 168.38485, 150.25587, 159.76443999999998, 230.26892999999998, 465.60607999999996, 247.77097999999998, 165.98158999999998, 368.16934, 176.27383, 266.4224, 111.0722, 313.7824, 265.37751000000003, 167.20934, 240.61342000000002, 356.41424, 260.28362999999996, 256.39137999999997, 316.49914, 252.57751000000002, 224.60036000000002, 214.12526, 259.44771000000003, 236.25097999999997, 43.362809999999996, 236.93016, 243.82648999999998, 241.47546, 183.17016, 424.12363, 111.62077, 138.63138, 270.60200000000003, 173.19138, 218.38322000000002, 153.33831999999998, 230.71302000000003, 407.37914, 337.68444, 236.17261000000002, 511.16362999999996, 338.23302, 45.661590000000004, 207.43791000000002, 29.544040000000003, 335.51628, 197.19791, 152.92036000000002, 326.00771000000003, 305.16200000000003, 279.97995, 261.51138, 149.86404, 75.67628, 290.55955, 363.85913999999997, 282.43546000000003, 135.31383, 221.30892999999998, 75.57179000000001, 338.1024, 298.10893, 170.84036, 215.37913999999998, 213.49832, 351.08526, 658.02404, 474.61832000000004, 305.89342, 301.92281, 135.52281000000002, 179.9571, 269.76608, 166.16443999999998, 221.67465, 212.94975, 261.74649, 307.33016000000003, 225.67137999999997, 296.14975, 203.67628, 56.424040000000005, 230.86975, 134.03383, 212.61016, 188.39465, 152.99873, 233.03791, 149.99465, 152.0322, 200.48934, 193.64526, 158.82404, 173.68771, 269.40036000000003, 176.90077, 196.72771, 281.46893, 224.20852999999997, 170.31791, 361.53424, 182.04689, 367.43791, 175.90812, 215.53587000000002, 234.70975, 340.11383, 280.13669, 170.52688999999998, 212.71465, 277.2371, 120.92036, 492.30322, 260.8322, 203.96363, 309.65506, 81.97179, 757.99465, 196.49261, 352.57424, 221.83137999999997, 11.59791, 281.88689, 256.10404, 345.23382999999995, 122.69668999999999, 338.36363, 256.62649, 182.72608, 197.17179, 291.02975, 293.27628, 334.78485, 215.82322000000002, 237.42649, 271.5424, 207.51628, 269.87057000000004, 266.73587000000003, 312.76363, 172.19873, 288.36526000000003, 191.13751000000002, 280.45016, 359.73179, 180.97587, 217.41669, 150.20363, 204.93016, 515.97016, 177.57995, 257.59302, 182.15138000000002, 102.03383000000001, 251.81995, 59.89832, 261.90322000000003, 365.71383, 216.42404, 101.14567, 222.11872999999997, 203.36281, 281.75628, 200.51546000000002, 469.68118, 113.60608, 136.95955, 133.19791, 195.36934, 202.94485, 193.72363, 466.65098, 388.51873, 261.53751, 262.55627999999996, 205.42649, 263.6273, 183.43138000000002, 217.39057000000003, 293.92933999999997, 332.7473, 159.29424, 187.6371, 181.49832, 169.56036, 145.68444, 223.89506, 186.90567, 174.81098, 307.56526, 165.22404, 216.86812, 304.06485, 146.59873000000002, 273.65832, 245.49832, 320.91382999999996, 321.33179, 178.12853, 194.45506, 203.75465, 722.20689, 358.71302000000003, 149.49832, 132.25751, 140.64281, 152.13669, 264.51546, 206.68036, 148.1922, 230.3473, 443.55872999999997, 286.32771, 156.94322, 225.12281000000002, 329.58648999999997, 349.83137999999997, 287.03302, 151.27465, 250.3571, 243.25179, 232.85506, 254.56281, 190.48443999999998, 107.49342, 251.37587000000002, 190.74567, 409.05098, 234.55302000000003, 123.71546000000001, 504.05832000000004, 147.77424, 269.7922, 199.13098, 184.73751000000001, 259.34322000000003, 362.31791, 274.80771, 50.83383, 340.79302, 229.25016000000002, 231.18322, 332.01587, 352.67873, 327.88853, 345.75628, 214.38648999999998, 81.50159000000001, 256.522, 163.52608, 248.92036000000002, 289.54077, 148.06159, 180.50567, 280.45016, 270.52362999999997, 265.22077, 51.617509999999996, 514.7424, 281.41669, 260.46648999999996, 246.96117999999998, 252.3424, 234.52688999999998, 273.55383, 229.09342, 331.07546, 195.49995, 256.02567, 254.01424, 380.44689, 247.66648999999998, 190.56281, 266.762, 166.922, 182.20363, 188.70812, 342.83057, 141.19138, 240.43057000000002, 233.45587, 199.20934, 333.24363, 194.35057, 228.04852999999997, 298.37016, 223.76443999999998, 359.6273, 247.7971, 221.12607999999997, 389.642, 234.52688999999998, 227.05587000000003, 130.16771, 290.97751, 229.8771, 195.13423999999998, 181.02812, 193.35791, 44.64281, 324.85832, 183.30077, 286.27546, 301.71383, 298.13506, 207.56853, 107.7024, 254.32771, 230.63465, 124.94322, 264.61995, 147.69586999999999, 326.42567, 225.04443999999998, 174.34077, 357.85098, 235.17995, 271.12444, 233.76934, 200.202, 201.87383, 208.90077, 227.36934, 180.00933999999998, 245.39382999999998, 121.70403999999999, 235.91137999999998, 235.41506, 159.55546, 219.19302000000002, 282.69669, 148.00933999999998, 107.57179, 243.722, 230.42567000000003, 188.94322, 260.54485, 311.53587000000005, 262.5824, 197.19791, 255.73832000000002, 367.41179, 191.68608, 692.06159, 208.90077, 239.59465, 222.92853, 156.96934, 392.4371, 89.15545999999999, 280.21506, 278.38649, 362.60526, 146.83383, 253.70077, 204.85179, 171.49342, 126.6673, 233.01179, 213.91627999999997, 145.76281, 231.54892999999998, 267.20608, 305.34485, 205.21751, 161.38404, 168.51546000000002, 121.0771, 222.09261, 269.7922, 43.51955, 171.80688999999998, 212.47955, 152.58077, 529.91955, 184.73751000000001, 277.10649, 283.74159, 290.63791000000003, 75.49342, 154.69669, 194.79465, 91.95057, 297.76934, 307.35627999999997, 242.52036, 212.29668999999998, 157.28281, 309.26322000000005, 294.55627999999996, 207.43791000000002, 154.53995, 222.14485, 202.91873, 182.22975, 252.96934, 178.20689, 207.51628, 149.91628, 226.66404, 280.24118, 64.05179, 201.76934, 286.4322, 463.49015999999995, 378.06975, 123.29751, 144.92689, 163.082, 156.68200000000002, 237.24362999999997, 275.85261, 80.3522, 317.88363, 50.9122, 110.34076999999999, 138.4224, 270.68036, 218.61832, 212.21832, 112.95302, 448.62649000000005, 286.24934, 156.42077, 307.87872999999996, 194.37669, 198.79138, 347.84608, 198.86975, 237.7922, 208.3522, 366.13178999999997, 233.50812000000002, 242.59873, 225.64526, 276.16607999999997, 673.2273, 124.47301999999999, 304.32608, 215.11791000000002, 329.74322, 149.2371, 207.33342, 793.62567, 159.60771, 209.99791000000002, 173.68771, 225.17506, 142.41914, 66.42893000000001, 321.17506000000003, 26.67057, 153.67791, 218.61832, 230.29506, 352.88771, 142.602, 305.65832, 257.59302, 348.36852999999996, 53.39383, 198.05995, 131.57832, 196.62322, 225.17506, 216.81587000000002, 110.44526, 179.59138000000002, 319.60771, 319.63383, 281.28607999999997, 274.20689, 235.78077000000002, 199.94077, 278.59546, 247.32689, 157.88363, 201.09016, 229.22404, 248.78975, 318.9024, 145.78893, 151.01342, 173.26975, 295.3922, 228.5971, 323.18649, 144.1171, 222.17098, 364.48607999999996, 262.79138, 189.57016000000002, 623.7252599999999, 170.50077, 252.52526, 177.94567, 168.64608, 129.88036, 236.66893, 150.33424, 239.90812000000003, 402.62485, 189.33506, 129.74975, 181.57668999999999, 181.91628, 186.40934, 195.10811999999999, 285.49179, 249.99138, 188.47302, 237.87057000000001, 158.45832, 68.98893000000001, 263.94077000000004, 312.94649, 227.44771, 316.36852999999996, 269.73995, 200.38485, 220.96934, 188.52526, 85.26321999999999, 196.64934, 271.85587000000004, 260.38812, 275.69587, 125.41342, 204.53832, 221.28281, 242.88608, 181.81179, 259.68281, 267.36281, 130.82076999999998, 417.67138, 158.98077, 163.36934, 322.87302, 295.57506, 219.74159, 189.30893, 123.11465, 263.8624, 298.89261, 189.75302, 129.25342, 208.97914, 617.82159, 191.50322, 247.01342000000002, 178.33751, 220.94322000000003, 323.21261, 232.88117999999997, 284.47302, 232.30649, 207.04608000000002, 218.22648999999998, 164.8322, 194.40281000000002, 263.60118, 174.602, 192.46975, 200.9073, 160.70485, 98.89914, 240.43057000000002, 184.2673, 250.27872999999997, 285.3873, 177.3971, 180.50567, 149.55057, 173.81832, 182.83057, 219.66322000000002, 316.89097999999996, 193.4624, 352.86159, 252.18567000000002, 324.70159, 52.00934, 87.87546, 259.23873, 261.32853, 304.8224, 135.70567, 236.2771, 325.25016, 373.39383, 200.80281000000002, 333.32199999999995, 238.44526000000002, 113.78893000000001, 223.52934, 173.37424, 9.66485, 288.83546, 257.2273, 201.482, 281.88689, 194.01098000000002, 118.49098000000001, 205.7922, 323.99627999999996, 250.3571, 258.92526000000004, 196.72771, 238.39302, 231.54892999999998, 249.20771000000002, 255.00689, 195.5522, 233.7171, 159.34649, 235.17995, 335.90812, 407.45751, 164.15302, 287.08526, 552.35873, 226.40281000000002, 221.96200000000002, 180.71465, 182.67383, 239.38567, 195.39546, 344.2673, 92.70812, 238.99382999999997, 276.74077, 222.37995, 260.362, 180.6624, 225.33178999999998, 140.7473, 230.37342, 260.33587, 238.47137999999998, 389.19791000000004, 245.65506000000002, 286.85016, 249.02485, 205.97506, 195.52608, 234.52688999999998, 286.56281, 443.03628, 208.87465, 163.29098, 220.39465, 304.84853, 245.62892999999997, 308.94975, 190.64118, 201.89995, 283.8722, 223.39872999999997, 210.88608, 140.38159, 184.29342, 263.20934, 201.92608, 303.85587000000004, 237.13914, 277.002, 198.81751, 203.02322, 224.20852999999997, 167.00036, 219.29751000000002, 312.13669, 472.45016, 163.29098, 265.7171, 458.9971, 145.55383, 274.15465, 208.56118, 108.40771000000001, 239.01995, 312.65914, 144.03873000000002, 198.5824, 176.56118, 210.05016, 191.63383000000002, 177.6322, 451.44771, 204.40771, 153.73016, 243.53914, 388.0224, 229.51137999999997, 286.51057000000003, 248.81587000000002, 125.90975, 256.28688999999997, 181.15873, 239.0722, 183.37913999999998, 128.80934, 217.02485, 204.5122, 217.33832, 206.57587, 327.49669, 222.24934, 278.22975, 270.78485, 318.79791, 265.63873, 213.10648999999998, 155.6371, 208.32608000000002, 208.92689, 295.23546, 242.59873, 215.01342000000002, 281.93914, 228.98892999999998, 200.48934, 228.98892999999998, 373.26322000000005, 252.78649, 309.96853, 195.29098, 253.67465, 247.01342000000002, 238.10567000000003, 170.37016, 277.99465, 137.32526000000001, 229.14567000000002, 92.86485, 24.47628, 391.70567, 263.00036, 167.28771, 184.52853000000002, 423.26159, 41.560359999999996, 211.06893, 234.84036, 217.5473, 252.62975, 406.38649, 239.67302, 294.68689, 136.98567, 286.77179, 250.30485, 158.45832, 193.20118, 201.92608, 271.25506, 216.29342000000003, 242.28526000000002, 258.01097999999996, 243.90485, 250.74892999999997, 263.65342000000004, 303.98649, 224.54812, 191.73832, 277.57669, 256.31302, 184.65913999999998, 232.64607999999998, 180.81914, 827.66322, 159.81669, 250.69669, 257.01832, 224.62649, 157.33506, 194.61178999999998, 185.67791, 160.57424, 244.32281, 216.47627999999997, 214.7522, 217.10322000000002, 193.93261, 281.65179, 216.78975, 383.58159, 198.76526, 256.15628, 78.05341999999999, 305.71057, 320.1824, 207.90812, 256.20853, 254.09261, 215.74485, 245.99465, 192.46975, 351.32036, 242.83382999999998, 113.73669, 171.25832, 240.69179, 508.02893, 196.62322, 290.08934, 259.76117999999997, 281.15546, 192.88771, 493.7922, 242.15465, 495.38567, 193.64526, 208.14321999999999, 499.51302000000004, 135.47057, 148.37506000000002, 154.3571, 309.41995, 164.07465, 173.7922, 150.17751, 55.50975, 26.01751, 191.9473, 343.27465, 265.97832, 207.98649, 270.96771, 250.14812, 200.56771, 186.8273, 206.28853, 293.72036, 242.02403999999999, 343.56199999999995, 181.08036, 254.9024, 156.26404, 131.94404, 170.52688999999998, 308.81914, 267.31057000000004, 205.08688999999998, 35.97016, 248.81587000000002, 191.21587, 197.90322, 443.68934, 337.71057, 253.54404, 130.61178999999998, 196.75383, 255.4771, 241.3971, 169.50812, 257.30567, 172.93016, 29.413420000000002, 225.33178999999998, 232.202, 914.02404, 179.04281, 214.64771000000002, 252.86485, 211.90485, 247.53587000000002, 206.05342, 194.97751, 215.77097999999998, 238.28852999999998, 185.73016, 244.50567, 335.09832, 208.45668999999998, 233.92607999999998, 319.39873, 249.83465, 209.162, 238.41914, 234.57914, 456.61995, 154.30485, 267.20608, 226.7424, 208.66567, 136.14975, 431.93424000000005, 238.00117999999998, 355.29098, 274.12852999999996, 160.28689, 192.41751000000002, 241.89342000000002, 171.4673, 340.87138, 296.95955, 235.04934, 182.83057, 248.18892999999997, 276.68852999999996, 127.16363, 420.49260999999996, 279.19628, 528.40444, 187.95057, 64.62649, 220.15955, 145.162, 308.45342, 166.29506, 421.95545999999996, 217.20771000000002, 234.78812000000002, 192.26077, 233.92607999999998, 978.442, 171.75465, 151.19628, 313.70403999999996, 34.42893, 116.1922, 189.70077, 425.03790999999995, 371.06892999999997, 190.04036000000002, 399.88199999999995, 183.53587, 190.71955, 222.98077, 169.35138, 132.67546000000002, 123.24526000000002, 245.02812000000003, 257.69751, 208.16933999999998, 225.48852999999997, 206.81098, 133.3024, 277.81179, 148.06159, 139.17995, 307.04281000000003, 200.75056999999998, 113.57995, 175.75138, 236.56444, 246.7522, 377.70403999999996, 182.17751, 404.06158999999997, 80.53506, 541.2305700000001, 241.52771, 177.57995, 651.59791, 142.86321999999998, 114.31138, 110.88933999999999, 207.46403999999998, 168.01914, 192.44363, 307.722, 222.92853, 246.69995, 166.19057, 176.37832, 84.16608000000001, 235.36281, 164.12689, 179.01668999999998, 323.10812000000004, 179.93098, 274.12852999999996, 201.03791, 120.16281000000001, 107.83301999999999, 544.5219999999999, 55.40526, 190.14485, 113.78893000000001, 317.70077000000003, 211.40852999999998, 184.68526, 314.14812, 234.63137999999998, 320.05179, 252.68200000000002, 183.11791000000002, 189.57016000000002, 204.66893000000002, 188.96934, 209.55383, 266.60526, 131.81342, 333.21751, 197.51138, 295.96689, 203.10159, 238.10567000000003, 270.73261, 251.08853, 270.21016000000003, 444.81260999999995, 395.17995, 239.38567, 502.69995, 285.70077000000003, 732.39465, 354.79465, 192.73098000000002, 309.57669, 22.334239999999998, 259.73506000000003, 211.01668999999998, 236.56444, 192.15628, 209.60608, 235.65016, 180.03546, 187.53261, 221.23057000000003, 169.482, 260.10077, 263.67955, 180.45342, 318.56281, 335.33342000000005, 288.33914, 258.87302, 183.09179, 167.02649, 296.202, 197.56363000000002, 185.0771, 200.75056999999998, 356.54485, 212.89751, 157.46567, 233.63872999999998, 337.24036, 52.766890000000004, 262.37342, 489.48199999999997, 159.05913999999999, 232.25423999999998, 232.75057, 205.66159, 180.6624, 235.4673, 206.91546, 180.13995, 305.3971, 258.42893, 399.33342000000005, 214.90892999999997, 264.07138, 162.06322, 166.922, 143.64688999999998, 71.99302, 189.57016000000002, 270.70649, 212.92362999999997, 162.19383, 231.10485, 169.69098, 110.52363000000001, 160.93995, 165.40689, 743.36608, 171.10159, 195.3171, 217.10322000000002, 253.41342000000003, 222.27546, 177.71057, 243.80036, 262.19057000000004, 476.9171, 231.07872999999998, 586.70975, 205.87057, 168.48934, 178.46812, 243.46077000000002, 191.65995, 160.7571, 236.72117999999998, 193.25342, 417.56689, 174.54975, 213.7073, 512.1824, 108.93016000000001, 261.642, 172.72118, 201.32526000000001, 331.25832, 232.12363, 191.42485, 269.40036000000003, 171.72853, 337.60607999999996, 235.96363, 211.46077000000002, 95.73832, 434.88608, 501.05424000000005, 215.84933999999998, 151.61424, 257.74975, 50.1024, 240.29995, 168.46322, 41.84771, 528.14322, 185.5473, 240.27382999999998, 287.242, 305.05751000000004, 230.84363, 197.0673, 323.94404, 315.01016, 294.08608, 196.20526, 321.56689, 262.79138, 354.11546, 224.91383, 147.64363, 192.73098000000002, 181.18485, 225.67137999999997, 160.07791, 192.23465, 200.46322, 240.06485, 102.94811999999999, 227.5522, 256.70485, 226.06322000000003, 216.92036000000002, 78.96771, 222.14485, 87.06567, 201.03791, 200.59383, 216.05832, 232.80281000000002, 254.82404, 233.42975, 138.29179, 225.67137999999997, 214.02077000000003, 245.44608, 227.60443999999998, 173.66159, 253.49178999999998, 451.44771, 138.84036, 317.54404, 159.60771, 164.98893, 254.51057000000003, 100.8322, 44.19873, 267.33669, 149.99465, 354.06322, 213.55057000000002, 328.9073, 252.86485, 203.83302, 185.20771000000002, 223.50322000000003, 225.20118, 192.26077, 268.95628, 253.04771000000002, 180.79301999999998, 323.7873, 200.28036, 276.45342, 446.32770999999997, 288.20853, 223.92118, 242.28526000000002, 295.94077000000004, 82.85995, 274.46812, 165.51138, 170.84036, 170.23955, 295.1571, 413.33506, 343.40526, 188.49913999999998, 257.20117999999997, 107.28443999999999, 228.49261, 207.17668999999998, 259.52608, 226.66404, 317.36118, 244.87138, 318.45832, 105.42975, 228.0224, 156.42077, 237.45261000000002, 271.22893, 371.64363, 211.17342000000002, 224.28689, 149.18485, 153.93913999999998, 126.87628000000001, 209.97179, 206.18403999999998, 329.37751000000003, 167.6273, 409.96526, 130.92526, 184.37179, 189.07383000000002, 330.26567, 220.05506, 260.33587, 171.2322, 269.322, 180.37506000000002, 154.38322, 128.83546, 168.12363, 234.68363, 184.05832, 282.85342, 178.75546, 310.20363, 247.71873, 241.97179, 114.02403999999999, 165.53751, 231.94077000000001, 291.83955, 74.68363000000001, 194.45506, 187.24526, 162.87302, 280.00608, 262.24281, 419.68280999999996, 211.9571, 244.27057000000002, 46.86322, 255.00689, 214.09913999999998, 233.66485, 161.74975, 250.72281, 109.16526, 215.43138, 116.4273, 294.05995, 401.97179, 235.10159, 283.24526000000003, 31.42485, 207.20281, 211.74812000000003, 279.74485, 133.82485, 267.67627999999996, 247.562, 192.20853, 239.67302, 166.42567, 259.63057000000003, 229.40689, 156.29016000000001, 277.10649, 749.81832, 264.25424, 437.9424, 338.02404, 199.28771, 395.28444, 308.53179, 277.81179, 204.14649, 227.70892999999998, 227.94404, 246.07302, 341.75955, 184.0322, 225.74975, 201.92608, 199.05261000000002, 175.72526000000002, 274.78159, 363.20608, 165.25016000000002, 184.00608, 338.12852999999996, 196.88443999999998, 12.12036, 184.18893, 3.9962800000000005, 201.74322, 90.90567, 210.54648999999998, 191.97342, 140.40771, 197.22404, 219.81995, 250.67057000000003, 243.25179, 227.36934, 197.72036, 281.52117999999996, 130.19383, 183.58812, 148.24444, 277.7073, 194.45506, 349.51791000000003, 175.25506000000001, 271.85587000000004, 269.81832, 120.86811999999999, 229.45914, 255.21587000000002, 155.03628, 169.58649, 259.05587, 276.79302, 385.2273, 99.3171, 348.02893, 53.315459999999995, 189.43955, 186.5922, 49.94567, 212.32281, 87.11791, 161.80200000000002, 258.19383, 250.85342000000003, 152.65913999999998, 289.30567, 232.38485, 237.97506, 181.62893, 106.60526000000002, 257.95873, 558.28853, 114.93831999999999, 229.01506, 241.68444, 153.33831999999998, 266.00444, 307.51302000000004, 251.76771000000002, 159.11138, 241.03137999999998, 404.58404, 226.06322000000003, 238.94159, 383.29424, 222.30159, 308.92363, 441.96525999999994, 342.20363, 234.762, 181.08036, 287.99955, 142.52363, 148.74077, 163.39546, 128.93995, 416.44363, 276.03546, 184.55465, 381.17832000000004, 207.93424, 265.61261, 201.9522, 273.78893, 115.25178999999999, 310.59546, 162.69016000000002, 211.87873, 273.18812, 223.11137999999997, 224.7571, 166.03383, 108.85179, 214.93506000000002, 326.16444, 286.58893, 261.79873, 366.70649, 165.61587, 244.61016, 242.70322000000002, 159.24200000000002, 409.91302, 149.2371, 436.21832, 353.17506000000003, 24.0322, 111.80363, 210.07627999999997, 325.11955, 237.68771, 296.93342, 423.07873, 204.25098, 78.75873, 165.35465, 170.1873, 77.94893, 265.1424, 291.57832, 141.24363, 169.1424, 159.24200000000002, 380.81261, 279.74485, 390.66077, 248.71138, 188.94322, 163.63057, 269.94892999999996, 181.81179, 260.20526, 202.23955, 218.40934, 350.4322, 58.122, 456.51545999999996, 397.42649, 301.06077, 169.97832, 148.92363, 228.62322000000003, 119.71873000000001, 195.10811999999999, 52.79302, 221.49178999999998, 274.59873, 461.24363, 414.1971, 186.67057, 291.13424, 252.68200000000002, 216.89424, 230.53016000000002, 217.96526, 309.96853, 261.14567, 200.38485, 113.47546000000001, 281.33832, 209.34485, 208.48281, 365.16526, 151.37913999999998, 350.56281, 469.60281, 128.49587, 412.21179, 340.50567, 249.05097999999998, 508.96934000000005, 524.8779099999999, 292.5971, 188.29016000000001, 321.64526, 879.69914, 165.09342, 330.97098, 169.66485, 210.46812000000003, 250.56607999999997, 235.85914, 212.84526, 327.83628, 229.53751, 261.04118, 144.90077, 175.98649, 220.99546, 219.74159, 227.5522, 380.68199999999996, 202.47465, 145.55383, 289.59302, 79.93424, 261.642, 263.3922, 314.06975, 192.62649, 231.73179, 182.33424, 933.6419999999999, 140.12036, 219.19302000000002, 419.68280999999996, 88.58077, 192.20853, 179.04281, 152.45016, 324.91057, 383.16362999999996, 299.33669, 252.08118, 170.05669, 244.74077000000003, 296.85506000000004, 200.98567, 246.36036000000001, 211.59138, 289.2273, 171.15383, 204.85179, 225.14892999999998, 211.90485, 190.56281, 552.9334200000001, 167.3922, 505.67790999999994, 515.3693400000001, 170.94485, 194.76853, 198.89587, 313.70403999999996, 207.49016, 358.19057000000004, 246.30812000000003, 298.13506, 20.793020000000002, 254.45832000000001, 278.96117999999996, 146.59873000000002, 291.26485, 146.15465, 314.48771, 273.34485, 137.84771, 163.83955, 255.50322000000003, 188.05506, 192.88771, 210.18077000000002, 131.81342, 151.09179, 191.73832, 227.52607999999998, 201.03791, 316.96934, 278.54322, 186.40934, 266.89261, 168.04526, 117.08036000000001, 184.73751000000001, 243.98322000000002, 245.55057000000002, 141.92281, 277.62892999999997, 136.09751, 279.58812, 141.47873, 263.41832, 187.27138, 182.85669, 153.36444, 224.02567000000002, 258.42893, 151.01342, 391.02648999999997, 184.45016, 252.55138, 140.30321999999998, 364.14649, 78.81098, 13.5571, 201.50812, 187.92444, 257.2273, 287.92118, 157.57016000000002, 203.62403999999998, 172.38159, 175.43791000000002, 235.04934, 597.41995, 283.92444, 301.87057000000004, 324.07465, 338.75546, 313.20771, 134.89587, 248.34567, 240.84852999999998, 181.18485, 134.03383, 254.35383, 203.91138, 168.6722, 175.90812, 176.43057, 202.91873, 184.5024, 433.71057, 260.33587, 204.14649, 158.09261, 132.07465, 208.79628, 172.43383, 184.42404, 175.17668999999998, 121.65178999999999, 268.90404, 268.30322, 188.94322, 265.29913999999997, 231.73179, 285.51791000000003, 647.60118, 175.80363, 356.10077, 51.016690000000004, 113.65831999999999, 196.80608, 469.44608, 121.96526000000001, 199.94077, 231.47057, 96.65261, 280.81587, 118.38649, 367.01995, 174.21016, 52.87138, 308.76689, 296.33261, 275.3824, 309.52443999999997, 84.63628, 294.53016, 289.4624, 519.8624, 137.63873, 234.1873, 229.98158999999998, 288.41751, 230.37342, 316.21179, 459.33669000000003, 118.30812, 274.41587000000004, 276.4273, 239.20281, 330.63138, 171.59791, 165.51138, 317.46567000000005, 185.5473, 199.31383, 261.95546, 59.32363, 253.12607999999997, 180.87138000000002, 202.91873, 242.38975, 319.37261, 265.84771, 272.5873, 51.121179999999995, 182.22975, 198.66076999999999, 236.042, 135.07873, 282.53995, 321.30567, 248.55465, 396.87791, 182.25587, 228.49261, 312.39791, 251.79382999999999, 227.47383, 249.80853, 298.00444, 224.54812, 327.6273, 138.57914, 266.03057, 290.82077000000004, 217.49506, 232.35872999999998, 222.61506, 276.79302, 228.75383, 240.92689, 328.56771000000003, 167.18322, 195.36934, 181.65506000000002, 194.66404, 267.59791, 314.122, 224.93995, 159.4771, 376.68526, 459.31057000000004, 332.93016, 284.23791, 232.61995, 413.1522, 186.69669, 165.61587, 379.37587, 179.85261, 108.38158999999999, 180.1922, 264.59382999999997, 96.10404, 80.03873, 243.35627999999997, 283.66322, 205.26975, 220.70812, 162.55955, 181.49832, 172.38159, 162.37669, 198.84363000000002, 151.92771000000002, 307.722, 237.60934, 228.62322000000003, 285.67465, 224.54812, 209.18812, 295.31383, 200.41098, 280.65914, 378.67057, 262.21668999999997, 344.24118, 232.12363, 241.13587, 264.54159, 188.02893, 240.90077000000002, 559.7513799999999, 183.17016, 225.25342, 440.52853, 196.17914, 253.70077, 150.46485, 214.46485, 228.93669, 172.30321999999998, 104.93342, 127.29423999999999, 146.88608, 261.77261, 169.53423999999998, 359.36607999999995, 222.92853, 150.12526, 290.37669, 254.58892999999998, 520.88118, 165.38076999999998, 398.44526, 254.95465, 369.24036, 165.38076999999998, 36.54485, 266.23955, 184.63302, 397.24363, 165.66812, 331.88526, 181.96853000000002, 231.67955, 202.34403999999998, 204.56444, 215.48362999999998, 233.24688999999998, 639.60771, 223.29424, 184.58077, 165.35465, 73.03791, 118.83057, 279.24852999999996, 198.16443999999998, 235.49342000000001, 286.35382999999996, 42.70975, 151.19628, 243.1473, 125.6224, 277.39383, 127.4771, 74.762, 79.93424, 146.02403999999999, 250.77506, 258.19383, 187.92444, 234.9971, 678.76526, 133.3024, 231.67955, 277.41995, 273.31872999999996, 168.88118, 203.44118, 182.02077, 164.8322, 115.17342, 179.93098, 43.885259999999995, 310.41261000000003, 214.36036000000001, 202.91873, 85.15873, 175.90812, 76.79955, 327.73179, 228.38812000000001, 371.19955, 245.44608, 278.30812000000003, 179.48689, 287.55546, 209.52771, 194.48118, 149.36771000000002, 207.56853, 187.0624, 159.45098000000002, 376.08444, 143.15057, 332.01587, 239.5424, 219.76771000000002, 269.97506, 150.88281, 406.17751, 283.16688999999997, 95.76444000000001, 223.03302000000002, 235.65016, 140.59056999999999, 188.55138, 260.30975, 238.31465, 219.89832, 244.87138, 272.71791, 319.00689, 185.10322, 280.39791, 157.3873, 237.322, 225.59302000000002, 172.85179, 332.5122, 233.06403999999998, 202.68363, 191.97342, 95.58159, 194.01098000000002, 283.24526000000003, 356.36199999999997, 297.45587, 480.96608, 280.73751, 211.30404, 307.51302000000004, 240.66567, 185.75628, 220.31627999999998, 158.92853, 278.17751, 231.47057, 101.74649000000001, 207.41179, 98.84689, 233.63872999999998, 201.22077, 268.22485, 152.18893, 188.44689, 62.92853, 206.00118, 261.51138, 366.05342, 163.00363000000002, 301.24363, 367.46404, 288.28688999999997, 161.95873, 65.95873, 279.32689, 439.17015999999995, 250.5922, 362.03057, 248.99873, 174.602, 339.66975, 125.88363000000001, 126.53669, 166.68688999999998, 375.56199999999995, 222.04036000000002, 433.42322, 191.9473, 137.42975, 229.32852999999997, 272.09098, 46.210159999999995, 114.83383, 190.35383000000002, 259.29098, 284.9171, 231.96688999999998, 227.34322000000003, 45.50485, 235.17995, 203.72853, 224.9922, 261.8771, 209.162, 268.9824, 213.31546, 342.02077, 282.25261, 214.17751, 251.40200000000002, 48.63955, 279.7971, 233.92607999999998, 180.03546, 210.52036, 157.93587, 220.49913999999998, 239.5424, 259.91791, 68.49261, 192.05178999999998, 396.5122, 77.00853000000001, 129.69751000000002, 193.27955, 53.785669999999996, 265.58648999999997, 269.26975, 211.33016, 290.48118, 177.81506000000002, 130.66404, 410.90567000000004, 289.98485, 224.02567000000002, 178.25914, 125.36118, 198.86975, 106.16118, 252.49913999999998, 225.61914, 274.65098, 208.14321999999999, 283.0624, 242.28526000000002, 200.28036, 253.51791, 160.31302, 472.52853, 132.44036, 130.76853, 154.30485, 287.65995, 119.7971, 47.51628, 223.50322000000003, 105.74322, 194.48118, 368.53506, 159.76443999999998, 211.01668999999998, 248.99873, 188.49913999999998, 182.62159, 190.30159, 78.91546, 251.27138, 369.13587, 237.58322, 222.40607999999997, 159.26811999999998, 226.82077, 291.39546, 209.44933999999998, 336.16934, 243.56526000000002, 165.27628, 240.95302, 199.8624, 82.9122, 122.56608, 231.73179, 231.33995, 57.39057, 185.93913999999998, 239.0722, 130.71628, 285.12608, 200.35873, 253.07383, 178.88608, 196.54485, 271.64689, 231.54892999999998, 277.18485, 200.35873, 172.30321999999998, 287.7122, 383.58159, 202.1873, 244.6624, 367.01995, 238.10567000000003, 237.81832000000003, 139.49342, 105.92608, 185.99138, 287.92118, 202.57914, 251.6371, 413.54404, 171.38893000000002, 289.12281, 238.23628, 189.3873, 228.80607999999998, 273.03137999999996, 257.25342, 145.94567, 335.93424, 200.77669, 221.23057000000003, 280.55465, 191.7122, 275.22567000000004, 222.30159, 204.5122, 193.12281000000002, 241.26649, 288.62649, 199.57506, 199.54893, 167.88853, 208.69179, 272.01261, 275.9571, 229.92934, 244.74077000000003, 298.91873, 232.38485, 213.99465, 283.89832, 224.96607999999998, 300.5122, 88.39791, 188.68200000000002, 152.99873, 260.75383, 185.33831999999998, 251.14077000000003, 225.27955, 159.68608, 213.68117999999998, 112.19546000000001, 445.77914000000004, 152.68526, 264.09751, 220.36853, 248.00607999999997, 204.77342, 205.19138, 459.33669000000003, 306.78159, 242.80771000000001, 184.00608, 171.4673, 378.09587, 241.99791000000002, 247.37913999999998, 188.36853, 340.34893, 239.72526000000002, 259.3171, 270.99383, 226.40281000000002, 396.5122, 163.97016000000002, 217.46892999999997, 110.78485, 167.00036, 147.59138000000002, 168.82893, 192.86158999999998, 332.69506, 206.05342, 43.91138, 244.03546, 199.96688999999998, 145.31873000000002, 26.931790000000003, 224.52200000000002, 87.14404, 238.05342000000002, 238.81097999999997, 95.9473, 270.10567000000003, 226.66404, 168.95955, 265.66485, 246.49097999999998, 163.52608, 239.51628, 234.03057, 254.45832000000001, 368.32608, 190.85016000000002, 323.00363, 189.3873, 161.54077, 241.57995, 325.85098, 172.01587, 233.66485, 183.17016, 256.13016, 195.39546, 192.57424, 359.65342000000004, 237.03465, 191.84281000000001, 353.77587, 146.88608, 234.26567000000003, 197.48526, 329.19465, 479.9473, 255.32036000000002, 370.99057, 454.94812, 255.89506, 250.48771000000002, 284.1073, 243.51302, 216.63302000000002, 123.42811999999999, 395.62404, 272.03873, 203.20608000000001, 61.570159999999994, 193.74975, 270.94158999999996, 99.97015999999999, 241.05751, 276.37506, 262.19057000000004, 337.42322, 177.26649, 319.7122, 166.73914, 163.13423999999998, 183.53587, 217.88689, 280.55465, 99.7873, 347.79382999999996, 261.45914, 174.28853, 195.91791, 125.67465, 166.37341999999998, 236.56444, 182.85669, 210.80771000000001, 315.08853, 151.84933999999998, 256.83546, 145.08363, 161.51465, 231.00036, 342.69995, 221.43955, 177.52771, 208.45668999999998, 255.55546, 195.70893, 307.69587, 348.89097999999996, 133.3024, 241.29261, 257.4624, 231.28771, 324.98893, 132.15302, 190.37995, 187.11465, 628.2183200000001, 190.17098000000001, 226.58567000000002, 400.48281000000003, 136.88118, 225.80200000000002, 236.2771, 196.64934, 411.42812000000004, 327.6273, 264.93342, 130.76853, 181.31546, 156.21178999999998, 145.8673, 508.60363, 245.02812000000003, 61.83138, 247.71873, 109.13914, 241.65832000000003, 655.6730200000001, 233.22077000000002, 335.33342000000005, 397.60934, 344.71137999999996, 299.07546, 205.11302, 259.36933999999997, 271.46404, 234.73587, 105.40363, 354.76853, 198.5824, 256.39137999999997, 258.08934, 213.26322000000002, 155.48036000000002, 268.01587, 534.6215900000001, 319.55546, 244.71465, 300.01587, 255.42485, 367.98649, 280.45016, 122.46158999999999, 231.41832000000002, 197.0673, 185.05098, 210.38975, 215.14404, 404.37506, 305.50158999999996, 197.09342, 209.08363, 131.36934, 205.06077, 300.82567, 220.05506, 319.08526, 229.69423999999998, 197.19791, 352.33914, 129.12281000000002, 309.4722, 241.65832000000003, 273.00526, 222.14485, 573.67465, 181.39383, 127.16363, 228.20526, 194.79465, 246.67382999999998, 156.36853, 143.25506000000001, 284.31628, 295.60118, 167.70567, 196.38812, 207.75138, 618.23955, 352.49587, 307.69587, 261.58975, 67.10812, 246.59546, 493.29587000000004, 138.13506, 554.68363, 249.05097999999998, 247.43138, 393.09016, 78.18404, 146.57261, 231.49669, 176.5873, 173.24363, 269.00853, 144.77016, 641.48853, 314.72281, 292.51873, 340.21832, 173.5571, 206.2624, 494.21016, 222.24934, 110.70648999999999, 98.66404, 184.29342, 247.95382999999998, 263.57506, 170.70975, 224.86158999999998, 204.25098, 197.53751, 355.39546, 128.67873, 171.85914, 146.15465, 201.97832, 141.08688999999998, 165.69423999999998, 241.44933999999998, 408.05832000000004, 280.65914, 419.76117999999997, 235.98975, 407.06567, 188.26404, 175.15057, 86.56934, 186.40934, 219.21913999999998, 189.96200000000002, 274.442, 246.67382999999998, 210.52036, 126.4322, 503.48363, 243.30404, 242.15465, 167.83628000000002, 218.67057000000003, 165.74649, 260.51873, 207.69914, 156.21178999999998, 244.32281, 146.07628, 411.68934, 404.45342, 146.83383, 169.22077, 266.05669, 355.34322000000003, 250.38322000000002, 211.53914, 273.08362999999997, 220.52526, 262.89587, 179.51301999999998, 263.73179, 320.44363, 371.87872999999996, 231.23546000000002, 95.50322, 134.97423999999998, 842.1089300000001, 302.62812, 295.49669, 145.13586999999998, 154.74893, 156.49913999999998, 203.83302, 185.57342, 238.00117999999998, 378.95791, 126.58893, 193.59302, 189.20443999999998, 141.42649, 255.84281000000001, 172.48608000000002, 267.75465, 339.33016000000003, 205.71383, 268.06812, 149.36771000000002, 243.98322000000002, 543.58159, 366.39302000000004, 281.73016, 342.7522, 220.08118, 121.73016000000001, 222.69342000000003, 220.42077, 144.19546, 91.74159, 262.55627999999996, 188.05506, 211.74812000000003, 152.97261, 206.96771, 420.15302, 285.77914, 65.51465, 366.28853, 326.60853, 180.00933999999998, 213.13261, 197.40689, 215.82322000000002, 223.60771, 219.68934, 252.65587000000002, 237.66159, 189.51791, 153.25995, 237.84444, 204.85179, 267.65016, 223.29424, 214.04689, 269.7922, 336.79627999999997, 192.70485, 187.97669, 184.31955, 249.91302000000002, 103.73179, 180.50567, 215.90159, 184.76363, 341.68118, 238.49751, 338.28526, 211.17342000000002, 286.82403999999997, 167.13098, 34.61179, 126.69341999999999, 139.83302, 124.76036, 204.38159, 163.39546, 277.08036, 137.19465, 100.20526, 276.53179, 285.1522, 208.79628, 285.3873, 227.99627999999998, 256.49587, 249.25995, 537.25995, 120.86811999999999, 276.94975, 182.69995, 237.7922, 409.70403999999996, 321.30567, 322.66404, 214.04689, 231.18322, 215.562, 164.57098, 304.37832000000003, 254.51057000000003, 127.68608, 126.69341999999999, 250.85342000000003, 231.07872999999998, 236.09423999999999, 254.9024, 282.09587, 670.04036, 541.5179099999999, 222.06649, 214.30812000000003, 293.53751, 294.73913999999996, 228.49261, 240.5873, 168.33261000000002, 142.15791000000002, 229.8771, 179.09506000000002, 203.78077, 192.44363, 226.32443999999998, 298.52689, 245.68117999999998, 557.6877099999999, 184.94648999999998, 257.35791, 235.38893, 312.08444, 164.96281000000002, 96.65261, 234.50077000000002, 248.18892999999997, 185.23383, 297.92607999999996, 220.47302000000002, 185.20771000000002, 208.14321999999999, 70.89587, 277.96853, 256.57424, 149.89016, 260.91057, 89.88689000000001, 269.81832, 154.06975, 344.68526, 213.89016, 183.90159, 277.02812, 210.54648999999998, 421.61587000000003, 172.77342, 203.91138, 138.34403999999998, 299.57178999999996, 361.01179, 170.50077, 164.57098, 185.80853000000002, 183.87546, 202.23955, 330.57914, 811.2322, 245.13261, 286.77179, 133.66812, 213.15873, 286.6673, 132.93669, 156.62975, 213.21097999999998, 168.28036, 287.65995, 115.1473, 157.46567, 381.54404, 260.98893, 153.49506, 142.73261000000002, 247.17016, 208.24771, 179.01668999999998, 273.8673, 194.24608, 169.97832, 222.01424, 285.28281, 244.03546, 156.55138, 142.99383, 230.55628, 309.60281000000003, 236.25097999999997, 249.75627999999998, 191.42485, 275.04281000000003, 230.24281000000002, 197.82485, 112.16933999999999, 242.38975, 214.5171, 151.40526, 188.94322, 205.87057, 216.73751000000001, 136.75056999999998, 234.60526000000002, 256.78322000000003, 189.59628, 273.97179, 212.16608, 159.39873, 163.29098, 286.24934, 173.97506, 246.80444, 211.25179, 320.93995, 198.19057, 158.27546, 229.8771, 291.63057000000003, 222.04036000000002, 315.92444, 185.70404, 304.71791, 355.18649, 588.85179, 232.07137999999998, 249.49506, 233.45587, 159.63383000000002, 157.49178999999998, 329.50812, 208.87465, 264.6722, 304.95302000000004, 146.99057, 83.98321999999999, 134.922, 168.85506, 238.52362999999997, 244.92362999999997, 253.12607999999997, 177.44933999999998, 174.57587, 222.37995, 106.81423999999998, 137.40363, 238.23628, 279.06567, 359.8624, 164.12689, 172.38159, 218.33097999999998, 163.26485, 171.31056999999998, 114.62485, 128.96608, 58.46159, 52.55791, 210.28526000000002, 268.7473, 263.36607999999995, 246.85669, 193.82811999999998, 335.46404, 224.93995, 451.34322000000003, 445.49179000000004, 299.36281, 221.12607999999997, 323.60444, 183.17016, 456.64608, 335.56853, 189.80526, 229.90322, 197.25016000000002, 155.97669, 223.97342000000003, 182.33424, 172.12036, 194.21995, 181.73342, 153.7824, 227.65669, 294.66077, 339.1473, 167.26158999999998, 290.08934, 160.83546, 281.33832, 274.72934, 145.73668999999998, 302.8371, 125.83138000000001, 318.87628, 326.26892999999995, 191.52934, 198.86975, 294.47791, 215.06567, 240.09097999999997, 315.16688999999997, 415.45097999999996, 191.73832, 183.562, 132.93669, 271.43791, 268.90404, 579.1342400000001, 249.41669, 271.09832, 127.68608, 251.81995, 220.78649, 201.63873, 125.46566999999999, 209.03138, 221.70077, 195.65669, 209.94567, 253.12607999999997, 223.05913999999999, 183.53587, 224.41751000000002, 198.32118, 225.38404, 263.00036, 178.15465, 170.52688999999998, 312.92036, 221.20443999999998, 244.53179, 218.04362999999998, 226.32443999999998, 204.35546000000002, 206.99383, 317.12608, 240.19546, 208.32608000000002, 412.1073, 307.09506, 91.45424, 333.5571, 82.18077, 41.482, 160.60036000000002, 299.75465, 137.82159, 227.02975, 469.62892999999997, 129.01832, 212.84526, 191.76443999999998, 188.89098, 208.95302, 186.56608, 223.4771, 250.67057000000003, 107.31057, 222.82404, 350.27546, 285.88363, 265.76934, 260.46648999999996, 238.13179, 255.50322000000003, 211.80036, 253.04771000000002, 129.67138, 200.09751, 219.03627999999998, 251.16689, 272.43057000000005, 208.5873, 160.1824, 213.4722, 439.06567, 145.76281, 131.81342, 37.641999999999996, 277.18485, 215.82322000000002, 308.81914, 241.42322000000001, 192.15628, 263.81016, 245.81179, 202.86649, 116.29668999999998, 286.9024, 146.33751, 66.0371, 254.85016000000002, 288.67873, 295.02648999999997, 193.56689, 231.07872999999998, 171.2322, 152.42404, 214.88281, 355.94404, 243.722, 213.91627999999997, 148.40118, 249.5473, 352.93995, 10.34404, 242.85995, 108.35546000000001, 299.49342, 208.87465, 94.27546, 110.05341999999999, 193.54077, 164.362, 291.81342, 241.37097999999997, 273.60607999999996, 423.60118, 172.93016, 188.89098, 274.28526, 221.41342000000003, 193.09669, 226.76852999999997, 210.70322000000002, 342.83057, 171.04934, 266.89261, 207.0722, 103.75791, 260.91057, 198.76526, 347.402, 187.03628, 231.73179, 262.922, 164.20526, 291.13424, 244.74077000000003, 240.45668999999998, 216.81587000000002, 264.56771000000003, 256.83546, 262.21668999999997, 276.50567, 135.49669, 260.75383, 167.00036, 100.30975, 192.7571, 81.91955, 232.07137999999998, 252.86485, 149.28933999999998, 315.01016, 138.50077, 272.45669, 235.41506, 465.99791, 235.51955, 177.89342, 154.85342, 317.36118, 206.75873, 212.13995, 114.99056999999999, 244.24444, 216.76362999999998, 146.02403999999999, 234.34403999999998, 46.471379999999996, 213.52444, 348.55138, 293.8771, 235.72852999999998, 138.762, 233.37751, 160.78322, 255.65995, 208.16933999999998, 279.43138, 218.5922, 272.92689, 246.49097999999998, 167.28771, 454.16444, 178.78159, 128.33914, 147.48689, 397.76608, 211.90485, 200.33261000000002, 232.98567000000003, 427.36280999999997, 218.14812, 207.85586999999998, 162.37669, 161.27955, 320.02567, 172.90403999999998, 293.66812000000004, 311.90159, 191.29424, 124.29016000000001, 221.88362999999998, 115.12118000000001, 283.68934, 179.09506000000002, 171.07546000000002, 430.0273, 285.98812000000004, 314.30485, 149.39383, 217.52118, 218.27872999999997, 151.92771000000002, 159.42485, 224.39137999999997, 198.81751, 250.8273, 169.84771, 195.70893, 145.76281, 217.23382999999998, 143.5424, 217.73016, 233.58649, 187.92444, 231.96688999999998, 349.6224, 230.71302000000003, 353.07057000000003, 441.52117999999996, 247.562, 240.32608, 271.3073, 183.64036000000002, 119.58811999999999, 279.84934, 251.01016, 246.04689, 167.28771, 202.03056999999998, 203.78077, 224.65261, 307.09506, 182.04689, 260.62322, 453.58975, 205.37424, 267.17995, 141.40036, 255.39872999999997, 184.78975, 248.5024, 125.77913999999998, 53.210980000000006, 329.7171, 291.13424, 256.15628, 271.59465, 420.07465, 162.0371, 205.63546000000002, 284.1073, 283.32363, 318.37995, 181.15873, 169.482, 245.7073, 187.42812, 249.18159, 252.55138, 88.89424, 141.13914, 318.56281, 54.961180000000006, 231.33995, 112.06485, 147.82648999999998, 272.95302000000004, 258.29832000000005, 195.70893, 111.15057, 222.14485, 132.98893, 213.99465, 140.19873, 174.88934, 228.75383, 194.21995, 199.96688999999998, 282.85342, 242.25914, 382.14485, 215.7971, 178.65098, 140.32934, 309.83791, 88.00608000000001, 297.53424, 158.71955, 189.96200000000002, 174.34077, 179.12118, 279.77098, 179.17342, 174.75873, 161.51465, 226.32443999999998, 208.32608000000002, 274.31138, 271.09832, 245.78567, 454.1122, 185.44281, 201.82159, 345.0771, 191.92118, 292.28362999999996, 238.13179, 183.14404, 264.48933999999997, 222.14485, 601.9913799999999, 256.9922, 241.08362999999997, 392.35873, 211.56526000000002, 134.81751, 164.70158999999998, 226.55955, 237.16526000000002, 337.13587, 261.17179, 168.88118, 434.15465, 319.84281, 377.86077, 124.52526, 214.69995, 185.0771, 177.68444, 334.13178999999997, 252.94322000000003, 118.04688999999999, 32.1824, 229.90322, 228.30975, 232.09751, 190.04036000000002, 186.64444, 262.19057000000004, 284.65587, 553.27302, 241.99791000000002, 144.48281, 98.2722, 90.46159, 245.10648999999998, 278.7522, 180.32281, 282.61832000000004, 186.09587, 368.92689, 210.25914, 232.85506, 157.09995, 224.80934, 185.83465, 128.67873, 551.5489299999999, 269.73995, 220.15955, 72.33261, 243.48689, 247.7971, 377.10322, 345.67791, 208.37832, 154.122, 239.20281, 269.68771, 174.602, 506.27873, 153.49506, 309.28934, 138.97098, 320.1824, 223.21587000000002, 256.46975, 282.43546000000003, 156.52526, 122.40933999999999, 424.51545999999996, 282.33097999999995, 143.882, 221.64853, 91.01016, 325.66812000000004, 221.6224, 305.73669, 266.762, 287.00689, 335.17669, 194.58567, 368.03873, 295.07873, 335.28118, 281.80852999999996, 195.29098, 231.44444, 575.79057, 212.97587000000001, 315.84608, 311.01342, 214.07302, 307.40853, 132.93669, 210.36362999999997, 274.65098, 197.58975, 267.44118, 220.02892999999997, 32.41751, 185.44281, 192.15628, 201.27302, 263.94077000000004, 185.0771, 124.18567, 190.27546, 262.37342, 207.04608000000002, 82.1024, 129.93261, 107.62404, 325.19791000000004, 256.7571, 366.0273, 78.94159, 249.46892999999997, 274.18077, 279.14404, 321.01832, 197.72036, 183.06566999999998, 209.03138, 508.3424, 336.43057000000005, 398.52362999999997, 390.32117999999997, 129.48853, 175.41179, 301.71383, 381.30893, 212.32281, 248.2673, 140.69506, 365.03465, 191.21587, 245.49832, 285.6224, 141.50485, 211.82648999999998, 166.73914, 278.38649, 170.00444, 260.80608, 368.06485, 243.80036, 264.01914, 216.2673, 279.90159, 369.94567, 213.78567, 225.59302000000002, 221.64853, 301.08689, 108.61668999999999, 198.84363000000002, 326.922, 149.9424, 256.57424, 434.15465, 94.6673, 209.55383, 246.09913999999998, 217.15546, 368.79627999999997, 248.92036000000002, 149.73342, 296.51546, 205.94893000000002, 219.84607999999997, 100.0224, 188.21178999999998, 165.04118, 210.33751, 274.57261, 169.19465, 161.82811999999998, 223.92118, 134.39955, 217.05097999999998, 274.80771, 228.15302000000003, 218.56607999999997, 279.71873, 193.20118, 197.04118, 175.25506000000001, 278.25587, 287.03302, 300.72118, 181.28933999999998, 225.4624, 216.65913999999998, 342.36036, 269.84443999999996, 283.37587, 151.92771000000002, 210.70322000000002, 231.57506, 186.53995, 133.45914, 262.922, 209.31873000000002, 165.61587, 380.42077, 181.65506000000002, 150.85669, 262.5824, 255.60771, 277.62892999999997, 245.7073, 248.97261, 203.49342, 277.18485, 257.54077, 207.90812, 180.61016, 93.33506, 190.06649, 295.99302, 215.77097999999998, 125.962, 209.3971, 213.21097999999998, 232.41098, 262.89587, 290.69016, 177.42322, 173.19138, 281.80852999999996, 173.92281, 269.81832, 351.34649, 284.73424, 217.67791, 241.37097999999997, 165.85098, 210.59873, 956.6036300000001, 155.16689, 220.36853, 283.27137999999997, 159.42485, 363.36281, 167.65341999999998, 514.45506, 186.69669, 381.28281, 204.38159, 181.36771000000002, 197.11955, 224.86158999999998, 175.22893, 262.08608, 229.58975, 247.77097999999998, 166.24281000000002, 276.81914, 297.09016, 260.30975, 211.17342000000002, 283.71546, 212.63627999999997, 170.55302, 296.09751, 193.43628, 330.65751, 170.63138, 276.37506, 242.23302, 208.1171, 229.25016000000002, 239.64688999999998, 178.46812, 121.20771, 938.00444, 136.77669, 292.12689, 199.3922, 295.05261, 545.74975, 278.12526, 159.84281000000001, 262.89587, 402.65098, 132.54485, 196.362, 225.61914, 199.8624, 180.11383, 310.41261000000003, 101.8771, 89.12934, 221.1522, 322.35057, 242.18077000000002, 215.11791000000002, 380.86485, 166.76526, 511.21587, 220.73424, 260.46648999999996, 202.55302, 262.24281, 180.11383, 393.76934, 215.66648999999998, 521.63873, 213.02812000000003, 217.93913999999998, 173.26975, 333.89669, 201.22077, 339.25178999999997, 218.53995, 236.59057, 222.87627999999998, 341.05424, 240.01261, 218.46159, 313.93914, 224.02567000000002, 140.30321999999998, 204.22485, 190.6673, 167.26158999999998, 205.06077, 106.63138000000001, 240.40444, 122.33098000000001, 277.7073, 161.85424, 185.44281, 287.50322, 328.72444, 201.79546000000002, 152.68526, 56.711380000000005, 249.23382999999998, 199.18322, 173.322, 205.84444, 163.05587, 336.43057000000005, 237.08688999999998, 496.06485, 210.85995, 109.03465, 211.30404, 346.25261, 171.78077, 160.7571, 133.95546000000002, 173.68771, 269.19138, 172.87791, 345.96526, 684.79955, 264.12363, 170.47465, 103.52280999999999, 198.73914, 204.06812, 246.93506000000002, 239.80362999999997, 148.47955, 277.83791, 225.33178999999998, 180.92363, 216.05832, 138.70975, 127.37261000000001, 213.75955, 590.00118, 256.13016, 235.75465, 152.42404, 360.30649, 197.25016000000002, 268.2771, 325.98159, 169.01179, 254.74567000000002, 230.00771, 300.09424, 195.18649, 227.7873, 134.50404, 354.66404, 346.22649, 182.282, 233.76934, 255.21587000000002, 224.91383, 103.41832, 315.48036, 180.76689, 177.94567, 193.93261, 184.24118, 209.162, 158.40608, 245.28933999999998, 174.52363, 462.0273, 267.4673, 126.79791000000002, 305.55383, 218.87955, 36.205259999999996, 488.41098, 232.64607999999998, 205.73995, 148.11383, 193.85424, 258.61179, 133.27628, 143.59465, 254.24934, 481.07057000000003, 175.49016, 160.93995, 181.39383, 283.19302000000005, 214.43873, 134.94812, 281.49506, 159.58158999999998, 275.12118, 329.40362999999996, 177.8673, 186.06975, 351.50322, 53.86404, 139.62403999999998, 164.77995, 273.89342, 162.58567, 431.75138, 334.68036, 152.842, 252.44689, 214.25587000000002, 207.20281, 252.02892999999997, 169.87383, 127.79057, 192.80934, 278.96117999999996, 214.7522, 177.18812, 230.66077, 233.40363, 405.00199999999995, 232.72444, 210.33751, 270.39302000000004, 577.48853, 162.0371, 231.00036, 16.40444, 373.75955, 265.92607999999996, 162.16771, 293.8771, 192.20853, 238.21016, 257.48852999999997, 136.82893, 466.33750999999995, 274.38975, 219.61097999999998, 194.0371, 288.91382999999996, 50.15465, 308.63628, 430.65424, 252.36853, 323.3171, 140.5122, 220.99546, 363.31057000000004, 233.40363, 207.33342, 187.32363, 115.74812, 292.85832, 168.12363, 256.33914, 139.12771, 181.49832, 204.87791, 234.73587, 103.18321999999999, 213.68117999999998, 281.59955, 250.69669, 185.36444, 264.82892999999996, 268.17261, 242.83382999999998, 251.03627999999998, 96.86159, 409.99138, 208.14321999999999, 166.81751, 219.79382999999999, 308.50567, 201.82159, 250.90567000000001, 111.46404, 222.9024, 269.7922, 196.91057, 229.40689, 283.61098, 249.93913999999998, 242.80771000000001, 157.07383000000002, 297.22077, 233.11628, 204.82567, 182.9873, 246.56933999999998, 258.84689, 172.87791, 188.62975, 242.20689, 171.93751, 236.93016, 473.46893, 227.99627999999998, 406.07302000000004, 248.55465, 350.11872999999997, 215.40526, 189.67465, 381.33506, 116.92363, 306.38975, 216.24117999999999, 272.8224, 325.72036, 195.13423999999998, 173.97506, 245.36771000000002, 161.95873, 229.79872999999998, 162.79465, 490.84036, 262.53016, 192.54811999999998, 240.45668999999998, 203.75465, 227.60443999999998, 210.96444, 193.25342, 210.85995, 377.75628, 227.082, 230.05995, 312.05832000000004, 210.20689, 175.80363, 339.09506, 490.55302, 327.65342000000004, 205.24363, 253.1522, 195.83955, 118.88281, 204.2771, 233.45587, 307.87872999999996, 527.82975, 190.92853, 183.95383, 382.98077, 216.18892999999997, 24.136689999999998, 135.13098, 247.14404, 243.69587, 210.52036, 218.67057000000003, 240.43057000000002, 313.46893, 347.42812000000004, 193.54077, 403.01669, 180.79301999999998, 127.73832, 277.81179, 316.02893, 249.67791, 416.23465, 409.83465, 372.37506, 179.74812, 262.00771000000003, 288.07791000000003, 220.83872999999997, 250.33097999999998, 265.32526, 454.84362999999996, 260.8322, 184.2673, 236.77342000000002, 222.6673, 216.60689, 131.082, 239.46403999999998, 195.18649, 76.90404000000001, 268.04200000000003, 169.22077, 243.1473, 140.43383, 439.30077, 526.21016, 254.1971, 158.40608, 304.45669, 153.88689, 290.35057, 199.23546000000002, 247.87546, 880.9268900000001, 659.46077, 213.7073, 272.84853, 252.00281, 52.03546, 281.25995, 104.93342, 167.44444, 240.03873, 170.52688999999998, 64.39138, 286.04036, 157.30893, 317.09995, 200.80281000000002, 182.15138000000002, 341.2371, 170.50077, 44.30322, 333.21751, 253.77913999999998, 249.88689, 325.48526, 273.81506, 229.27627999999999, 192.33914, 185.5473, 276.21832, 246.43873, 361.16853, 242.05016, 165.19791, 236.79955, 29.49179, 285.98812000000004, 663.24853, 241.76281, 207.98649, 200.202, 299.78077, 200.82893, 334.18404, 158.51057, 188.18567, 13.58322, 236.35546000000002, 251.14077000000003, 130.61178999999998, 215.97995, 200.04526, 301.81832, 238.05342000000002, 152.842, 175.5424, 257.25342, 339.80036, 164.64934, 175.96036, 212.40117999999998, 184.42404, 298.70975, 204.19873, 189.72689, 159.16363, 214.9873, 258.63791000000003, 410.98404, 157.6224, 263.36607999999995, 227.05587000000003, 149.96853000000002, 125.85751, 155.27138, 210.59873, 242.99057000000002, 199.75791, 333.32199999999995, 153.0771, 138.52688999999998, 232.202, 158.01424, 223.65995, 268.12036, 272.69178999999997, 165.61587, 243.04281, 188.44689, 222.61506, 246.20362999999998, 263.49669, 263.47057, 194.5073, 440.76363, 285.04771, 245.68117999999998, 253.75302000000002, 550.97424, 245.13261, 197.38076999999998, 263.49669, 199.78404, 98.11546, 306.65098, 216.13669, 351.84281, 268.40771, 233.92607999999998, 188.31628, 160.23465, 251.29751000000002, 223.76443999999998, 228.85832000000002, 186.53995, 160.33914, 241.26649, 475.11465, 225.27955, 330.94485, 358.71302000000003, 250.69669, 209.57995, 285.28281, 192.62649, 200.30649, 257.35791, 299.72853, 240.09097999999997, 158.51057, 239.46403999999998, 240.32608, 290.19383, 151.53587, 120.42403999999999, 199.02649, 211.17342000000002, 181.55057, 65.95873, 319.97342000000003, 231.67955, 176.37832, 209.34485, 200.54158999999999, 260.96281, 140.09423999999999, 184.92036000000002, 194.97751, 294.24281, 256.46975, 244.27057000000002, 244.50567, 263.73179, 30.45832, 147.87873000000002, 175.72526000000002, 178.33751, 214.43873, 86.22975, 356.23138, 191.55546, 278.46485, 185.36444, 445.33505999999994, 209.10975, 207.882, 316.39465, 239.75137999999998, 198.50404, 196.88443999999998, 229.45914, 203.2322, 122.51383, 228.12689, 94.51057, 238.8371, 218.3571, 277.15873, 84.1922, 294.08608, 293.66812000000004, 138.44853, 117.83791000000001, 303.90812, 287.16362999999996, 173.19138, 531.6175099999999, 178.49424, 145.10975, 208.45668999999998, 163.52608, 195.21261, 209.73668999999998, 159.65995, 218.17424, 286.4322, 113.99791, 184.34566999999998, 290.53342000000004, 247.48362999999998, 193.35791, 191.99955, 165.98158999999998, 530.12853, 38.922, 202.05669, 235.25832000000003, 326.79138, 225.30567000000002, 119.7971, 216.45016, 217.39057000000003, 232.77669, 222.56281, 193.07057, 190.37995, 28.838729999999998, 184.34566999999998, 190.69342, 340.40117999999995, 184.81587, 100.8322, 328.85506000000004, 116.34893000000001, 269.76608, 309.83791, 128.62649, 246.80444, 367.49016, 103.47057, 287.55546, 206.21016, 187.14077, 159.81669, 410.8273, 208.87465, 311.30077, 294.00771000000003, 79.51628000000001, 191.89506, 248.45016, 91.61098, 229.61587000000003, 349.23057, 199.13098, 121.91301999999999, 455.02649, 233.53423999999998, 265.37751000000003, 202.91873, 297.66485, 190.4322, 642.92526, 189.88363, 213.13261, 192.78322, 191.42485, 187.03628, 976.56118, 206.94159, 166.26893, 148.79301999999998, 243.722, 159.60771, 232.48934, 203.4673, 508.65587, 252.83872999999997, 229.35465, 482.55955, 214.17751, 146.442, 213.34159, 349.72688999999997, 197.0673, 153.49506, 137.45587, 238.602, 147.17342, 350.11872999999997, 376.99872999999997, 413.07383, 269.63546, 130.01098000000002, 289.25342, 183.06566999999998, 263.33995, 230.53016000000002, 60.890980000000006, 198.45179, 90.38322, 152.92036000000002, 245.44608, 283.76771, 370.85995, 162.08934, 264.64608, 279.84934, 217.28607999999997, 247.11791000000002, 441.7824, 230.60852999999997, 125.25668999999999, 174.18403999999998, 233.92607999999998, 223.68607999999998, 329.37751000000003, 114.1024, 316.99546000000004, 306.59873, 130.29832, 288.41751, 67.52608000000001, 139.78077, 256.62649, 229.04117999999997, 142.94159, 59.95056999999999, 108.87791000000001, 250.122, 351.42485, 384.57424, 6.08608, 167.10485, 591.62077, 105.45586999999999, 92.42076999999999, 798.1971, 239.64688999999998, 294.3473, 386.55955, 150.07301999999999, 212.08771000000002, 301.11302, 418.79465, 213.05424, 116.34893000000001, 141.322, 291.7873, 132.07465, 258.19383, 177.94567, 257.82812, 163.36934, 297.63873, 88.73751, 174.15791000000002, 610.95138, 85.02812, 479.81669000000005, 251.76771000000002, 104.64608, 235.72852999999998, 151.92771000000002, 418.87302, 163.42158999999998, 122.64443999999999, 406.93506, 220.13342000000003, 227.36934, 159.45098000000002, 37.48526, 255.63383, 296.98567, 377.36444, 289.95873, 229.32852999999997, 192.02567, 175.01995, 264.33261, 263.02648999999997, 470.9873, 241.44933999999998, 148.47955, 101.77261, 220.94322000000003, 288.39137999999997, 267.07546, 176.63955, 154.06975, 500.6624, 336.06485, 264.82892999999996, 192.07791, 407.03955, 419.97015999999996, 248.13669, 201.03791, 211.64362999999997, 209.71057, 397.81832, 361.56036, 191.99955, 271.77751, 242.65097999999998, 226.82077, 242.9122, 192.91383000000002, 202.70975, 144.71791000000002, 225.17506, 252.36853, 301.71383, 201.09016, 157.12608, 183.43138000000002, 147.9571, 234.1873, 318.79791, 57.18159, 219.76771000000002, 492.30322, 202.10893000000002, 255.58158999999998, 62.95465, 292.70159, 118.9873, 264.48933999999997, 258.35057, 213.55057000000002, 200.9073, 233.50812000000002, 247.64036000000002, 342.30812000000003, 26.80118, 191.73832, 300.82567, 178.49424, 216.68526, 127.03302, 632.34567, 245.10648999999998, 272.53506, 115.53913999999999, 201.09016, 222.74567000000002, 329.63873, 195.65669, 147.93098, 486.94812, 242.62485, 191.24200000000002, 143.35955, 216.65913999999998, 29.33506, 180.50567, 162.66404, 171.72853, 360.75057000000004, 239.33342000000002, 211.35627999999997, 127.99955, 253.59627999999998, 327.67955, 219.24526, 190.56281, 226.21995, 275.12118, 209.34485, 138.84036, 196.12689, 478.92852999999997, 202.78812, 216.39791, 142.91546, 479.45097999999996, 389.95546, 343.58812, 199.57506, 189.88363, 220.55138, 243.85261, 170.44853, 236.53832000000003, 184.39791, 199.81016, 162.32443999999998, 109.71383, 257.4624, 230.76526, 192.13016000000002, 217.91302000000002, 195.02975, 205.50485, 341.05424, 369.26649, 244.45342000000002, 271.49016, 177.26649, 178.57261, 199.28771, 172.09423999999999, 196.93669, 220.76036000000002, 228.85832000000002, 192.13016000000002, 185.99138, 212.11382999999998, 204.09423999999999, 242.07627999999997, 182.80444, 283.14077000000003, 234.65751, 195.65669, 179.93098, 70.03383000000001, 254.64118, 234.47465, 247.77097999999998, 197.642, 195.00363000000002, 253.28281, 467.43465, 331.88526, 152.00608, 262.79138, 540.49914, 32.91383, 257.95873, 601.3122, 328.72444, 197.90322, 293.53751, 327.05261, 185.23383, 253.43955, 242.93832, 284.76036, 213.41995, 218.38322000000002, 212.40117999999998, 178.15465, 312.08444, 217.86077000000003, 313.10322, 232.95955, 70.53016, 248.86812, 259.60444, 421.27628, 74.762, 254.98077, 237.5571, 197.79873, 232.48934, 129.48853, 594.85995, 305.10975, 245.75955, 173.58321999999998, 135.41832, 278.38649, 51.121179999999995, 254.24934, 122.51383, 311.19628, 437.28934000000004, 68.41424, 132.51873, 27.0624, 294.24281, 132.23138, 169.27302, 332.45995, 339.87872999999996, 180.24444, 74.34404, 298.68363, 115.69587, 56.13669, 201.16853, 234.1873, 207.93424, 262.50404, 318.22322, 205.53098, 202.39628000000002, 296.12363, 416.7571, 245.31546, 156.42077, 263.57506, 373.41995, 100.10077, 149.89016, 569.46893, 280.24118, 151.71873, 203.17995, 236.59057, 409.88689, 177.00526000000002, 221.04771000000002, 286.98077, 219.48036000000002, 185.28608, 289.38403999999997, 81.50159000000001, 220.31627999999998, 86.67383000000001, 170.26567, 235.31057, 614.00771, 270.47137999999995, 234.16117999999997, 257.2273, 264.88118, 173.42649, 102.37342, 271.82975, 340.53179, 196.12689, 182.282, 168.95955, 492.45995, 260.04852999999997, 180.92363, 200.41098, 193.74975, 860.39465, 183.61424, 277.7073, 119.06567, 185.15546, 118.28200000000001, 329.32526, 160.26077, 372.27057, 138.762, 187.0624, 533.34159, 203.15383, 301.13914, 169.84771, 130.53342, 193.01832, 212.06159, 132.25751, 249.75627999999998, 209.89342000000002, 160.62649, 175.38567, 215.61424, 460.79955, 285.43955, 273.24036, 239.20281, 142.49751, 171.38893000000002, 464.5873, 188.96934, 173.322, 217.7824, 158.45832, 299.93751000000003, 170.08281000000002, 239.67302, 249.39057000000003, 205.73995, 139.78077, 316.49914, 315.92444, 134.76526, 213.91627999999997, 172.59056999999999, 183.95383, 387.16036, 294.00771000000003, 474.06975, 192.10404, 25.573420000000002, 182.77832, 173.13914, 467.53914000000003, 740.46649, 327.18322, 263.6273, 208.56118, 135.8624, 257.85424, 172.06812, 191.65995, 281.52117999999996, 165.72036, 114.33751000000001, 248.99873, 303.22893, 396.77342000000004, 242.20689, 279.84934, 313.75628, 227.10812, 141.40036, 100.36200000000001, 225.90649, 186.61831999999998, 435.93098, 113.97178999999998, 258.48118, 169.22077, 182.22975, 218.93178999999998, 291.21261, 217.41669, 236.82567000000003, 410.06975, 177.91955, 342.59546, 513.5668900000001, 231.31382999999997, 265.29913999999997, 364.5122, 403.19955, 280.89423999999997, 203.57179, 170.44853, 232.04526, 88.86811999999999, 52.11383, 288.49587, 185.39057, 186.01751000000002, 303.20281, 205.13914, 165.04118, 280.97261000000003, 354.19383, 466.05015999999995, 233.97832000000002, 101.43302, 278.96117999999996, 183.27465, 68.362, 165.82485, 226.92526, 159.68608, 218.5922, 289.64526, 17.60608, 186.90567, 302.52362999999997, 221.88362999999998, 220.47302000000002, 182.22975, 188.89098, 204.38159, 305.16200000000003, 222.14485, 201.06403999999998, 203.96363, 275.19955, 298.89261, 39.18322, 79.77750999999999, 267.36281, 206.70649, 261.48526, 119.66649, 186.06975, 276.63628, 433.47545999999994, 241.26649, 233.74322, 817.37098, 251.21913999999998, 260.93669, 190.32771, 206.78485, 264.12363, 384.13016, 163.83955, 153.96526, 150.90893, 324.93669, 213.60281, 265.84771, 195.39546, 108.45995, 277.89016000000004, 292.5971, 115.35628, 218.09587000000002, 277.39383, 235.12771, 214.12526, 287.32036, 321.48852999999997, 190.9024, 252.26404, 223.45098, 290.19383, 355.05587, 405.52443999999997, 419.76117999999997, 363.41506, 190.77178999999998, 313.91302, 542.87628, 305.34485, 365.47873, 235.12771, 225.98485, 239.33342000000002, 227.76117999999997, 316.76036, 280.00608, 192.67873, 194.71628, 295.91465, 237.89668999999998, 390.37342, 161.38404, 263.18322, 288.62649, 246.12526, 203.44118, 153.59955, 286.4322, 312.63302000000004, 197.45914, 259.02975, 233.7171, 195.02975, 272.74404, 216.60689, 238.36688999999998, 444.9171, 399.98649, 169.56036, 148.89751, 259.05587, 135.8624, 272.50892999999996, 162.29832, 237.60934, 282.43546000000003, 141.58321999999998, 186.51383, 293.90322000000003, 303.51628, 248.0322, 268.61669, 125.33506000000001, 168.30649, 3.5522, 278.41261000000003, 167.49669, 211.12117999999998, 269.53098, 287.37261, 87.14404, 170.81423999999998, 497.13587, 321.20117999999997, 298.05669, 47.28118, 309.49832000000004, 227.39546, 173.19138, 60.21179, 130.63791, 230.37342, 251.40200000000002, 233.11628, 147.40853, 60.133419999999994, 393.89995, 229.0673, 156.21178999999998, 194.82076999999998, 271.5424, 267.36281, 270.31465, 182.9873, 278.36036, 239.72526000000002, 176.5873, 385.35791, 330.1873, 296.30649, 163.81342, 288.80933999999996, 242.83382999999998, 155.8722, 239.93424, 198.84363000000002, 273.00526, 57.57342, 210.23302, 435.3824, 242.62485, 183.11791000000002, 413.23057, 144.97914, 421.19791, 247.84933999999998, 205.24363, 298.9971, 136.04526, 352.44363, 134.1122, 226.37669, 179.3824, 228.96281000000002, 315.16688999999997, 192.62649, 224.73098, 106.39628, 251.42812, 274.78159, 150.49098, 233.84771, 324.07465, 283.48036, 250.56607999999997, 327.78404, 231.47057, 187.66322, 45.45261, 386.66404, 201.22077, 286.74567, 220.73424, 232.75057, 128.41751000000002, 219.29751000000002, 212.84526, 199.73179, 124.39465, 204.01587, 191.29424, 204.5122, 404.45342, 186.8273, 152.76363, 274.99057, 254.69342000000003, 164.362, 302.75872999999996, 167.33995, 213.18485, 187.32363, 240.92689, 272.16934, 534.6215900000001, 221.93587000000002, 210.07627999999997, 222.04036000000002, 290.11546, 169.84771, 291.3171, 100.75383000000001, 204.93016, 119.27465, 216.81587000000002, 223.99955, 361.24689, 272.03873, 175.20281, 267.91138, 439.64036, 313.3122, 124.83873, 212.13995, 313.7824, 155.11465, 164.44036, 170.26567, 217.88689, 232.82892999999999, 282.33097999999995, 184.68526, 292.91057, 204.90403999999998, 155.14077, 556.06812, 210.93832, 169.66485, 188.89098, 225.82812, 149.65506000000002, 226.95137999999997, 329.53424, 288.65261, 229.69423999999998, 137.79546000000002, 313.05098, 149.34159, 312.5024, 286.06649, 102.13832, 267.59791, 109.50485, 270.62812, 261.35465, 148.61016, 189.57016000000002, 159.76443999999998, 172.90403999999998, 361.9522, 231.60117999999997, 158.30159, 183.562, 226.37669, 128.15628, 159.29424, 343.37914, 57.442809999999994, 175.22893, 198.63465, 225.07057000000003, 176.01261, 421.35465, 142.78485, 304.1171, 113.05751000000001, 118.38649, 114.62485, 202.60526000000002, 16.92689, 215.30077000000003, 236.72117999999998, 267.59791, 84.11383000000001, 356.93669, 151.87546, 231.10485, 122.17424, 320.70485, 155.37587, 217.20771000000002, 337.162, 239.80362999999997, 229.642, 381.23057, 225.59302000000002, 125.02158999999999, 181.57668999999999, 358.89587, 209.47546, 293.27628, 221.80526, 191.99955, 189.17831999999999, 486.97424, 140.2771, 146.9122, 230.05995, 118.33424, 176.90077, 123.68933999999999, 310.12526, 211.59138, 197.79873, 171.85914, 182.15138000000002, 180.08771000000002, 141.19138, 177.6322, 167.00036, 145.3971, 183.97995, 229.58975, 186.64444, 277.41995, 228.46649, 472.39790999999997, 183.27465, 59.036280000000005, 349.80526000000003, 264.09751, 265.32526, 121.25995, 180.45342, 231.18322, 168.30649, 247.24853, 225.95872999999997, 214.5171, 340.53179, 371.87872999999996, 194.29832, 156.62975, 170.4224, 233.42975, 158.27546, 130.71628, 24.345670000000002, 250.8273, 190.56281, 241.162, 268.61669, 291.10812000000004, 263.05261, 120.99873000000001, 160.91383000000002, 257.48852999999997, 323.60444, 370.02404, 356.25751, 235.15382999999997, 424.82892999999996, 216.39791, 219.01016, 295.1571, 461.71383, 204.77342, 85.9424, 152.94648999999998, 163.10811999999999, 322.21995, 279.97995, 116.92363, 532.27057, 312.92036, 241.08362999999997, 234.762, 528.22159, 319.84281, 314.17424, 146.80771000000001, 154.93178999999998, 172.01587, 324.80608, 199.96688999999998, 281.05098, 272.97914, 253.85751000000002, 222.40607999999997, 247.97995, 482.21995, 240.79627999999997, 194.24608, 165.45914, 177.44933999999998, 390.63465, 316.81261, 375.03955, 288.02567, 237.19137999999998, 355.5522, 195.42158999999998, 161.20118, 138.762, 209.6322, 253.23057000000003, 45.87057, 251.08853, 189.70077, 192.15628, 276.50567, 116.37506, 89.23383000000001, 271.3073, 157.96200000000002, 310.54322, 178.75546, 256.20853, 223.45098, 78.21016, 204.9824, 150.59546, 163.47383, 145.55383, 202.13506, 232.64607999999998, 380.08117999999996, 98.32444, 260.51873, 207.35955, 158.1971, 258.16771, 401.24036, 191.63383000000002, 283.79382999999996, 376.16281000000004, 258.29832000000005, 208.84853, 209.94567, 230.00771, 264.41098, 565.96853, 483.39545999999996, 44.93016, 140.38159, 344.68526, 231.75791, 600.11057, 280.86812000000003, 170.81423999999998, 384.67873, 168.33261000000002, 145.8673, 159.76443999999998, 122.40933999999999, 294.47791, 221.09995, 287.50322, 168.51546000000002, 208.50893, 194.53342, 323.18649, 220.36853, 251.97669, 371.33016000000003, 485.14567, 235.25832000000003, 210.02403999999999, 330.73587000000003, 216.842, 279.35302, 252.99546, 580.70159, 259.3171, 199.99302, 218.90567000000001, 78.0273, 312.99872999999997, 163.63057, 255.03302000000002, 148.74077, 92.76035999999999, 226.0371, 271.77751, 210.1024, 465.47545999999994, 140.87791, 251.61097999999998, 246.54322000000002, 190.06649, 100.67546, 186.20036000000002, 180.40118, 216.81587000000002, 237.21751, 324.23138, 126.53669, 203.04934, 98.76853, 311.27465, 150.9873, 238.15791000000002, 286.58893, 182.36036000000001, 228.30975, 207.28118, 135.8624, 146.33751, 393.63873, 283.48036, 229.66812000000002, 208.95302, 625.7889299999999, 224.62649, 170.1873, 313.7824, 770.3505700000001, 425.16853, 199.44444, 141.84444, 208.03873000000002, 132.44036, 180.61016, 231.10485, 179.56526000000002, 274.85995, 176.97914, 239.12444, 235.12771, 196.5971, 257.30567, 293.92933999999997, 79.64689, 226.11546, 172.72118, 181.39383, 302.2624, 304.16934, 163.21261, 274.46812, 235.7024, 309.91628, 212.53179, 218.06975, 355.63057000000003, 288.49587, 222.64118, 260.5971, 246.46485, 204.14649, 203.31056999999998, 262.47791, 130.06322, 291.29098, 211.25179, 236.2771, 265.53424, 268.43383, 87.58811999999999, 228.10077, 298.1873, 266.50077000000005, 253.90975, 199.8624, 151.17016, 157.72689, 389.25016, 221.90975, 310.9873, 172.17261000000002, 311.90159, 222.64118, 239.22893, 169.63873, 219.16689, 257.61914, 236.35546000000002, 121.73016000000001, 152.58077, 212.84526, 209.60608, 248.37179, 219.74159, 126.82404, 280.58077000000003, 101.85098, 281.93914, 391.00036, 198.922, 384.57424, 231.18322, 285.46567000000005, 122.27873000000001, 250.27872999999997, 488.17587000000003, 200.88118, 484.62322, 344.73751, 205.29587, 253.64853, 266.65751, 449.74975, 376.89423999999997, 227.81342, 171.59791, 196.93669, 261.74649, 178.88608, 243.51302, 263.33995, 299.80689, 173.50485, 176.09098, 299.98975, 197.09342, 286.53668999999996, 152.13669, 234.78812000000002, 206.81098, 129.59302, 168.56771, 243.43465, 249.23382999999998, 344.842, 71.31383000000001, 177.24036, 151.09179, 214.83057000000002, 261.04118, 416.70485, 174.602, 421.48526, 212.16608, 289.07057000000003, 263.18322, 153.25995, 254.1971, 278.54322, 200.04526, 168.25423999999998, 156.96934, 165.8771, 231.00036, 203.12771, 218.8273, 177.18812, 240.22159, 211.66975, 142.99383, 271.62077, 223.05913999999999, 30.01424, 240.01261, 247.97995, 220.47302000000002, 151.58812, 207.12444, 233.482, 695.03955, 232.202, 249.49506, 258.92526000000004, 533.8901599999999, 243.53914, 555.54567, 269.84443999999996, 263.00036, 320.44363, 379.19302000000005, 365.76608, 212.89751, 147.30404, 326.60853, 187.14077, 214.30812000000003, 335.22893, 181.91628, 175.98649, 179.30404, 459.93751, 205.06077, 329.03791, 305.05751000000004, 140.43383, 184.39791, 251.66322000000002, 170.81423999999998, 231.00036, 83.12118000000001, 37.77261, 521.56036, 140.7473, 141.84444, 201.92608, 257.64526, 256.39137999999997, 496.63955, 223.60771, 289.2273, 158.1971, 223.89506, 209.47546, 167.13098, 232.25423999999998, 173.87057, 242.96444, 124.83873, 142.81098, 134.89587, 177.52771, 213.02812000000003, 277.28934, 298.10893, 297.58648999999997, 258.2722, 218.27872999999997, 99.99628, 247.48362999999998, 230.5824, 222.98077, 259.18649, 169.66485, 207.04608000000002, 411.97668999999996, 177.31873000000002, 307.61751, 214.20362999999998, 113.21423999999999, 168.25423999999998, 167.18322, 253.93587000000002, 172.30321999999998, 295.20934, 274.41587000000004, 213.68117999999998, 135.13098, 152.34566999999998, 221.3873, 178.15465, 222.79791, 225.07057000000003, 198.73914, 693.57669, 246.20362999999998, 242.78159, 161.59302, 236.45995, 246.72607999999997, 135.78404, 156.47302, 352.88771, 322.53342000000004, 150.36036000000001, 168.85506, 265.82159, 294.00771000000003, 226.5073, 177.94567, 205.11302, 176.69179, 196.04853, 309.002, 233.16852999999998, 132.38812, 160.70485, 99.57831999999999, 276.68852999999996, 220.78649, 184.5024, 219.95057000000003, 428.72118, 158.58893, 186.51383, 202.94485, 219.24526, 187.0624, 292.04852999999997, 283.16688999999997, 232.75057, 193.51465, 174.602, 174.68036, 221.23057000000003, 210.49424, 590.15791, 310.83057, 172.48608000000002, 188.99546, 285.04771, 202.78812, 174.70649, 139.88526000000002, 142.94159, 281.46893, 159.60771, 284.60363, 214.09913999999998, 260.23138, 113.00526, 471.43138, 166.26893, 249.49506, 224.10404, 287.52934, 299.36281, 276.58404, 218.20036000000002, 123.66322, 394.86649, 128.62649, 258.35057, 249.62567, 134.05995, 237.87057000000001, 249.93913999999998, 392.56771000000003, 413.49179, 238.65424, 200.09751, 166.39955, 183.35302, 211.33016, 211.69587, 207.67302, 384.15628, 167.54893, 109.00853000000001, 474.61832000000004, 398.0273, 302.94158999999996, 184.86812, 234.60526000000002, 418.53342000000004, 371.04281000000003, 149.99465, 214.72607999999997, 433.97179000000006, 162.82076999999998, 150.04689, 273.99791, 228.10077, 527.98649, 63.529340000000005, 216.39791, 312.842, 247.77097999999998, 153.25995, 214.282, 131.34322, 95.11138000000001, 132.85832, 213.02812000000003, 219.01016, 346.8273, 516.6232200000001, 97.98485, 247.14404, 272.14322000000004, 637.43955, 188.02893, 278.90893, 143.882, 219.8722, 160.78322, 387.97016, 184.842, 227.73506, 540.4207700000001, 403.85261, 201.97832, 180.00933999999998, 216.05832, 518.81751, 169.37751, 515.65669, 202.97098, 130.35057, 296.80281, 156.68200000000002, 321.09668999999997, 333.76608, 144.06485, 239.882, 219.92444, 152.29342, 543.97342, 107.49342, 228.44036, 216.92036000000002, 136.38485, 264.69832, 352.02567, 310.20363, 759.0917900000001, 60.316280000000006, 159.99955, 255.76443999999998, 221.98812, 232.80281000000002, 72.17586999999999, 248.78975, 222.53669, 205.06077, 255.39872999999997, 292.25751, 37.01506, 187.24526, 564.94975, 329.66485, 203.85914, 307.33016000000003, 91.84608, 285.962, 213.55057000000002, 125.1522, 207.09832, 311.58812, 620.19873, 121.02485, 214.96117999999998, 246.22975, 113.97178999999998, 198.45179, 159.58158999999998, 268.87791, 495.90812, 178.96444, 269.00853, 38.007709999999996, 137.74322, 324.46648999999996, 219.01016, 322.55955, 192.05178999999998, 238.57587, 286.04036, 181.15873, 122.56608, 222.69342000000003, 119.90158999999998, 261.3024, 182.22975, 181.86404, 225.61914, 164.362, 494.10567000000003, 182.72608, 282.53995, 181.13261, 180.13995, 220.49913999999998, 834.66404, 230.71302000000003, 222.58892999999998, 255.4771, 145.94567, 277.21098, 52.4273, 215.40526, 184.21506000000002, 275.19955, 151.37913999999998, 264.82892999999996, 258.82077000000004, 278.38649, 426.00444000000005, 379.27137999999997, 228.70158999999998, 252.1073, 251.89832, 260.362, 211.27791000000002, 498.83383, 95.50322, 263.20934, 220.89097999999998, 270.62812, 257.27955, 171.28444, 235.04934, 329.97832, 321.01832, 608.7571, 164.8322, 274.99057, 149.34159, 368.74404, 155.45424, 329.53424, 354.7424, 173.66159, 143.01995, 168.69832, 182.59546, 119.71873000000001, 64.1824, 153.36444, 240.77016, 317.77914, 190.69342, 244.29668999999998, 238.39302, 311.06567, 146.88608, 243.61751, 269.00853, 273.94567, 177.31873000000002, 206.47138, 459.28444, 112.14322, 217.62567, 535.45751, 343.50975, 222.24934, 151.24853000000002, 299.44118, 298.84036000000003, 176.66567, 219.11465, 294.39955, 216.37179, 271.25506, 186.56608, 181.10648999999998, 162.87302, 166.97423999999998, 201.9522, 235.28444, 420.62322, 306.18077, 138.16118, 326.00771000000003, 159.16363, 355.21261, 145.55383, 366.0273, 295.10485, 199.20934, 130.7424, 182.88281, 144.63955, 102.79138, 172.82567, 182.25587, 156.02893, 501.13260999999994, 136.04526, 154.87955, 159.00689, 121.10322, 129.82811999999998, 139.72853, 242.33751, 274.99057, 193.72363, 145.97179, 244.06159, 184.45016, 215.14404, 217.96526, 174.86321999999998, 151.82322, 187.42812, 317.28281, 34.55955, 408.00608, 187.24526, 252.23791, 181.34159, 130.0371, 395.83302000000003, 110.86322, 323.23873, 29.72689, 397.58322000000004, 219.40200000000002, 208.79628, 192.02567, 164.12689, 389.0673, 245.34159, 201.42975, 315.27137999999997, 123.95057, 251.66322000000002, 246.09913999999998, 196.57098, 146.15465, 217.86077000000003, 188.94322, 475.74159000000003, 232.69832000000002, 177.47546, 180.71465, 200.25423999999998, 281.25995, 295.28771, 207.85586999999998, 263.47057, 75.93751, 521.9522, 155.19302, 131.02975, 61.988119999999995, 183.19628, 197.98158999999998, 159.18975, 200.04526, 239.41179, 187.34975, 197.51138, 218.98404, 247.7971, 259.86567, 152.0322, 187.97669, 233.37751, 231.36607999999998, 213.65506000000002, 281.23382999999995, 394.23955, 134.3473, 266.9971, 227.57832000000002, 137.9522, 280.2673, 135.36608, 263.33995, 327.99302, 257.09668999999997, 209.26649, 212.71465, 224.93995, 218.74892999999997, 198.13832, 348.76036, 249.44281, 190.04036000000002, 213.10648999999998, 235.49342000000001, 228.49261, 337.08362999999997, 268.90404, 113.42322, 243.56526000000002, 205.50485, 19.12118, 235.04934, 243.01668999999998, 280.31955, 217.62567, 249.93913999999998, 240.53506000000002, 334.31465, 253.41342000000003, 301.73995, 147.64363, 342.20363, 208.66567, 381.70077000000003, 225.77587000000003, 227.57832000000002, 183.43138000000002, 239.0722, 188.21178999999998, 246.54322000000002, 190.85016000000002, 212.63627999999997, 228.98892999999998, 270.78485, 204.19873, 251.40200000000002, 143.15057, 192.10404, 267.7024, 278.33423999999997, 218.48771000000002, 194.87302, 288.02567, 163.91791, 201.82159, 156.83873, 64.70485, 451.02975, 242.93832, 213.39382999999998, 199.00036, 209.08363, 62.92853, 79.64689, 224.65261, 170.44853, 307.80036, 175.5424, 322.97751, 115.43465, 325.35465, 224.31302000000002, 245.34159, 251.92444, 192.41751000000002, 283.74159, 244.32281, 232.22812000000002, 266.89261, 161.35791, 197.25016000000002, 249.28607999999997, 136.30649, 231.33995, 284.682, 1.04444, 190.22322, 224.02567000000002, 168.93341999999998, 236.14649, 329.24689, 241.60608, 405.41995, 173.24363, 161.59302, 208.50893, 160.31302, 208.79628, 205.45261000000002, 236.5122, 608.23465, 351.73832000000004, 169.63873, 312.76363, 143.67302, 81.10975, 171.65016, 252.3424, 235.31057, 298.10893, 433.94567, 399.82975, 167.20934, 140.06812, 274.54649, 237.68771, 302.86322, 155.58485, 122.64443999999999, 291.91791, 67.05587, 168.77669, 200.12363, 232.48934, 228.70158999999998, 246.33424, 335.69914, 246.46485, 252.21178999999998, 191.99955, 197.79873, 363.31057000000004, 242.1024, 241.81506000000002, 198.24281000000002, 193.80200000000002, 129.67138, 126.95465, 361.82159, 167.26158999999998, 256.20853, 288.86159, 301.66159, 125.3873, 293.72036, 246.38648999999998, 261.0673, 326.29506000000003, 278.93506, 186.40934, 263.96689, 215.562, 318.9024, 382.58893, 92.36853, 231.1571, 234.50077000000002, 468.00934000000007, 422.24280999999996, 156.18567, 137.37751, 227.5522, 141.68771, 283.03628, 264.14975, 143.43791000000002, 295.57506, 175.90812, 282.64444, 159.89506, 363.38892999999996, 340.53179, 103.44444, 158.95465, 292.41424, 217.62567, 220.52526, 283.55872999999997, 221.90975, 189.98812, 289.09668999999997, 229.85098, 202.55302, 720.5350599999999, 160.96608, 256.62649, 225.20118, 189.28281, 266.81424, 287.34649, 208.32608000000002, 35.656690000000005, 144.19546, 175.04608000000002, 157.85751000000002, 399.93424, 207.82975, 273.10975, 140.56444, 273.84118, 278.38649, 202.78812, 152.73751000000001, 34.32444, 201.27302, 215.92771000000002, 238.05342000000002, 256.07791000000003, 123.76771000000001, 208.50893, 214.12526, 73.50811999999999, 159.79057, 97.69751, 263.18322, 241.65832000000003, 266.57914, 324.51873, 117.78567, 159.89506, 296.30649, 200.61995, 191.11138, 209.34485, 142.65424, 162.84689, 24.73751, 253.83137999999997, 239.12444, 185.41669, 175.12444, 242.75546, 194.84689, 233.63872999999998, 216.31955, 317.962, 246.62159, 538.27873, 333.92281, 162.14158999999998, 164.0224, 259.70893, 303.96036000000004, 197.98158999999998, 312.86812000000003, 161.48853, 170.70975, 160.26077, 114.80771000000001, 215.40526, 147.722, 148.16608, 27.6371, 312.2673, 276.13995, 262.97424, 195.47383, 60.55138, 211.722, 255.26812, 198.89587, 259.83955, 215.24853, 289.01832, 287.16362999999996, 338.96443999999997, 349.04771, 190.35383000000002, 181.21098, 236.61668999999998, 248.24117999999999, 208.79628, 193.17506, 253.43955, 204.61668999999998, 241.68444, 250.22648999999998, 357.45914, 259.05587, 270.21016000000003, 246.17751, 217.93913999999998, 234.84036, 262.47791, 242.62485, 218.22648999999998, 202.78812, 299.80689, 207.56853, 396.7473, 298.73587000000003, 225.09669, 233.22077000000002, 124.9171, 262.29506000000003, 186.30485, 110.57587, 143.98649, 432.97914000000003, 89.44281, 171.65016, 137.482, 229.8771, 218.95791, 175.882, 231.57506, 212.13995, 251.27138, 199.8624, 182.7522, 136.01914, 148.87138000000002, 202.762, 109.92281000000001, 240.22159, 433.42322, 236.5122, 100.23138, 137.79546000000002, 385.25342, 182.04689, 285.88363, 257.54077, 173.29587, 150.15138000000002, 268.48607999999996, 354.19383, 285.17832000000004, 330.16118, 228.23137999999997, 147.77424, 173.92281, 189.93587, 198.00771, 172.25098, 513.43628, 313.36444, 215.01342000000002, 211.69587, 321.2273, 221.30892999999998, 193.72363, 246.09913999999998, 203.7024, 62.510569999999994, 166.66076999999999, 373.52443999999997, 306.96443999999997, 192.96608, 299.31057000000004, 280.5024, 206.52363, 221.6224, 516.362, 179.40853, 473.49505999999997, 166.86975, 59.95056999999999, 173.50485, 319.39873, 334.18404, 235.80688999999998, 207.09832, 197.90322, 114.07628000000001, 564.29669, 428.06812, 448.54812000000004, 202.21341999999999, 273.84118, 166.39955, 117.34159, 274.54649, 205.40036, 234.78812000000002, 131.10811999999999, 172.59056999999999, 128.96608, 225.41016000000002, 203.25832, 209.60608, 193.67138, 119.90158999999998, 193.98485, 146.02403999999999, 223.05913999999999, 294.86975, 161.43628, 292.17914, 196.64934, 231.57506, 313.20771, 298.762, 230.42567000000003, 169.74322, 297.76934, 170.23955, 52.453419999999994, 232.48934, 270.10567000000003, 313.73016, 94.9024, 181.60281, 288.39137999999997, 212.37506000000002, 170.94485, 198.76526, 318.48444, 209.03138, 291.97016, 283.61098, 143.41179, 271.41179, 166.66076999999999, 201.06403999999998, 159.4771, 192.96608, 239.17668999999998, 87.40526, 78.47138000000001, 408.73751, 229.32852999999997, 185.99138, 167.44444, 155.40200000000002, 227.65669, 341.36771, 214.49097999999998, 158.77178999999998, 271.98649, 319.26812, 335.5424, 469.60281, 192.65261, 144.71791000000002, 234.39628, 272.14322000000004, 90.14811999999999, 228.80607999999998, 29.570159999999998, 325.92933999999997, 267.38892999999996, 258.16771, 203.31056999999998, 639.42485, 338.05016, 281.83465, 145.99791000000002, 225.14892999999998, 217.75627999999998, 207.09832, 346.27873, 91.34975, 228.72771, 153.33831999999998, 234.57914, 189.54404, 171.75465, 247.77097999999998, 40.17587, 121.67791000000001, 217.49506, 295.3922, 188.65587, 227.05587000000003, 159.76443999999998, 266.39628, 218.04362999999998, 151.87546, 281.86077, 130.66404, 181.39383, 339.80036, 213.4722, 126.64118, 233.9522, 257.09668999999997, 42.91873, 227.16036, 277.08036, 243.98322000000002, 274.83383, 137.32526000000001, 222.22322000000003, 197.51138, 297.53424, 303.04607999999996, 273.24036, 166.32118, 203.65016, 132.30975, 316.99546000000004, 234.73587, 286.53668999999996, 249.67791, 273.03137999999996, 273.73669, 358.79138, 207.17668999999998, 508.89097999999996, 255.7122, 320.522, 237.73995, 147.85261, 314.20036, 351.45097999999996, 154.74893, 232.59382999999997, 174.99383, 247.53587000000002, 395.49342, 445.57016, 167.23546000000002, 163.91791, 338.44199999999995, 275.90485, 318.17098, 314.27873, 333.42649, 171.17995, 303.59465, 229.66812000000002, 185.57342, 262.26892999999995, 289.61914, 203.25832, 187.24526, 130.87302, 401.8673, 209.05751, 210.70322000000002, 404.21832, 285.83137999999997, 248.92036000000002, 415.99955, 179.43465, 163.81342, 163.94404, 165.0673, 242.07627999999997, 198.37341999999998, 160.26077, 285.09995, 134.81751, 177.26649, 237.13914, 330.08281, 171.67628, 220.39465, 456.69832, 269.29587000000004, 176.37832, 205.11302, 194.45506, 227.5522, 225.43627999999998, 188.99546, 43.38893, 237.60934, 270.05342, 277.73342, 195.89179, 175.15057, 452.25750999999997, 180.32281, 234.16117999999997, 105.84771, 299.85913999999997, 238.68036, 209.47546, 214.41261, 271.5424, 264.46322000000004, 313.3122, 297.35138, 357.14567, 198.89587, 236.79955, 151.09179, 139.04934, 255.32036000000002, 198.42567, 275.43465, 361.1424, 251.08853, 182.49098, 218.51382999999998, 301.87057000000004, 254.98077, 189.20443999999998, 332.14649, 297.42975, 269.71383, 512.78322, 174.18403999999998, 179.69586999999999, 699.03628, 296.12363, 294.42567, 269.63546, 90.33098000000001, 238.602, 268.69506, 100.70159, 177.3971, 227.49995, 316.60363, 233.40363, 278.30812000000003, 371.1473, 348.78649, 189.3873, 182.07301999999999, 171.88526000000002, 188.29016000000001, 253.07383, 64.9922, 247.11791000000002, 243.59138, 360.95955, 347.8722, 257.93261, 430.54975, 274.70322000000004, 206.88934, 290.7424, 274.05016, 229.01506, 226.69016000000002, 257.61914, 116.6624, 199.26158999999998, 209.84117999999998, 193.43628, 232.25423999999998, 219.21913999999998, 197.642, 255.32036000000002, 175.5424, 224.78322000000003, 201.74322, 195.00363000000002, 221.07383, 362.9971, 286.69342, 231.91465, 213.49832, 145.3971, 208.03873000000002, 310.25587, 132.5971, 351.60771, 310.33423999999997, 252.81261, 364.38159, 147.82648999999998, 305.3971, 211.35627999999997, 169.63873, 194.53342, 183.03955, 200.25423999999998, 377.25995, 313.88689, 177.3971, 296.04526, 240.3522, 307.22567000000004, 460.56444000000005, 76.82567, 243.43465, 156.23791, 504.92035999999996, 184.86812, 192.62649, 103.65342, 284.21179, 209.73668999999998, 223.97342000000003, 145.162, 180.63628, 355.68281, 711.70567, 241.8673, 172.5122, 191.13751000000002, 261.09342000000004, 479.76444000000004, 297.56036, 101.45914, 160.46975, 91.37586999999999, 165.25016000000002, 299.88526, 231.18322, 266.57914, 195.73506, 223.00689, 249.93913999999998, 131.13423999999998, 336.77016000000003, 107.41506000000001, 350.11872999999997, 168.77669, 255.13751000000002, 223.26812, 231.81016, 235.78077000000002, 240.27382999999998, 105.69098000000001, 162.45506, 231.44444, 116.45342, 196.44036, 148.24444, 246.54322000000002, 222.27546, 312.55465, 255.39872999999997, 262.76526, 342.96117999999996, 215.562, 276.97587000000004, 254.27546, 540.47302, 169.79546000000002, 199.49669, 222.11872999999997, 235.65016, 301.50485, 262.16444, 212.61016, 245.52444, 240.69179, 733.8836299999999, 337.91955, 386.97751, 169.82159, 298.9971, 270.78485, 280.76363, 145.84118, 207.5424, 297.66485, 229.8771, 253.59627999999998, 223.29424, 98.14159000000001, 213.34159, 252.9171, 146.59873000000002, 185.49506, 245.36771000000002, 152.92036000000002, 165.61587, 198.03383, 268.25097999999997, 466.96444, 161.67138, 386.48118, 230.66077, 139.91138, 164.91057, 252.18567000000002, 278.02077, 240.19546, 218.43546, 175.96036, 199.99302, 272.87465, 137.19465, 182.282, 331.36281, 142.21016, 211.19955, 191.03302, 369.60607999999996, 354.66404, 223.65995, 308.74077, 344.94649, 307.09506, 143.62077, 219.45424, 239.882, 227.89179, 228.67546000000002, 180.4273, 321.72362999999996, 156.60363, 260.28362999999996, 261.72036, 235.20608, 156.21178999999998, 269.29587000000004, 236.01587, 232.202, 270.88934, 222.64118, 330.39628, 219.84607999999997, 80.09098, 235.72852999999998, 252.86485, 203.57179, 227.81342, 157.67465, 239.56852999999998, 317.49179, 200.12363, 251.95057000000003, 157.64853, 468.16607999999997, 172.30321999999998, 188.78649, 230.47791, 292.25751, 188.15955, 265.482, 156.13342, 267.59791, 204.95628, 242.59873, 152.65913999999998, 384.522, 140.01587, 274.1024, 297.66485, 230.86975, 199.07873, 247.82322000000002, 149.4722, 211.40852999999998, 267.49342, 984.55465, 274.83383, 196.54485, 45.086890000000004, 140.79955, 153.70404, 36.100770000000004, 278.54322, 395.15382999999997, 126.37995, 200.80281000000002, 191.13751000000002, 120.81586999999999, 224.54812, 185.20771000000002, 236.66893, 349.33506, 188.26404, 231.07872999999998, 168.6722, 110.75873, 220.76036000000002, 460.48607999999996, 223.26812, 310.54322, 161.20118, 365.24363, 143.64688999999998, 150.69995, 204.14649, 343.40526, 134.29506, 189.67465, 222.74567000000002, 95.86893, 453.66812000000004, 283.84608, 189.59628, 242.88608, 156.9171, 244.34892999999997, 208.40444, 251.21913999999998, 160.31302, 254.98077, 224.80934, 244.08771000000002, 189.64853, 331.31057000000004, 323.36933999999997, 178.72933999999998, 219.42812, 265.45587, 185.83465, 210.6771, 243.22567, 352.96608, 195.082, 225.14892999999998, 136.77669, 231.60117999999997, 191.73832, 82.52036, 216.81587000000002, 232.14975, 154.85342, 227.73506, 135.83628000000002, 259.3171, 125.98812, 190.14485, 185.7824, 186.46159, 235.62403999999998, 124.39465, 27.68934, 206.13179, 350.22322, 234.68363, 292.98893, 254.1971, 259.16036, 159.16363, 288.60036, 107.93751, 555.54567, 72.77669, 289.30567, 105.42975, 215.562, 177.13586999999998, 184.08444, 398.15791, 239.5424, 180.13995, 253.04771000000002, 221.17832, 234.16117999999997, 279.24852999999996, 267.65016, 351.65995, 305.94567, 50.99057, 254.40607999999997, 125.07383, 145.34485, 260.91057, 333.34812, 187.42812, 201.61261000000002, 131.81342, 178.442, 221.90975, 144.40444, 149.41995, 240.09097999999997, 185.93913999999998, 431.51628, 173.73995, 183.53587, 379.11465, 310.77832, 240.22159, 371.25178999999997, 58.40934, 488.25424000000004, 171.20608000000001, 231.78404, 138.10893000000002, 348.99546000000004, 138.60526000000002, 364.53832, 288.20853, 193.82811999999998, 173.08688999999998, 230.71302000000003, 175.35955, 292.25751, 417.12281, 237.7922, 351.29424, 288.70485, 468.06159, 267.36281, 166.26893, 216.5024, 210.88608, 37.82485, 517.6419999999999, 212.61016, 251.37587000000002, 264.51546, 319.97342000000003, 228.72771, 200.82893, 498.80771, 277.10649, 190.04036000000002, 167.99302, 134.60853, 143.35955, 435.69587, 167.3922, 162.19383, 369.52771, 221.20443999999998, 223.7122, 342.43872999999996, 308.4273, 190.51057, 278.64771, 150.09913999999998, 158.95465, 246.49097999999998, 181.86404, 188.36853, 300.93016, 301.84443999999996, 260.38812, 155.97669, 181.26322, 281.57342, 283.6371, 164.07465, 314.90567000000004, 247.7971, 216.78975, 219.0624, 238.81097999999997, 232.9073, 199.05261000000002, 187.0624, 509.33505999999994, 307.59137999999996, 160.9922, 451.02975, 244.63627999999997, 306.05016, 424.9073, 248.52853, 512.91383, 259.5522, 229.95546000000002, 182.04689, 147.22567, 211.69587, 281.12934, 126.04036, 115.04281, 227.00363, 87.64036, 177.99791000000002, 233.45587, 205.89668999999998, 336.19546, 240.3522, 185.44281, 331.33669, 235.20608, 229.11955, 164.93669, 224.36526, 208.1171, 178.54648999999998, 257.14893, 504.94649000000004, 152.13669, 155.01016, 173.71383, 179.48689, 63.581590000000006, 194.19383, 84.1922, 155.24526, 215.03955, 236.19872999999998, 182.12526, 167.3922, 259.39546, 167.49669, 154.61831999999998, 265.01179, 286.17098, 239.56852999999998, 250.04362999999998, 238.86322, 159.65995, 248.11057000000002, 230.5824, 240.45668999999998, 220.1073, 217.99138, 233.37751, 232.202, 348.08117999999996, 220.3424, 245.62892999999997, 114.52036000000001, 353.95873, 92.23791, 189.36118000000002, 285.85751, 209.44933999999998, 325.14567, 247.58812000000003, 153.44281, 91.19301999999999, 363.38892999999996, 218.72281, 183.87546, 167.33995, 238.96771, 270.36689, 128.33914, 369.26649, 121.75628, 58.30485, 204.32934, 456.82892999999996, 438.88280999999995, 286.27546, 176.37832, 191.9473, 171.15383, 378.04363, 221.54404, 126.06648999999999, 165.72036, 277.21098, 193.74975, 135.8624, 256.93995, 168.4371, 149.34159, 268.53832, 249.36444, 374.30812000000003, 159.76443999999998, 171.31056999999998, 225.41016000000002, 276.87138, 28.969340000000003, 240.22159, 290.69016, 46.00118, 288.33914, 237.87057000000001, 275.30404, 244.55791000000002, 166.47791, 339.90485, 244.29668999999998, 180.55791000000002, 175.49016, 218.67057000000003, 236.35546000000002, 124.96933999999999, 151.40526, 268.32934, 220.81261, 266.4224, 141.81832, 371.1473, 196.75383, 194.5073, 209.55383, 123.66322, 180.92363, 422.16444, 215.71873, 179.64363, 181.26322, 162.40281000000002, 243.9571, 145.99791000000002, 268.87791, 140.64281, 77.11301999999999, 212.92362999999997, 374.17751, 230.63465, 295.96689, 207.49016, 229.66812000000002, 28.838729999999998, 287.05914, 219.58485, 312.58077000000003, 254.17098, 177.47546, 158.11873, 161.85424, 201.29914, 323.082, 521.56036, 302.15791, 28.23791, 302.31465, 143.80363, 366.23627999999997, 458.91873, 341.34159, 431.51628, 269.81832, 260.62322, 291.7873, 247.87546, 67.76118000000001, 200.59383, 445.30893, 237.06077000000002, 286.45832, 168.01914, 436.21832, 264.85506000000004, 373.86404, 85.99465, 312.842, 200.202, 232.85506, 219.24526, 356.41424, 214.02077000000003, 179.30404, 428.45995, 200.38485, 172.22485, 248.99873, 293.69424, 187.16689, 376.29342, 289.48852999999997, 425.19465, 72.01914000000001, 327.78404, 288.80933999999996, 182.282, 211.64362999999997, 211.85261, 299.93751000000003, 186.53995, 270.34077, 34.08934, 276.03546, 357.51138, 230.60852999999997, 254.4322, 210.6771, 151.09179, 235.54567000000003, 265.76934, 185.62566999999999, 123.19301999999999, 285.88363, 122.72281000000001, 167.67955, 158.24934, 255.97342000000003, 317.09995, 277.99465, 668.62975, 132.8322, 272.69178999999997, 193.56689, 245.99465, 703.9473, 85.15873, 143.62077, 330.37016, 344.81587, 158.53669, 293.09342000000004, 269.26975, 226.69016000000002, 396.32934, 211.53914, 297.63873, 172.09423999999999, 138.39628000000002, 303.09832, 199.07873, 237.63546000000002, 206.00118, 246.72607999999997, 383.16362999999996, 178.65098, 146.9122, 249.12933999999998, 145.50159, 217.65178999999998, 214.5171, 114.65098, 171.83302, 117.2371, 210.88608, 171.80688999999998, 151.84933999999998, 189.46567, 165.72036, 207.20281, 308.76689, 224.39137999999997, 285.1522, 259.86567, 199.00036, 241.44933999999998, 480.80934, 146.46812, 345.59955, 78.05341999999999, 426.78812, 184.21506000000002, 199.88853, 134.21669, 154.8273, 204.95628, 249.28607999999997, 164.70158999999998, 116.89751000000001, 237.92281, 10.68363, 223.4771, 164.57098, 182.56933999999998, 461.11302, 217.91302000000002, 163.99628, 261.22404, 136.38485, 215.66648999999998, 208.50893, 156.76036000000002, 344.86812000000003, 185.46893, 235.93751, 176.74403999999998, 501.83790999999997, 203.02322, 270.60200000000003, 179.09506000000002, 304.09098, 197.77261000000001, 220.49913999999998, 256.33914, 182.46485, 171.59791, 203.78077, 415.81669, 291.21261, 119.09178999999999, 252.13342000000003, 382.01424, 239.82975, 180.53179, 190.69342, 188.96934, 183.14404, 267.38892999999996, 257.14893, 235.59791, 169.69098, 199.6273, 211.17342000000002, 108.25098, 235.7024, 213.91627999999997, 301.19138, 314.17424, 192.78322, 418.2722, 215.53587000000002, 233.40363, 308.87138, 129.12281000000002, 174.73261000000002, 235.78077000000002, 128.23465, 250.98404, 188.31628, 51.121179999999995, 181.86404, 236.53832000000003, 227.082, 221.33506, 379.66322, 202.4224, 240.74403999999998, 368.3522, 196.30975, 166.73914, 216.63302000000002, 214.54322000000002, 161.61914, 152.89424, 153.28608, 33.20118, 367.46404, 312.94649, 150.56933999999998, 229.51137999999997, 134.81751, 144.61342, 162.29832, 271.69914, 246.72607999999997, 165.642, 532.37506, 333.37424, 247.58812000000003, 195.5522, 269.40036000000003, 193.64526, 266.44853, 247.14404, 397.76608, 35.44771, 62.275459999999995, 191.11138, 240.56117999999998, 56.842, 226.21995, 220.29016000000001, 318.01424, 238.18403999999998, 136.93341999999998, 161.54077, 70.26893000000001, 140.79955, 135.88853, 192.67873, 167.70567, 280.00608, 56.29342, 205.13914, 210.05016, 217.73016, 327.05261, 168.07138, 53.367709999999995, 253.09995, 171.4673, 31.320359999999997, 178.99057, 229.51137999999997, 175.59465, 223.63383, 166.05995, 152.94648999999998, 165.85098, 168.25423999999998, 395.04934, 45.37424, 278.12526, 216.81587000000002, 229.14567000000002, 171.10159, 201.24688999999998, 233.27302000000003, 212.87138, 267.59791, 216.65913999999998, 177.18812, 538.06975, 215.90159, 304.16934, 267.85913999999997, 252.62975, 163.65669, 183.90159, 225.72362999999999, 241.99791000000002, 265.06404, 411.01016, 240.84852999999998, 174.52363, 155.89831999999998, 184.47628, 180.61016, 189.90975, 94.01424, 288.44363, 189.6224, 278.04689, 185.12933999999998, 223.7122, 151.64036000000002, 261.8771, 125.17832, 215.95382999999998, 187.24526, 394.76199999999994, 89.67791, 214.9873, 280.94649, 199.13098, 264.04526, 229.51137999999997, 46.602, 173.47873, 156.39465, 225.51465, 172.25098, 226.32443999999998, 201.56036, 250.06975, 189.88363, 243.48689, 212.32281, 190.17098000000001, 183.84933999999998, 178.1024, 365.73995, 284.99546000000004, 209.00526000000002, 190.40608, 212.37506000000002, 236.042, 282.5922, 234.762, 264.77669, 430.94159, 384.62649, 222.11872999999997, 504.47628, 166.39955, 302.52362999999997, 163.05587, 393.63873, 182.33424, 162.01098000000002, 319.73832000000004, 131.83955, 161.48853, 230.47791, 501.55057, 151.24853000000002, 249.86077000000003, 387.44771000000003, 191.92118, 168.59383, 194.82076999999998, 171.96363, 113.99791, 135.99302, 635.92444, 261.11955, 95.08525999999999, 175.22893, 267.91138, 273.68444, 205.71383, 243.98322000000002, 220.15955, 275.46077, 592.56118, 324.98893, 382.95465, 289.64526, 367.80363, 242.85995, 356.88444, 155.6371, 255.00689, 217.36444, 252.1073, 346.56608, 360.98567, 201.03791, 285.72688999999997, 211.66975, 168.51546000000002, 127.99955, 536.0322, 178.1024, 126.87628000000001, 211.33016, 240.22159, 194.92526, 144.77016, 521.89995, 357.53751, 159.05913999999999, 330.23955, 221.28281, 158.64118, 171.25832, 221.96200000000002, 345.96526, 219.40200000000002, 125.51791000000001, 215.50975, 190.22322, 304.22159, 218.14812, 181.39383, 43.859140000000004, 278.38649, 176.61342, 184.76363, 172.7473, 234.68363, 407.50975, 192.67873, 39.731790000000004, 286.6673, 118.69995, 272.22159, 225.4624, 197.79873, 163.23873, 241.71057000000002, 224.02567000000002, 287.73832000000004, 329.97832, 167.88853, 207.67302, 288.31302, 283.27137999999997, 199.1571, 215.562, 271.69914, 270.94158999999996, 227.60443999999998, 229.22404, 160.78322, 218.72281, 372.94975, 283.0624, 284.682, 193.38404, 163.47383, 272.95302000000004, 158.56281, 237.50485, 157.3873, 219.66322000000002, 136.95955, 273.34485, 224.46975, 285.75302, 285.04771, 39.052609999999994, 199.78404, 551.81016, 247.01342000000002, 162.48118, 196.62322, 174.10567, 369.89342, 232.6722, 146.85995, 311.35302, 282.30485, 171.62403999999998, 195.21261, 177.52771, 165.19791, 153.62566999999999, 180.29668999999998, 154.8273, 341.49832000000004, 269.29587000000004, 24.920360000000002, 314.40934, 242.25914, 221.3873, 258.37669, 241.10975, 164.12689, 247.77097999999998, 196.362, 55.66649, 134.68688999999998, 211.09506000000002, 394.73587000000003, 286.77179, 144.14321999999999, 463.35955, 345.75628, 177.00526000000002, 226.21995, 188.21178999999998, 181.26322, 183.87546, 425.92607999999996, 171.4673, 230.08607999999998, 214.38648999999998, 278.12526, 250.95791, 94.69341999999999, 163.05587, 621.7922, 163.99628, 172.93016, 184.55465, 246.5171, 200.80281000000002, 199.70567, 92.70812, 445.49179000000004, 274.99057, 261.82485, 195.81342, 201.66485, 151.69261, 235.07546000000002, 174.81098, 202.52688999999998, 325.3024, 228.07465, 78.96771, 285.36118, 216.34567, 342.38649, 252.49913999999998, 92.89098, 248.21506000000002, 220.39465, 187.89831999999998, 109.84443999999999, 219.14077000000003, 168.30649, 460.43383, 350.56281, 594.99057, 252.89097999999998, 179.35628, 219.19302000000002, 181.36771000000002, 356.41424, 130.55955, 188.31628, 191.7122, 207.41179, 161.64526, 164.77995, 267.88526, 180.87138000000002, 158.64118, 292.88444, 185.86077, 124.682, 260.70159, 167.07873, 429.29587000000004, 226.66404, 243.33016, 227.57832000000002, 234.23955, 123.16689, 147.43465, 328.69832, 193.41016000000002, 195.42158999999998, 325.92933999999997, 223.4771, 192.07791, 204.43383, 376.05832000000004, 248.29342000000003, 237.45261000000002, 241.97179, 313.80852999999996, 206.78485, 200.17587, 128.83546, 200.64608, 234.91872999999998, 208.09098, 305.6322, 151.03955, 369.162, 293.43302, 199.05261000000002, 253.70077, 181.41995, 335.01995, 270.75872999999996, 242.99057000000002, 255.65995, 258.42893, 287.05914, 199.73179, 147.46077, 179.77424, 251.76771000000002, 319.4771, 243.17342000000002, 343.56199999999995, 85.96853, 364.64281, 210.75546, 207.20281, 116.1922, 130.76853, 239.38567, 195.18649, 109.92281000000001, 302.60200000000003, 268.90404, 263.88853, 345.5473, 244.76689, 292.64934, 189.93587, 308.45342, 251.03627999999998, 366.39302000000004, 216.08444, 599.24853, 228.96281000000002, 249.80853, 274.02404, 65.20118000000001, 293.66812000000004, 352.62649, 114.65098, 204.12036, 259.63057000000003, 214.04689, 44.59057, 207.62077, 271.25506, 97.30566999999999, 235.54567000000003, 247.69261, 265.7171, 269.322, 127.76444, 84.74077, 186.85342, 225.48852999999997, 406.62158999999997, 216.81587000000002, 85.08036, 175.96036, 205.92281, 152.58077, 273.52771, 197.56363000000002, 150.49098, 172.79955, 75.93751, 268.2771, 385.01832, 157.12608, 118.30812, 395.85913999999997, 348.52526, 263.52281, 148.53179, 315.61098, 227.49995, 214.93506000000002, 187.45424, 188.65587, 312.78975, 159.65995, 174.78485, 273.00526, 132.85832, 80.61341999999999, 41.638729999999995, 73.09016, 78.65424, 208.29995, 224.52200000000002, 210.85995, 509.49179000000004, 71.05261, 151.7971, 182.67383, 129.90649, 228.80607999999998, 177.03138, 257.27955, 163.18649, 226.92526, 217.80853, 271.22893, 325.79873, 144.71791000000002, 280.11057, 325.17179, 171.88526000000002, 231.13098, 225.59302000000002, 199.31383, 265.61261, 226.5073, 263.75791, 172.61668999999998, 179.87873000000002, 164.38812, 221.72689, 174.49751, 297.16853, 282.04363, 314.61832000000004, 199.26158999999998, 200.51546000000002, 220.05506, 329.45587, 159.00689, 226.2722, 463.38567, 154.30485, 173.21751, 200.64608, 261.04118, 189.09995, 221.43955, 102.45179, 213.26322000000002, 210.85995, 196.80608, 133.45914, 159.81669, 290.95138, 306.72934, 248.24117999999999, 336.92689, 123.61098, 344.92036, 261.61587000000003, 242.78159, 214.69995, 243.43465, 192.28689, 241.84117999999998, 363.78077, 138.762, 203.54567, 264.01914, 238.21016, 398.602, 234.91872999999998, 146.23301999999998, 431.72525999999993, 167.73179, 174.65424, 170.762, 214.30812000000003, 195.36934, 244.55791000000002, 142.88934, 285.93587, 189.33506, 368.16934, 374.96117999999996, 169.09016, 281.65179, 302.00118, 625.57995, 190.95465, 382.51057000000003, 214.09913999999998, 140.12036, 207.93424, 220.55138, 42.34404, 199.10485, 231.36607999999998, 107.98975, 207.04608000000002, 323.16036, 287.39873, 291.76117999999997, 259.97016, 261.27628, 212.63627999999997, 353.69751, 168.75056999999998, 183.30077, 287.26812, 184.47628, 329.69097999999997, 103.00036, 181.49832, 234.26567000000003, 190.82404, 121.05098000000001, 169.482, 172.61668999999998, 173.58321999999998, 247.32689, 366.57587, 368.63955, 554.9971, 280.71137999999996, 78.10566999999999, 217.62567, 348.42077, 207.01995, 157.51791, 143.82975, 169.74322, 89.10322, 349.20444, 260.96281, 200.51546000000002, 139.17995, 295.31383, 250.43546, 252.13342000000003, 499.69587, 194.95138, 333.73995, 363.7024, 422.73914, 229.56363, 190.27546, 248.05832, 275.46077, 282.20036, 180.97587, 148.1922, 211.01668999999998, 246.17751, 220.78649, 139.2322, 121.96526000000001, 276.74077, 249.83465, 194.0371, 304.71791, 186.09587, 170.52688999999998, 190.87628, 498.33750999999995, 332.32934, 184.05832, 301.16526, 174.602, 236.48608, 224.96607999999998, 392.9073, 235.20608, 226.58567000000002, 223.29424, 116.21831999999999, 308.76689, 189.85751000000002, 244.50567, 160.54811999999998, 270.00118, 142.73261000000002, 42.4224, 223.4771, 158.71955, 178.59873000000002, 126.22322, 237.53097999999997, 233.79546000000002, 173.89668999999998, 186.09587, 274.1024, 285.90975, 342.59546, 267.33669, 221.04771000000002, 163.76118, 186.69669, 168.6722, 353.69751, 481.54077, 387.16036, 338.96443999999997, 222.9024, 123.74158999999999, 254.17098, 406.85669, 288.49587, 276.45342, 210.07627999999997, 331.88526, 174.23628, 336.24771, 465.6322, 232.4371, 237.92281, 92.18567, 266.47465, 161.38404, 175.3073, 210.9122, 288.26077000000004, 302.13178999999997, 132.33587, 171.49342, 207.09832, 266.1873, 170.65751, 124.83873, 174.91546, 213.9424, 157.93587, 397.16526, 232.12363, 277.21098, 201.42975, 277.75955, 269.37424, 136.12363, 238.23628, 195.68281000000002, 229.45914, 173.08688999999998, 198.42567, 237.19137999999998, 227.082, 199.67955, 240.71791000000002, 327.26159, 131.3171, 484.10077, 91.21914, 154.06975, 86.88280999999999, 187.16689, 834.24608, 156.83873, 244.4273, 273.05751000000004, 231.1571, 336.09098, 207.41179, 306.05016, 292.57097999999996, 204.06812, 328.48933999999997, 225.67137999999997, 166.3473, 263.83628, 216.86812, 338.9122, 153.57342, 172.09423999999999, 148.29668999999998, 370.75546, 265.24689, 201.24688999999998, 120.65914, 298.39628, 379.402, 390.00771000000003, 329.35138, 153.23383, 221.20443999999998, 441.99138, 147.64363, 282.14812, 229.61587000000003, 215.43138, 249.96526, 153.57342, 115.17342, 261.82485, 128.93995, 148.71465, 316.73424, 152.05832, 337.81506, 12.85179, 339.80036, 213.96853, 228.8322, 315.08853, 370.85995, 270.73261, 217.88689, 304.19546, 270.39302000000004, 230.24281000000002, 273.13587, 301.16526, 283.79382999999996, 304.14322000000004, 154.5922, 168.72444, 487.33995, 87.32689, 303.75138, 224.41751000000002, 277.21098, 160.93995, 183.19628, 172.90403999999998, 95.9473, 405.41995, 227.082, 280.08444, 207.62077, 159.60771, 322.29832000000005, 206.57587, 193.56689, 181.52444, 118.5171, 156.57751000000002, 227.00363, 436.53179000000006, 332.06812, 281.05098, 54.15138, 217.10322000000002, 185.28608, 217.88689, 194.87302, 478.45832, 221.72689, 250.48771000000002, 245.81179, 286.77179, 209.29261, 220.26404, 193.90649, 275.74812000000003, 250.53995, 411.92444, 185.70404, 157.36118000000002, 222.77178999999998, 177.81506000000002, 125.70076999999999, 205.45261000000002, 215.09179, 315.14077000000003, 311.19628, 294.19057000000004, 191.21587, 63.29424, 112.90077, 183.19628, 194.82076999999998, 176.97914, 236.19872999999998, 338.75546, 146.28526000000002, 280.65914, 138.55302, 320.15628, 295.02648999999997, 102.68689, 227.082, 179.09506000000002, 160.60036000000002, 151.09179, 230.37342, 210.85995, 199.75791, 150.56933999999998, 220.70812, 130.76853, 202.29179, 253.51791, 414.24934, 151.09179, 214.33424, 745.40363, 224.07791, 248.63302000000002, 239.90812000000003, 173.06077, 185.0771, 409.0771, 245.26322000000002, 225.90649, 136.77669, 256.1824, 184.99873, 206.44526000000002, 179.59138000000002, 207.80363, 242.75546, 397.5571, 277.99465, 147.43465, 188.08118000000002, 277.55057, 108.2771, 274.70322000000004, 238.21016, 126.14485, 156.52526, 145.00526000000002, 575.58159, 196.362, 223.52934, 181.86404, 169.09016, 276.21832, 142.65424, 261.32853, 138.86649, 142.23628, 243.17342000000002, 203.93751, 920.76363, 346.51383, 237.16526000000002, 200.9073, 199.83628000000002, 216.58077000000003, 468.00934000000007, 168.30649, 264.6722, 174.81098, 301.19138, 203.54567, 226.37669, 186.8273, 246.96117999999998, 174.23628, 108.19873, 280.2673, 240.40444, 133.25016000000002, 168.54158999999999, 226.61178999999998, 179.93098, 313.15546, 272.14322000000004, 178.78159, 166.21669, 244.45342000000002, 405.10649, 119.40526000000001, 194.40281000000002, 165.3024, 498.38975, 170.4224, 136.202, 305.10975, 169.16853, 204.90403999999998, 211.53914, 199.94077, 277.21098, 206.75873, 331.36281, 436.27057, 281.39057, 198.50404, 287.4771, 203.02322, 270.44526, 148.63628, 203.28444, 213.15873, 252.08118, 219.08853, 200.6722, 200.51546000000002, 165.74649, 276.00934, 202.10893000000002, 281.12934, 307.98322, 170.9971, 247.11791000000002, 223.97342000000003, 241.8673, 263.65342000000004, 196.91057, 260.44036, 123.8722, 241.84117999999998, 133.27628, 149.9424, 174.96771, 276.21832, 126.74566999999999, 111.22893, 312.45016, 254.24934, 172.72118, 361.79546, 399.51628, 155.53261, 334.54975, 212.4273, 290.06322, 210.25914, 398.10567000000003, 201.482, 188.3424, 427.07545999999996, 307.22567000000004, 120.89424, 182.72608, 239.35955, 263.83628, 120.08443999999999, 178.72933999999998, 205.29587, 274.18077, 159.29424, 235.78077000000002, 219.76771000000002, 153.49506, 316.21179, 184.34566999999998, 262.94812, 318.9024, 186.51383, 289.04444, 221.41342000000003, 113.55383, 52.32281, 191.55546, 276.6624, 85.91628, 234.10893, 193.69751000000002, 172.48608000000002, 301.13914, 117.02812, 158.82404, 176.97914, 167.60118, 447.08525999999995, 77.29587, 290.84689, 187.76771000000002, 111.46404, 223.39872999999997, 187.53261, 164.64934, 345.10322, 314.122, 236.95628, 332.79955, 190.9024, 257.82812, 268.45995, 267.57178999999996, 94.51057, 398.602, 272.95302000000004, 187.74159, 295.10485, 291.39546, 199.07873, 124.39465, 269.34812, 362.68363, 277.83791, 501.2371, 216.81587000000002, 242.9122, 229.01506, 258.92526000000004, 285.02159, 291.42159, 230.24281000000002, 275.3824, 337.76281, 211.35627999999997, 228.80607999999998, 89.62567, 137.69098, 135.18322, 163.52608, 203.7024, 162.71628, 204.93016, 253.67465, 203.59791, 193.59302, 170.84036, 215.64036000000002, 230.79137999999998, 226.87302000000003, 179.06893, 252.47302000000002, 164.62322, 186.17424, 162.35057, 48.691790000000005, 320.31302, 284.1073, 181.55057, 255.63383, 233.32526000000001, 198.29506, 120.00608000000001, 159.21587, 65.61914, 289.64526, 117.28934, 236.35546000000002, 257.04444, 134.68688999999998, 274.1024, 269.06077, 160.62649, 194.32443999999998, 141.66159, 257.01832, 233.66485, 203.54567, 147.66975, 92.00281, 174.10567, 180.45342, 362.50077000000005, 148.00933999999998, 401.65832, 340.4273, 514.0371, 110.15791000000002, 146.57261, 214.54322000000002, 246.02077000000003, 109.37423999999999, 198.5824, 243.06893, 229.14567000000002, 99.00363, 338.36363, 397.06077, 251.29751000000002, 339.06892999999997, 201.50812, 209.00526000000002, 352.02567, 311.14404, 216.45016, 93.09995, 194.61178999999998, 164.54485, 260.72771, 239.35955, 202.26567, 173.68771, 148.79301999999998, 105.35138, 184.68526, 266.03057, 600.37179, 282.3571, 267.25832, 157.02159, 462.07955, 237.50485, 231.00036, 204.79955, 215.87546, 278.83057, 173.13914, 306.31138, 497.89342, 69.642, 201.58649, 143.67302, 128.33914, 157.20443999999998, 242.6771, 610.01098, 183.53587, 362.34404, 132.64934, 236.69506, 144.74403999999998, 232.28036, 232.56771, 160.73098000000002, 189.85751000000002, 46.00118, 251.21913999999998, 234.05669, 131.65669, 120.76363, 151.58812, 130.45506, 193.72363, 294.76526, 242.02403999999999, 191.7122, 234.81423999999998, 213.62892999999997, 301.45261, 240.48281, 260.98893, 358.37342, 353.04444, 202.34403999999998, 237.50485, 172.48608000000002, 261.74649, 228.51872999999998, 180.87138000000002, 233.45587, 118.85668999999999, 285.41342000000003, 288.62649, 135.00036, 231.94077000000001, 243.25179, 163.83955, 207.28118, 122.06975, 202.00444, 243.61751, 201.45587, 364.77342000000004, 65.82812, 279.90159, 173.60934, 735.60771, 177.78893, 215.2224, 110.78485, 379.08853, 220.78649, 229.92934, 213.13261, 340.11383, 254.58892999999998, 318.09261000000004, 261.85098, 64.65261, 418.45506, 287.11138, 150.80444, 227.57832000000002, 31.372609999999998, 215.24853, 214.49097999999998, 23.87546, 205.40036, 177.21424, 194.71628, 276.71465, 301.26975, 141.19138, 201.22077, 172.93016, 303.46404, 270.31465, 140.19873, 241.44933999999998, 190.37995, 207.20281, 281.18158999999997, 333.19138, 175.82975, 399.04607999999996, 272.79627999999997, 278.96117999999996, 147.51301999999998, 233.84771, 266.05669, 221.77913999999998, 190.79791, 309.39383, 269.71383, 187.53261, 69.90321999999999, 365.71383, 370.49424, 212.79302, 122.72281000000001, 160.26077, 138.03056999999998, 34.08934, 283.48036, 194.66404, 294.76526, 137.06403999999998, 336.66567000000003, 228.85832000000002, 199.47057, 201.97832, 449.38404, 301.21751, 256.83546, 338.96443999999997, 163.5522, 141.34812, 140.77342, 239.41179, 154.8273, 200.41098, 213.26322000000002, 142.21016, 219.48036000000002, 51.48689, 116.45342, 196.88443999999998, 178.96444, 148.06159, 311.19628, 147.33016, 133.56363000000002, 187.16689, 290.95138, 232.14975, 274.85995, 392.85506000000004, 200.14975, 322.11546, 270.70649, 182.41261, 252.57751000000002, 237.34812000000002, 229.61587000000003, 124.13342, 496.1171, 178.15465, 212.32281, 232.6722, 57.18159, 225.14892999999998, 354.16771, 260.12689, 300.77342000000004, 275.59137999999996, 250.06975, 154.01751000000002, 402.96443999999997, 217.88689, 211.66975, 202.10893000000002, 188.65587, 147.43465, 231.81016, 173.89668999999998, 247.01342000000002, 162.45506, 175.20281, 310.72607999999997, 519.13098, 211.66975, 149.62893, 239.80362999999997, 239.20281, 217.59955, 207.93424, 285.98812000000004, 264.09751, 263.31383, 249.5473, 219.68934, 282.20036, 218.22648999999998, 159.08526, 210.31137999999999, 223.45098, 304.50892999999996, 237.08688999999998, 446.37995, 232.28036, 128.96608, 115.51302, 157.75302, 251.92444, 27.166890000000002, 223.37261, 224.46975, 169.22077, 223.05913999999999, 179.93098, 208.66567, 274.25914, 294.55627999999996, 216.60689, 217.62567, 215.2224, 652.40771, 331.04934, 384.70485, 212.13995, 486.42567, 136.30649, 517.56363, 397.26975, 99.10812, 225.77587000000003, 245.34159, 157.09995, 239.90812000000003, 253.23057000000003, 240.40444, 152.34566999999998, 258.5073, 146.1024, 167.02649, 192.1824, 234.16117999999997, 275.27791, 149.002, 202.70975, 283.29751, 225.14892999999998, 363.80689, 117.18485, 284.31628, 249.57342000000003, 272.95302000000004, 255.34649, 223.92118, 289.27955, 293.38077000000004, 206.18403999999998, 277.83791, 254.30159, 267.31057000000004, 267.78077, 215.27465, 300.14649, 164.20526, 228.91057, 243.25179, 150.7522, 137.89995, 243.9571, 258.76853, 267.2322, 237.53097999999997, 260.0224, 365.60934, 384.7571, 216.58077000000003, 241.65832000000003, 186.3571, 264.22812000000005, 318.82403999999997, 184.05832, 230.3473, 257.82812, 253.02159, 190.74567, 194.76853, 223.89506, 250.48771000000002, 190.82404, 224.28689, 287.08526, 150.17751, 295.60118, 186.69669, 223.81669, 293.19791000000004, 229.53751, 279.90159, 122.72281000000001, 71.88853, 179.93098, 399.98649, 381.30893, 459.93751, 258.2722, 152.92036000000002, 252.99546, 162.61178999999998, 216.94648999999998, 147.69586999999999, 297.79546, 232.07137999999998, 120.94649, 158.14485, 209.13586999999998, 132.07465, 240.45668999999998, 551.91465, 153.36444, 217.83465, 82.31138, 289.38403999999997, 214.83057000000002, 437.31546, 17.73669, 1.2273, 33.09669, 242.12852999999998, 205.00853, 258.0371, 168.51546000000002, 240.97914, 117.75955, 451.29098, 215.61424, 225.48852999999997, 155.16689, 152.31955, 240.3522, 345.7824, 451.49995, 198.3473, 206.57587, 259.23873, 184.00608, 215.53587000000002, 291.97016, 302.49751000000003, 163.60443999999998, 194.7424, 229.53751, 183.48363, 439.17015999999995, 302.28853, 252.9171, 47.464040000000004, 202.52688999999998, 216.99873, 186.14812, 210.18077000000002, 348.60363, 191.39873, 403.61751, 111.49016, 167.00036, 449.2273, 317.83137999999997, 286.30159, 236.87791, 262.21668999999997, 368.1171, 295.33995, 170.762, 147.9571, 239.0722, 253.57016000000002, 228.44036, 149.78566999999998, 273.52771, 341.65506, 220.08118, 174.81098, 163.7873, 198.39955, 257.95873, 259.94404, 234.44852999999998, 137.29914, 171.62403999999998, 163.29098, 199.94077, 325.04118, 287.9473, 153.88689, 203.54567, 245.96853, 291.63057000000003, 297.66485, 344.05832000000004, 261.17179, 433.37098, 446.24934, 255.73832000000002, 203.38893000000002, 210.54648999999998, 165.19791, 164.25751, 208.09098, 260.17914, 258.42893, 270.00118, 280.0322, 81.71056999999999, 494.15790999999996, 244.08771000000002, 42.68363, 223.26812, 121.73016000000001, 152.97261, 208.16933999999998, 398.54975, 393.84771, 443.37587, 324.25751, 213.7073, 322.19383, 305.94567, 221.93587000000002, 54.12526, 211.35627999999997, 176.5873, 440.18892999999997, 289.12281, 239.43791000000002, 227.89179, 176.43057, 166.24281000000002, 295.13097999999997, 241.24036, 404.68852999999996, 206.8371, 210.49424, 233.03791, 217.57342000000003, 123.402, 170.23955, 348.21179, 70.03383000000001, 14.863220000000002, 164.12689, 217.25995, 293.95546, 235.20608, 200.75056999999998, 207.77751, 219.95057000000003, 327.1571, 235.65016, 225.72362999999999, 445.17832000000004, 189.20443999999998, 463.59465, 132.70158999999998, 90.69669, 128.91383000000002, 556.69506, 131.36934, 315.08853, 291.57832, 262.84362999999996, 413.04771, 315.03628, 481.48852999999997, 154.61831999999998, 77.60934, 200.07138, 395.93751000000003, 213.002, 175.25506000000001, 229.51137999999997, 41.16853, 141.06077, 236.5122, 188.1073, 220.26404, 179.51301999999998, 500.29669, 146.23301999999998, 291.02975, 218.43546, 129.77587, 243.25179, 319.32036, 176.40444, 254.53669, 262.45179, 174.70649, 160.49587, 372.76689, 295.49669, 213.55057000000002, 330.63138, 117.68118, 492.45995, 202.94485, 391.00036, 476.47302, 261.79873, 117.02812, 230.24281000000002, 128.62649, 208.50893, 99.70893000000001, 207.09832, 244.92362999999997, 223.97342000000003, 229.58975, 310.80444, 218.40934, 176.32608000000002, 225.04443999999998, 163.23873, 309.9424, 520.04526, 724.92363, 343.50975, 210.93832, 220.78649, 236.7473, 165.72036, 197.69423999999998, 350.64117999999996, 234.05669, 279.53587000000005, 202.05669, 241.50159, 222.32771, 219.97669, 214.96117999999998, 208.92689, 160.46975, 185.93913999999998, 304.45669, 279.40526, 238.94159, 180.89751, 141.16526000000002, 460.69505999999996, 194.97751, 191.55546, 313.7824, 198.00771, 177.76281, 201.42975, 183.14404, 357.642, 265.29913999999997, 108.12036, 153.33831999999998, 267.10159, 218.80118, 333.87057000000004, 238.07955, 229.14567000000002, 208.40444, 119.53586999999999, 259.18649, 134.37341999999998, 25.88689, 341.41995, 217.25995, 198.63465, 232.48934, 316.3424, 208.79628, 249.18159, 212.06159, 33.14893, 196.25751, 262.73913999999996, 301.50485, 168.28036, 264.59382999999997, 166.84363000000002, 258.40281, 321.67138, 188.39465, 209.44933999999998, 292.10077, 175.41179, 586.29179, 236.19872999999998, 192.10404, 281.28607999999997, 289.74975, 213.60281, 246.69995, 286.37995, 99.29098, 259.02975, 136.17587, 161.93261, 204.09423999999999, 180.81914, 175.0722, 225.25342, 236.43382999999997, 183.17016, 224.07791, 70.05995, 150.282, 193.20118, 125.77913999999998, 98.89914, 265.82159, 290.37669, 441.88689000000005, 233.7171, 128.1824, 255.4771, 291.16036, 192.86158999999998, 347.53261000000003, 220.83872999999997, 107.7024, 240.97914, 182.49098, 202.29179, 109.26975, 304.84853, 72.4371, 413.51791000000003, 182.22975, 223.76443999999998, 293.40689, 160.20853, 164.85832, 126.17098, 221.6224, 158.22322, 336.32608, 412.02893, 521.19465, 238.44526000000002, 269.47873, 226.66404, 209.00526000000002, 299.49342, 196.57098, 192.60036000000002, 218.40934, 226.24607999999998, 229.79872999999998, 192.83546, 273.34485, 222.92853, 216.68526, 283.74159, 359.65342000000004, 225.59302000000002, 203.31056999999998, 224.57424, 259.83955, 164.54485, 164.33587, 331.59791, 84.47955, 161.38404, 424.22812000000005, 345.70403999999996, 212.89751, 302.36689, 187.03628, 330.37016, 355.73506000000003, 298.89261, 184.78975, 489.58649, 222.14485, 164.54485, 329.01179, 295.36607999999995, 564.37506, 99.49995, 231.99302000000003, 270.13178999999997, 248.58077000000003, 624.66567, 598.41261, 233.35137999999998, 218.64444, 41.24689, 228.362, 263.70567, 212.24444, 333.00853, 153.44281, 197.85098, 366.70649, 274.93832000000003, 227.73506, 311.95383, 316.76036, 146.46812, 265.01179, 201.97832, 145.08363, 230.5824, 163.10811999999999, 91.32363000000001, 196.10076999999998, 195.65669, 181.08036, 295.67955, 206.68036, 296.6722, 175.38567, 397.66159, 225.33178999999998, 255.76443999999998, 196.49261, 781.6093400000001, 255.39872999999997, 225.07057000000003, 236.09423999999999, 241.24036, 175.15057, 151.32689, 204.85179, 238.10567000000003, 258.89914, 211.3824, 242.18077000000002, 243.1473, 242.20689, 177.50159, 183.71873, 291.49995, 162.61178999999998, 202.91873, 303.882, 198.76526, 344.45016, 168.56771, 376.16281000000004, 170.68363, 241.8673, 130.95138, 239.90812000000003, 151.92771000000002, 145.05751, 198.63465, 128.54811999999998, 133.69423999999998, 238.54975, 162.21995, 204.32934, 354.35057, 151.562, 323.39546, 258.16771, 425.61260999999996, 327.47057, 230.37342, 135.88853, 579.4477099999999, 168.12363, 224.83546, 181.73342, 285.83137999999997, 271.882, 186.22648999999998, 265.61261, 374.49098, 154.30485, 645.38077, 209.29261, 185.86077, 237.16526000000002, 21.393829999999998, 77.21751, 251.61097999999998, 119.64036000000002, 178.36363, 214.49097999999998, 432.90077, 209.05751, 188.55138, 291.02975, 125.28281000000001, 99.00363, 116.58403999999999, 251.68934, 147.98322, 290.16771, 125.93587, 210.75546, 152.37179, 508.02893, 266.29179, 260.51873, 231.49669, 249.83465, 214.72607999999997, 343.56199999999995, 229.642, 147.17342, 548.3881200000001, 173.322, 162.01098000000002, 218.46159, 165.48526, 285.1522, 170.91873, 809.58649, 347.79382999999996, 181.39383, 170.89261000000002, 241.52771, 209.97179, 251.61097999999998, 216.5024, 247.24853, 138.94485, 349.51791000000003, 256.67873, 296.38485, 188.86485, 233.27302000000003, 193.48853, 188.21178999999998, 217.65178999999998, 172.30321999999998, 219.37587000000002, 352.86159, 236.77342000000002, 197.38076999999998, 346.5922, 249.52118, 336.84853, 232.38485, 138.1873, 244.08771000000002, 157.43955, 32.96608, 263.81016, 568.99873, 234.78812000000002, 237.94893, 98.16771, 181.31546, 224.05178999999998, 211.53914, 214.9873, 213.78567, 256.83546, 207.72526000000002, 189.46567, 310.64771, 159.32036000000002, 389.61587000000003, 183.97995, 266.05669, 223.13751000000002, 265.24689, 206.31465, 447.58159000000006, 143.0722, 425.19465, 275.82649, 198.26893, 194.63791, 276.40117999999995, 225.54077, 258.5073, 294.13832, 203.44118, 234.05669, 121.57342, 297.06404, 237.71382999999997, 151.97995, 79.80363, 224.39137999999997, 329.42975, 167.65341999999998, 155.6371, 265.82159, 179.98322, 147.1473, 283.32363, 220.3424, 267.59791, 297.45587, 278.12526, 237.19137999999998, 438.90893, 247.09179, 296.54159, 174.18403999999998, 178.23301999999998, 188.94322, 384.60036, 212.63627999999997, 225.09669, 155.11465, 392.82892999999996, 267.80689, 226.5073, 132.17914, 271.12444, 513.61914, 354.01097999999996, 171.57179, 358.71302000000003, 228.64934, 212.92362999999997, 338.02404, 217.86077000000003, 53.81179, 163.10811999999999, 109.322, 207.12444, 314.01751, 193.82811999999998, 248.2673, 173.45261000000002, 257.09668999999997, 38.3473, 200.64608, 260.80608, 234.31791, 175.41179, 228.41423999999998, 425.19465, 209.05751, 183.87546, 182.80444, 417.48852999999997, 347.6371, 279.19628, 170.73587, 183.92771000000002, 81.18812, 210.54648999999998, 203.49342, 186.87955, 238.94159, 78.49750999999999, 129.59302, 262.3473, 250.77506, 171.98975, 67.3171, 159.9473, 159.26811999999998, 228.33587000000003, 216.34567, 386.79465, 44.30322, 261.27628, 311.43138, 246.80444, 253.98812, 84.94975, 154.40934, 273.29261, 274.05016, 162.71628, 182.83057, 155.11465, 257.14893, 202.9971, 202.00444, 291.082, 497.13587, 71.99302, 237.11302, 275.9571, 348.44689, 198.47791, 88.73751, 255.99955, 320.522, 189.36118000000002, 78.70649, 229.56363, 247.74485, 167.36608, 197.90322, 232.93342, 209.99791000000002, 243.66975, 286.37995, 501.86404000000005, 174.28853, 391.49669, 364.72118, 299.49342, 176.16933999999998, 282.33097999999995, 308.74077, 277.75955, 151.43138000000002, 193.12281000000002, 232.98567000000003, 221.98812, 263.13097999999997, 128.26077, 229.72036, 110.10566999999999, 264.41098, 188.26404, 205.50485, 262.79138, 191.81669, 265.09016, 219.40200000000002, 190.17098000000001, 160.83546, 208.1171, 143.46403999999998, 227.99627999999998, 287.65995, 201.32526000000001, 187.97669, 277.28934, 247.66648999999998, 235.36281, 190.74567, 205.16526000000002, 266.21342000000004, 175.82975, 171.12771, 267.17995, 227.60443999999998, 87.45751, 127.05913999999999, 227.082, 294.19057000000004, 161.88036, 246.04689, 131.68281000000002, 264.07138, 188.31628, 242.62485, 302.28853, 256.39137999999997, 169.87383, 236.95628, 266.84036000000003, 878.7587300000001, 232.202, 219.61097999999998, 397.08689, 267.83302000000003, 568.78975, 273.8673, 156.55138, 379.29751, 188.26404, 167.78404, 242.31137999999999, 162.24608, 142.70649, 318.61506, 119.30077, 251.55872999999997, 277.55057, 342.09914, 228.38812000000001, 344.21506, 185.83465, 269.34812, 152.0322, 124.9171, 230.21669, 238.52362999999997, 196.44036, 259.21261, 419.70893, 12.72118, 63.63383, 215.64036000000002, 330.63138, 154.27873, 216.21506000000002, 278.56934, 377.75628, 343.43138, 196.17914, 194.24608, 239.35955, 247.11791000000002, 136.98567, 356.04852999999997, 204.59056999999999, 277.002, 284.26403999999997, 274.54649, 151.71873, 341.08036, 132.96281000000002, 113.26648999999999, 148.50567, 215.32689, 147.80036, 334.52362999999997, 341.00199999999995, 168.93341999999998, 150.56933999999998, 215.74485, 246.15138, 233.24688999999998, 236.64281, 199.36608, 201.16853, 338.12852999999996, 247.30077000000003, 183.09179, 288.57424, 248.16281, 208.16933999999998, 123.58485, 213.89016, 430.94159, 190.74567, 319.92118, 243.06893, 271.64689, 340.79302, 177.50159, 61.83138, 256.73098, 117.13261000000001, 223.18975, 221.96200000000002, 198.05995, 129.35791, 163.99628, 335.09832, 165.11955, 300.59057, 237.50485, 276.37506, 333.58322000000004, 317.46567000000005, 193.69751000000002, 172.14649, 256.33914, 220.89097999999998, 291.89179, 223.73832000000002, 27.898320000000002, 218.22648999999998, 235.17995, 215.95382999999998, 222.24934, 589.87057, 261.8771, 211.90485, 176.97914, 199.96688999999998, 86.09914, 171.80688999999998, 149.21098, 252.68200000000002, 293.04118, 256.39137999999997, 352.20853, 274.93832000000003, 136.46322, 299.4673, 132.70158999999998, 266.78812, 176.90077, 264.61995, 535.69261, 243.66975, 342.88281, 272.32608, 247.97995, 82.65098, 227.57832000000002, 199.8624, 150.282, 525.4787299999999, 249.93913999999998, 163.86567, 287.34649, 68.49261, 250.01751000000002, 259.91791, 232.51546000000002, 387.26485, 214.90892999999997, 173.26975, 209.42322, 183.95383, 170.29179, 193.95873, 293.72036, 286.77179, 312.99872999999997, 31.294240000000002, 477.49179000000004, 101.64200000000001, 202.08281000000002, 255.05913999999999, 235.02322, 307.33016000000003, 304.66567000000003, 281.0771, 183.90159, 199.54893, 192.23465, 261.43302, 259.36933999999997, 292.80608, 302.60200000000003, 168.56771, 327.88853, 222.30159, 540.52526, 166.03383, 405.78567000000004, 152.86812, 393.61261, 110.94158999999999, 235.65016, 284.00281, 266.94485, 206.602, 123.24526000000002, 266.34404, 142.36688999999998, 158.27546, 143.67302, 328.4371, 207.98649, 187.76771000000002, 191.92118, 415.50322, 258.2722, 248.08444, 115.82648999999999, 297.03791, 230.47791, 234.57914, 175.51628, 424.85506, 179.46077, 12.95628, 521.7954599999999, 179.61751, 162.06322, 255.16362999999998, 423.70567, 180.13995, 163.39546, 203.96363, 189.6224, 237.19137999999998, 191.60771, 379.32363, 231.70567000000003, 203.65016, 205.11302, 197.38076999999998, 249.18159, 304.22159, 153.73016, 212.00933999999998, 153.67791, 974.9938300000001, 181.62893, 108.14648999999999, 48.29995, 213.55057000000002, 179.01668999999998, 90.8273, 558.44526, 218.48771000000002, 299.72853, 157.07383000000002, 422.55627999999996, 368.22159, 530.70322, 216.63302000000002, 166.94812, 258.89914, 196.93669, 549.38077, 154.27873, 334.75872999999996, 174.31465, 153.91302, 300.14649, 231.60117999999997, 377.62567, 295.75791, 196.96281000000002, 213.31546, 155.61098, 303.72526, 226.40281000000002, 153.70404, 239.0722, 294.26892999999995, 425.37751, 308.76689, 598.6215900000001, 212.50567, 227.52607999999998, 7.13098, 203.2322, 345.33832, 343.35302, 415.4771, 293.92933999999997, 240.50893, 77.60934, 146.72933999999998, 137.1424, 330.78812, 178.65098, 249.93913999999998, 231.33995, 263.41832, 39.00036, 215.01342000000002, 260.44036, 388.96281, 160.31302, 409.73016, 243.98322000000002, 196.33587, 188.49913999999998, 276.4273, 144.16933999999998, 183.01342, 195.91791, 476.18567, 228.33587000000003, 160.1824, 158.32771, 912.97914, 139.78077, 223.29424, 282.38322, 247.14404, 274.23302, 13.26975, 228.362, 10.65751, 93.80526, 169.89995, 190.74567, 251.79382999999999, 238.94159, 245.73342000000002, 231.94077000000001, 232.82892999999999, 243.17342000000002, 194.32443999999998, 233.58649, 187.76771000000002, 235.2322, 417.72362999999996, 223.39872999999997, 175.25506000000001, 92.13342, 248.58077000000003, 861.8313800000001, 222.14485, 186.67057, 196.23138, 183.50975, 259.23873, 339.35627999999997, 161.01832, 202.1873, 276.13995, 185.10322, 260.10077, 181.39383, 226.40281000000002, 176.03873000000002, 259.02975, 206.34077, 333.89669, 298.57914, 235.07546000000002, 207.28118, 241.8673, 156.05506, 237.00852999999998, 232.202, 193.38404, 179.51301999999998, 206.99383, 221.09995, 375.48363, 569.2077099999999, 266.52689, 207.20281, 121.02485, 131.44771, 135.52281000000002, 316.55138, 140.56444, 162.79465, 771.89179, 283.27137999999997, 171.67628, 237.92281, 165.40689, 281.70403999999996, 184.52853000000002, 359.52281, 247.24853, 166.05995, 236.2771, 216.29342000000003, 170.50077, 253.09995, 215.7971, 144.01261, 150.17751, 184.76363, 348.29016, 207.882, 328.14975, 135.23546000000002, 311.11791, 192.44363, 81.6322, 255.89506, 270.00118, 178.38975, 397.00853, 275.48689, 133.98158999999998, 71.1571, 434.49424000000005, 226.2722, 251.11465, 147.06893, 183.35302, 347.61098, 138.44853, 154.53995, 384.54812000000004, 529.03138, 205.24363, 167.02649, 220.83872999999997, 190.27546, 432.14322000000004, 164.98893, 156.96934, 238.91546, 150.7522, 319.84281, 239.15057000000002, 156.02893, 828.0550599999999, 323.57832, 309.18485, 224.65261, 150.17751, 203.15383, 260.64934, 282.04363, 188.3424, 229.51137999999997, 33.67138, 312.05832000000004, 195.60443999999998, 351.50322, 109.81832, 403.25178999999997, 174.15791000000002, 183.74485, 101.58975, 144.14321999999999, 277.002, 230.37342, 180.32281, 185.18159, 202.57914, 182.83057, 549.3024, 154.95791, 230.50404, 159.16363, 264.69832, 339.51302000000004, 251.50648999999999, 191.92118, 218.122, 358.60853, 219.71546, 228.15302000000003, 258.7424, 238.21016, 211.1473, 214.46485, 209.34485, 235.98975, 273.16200000000003, 269.58322000000004, 262.53016, 236.72117999999998, 150.72608, 263.52281, 296.80281, 147.64363, 369.57995, 96.10404, 249.73016, 259.26485, 260.38812, 191.86893, 402.36363, 338.72934, 173.73995, 243.43465, 44.2771, 264.6722, 201.27302, 60.708119999999994, 289.77587, 343.84934, 517.0673, 153.52118000000002, 136.07138, 225.07057000000003, 179.64363, 164.57098, 178.25914, 193.04443999999998, 108.35546000000001, 189.88363, 166.03383, 242.59873, 247.64036000000002, 277.65506, 185.73016, 181.49832, 149.36771000000002, 239.59465, 65.72363, 195.5522, 117.4722, 209.13586999999998, 159.58158999999998, 225.12281000000002, 455.44444000000004, 43.2322, 315.97668999999996, 113.81506, 166.55628000000002, 227.94404, 224.67872999999997, 201.40363, 490.86649000000006, 245.49832, 298.55302, 270.28853, 157.93587, 162.82076999999998, 348.02893, 274.15465, 160.62649, 199.3922, 219.01016, 147.25179, 248.16281, 198.53016000000002, 444.49914, 188.70812, 176.5873, 240.61342000000002, 199.75791, 241.03137999999998, 328.6722, 271.43791, 207.90812, 261.61587000000003, 208.27383, 150.09913999999998, 231.83628, 141.08688999999998, 311.2224, 414.9024, 256.15628, 475.21914000000004, 179.40853, 162.95138, 314.5922, 187.14077, 141.73995, 172.25098, 386.19383, 168.01914, 193.72363, 300.82567, 209.73668999999998]\n",
    "\n",
    "#Create the variables songs_q1, songs_q2, and songs_q3 here:\n",
    "songs_q1 = np.quantile(songs,0.25)\n",
    "songs_q2 = np.quantile(songs,0.5)\n",
    "songs_q3 = np.quantile(songs,0.75)\n",
    "\n",
    "favorite_song = 170\n",
    "quarter = 1\n",
    "\n",
    "print(\"The first quartile of dataset one is \" + str(songs_q1) + \" seconds\")\n",
    "print(\"The second quartile of dataset one is \" + str(songs_q2)+ \" seconds\")\n",
    "print(\"The third quartile of dataset one is \" + str(songs_q3)+ \" seconds\")"
   ]
  }
 ],
 "metadata": {
  "kernelspec": {
   "display_name": "Python 3 (ipykernel)",
   "language": "python",
   "name": "python3"
  },
  "language_info": {
   "codemirror_mode": {
    "name": "ipython",
    "version": 3
   },
   "file_extension": ".py",
   "mimetype": "text/x-python",
   "name": "python",
   "nbconvert_exporter": "python",
   "pygments_lexer": "ipython3",
   "version": "3.8.10"
  }
 },
 "nbformat": 4,
 "nbformat_minor": 5
}
