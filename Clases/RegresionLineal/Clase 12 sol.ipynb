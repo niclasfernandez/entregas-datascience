{
 "cells": [
  {
   "cell_type": "markdown",
   "id": "d52fb8c4-b3a2-4ce4-92ea-9739257ada9d",
   "metadata": {},
   "source": [
    "# <center> <font color= #000047> Aprendizaje supervizado: Regresión Lineal "
   ]
  },
  {
   "cell_type": "markdown",
   "id": "ce1b7440-e26f-411f-9ee8-95ca42176462",
   "metadata": {},
   "source": [
    "## Introducción"
   ]
  },
  {
   "cell_type": "markdown",
   "id": "6a8837e4-2cc0-4e65-b934-181a63b8a616",
   "metadata": {},
   "source": [
    "El Aprendizaje Supervizado se podría definir como un tipo de aprendizaje en IA en el que un algoritmo es entrenado con variables que incluyen los valores que queremos predecir; a estos valores conocidos se les llama `“etiquetas”` y se usan también para la evaluación del modelo. El aprendizaje supervisado se puede subdividir en dos tipos: \n",
    "\n",
    "- Clasificación\n",
    "\n",
    "- Regresión."
   ]
  },
  {
   "cell_type": "markdown",
   "id": "21580332-4c55-4920-ba4e-e778e3cd4740",
   "metadata": {},
   "source": [
    "### Clasificación\n",
    "\n",
    "En cuanto a clasificación, el objetivo es predecir las etiquetas de clase categóricas de nuevos registros, con base en observaciones pasadas. Dependiendo de la etiqueta, se puede decir que la clasificación es binaria o multiclase. "
   ]
  },
  {
   "cell_type": "markdown",
   "id": "dbcfa26c-1926-4b1e-9746-638d85b2352f",
   "metadata": {},
   "source": [
    "### Regresión\n",
    "\n",
    "Respecto a regresión, se trata del proceso estadístico predictivo en el que el modelo intenta predecir un valor continuo (como ventas, precio, calificaciones) mediante la relación entre variables dependientes e independientes. Es decir, se encuentra una ecuación en la que se sustituyen los valores de las variables y como resultado se obtiene el valor a predecir "
   ]
  },
  {
   "cell_type": "markdown",
   "id": "5d81fb36-6279-45e9-aeb1-e9b2e20a5d07",
   "metadata": {},
   "source": [
    "### Algunos algortimos de Aprendizaje Supervizado\n",
    "\n",
    "- **Regresión lineal:** Se trata de una regresión en la que al graficar la ecuación se forma una línea recta. Para obtener dicha ecuación, se usa el método de los cuadrados mínimos.\n",
    "\n",
    "\n",
    "- **Regresión logística:** Es una regresión usada principalmente en problemas de clasificación binaria. A pesar de la aparente incongruencia, se trata de una regresión porque el resultado de la ecuación es la probabilidad de que pertenezca a una clase, que dependiendo del umbral que se utilice, se clasifica como positivo o negativo.\n",
    "\n",
    "\n",
    "- **Support Vector Machine (SVM):** Típicamente se usa para problemas de clasificación, pero también se puede usar para regresión. En este algoritmo se construye un hiperplano que separa las clases de datos lo más posible.\n",
    "\n",
    "\n",
    "- **Árboles de decisión:** Algoritmo de clasificación similar a un diagrama de flujo, en el que se evalúan valores en cada nodo para llegar a una clasificación al final.\n",
    "\n",
    "\n",
    "- **Random Forest:** Este algoritmo consiste en combinar una gran cantidad de árboles de decisión independientes entre sí para reducir la varianza. Debido al conjunto de árboles, se le dio el nombre de “bosque”.\n",
    "\n"
   ]
  },
  {
   "cell_type": "markdown",
   "id": "0c5bc2c6-8cf1-443d-9708-5bfe7f21caa4",
   "metadata": {},
   "source": [
    "### Act 1: Cargar datasets y librerias \n",
    "---"
   ]
  },
  {
   "cell_type": "code",
   "execution_count": 1,
   "id": "13f9bff5-c851-4200-9657-52c217236532",
   "metadata": {},
   "outputs": [],
   "source": [
    "import matplotlib.pyplot as plt \n",
    "plt.style.use('ggplot')"
   ]
  },
  {
   "cell_type": "code",
   "execution_count": 2,
   "id": "4ef5be15-b349-481c-99b8-1d25ddf1b7eb",
   "metadata": {},
   "outputs": [],
   "source": [
    "import numpy as np\n",
    "import pandas as pd  \n",
    "import seaborn as sns \n",
    "plt.rcParams['figure.figsize'] = (12, 8)"
   ]
  },
  {
   "cell_type": "code",
   "execution_count": 3,
   "id": "32cc72ee-174f-4e9c-bc48-e268857d40fa",
   "metadata": {},
   "outputs": [
    {
     "data": {
      "text/html": [
       "<div>\n",
       "<style scoped>\n",
       "    .dataframe tbody tr th:only-of-type {\n",
       "        vertical-align: middle;\n",
       "    }\n",
       "\n",
       "    .dataframe tbody tr th {\n",
       "        vertical-align: top;\n",
       "    }\n",
       "\n",
       "    .dataframe thead th {\n",
       "        text-align: right;\n",
       "    }\n",
       "</style>\n",
       "<table border=\"1\" class=\"dataframe\">\n",
       "  <thead>\n",
       "    <tr style=\"text-align: right;\">\n",
       "      <th></th>\n",
       "      <th>Population</th>\n",
       "      <th>Profit</th>\n",
       "    </tr>\n",
       "  </thead>\n",
       "  <tbody>\n",
       "    <tr>\n",
       "      <th>0</th>\n",
       "      <td>6.1101</td>\n",
       "      <td>17.5920</td>\n",
       "    </tr>\n",
       "    <tr>\n",
       "      <th>1</th>\n",
       "      <td>5.5277</td>\n",
       "      <td>9.1302</td>\n",
       "    </tr>\n",
       "    <tr>\n",
       "      <th>2</th>\n",
       "      <td>8.5186</td>\n",
       "      <td>13.6620</td>\n",
       "    </tr>\n",
       "    <tr>\n",
       "      <th>3</th>\n",
       "      <td>7.0032</td>\n",
       "      <td>11.8540</td>\n",
       "    </tr>\n",
       "    <tr>\n",
       "      <th>4</th>\n",
       "      <td>5.8598</td>\n",
       "      <td>6.8233</td>\n",
       "    </tr>\n",
       "  </tbody>\n",
       "</table>\n",
       "</div>"
      ],
      "text/plain": [
       "   Population   Profit\n",
       "0      6.1101  17.5920\n",
       "1      5.5277   9.1302\n",
       "2      8.5186  13.6620\n",
       "3      7.0032  11.8540\n",
       "4      5.8598   6.8233"
      ]
     },
     "execution_count": 3,
     "metadata": {},
     "output_type": "execute_result"
    }
   ],
   "source": [
    "data = pd.read_csv('bike_sharing_data.txt')\n",
    "data.head()"
   ]
  },
  {
   "cell_type": "code",
   "execution_count": 4,
   "id": "2c4450d8-6948-479b-bfc6-46c6e184d951",
   "metadata": {},
   "outputs": [
    {
     "name": "stdout",
     "output_type": "stream",
     "text": [
      "<class 'pandas.core.frame.DataFrame'>\n",
      "RangeIndex: 97 entries, 0 to 96\n",
      "Data columns (total 2 columns):\n",
      " #   Column      Non-Null Count  Dtype  \n",
      "---  ------      --------------  -----  \n",
      " 0   Population  97 non-null     float64\n",
      " 1   Profit      97 non-null     float64\n",
      "dtypes: float64(2)\n",
      "memory usage: 1.6 KB\n"
     ]
    }
   ],
   "source": [
    "data.info()"
   ]
  },
  {
   "cell_type": "markdown",
   "id": "3a8d4b37-48c9-4ee1-9f3e-405527b84689",
   "metadata": {},
   "source": [
    " "
   ]
  },
  {
   "cell_type": "markdown",
   "id": "2bebd36d-9292-4acf-99ee-7550124e8bef",
   "metadata": {},
   "source": [
    "### Act 2: Visualizar los datos\n",
    "---"
   ]
  },
  {
   "cell_type": "code",
   "execution_count": 5,
   "id": "9c8c95d8-39c7-41d9-8d07-58d6b6b02b3b",
   "metadata": {},
   "outputs": [
    {
     "data": {
      "text/plain": [
       "Text(0.5, 1.0, 'Profit in $10000s vs City Population in 10000s')"
      ]
     },
     "execution_count": 5,
     "metadata": {},
     "output_type": "execute_result"
    },
    {
     "data": {
      "image/png": "[encoded data removed]",
      "text/plain": [
       "<Figure size 864x576 with 1 Axes>"
      ]
     },
     "metadata": {},
     "output_type": "display_data"
    }
   ],
   "source": [
    "ax = sns.scatterplot(x='Population', y ='Profit', data = data)\n",
    "ax.set_title('Profit in $10000s vs City Population in 10000s')"
   ]
  },
  {
   "cell_type": "markdown",
   "id": "ed23a320-7a02-45a9-af78-965bb6d3d5de",
   "metadata": {},
   "source": [
    " "
   ]
  },
  {
   "cell_type": "markdown",
   "id": "cc686812-9777-4edf-8ac0-597960184385",
   "metadata": {},
   "source": [
    " "
   ]
  },
  {
   "cell_type": "markdown",
   "id": "3a39698d-9be5-4870-b27b-5c847f4b3615",
   "metadata": {},
   "source": [
    "### Act 3: Calcular la función de costo $J(\\theta)$\n",
    "---"
   ]
  },
  {
   "cell_type": "markdown",
   "id": "c14caa26-1481-436c-abd6-dc61befec578",
   "metadata": {},
   "source": [
    "The objective of linear regression is to minimize the cost function\n",
    "\n",
    "$$J(\\theta) = \\frac{1}{2m} \\sum_{i=1}^m (h_\\theta(x^{(i)}) - y^{(i)} )^2$$\n",
    "\n",
    "where $h_{\\theta}(x)$ is the hypothesis and given by the linear model\n",
    "\n",
    "$$h_{\\theta}(x) = \\theta^Tx = \\theta_0 + \\theta_1x_1$$"
   ]
  },
  {
   "cell_type": "code",
   "execution_count": 6,
   "id": "380c3bd9-395f-4a3a-8f1f-9684f0c4c905",
   "metadata": {},
   "outputs": [],
   "source": [
    "def cost_function(X, y, theta):\n",
    "    m = len(y)\n",
    "    y_pred = X.dot(theta)\n",
    "    error = (y_pred - y) ** 2\n",
    "    \n",
    "    return 1 / (2 * m) * np.sum(error)"
   ]
  },
  {
   "cell_type": "code",
   "execution_count": 7,
   "id": "a1dcf6c7-22f7-4163-a108-2b708539d420",
   "metadata": {},
   "outputs": [
    {
     "data": {
      "text/plain": [
       "32.072733877455676"
      ]
     },
     "execution_count": 7,
     "metadata": {},
     "output_type": "execute_result"
    }
   ],
   "source": [
    "m = data.Population.values.size\n",
    "X = np.append(np.ones((m,1)), data.Population.values.reshape(m,1), axis=1)\n",
    "y =  data.Profit.values.reshape(m,1)\n",
    "theta = np.zeros((2,1))\n",
    "\n",
    "cost_function(X, y, theta)"
   ]
  },
  {
   "cell_type": "markdown",
   "id": "d43149c5-2068-48ec-87df-d60a254a2254",
   "metadata": {},
   "source": [
    " "
   ]
  },
  {
   "cell_type": "markdown",
   "id": "7ae07ce0-eb58-49d4-b02f-57ffffaf07d7",
   "metadata": {},
   "source": [
    "### Act 4: Gradiante Descediente\n",
    "---"
   ]
  },
  {
   "cell_type": "markdown",
   "id": "43d9740f-bb59-416c-92f4-1d1c8639e3a5",
   "metadata": {},
   "source": [
    "Minimize the cost function $J(\\theta)$ by updating the below equation and repeat unitil convergence\n",
    "        \n",
    "$\\theta_j := \\theta_j - \\alpha \\frac{1}{m} \\sum_{i=1}^m (h_{\\theta}(x^{(i)}) - y^{(i)})x_j^{(i)}$ (simultaneously update $\\theta_j$ for all $j$)."
   ]
  },
  {
   "cell_type": "code",
   "execution_count": 8,
   "id": "d5da15db-6058-4fa9-981b-b2172cb7e36d",
   "metadata": {},
   "outputs": [],
   "source": [
    "def gradient_descent(X, y, theta, alpha, iterations):\n",
    "    m = len(y)\n",
    "    costs = []\n",
    "    for i in range(iterations):\n",
    "        y_pred = X.dot(theta)\n",
    "        error = np.dot(X.transpose(), (y_pred - y))\n",
    "        theta -= alpha * 1 / m * error\n",
    "        costs.append(cost_function(X, y, theta))\n",
    "    return theta, costs"
   ]
  },
  {
   "cell_type": "code",
   "execution_count": 9,
   "id": "4d4fb6a0-cf8d-4079-9fad-bd5dc39ab080",
   "metadata": {},
   "outputs": [
    {
     "name": "stdout",
     "output_type": "stream",
     "text": [
      "h(x) = -3.79 + 1.18x1\n"
     ]
    }
   ],
   "source": [
    "theta, costs = gradient_descent(X, y, theta, alpha=0.01, iterations=2000)\n",
    "\n",
    "print('h(x) = {} + {}x1'.format(str(round(theta[0, 0], 2)),\n",
    "                                str(round(theta[1, 0], 2))))"
   ]
  },
  {
   "cell_type": "markdown",
   "id": "7a20d4d9-551b-4246-9142-d8598577b692",
   "metadata": {},
   "source": [
    "### Act 5: Visualizando la función de costo $J(\\theta)$\n",
    "---"
   ]
  },
  {
   "cell_type": "code",
   "execution_count": 10,
   "id": "4ed88778-6ece-482e-99e4-6f2ec2c4e9f9",
   "metadata": {},
   "outputs": [],
   "source": [
    "from mpl_toolkits.mplot3d import Axes3D"
   ]
  },
  {
   "cell_type": "code",
   "execution_count": 11,
   "id": "0abf960c-dd56-409b-bb3a-c2ecf1d4dc27",
   "metadata": {},
   "outputs": [],
   "source": [
    "theta_0 = np.linspace(-10,10,100)\n",
    "theta_1 = np.linspace(-1,4,100)\n",
    "\n",
    "cost_values = np.zeros((len(theta_0), len(theta_1)))\n",
    "\n",
    "for i in range(len(theta_0)):\n",
    "    for j in range(len(theta_1)):\n",
    "        t = np.array([theta_0[i], theta_1[j]])\n",
    "        cost_values[i, j] = cost_function(X, y, t)"
   ]
  },
  {
   "cell_type": "code",
   "execution_count": 12,
   "id": "ec24fd02-f95c-482f-8cde-bba7f2aec23d",
   "metadata": {},
   "outputs": [
    {
     "name": "stderr",
     "output_type": "stream",
     "text": [
      "/tmp/ipykernel_332/4022374182.py:2: MatplotlibDeprecationWarning: Calling gca() with keyword arguments was deprecated in Matplotlib 3.4. Starting two minor releases later, gca() will take no keyword arguments. The gca() function should only be used to get the current axes, or if no axes exist, create new axes with default keyword arguments. To create a new axes with non-default arguments, use plt.axes() or plt.subplot().\n",
      "  ax = fig.gca(projection = '3d')\n",
      "/tmp/ipykernel_332/4022374182.py:5: MatplotlibDeprecationWarning: Auto-removal of grids by pcolor() and pcolormesh() is deprecated since 3.5 and will be removed two minor releases later; please call grid(False) first.\n",
      "  fig.colorbar(surf, shrink=0.5, aspect = 5)\n"
     ]
    },
    {
     "data": {
      "image/png": "[encoded data removed]",
      "text/plain": [
       "<Figure size 864x576 with 2 Axes>"
      ]
     },
     "metadata": {},
     "output_type": "display_data"
    }
   ],
   "source": [
    "fig = plt.figure(figsize = (12,8))\n",
    "ax = fig.gca(projection = '3d')\n",
    "\n",
    "surf = ax.plot_surface(theta_0, theta_1, cost_values, cmap = 'viridis')\n",
    "fig.colorbar(surf, shrink=0.5, aspect = 5)\n",
    "\n",
    "plt.xlabel('$\\Theta_0$')\n",
    "plt.ylabel('$\\Theta_1$')\n",
    "ax.set_zlabel('$J(\\Theta)$')\n",
    "ax.view_init(30,330)\n",
    "\n",
    "plt.show()"
   ]
  },
  {
   "cell_type": "markdown",
   "id": "7889d0c8-f079-48e5-a218-9ec5c04dc57f",
   "metadata": {},
   "source": [
    " "
   ]
  },
  {
   "cell_type": "markdown",
   "id": "43ce1b50-ad73-4f56-95a6-204a8c0fb2f1",
   "metadata": {},
   "source": [
    "### Act 6: Grafica la convergencia\n",
    "---"
   ]
  },
  {
   "cell_type": "markdown",
   "id": "bbbea3b7-00a3-4e31-a3c9-eddea3e191a0",
   "metadata": {},
   "source": [
    "Plot $J(\\theta)$ against the number of iterations of gradient descent:"
   ]
  },
  {
   "cell_type": "code",
   "execution_count": 13,
   "id": "1c0a0fa9-ce05-4298-b581-3ea55c81b346",
   "metadata": {},
   "outputs": [
    {
     "data": {
      "text/plain": [
       "Text(0.5, 1.0, 'Values of the Cost Function over Iterations of Gradient Descent')"
      ]
     },
     "execution_count": 13,
     "metadata": {},
     "output_type": "execute_result"
    },
    {
     "data": {
      "image/png": "[encoded data removed]",
      "text/plain": [
       "<Figure size 864x576 with 1 Axes>"
      ]
     },
     "metadata": {},
     "output_type": "display_data"
    }
   ],
   "source": [
    "plt.plot(costs)\n",
    "plt.xlabel('Iterations')\n",
    "plt.ylabel('$J(\\Theta)$')\n",
    "plt.title('Values of the Cost Function over Iterations of Gradient Descent')"
   ]
  },
  {
   "cell_type": "markdown",
   "id": "fd6264e6-84cd-438a-97b4-e91aed505654",
   "metadata": {},
   "source": [
    " "
   ]
  },
  {
   "cell_type": "markdown",
   "id": "60a781c1-b603-4bf7-8df0-cacf79c8a45e",
   "metadata": {},
   "source": [
    "### TasActk 7: Datos de entrenamiento con ajuste de regresión lineal\n",
    "---"
   ]
  },
  {
   "cell_type": "code",
   "execution_count": 14,
   "id": "c62f04c2-fee1-4951-bbb4-c02619e9629f",
   "metadata": {},
   "outputs": [
    {
     "data": {
      "text/plain": [
       "(2, 1)"
      ]
     },
     "execution_count": 14,
     "metadata": {},
     "output_type": "execute_result"
    }
   ],
   "source": [
    "theta.shape"
   ]
  },
  {
   "cell_type": "code",
   "execution_count": 15,
   "id": "86714598-ec0d-40af-b5fe-369a4bca4d84",
   "metadata": {},
   "outputs": [
    {
     "data": {
      "text/plain": [
       "array([[-3.78806857],\n",
       "       [ 1.18221277]])"
      ]
     },
     "execution_count": 15,
     "metadata": {},
     "output_type": "execute_result"
    }
   ],
   "source": [
    "theta"
   ]
  },
  {
   "cell_type": "code",
   "execution_count": 16,
   "id": "1c896096-a408-4fca-bb29-1ad2df93dbc3",
   "metadata": {},
   "outputs": [
    {
     "name": "stderr",
     "output_type": "stream",
     "text": [
      "/mnt/c/Users/betof/OneDrive - Instituto Tecnologico y de Estudios Superiores de Monterrey/Repositorios/prope_programacion/venv/lib/python3.8/site-packages/seaborn/_decorators.py:36: FutureWarning: Pass the following variables as keyword args: x, y. From version 0.12, the only valid positional argument will be `data`, and passing other arguments without an explicit keyword will result in an error or misinterpretation.\n",
      "  warnings.warn(\n"
     ]
    },
    {
     "data": {
      "text/plain": [
       "Text(0.5, 1.0, 'Linear Regression Fit')"
      ]
     },
     "execution_count": 16,
     "metadata": {},
     "output_type": "execute_result"
    },
    {
     "data": {
      "image/png": "[encoded data removed]",
      "text/plain": [
       "<Figure size 864x576 with 1 Axes>"
      ]
     },
     "metadata": {},
     "output_type": "display_data"
    }
   ],
   "source": [
    "theta = np.squeeze(theta)\n",
    "sns.scatterplot(x='Population', y ='Profit', data = data)\n",
    "\n",
    "x_value = [x for x in range(5, 25)]\n",
    "y_value = [(x * theta[1] + theta[0]) for x in x_value]\n",
    "sns.lineplot(x_value, y_value)\n",
    "\n",
    "plt.xlabel('Population in 10000s')\n",
    "plt.ylabel('Profit in $10,000s')\n",
    "plt.title('Linear Regression Fit')\n",
    "\n",
    "\n"
   ]
  },
  {
   "cell_type": "markdown",
   "id": "79113eaf-2d32-4386-8fbb-8c80ed0ad9d5",
   "metadata": {},
   "source": [
    "### Act 8: Conclusiones usando los valores optimizados de $\\theta$\n",
    "---"
   ]
  },
  {
   "cell_type": "markdown",
   "id": "2832a74f-9077-4ea8-8a15-32c20a080c2b",
   "metadata": {},
   "source": [
    "$h_\\theta(x) = \\theta^Tx$"
   ]
  },
  {
   "cell_type": "code",
   "execution_count": 17,
   "id": "2f5f30ca-5791-44fd-94e4-9acbafe2077a",
   "metadata": {},
   "outputs": [],
   "source": [
    "def predict(x, theta):\n",
    "    y_pred = np.dot(theta.transpose(), x)\n",
    "    return y_pred"
   ]
  },
  {
   "cell_type": "code",
   "execution_count": 18,
   "id": "545c643e-61cc-4bac-a89a-32c988ada850",
   "metadata": {},
   "outputs": [
    {
     "name": "stdout",
     "output_type": "stream",
     "text": [
      "For a population of 40,000, the model predicts a profit of $9408.0\n"
     ]
    }
   ],
   "source": [
    "y_pred_1 = predict(np.array([1,4]), theta) * 10000\n",
    "print('For a population of 40,000, the model predicts a profit of $' + str(round(y_pred_1, 0)))"
   ]
  },
  {
   "cell_type": "code",
   "execution_count": 19,
   "id": "9066e461-0855-4415-9cbf-4a688ee022d0",
   "metadata": {},
   "outputs": [
    {
     "name": "stdout",
     "output_type": "stream",
     "text": [
      "For a population of 83,000, the model predicts a profit of $60243.0\n"
     ]
    }
   ],
   "source": [
    "y_pred_2 = predict(np.array([1,8.3]), theta) * 10000\n",
    "print('For a population of 83,000, the model predicts a profit of $' + str(round(y_pred_2, 0)))"
   ]
  },
  {
   "cell_type": "markdown",
   "id": "3ec7bbb6-bafa-4d62-9d0b-6267942274c1",
   "metadata": {
    "tags": []
   },
   "source": [
    "## Ejemplo usando la librería de Sklearn"
   ]
  },
  {
   "cell_type": "markdown",
   "id": "aee0b2fb-3910-4750-801d-2b3bdc383e5c",
   "metadata": {},
   "source": [
    "### Ejemplo 1:"
   ]
  },
  {
   "cell_type": "code",
   "execution_count": 20,
   "id": "405405d3-a99e-4b4f-8be9-2eeb4c864985",
   "metadata": {},
   "outputs": [],
   "source": [
    "import pandas as pd\n",
    "import numpy as np\n",
    "from matplotlib import pyplot as plt\n",
    "from sklearn.linear_model import LinearRegression\n",
    "from sklearn.metrics import mean_squared_error, r2_score"
   ]
  },
  {
   "cell_type": "code",
   "execution_count": 21,
   "id": "730063b3-0b81-46f1-9b7b-7328f81c3993",
   "metadata": {},
   "outputs": [
    {
     "data": {
      "text/html": [
       "<div>\n",
       "<style scoped>\n",
       "    .dataframe tbody tr th:only-of-type {\n",
       "        vertical-align: middle;\n",
       "    }\n",
       "\n",
       "    .dataframe tbody tr th {\n",
       "        vertical-align: top;\n",
       "    }\n",
       "\n",
       "    .dataframe thead th {\n",
       "        text-align: right;\n",
       "    }\n",
       "</style>\n",
       "<table border=\"1\" class=\"dataframe\">\n",
       "  <thead>\n",
       "    <tr style=\"text-align: right;\">\n",
       "      <th></th>\n",
       "      <th>Population</th>\n",
       "      <th>Profit</th>\n",
       "    </tr>\n",
       "  </thead>\n",
       "  <tbody>\n",
       "    <tr>\n",
       "      <th>0</th>\n",
       "      <td>6.1101</td>\n",
       "      <td>17.5920</td>\n",
       "    </tr>\n",
       "    <tr>\n",
       "      <th>1</th>\n",
       "      <td>5.5277</td>\n",
       "      <td>9.1302</td>\n",
       "    </tr>\n",
       "    <tr>\n",
       "      <th>2</th>\n",
       "      <td>8.5186</td>\n",
       "      <td>13.6620</td>\n",
       "    </tr>\n",
       "    <tr>\n",
       "      <th>3</th>\n",
       "      <td>7.0032</td>\n",
       "      <td>11.8540</td>\n",
       "    </tr>\n",
       "    <tr>\n",
       "      <th>4</th>\n",
       "      <td>5.8598</td>\n",
       "      <td>6.8233</td>\n",
       "    </tr>\n",
       "  </tbody>\n",
       "</table>\n",
       "</div>"
      ],
      "text/plain": [
       "   Population   Profit\n",
       "0      6.1101  17.5920\n",
       "1      5.5277   9.1302\n",
       "2      8.5186  13.6620\n",
       "3      7.0032  11.8540\n",
       "4      5.8598   6.8233"
      ]
     },
     "execution_count": 21,
     "metadata": {},
     "output_type": "execute_result"
    }
   ],
   "source": [
    "data = pd.read_csv('bike_sharing_data.txt')\n",
    "data.head()"
   ]
  },
  {
   "cell_type": "code",
   "execution_count": 22,
   "id": "4af963ac-f8e6-4146-99cb-2d04bf5a5528",
   "metadata": {},
   "outputs": [],
   "source": [
    "# Identificar las variables independientes, dependientes\n",
    "x = data['Population'].values.reshape(-1,1)\n",
    "y = data['Profit'].values.reshape(-1,1)"
   ]
  },
  {
   "cell_type": "code",
   "execution_count": 23,
   "id": "9c1fbd08-0343-4a3a-975c-a33c19f6c620",
   "metadata": {},
   "outputs": [],
   "source": [
    "# y_hat = b1*x + b0\n",
    "# Aplicar un modelo lineal con la librería\n",
    "modelo = LinearRegression()\n",
    "#Entrenar al modelo lineal\n",
    "modelo.fit(x,y)\n",
    "#Predecir datos en x\n",
    "y_pred = modelo.predict(x)"
   ]
  },
  {
   "cell_type": "code",
   "execution_count": 24,
   "id": "c625cbb7-d84f-4205-a13d-c753b43fa851",
   "metadata": {},
   "outputs": [
    {
     "data": {
      "image/png": "[encoded data removed]",
      "text/plain": [
       "<Figure size 432x288 with 1 Axes>"
      ]
     },
     "metadata": {},
     "output_type": "display_data"
    }
   ],
   "source": [
    "plt.figure(figsize=(6,4))\n",
    "plt.scatter(data['Population'], data['Profit'])\n",
    "plt.plot(x, y_pred, '-r')\n",
    "plt.xlabel('Population')\n",
    "plt.ylabel('Profit')\n",
    "plt.show()"
   ]
  },
  {
   "cell_type": "code",
   "execution_count": 25,
   "id": "c2cc42dd-c517-4ed2-9456-86cecfe41a48",
   "metadata": {},
   "outputs": [
    {
     "data": {
      "text/plain": [
       "array([[1.19303364]])"
      ]
     },
     "execution_count": 25,
     "metadata": {},
     "output_type": "execute_result"
    }
   ],
   "source": [
    "# coeficientes que acompañan a la variable independiente \"x\" beta_1,..,beta_n\n",
    "modelo.coef_"
   ]
  },
  {
   "cell_type": "code",
   "execution_count": 26,
   "id": "40b1403a-1773-47e2-a352-d887f4ca7ecf",
   "metadata": {},
   "outputs": [
    {
     "data": {
      "text/plain": [
       "array([-3.89578088])"
      ]
     },
     "execution_count": 26,
     "metadata": {},
     "output_type": "execute_result"
    }
   ],
   "source": [
    "# coeficientes de intercepción al eje de las abcisas beta_0\n",
    "modelo.intercept_"
   ]
  },
  {
   "cell_type": "markdown",
   "id": "8f4b7924-8f35-430e-8c3c-a4a55f6901d3",
   "metadata": {},
   "source": [
    "##### Modelo Obtenido\n",
    "\n",
    "$$\\hat{y} = 1.193  x - 3.895$$"
   ]
  },
  {
   "cell_type": "markdown",
   "id": "2960a319-e058-4c31-abc2-0440fbec9de3",
   "metadata": {},
   "source": [
    "### Ejemplo 2:"
   ]
  },
  {
   "cell_type": "code",
   "execution_count": 27,
   "id": "b29a6b39-884d-4032-9f66-7276a6f99e88",
   "metadata": {},
   "outputs": [],
   "source": [
    "datos = pd.read_csv('Data/Position_Salaries.csv')"
   ]
  },
  {
   "cell_type": "code",
   "execution_count": 28,
   "id": "6786663c-cfe3-4a12-ad52-0a13c112265b",
   "metadata": {},
   "outputs": [
    {
     "data": {
      "text/html": [
       "<div>\n",
       "<style scoped>\n",
       "    .dataframe tbody tr th:only-of-type {\n",
       "        vertical-align: middle;\n",
       "    }\n",
       "\n",
       "    .dataframe tbody tr th {\n",
       "        vertical-align: top;\n",
       "    }\n",
       "\n",
       "    .dataframe thead th {\n",
       "        text-align: right;\n",
       "    }\n",
       "</style>\n",
       "<table border=\"1\" class=\"dataframe\">\n",
       "  <thead>\n",
       "    <tr style=\"text-align: right;\">\n",
       "      <th></th>\n",
       "      <th>Position</th>\n",
       "      <th>Level</th>\n",
       "      <th>Salary</th>\n",
       "    </tr>\n",
       "  </thead>\n",
       "  <tbody>\n",
       "    <tr>\n",
       "      <th>0</th>\n",
       "      <td>Business Analyst</td>\n",
       "      <td>1</td>\n",
       "      <td>45000</td>\n",
       "    </tr>\n",
       "    <tr>\n",
       "      <th>1</th>\n",
       "      <td>Junior Consultant</td>\n",
       "      <td>2</td>\n",
       "      <td>50000</td>\n",
       "    </tr>\n",
       "    <tr>\n",
       "      <th>2</th>\n",
       "      <td>Senior Consultant</td>\n",
       "      <td>3</td>\n",
       "      <td>60000</td>\n",
       "    </tr>\n",
       "    <tr>\n",
       "      <th>3</th>\n",
       "      <td>Manager</td>\n",
       "      <td>4</td>\n",
       "      <td>80000</td>\n",
       "    </tr>\n",
       "    <tr>\n",
       "      <th>4</th>\n",
       "      <td>Country Manager</td>\n",
       "      <td>5</td>\n",
       "      <td>110000</td>\n",
       "    </tr>\n",
       "    <tr>\n",
       "      <th>5</th>\n",
       "      <td>Region Manager</td>\n",
       "      <td>6</td>\n",
       "      <td>150000</td>\n",
       "    </tr>\n",
       "    <tr>\n",
       "      <th>6</th>\n",
       "      <td>Partner</td>\n",
       "      <td>7</td>\n",
       "      <td>200000</td>\n",
       "    </tr>\n",
       "    <tr>\n",
       "      <th>7</th>\n",
       "      <td>Senior Partner</td>\n",
       "      <td>8</td>\n",
       "      <td>300000</td>\n",
       "    </tr>\n",
       "    <tr>\n",
       "      <th>8</th>\n",
       "      <td>C-level</td>\n",
       "      <td>9</td>\n",
       "      <td>500000</td>\n",
       "    </tr>\n",
       "    <tr>\n",
       "      <th>9</th>\n",
       "      <td>CEO</td>\n",
       "      <td>10</td>\n",
       "      <td>1000000</td>\n",
       "    </tr>\n",
       "  </tbody>\n",
       "</table>\n",
       "</div>"
      ],
      "text/plain": [
       "            Position  Level   Salary\n",
       "0   Business Analyst      1    45000\n",
       "1  Junior Consultant      2    50000\n",
       "2  Senior Consultant      3    60000\n",
       "3            Manager      4    80000\n",
       "4    Country Manager      5   110000\n",
       "5     Region Manager      6   150000\n",
       "6            Partner      7   200000\n",
       "7     Senior Partner      8   300000\n",
       "8            C-level      9   500000\n",
       "9                CEO     10  1000000"
      ]
     },
     "execution_count": 28,
     "metadata": {},
     "output_type": "execute_result"
    }
   ],
   "source": [
    "datos"
   ]
  },
  {
   "cell_type": "code",
   "execution_count": 29,
   "id": "34260abb-f849-4457-8fbe-84756154ac53",
   "metadata": {},
   "outputs": [
    {
     "data": {
      "text/plain": [
       "array([[ 1,  2,  3,  4,  5,  6,  7,  8,  9, 10]])"
      ]
     },
     "execution_count": 29,
     "metadata": {},
     "output_type": "execute_result"
    }
   ],
   "source": [
    "datos['Level'].values.reshape(1,-1)"
   ]
  },
  {
   "cell_type": "code",
   "execution_count": 30,
   "id": "b72ea871-ec5f-4a39-913c-6def2b2ac1c5",
   "metadata": {},
   "outputs": [],
   "source": [
    "# identificar las variables independientes,dependientes\n",
    "x=datos['Level'].values.reshape(-1,1)\n",
    "y=datos['Salary'].values.reshape(-1,1)"
   ]
  },
  {
   "cell_type": "code",
   "execution_count": 31,
   "id": "6b2b8cc7-98cc-4217-9c63-529d45ef3a94",
   "metadata": {},
   "outputs": [
    {
     "data": {
      "text/plain": [
       "Text(0, 0.5, 'Salary')"
      ]
     },
     "execution_count": 31,
     "metadata": {},
     "output_type": "execute_result"
    },
    {
     "data": {
      "image/png": "[encoded data removed]",
      "text/plain": [
       "<Figure size 432x288 with 1 Axes>"
      ]
     },
     "metadata": {},
     "output_type": "display_data"
    }
   ],
   "source": [
    "plt.figure(figsize=(6,4))\n",
    "plt.scatter(x,y)\n",
    "plt.xlabel('Level')\n",
    "plt.ylabel('Salary')"
   ]
  },
  {
   "cell_type": "code",
   "execution_count": 32,
   "id": "24865f0a-be6e-4082-8e56-faaa82dccc4c",
   "metadata": {},
   "outputs": [
    {
     "name": "stdout",
     "output_type": "stream",
     "text": [
      "Error cuadrático Medio: 26695878787.878784\n",
      "R2_score: 0.5053238120653423\n"
     ]
    },
    {
     "data": {
      "text/plain": [
       "(array([[80878.78787879]]), array([-195333.33333333]))"
      ]
     },
     "execution_count": 32,
     "metadata": {},
     "output_type": "execute_result"
    },
    {
     "data": {
      "image/png": "[encoded data removed]",
      "text/plain": [
       "<Figure size 432x288 with 1 Axes>"
      ]
     },
     "metadata": {},
     "output_type": "display_data"
    }
   ],
   "source": [
    "# Buscar un modelo lineal que se ajuste a los datos\n",
    "\n",
    "# 1.- Entrenar un modelo lineal con la librería y_hat=b1*x + bo\n",
    "modelo = LinearRegression()\n",
    "modelo.fit(x,y)\n",
    "# 2.- Predecir los valores de x\n",
    "y_pred = modelo.predict(x)\n",
    "# 3.- Grafiquen su modelo con los datos originales\n",
    "plt.figure(figsize=(6,4))\n",
    "plt.scatter(x,y)\n",
    "plt.plot(x,y_pred,'r')\n",
    "plt.xlabel('Level')\n",
    "plt.ylabel('Salary')\n",
    "# 4.- mean_squared_error(y_pred,y), r2_score(y_pred,y) \n",
    "print('Error cuadrático Medio: '+str(mean_squared_error(y_pred,y)))\n",
    "print('R2_score: '+str(r2_score(y_pred,y)))\n",
    "modelo.coef_, modelo.intercept_"
   ]
  },
  {
   "cell_type": "code",
   "execution_count": 33,
   "id": "1200c4fd-41f6-47bb-b769-b1d7a0d48607",
   "metadata": {},
   "outputs": [
    {
     "name": "stdout",
     "output_type": "stream",
     "text": [
      "Requirement already satisfied: drawdata in /mnt/c/Users/betof/OneDrive - Instituto Tecnologico y de Estudios Superiores de Monterrey/Repositorios/prope_programacion/venv/lib/python3.8/site-packages (0.2.0)\n",
      "Requirement already satisfied: ipython>=7.16.1 in /mnt/c/Users/betof/OneDrive - Instituto Tecnologico y de Estudios Superiores de Monterrey/Repositorios/prope_programacion/venv/lib/python3.8/site-packages (from drawdata) (8.0.1)\n",
      "Requirement already satisfied: jupyter>=1.0.0 in /mnt/c/Users/betof/OneDrive - Instituto Tecnologico y de Estudios Superiores de Monterrey/Repositorios/prope_programacion/venv/lib/python3.8/site-packages (from drawdata) (1.0.0)\n",
      "Requirement already satisfied: traitlets>=5 in /mnt/c/Users/betof/OneDrive - Instituto Tecnologico y de Estudios Superiores de Monterrey/Repositorios/prope_programacion/venv/lib/python3.8/site-packages (from ipython>=7.16.1->drawdata) (5.1.1)\n",
      "Requirement already satisfied: stack-data in /mnt/c/Users/betof/OneDrive - Instituto Tecnologico y de Estudios Superiores de Monterrey/Repositorios/prope_programacion/venv/lib/python3.8/site-packages (from ipython>=7.16.1->drawdata) (0.1.4)\n",
      "Requirement already satisfied: pickleshare in /mnt/c/Users/betof/OneDrive - Instituto Tecnologico y de Estudios Superiores de Monterrey/Repositorios/prope_programacion/venv/lib/python3.8/site-packages (from ipython>=7.16.1->drawdata) (0.7.5)\n",
      "Requirement already satisfied: setuptools>=18.5 in /mnt/c/Users/betof/OneDrive - Instituto Tecnologico y de Estudios Superiores de Monterrey/Repositorios/prope_programacion/venv/lib/python3.8/site-packages (from ipython>=7.16.1->drawdata) (44.0.0)\n",
      "Requirement already satisfied: pygments in /mnt/c/Users/betof/OneDrive - Instituto Tecnologico y de Estudios Superiores de Monterrey/Repositorios/prope_programacion/venv/lib/python3.8/site-packages (from ipython>=7.16.1->drawdata) (2.11.2)\n",
      "Requirement already satisfied: backcall in /mnt/c/Users/betof/OneDrive - Instituto Tecnologico y de Estudios Superiores de Monterrey/Repositorios/prope_programacion/venv/lib/python3.8/site-packages (from ipython>=7.16.1->drawdata) (0.2.0)\n",
      "Requirement already satisfied: prompt-toolkit!=3.0.0,!=3.0.1,<3.1.0,>=2.0.0 in /mnt/c/Users/betof/OneDrive - Instituto Tecnologico y de Estudios Superiores de Monterrey/Repositorios/prope_programacion/venv/lib/python3.8/site-packages (from ipython>=7.16.1->drawdata) (3.0.26)\n",
      "Requirement already satisfied: black in /mnt/c/Users/betof/OneDrive - Instituto Tecnologico y de Estudios Superiores de Monterrey/Repositorios/prope_programacion/venv/lib/python3.8/site-packages (from ipython>=7.16.1->drawdata) (22.1.0)\n",
      "Requirement already satisfied: matplotlib-inline in /mnt/c/Users/betof/OneDrive - Instituto Tecnologico y de Estudios Superiores de Monterrey/Repositorios/prope_programacion/venv/lib/python3.8/site-packages (from ipython>=7.16.1->drawdata) (0.1.3)\n",
      "Requirement already satisfied: decorator in /mnt/c/Users/betof/OneDrive - Instituto Tecnologico y de Estudios Superiores de Monterrey/Repositorios/prope_programacion/venv/lib/python3.8/site-packages (from ipython>=7.16.1->drawdata) (5.1.1)\n",
      "Requirement already satisfied: jedi>=0.16 in /mnt/c/Users/betof/OneDrive - Instituto Tecnologico y de Estudios Superiores de Monterrey/Repositorios/prope_programacion/venv/lib/python3.8/site-packages (from ipython>=7.16.1->drawdata) (0.18.1)\n",
      "Requirement already satisfied: pexpect>4.3; sys_platform != \"win32\" in /mnt/c/Users/betof/OneDrive - Instituto Tecnologico y de Estudios Superiores de Monterrey/Repositorios/prope_programacion/venv/lib/python3.8/site-packages (from ipython>=7.16.1->drawdata) (4.8.0)\n",
      "Requirement already satisfied: nbconvert in /mnt/c/Users/betof/OneDrive - Instituto Tecnologico y de Estudios Superiores de Monterrey/Repositorios/prope_programacion/venv/lib/python3.8/site-packages (from jupyter>=1.0.0->drawdata) (6.4.1)\n",
      "Requirement already satisfied: jupyter-console in /mnt/c/Users/betof/OneDrive - Instituto Tecnologico y de Estudios Superiores de Monterrey/Repositorios/prope_programacion/venv/lib/python3.8/site-packages (from jupyter>=1.0.0->drawdata) (6.4.0)\n",
      "Requirement already satisfied: ipywidgets in /mnt/c/Users/betof/OneDrive - Instituto Tecnologico y de Estudios Superiores de Monterrey/Repositorios/prope_programacion/venv/lib/python3.8/site-packages (from jupyter>=1.0.0->drawdata) (7.6.5)\n",
      "Requirement already satisfied: qtconsole in /mnt/c/Users/betof/OneDrive - Instituto Tecnologico y de Estudios Superiores de Monterrey/Repositorios/prope_programacion/venv/lib/python3.8/site-packages (from jupyter>=1.0.0->drawdata) (5.2.2)\n",
      "Requirement already satisfied: notebook in /mnt/c/Users/betof/OneDrive - Instituto Tecnologico y de Estudios Superiores de Monterrey/Repositorios/prope_programacion/venv/lib/python3.8/site-packages (from jupyter>=1.0.0->drawdata) (6.4.8)\n",
      "Requirement already satisfied: ipykernel in /mnt/c/Users/betof/OneDrive - Instituto Tecnologico y de Estudios Superiores de Monterrey/Repositorios/prope_programacion/venv/lib/python3.8/site-packages (from jupyter>=1.0.0->drawdata) (6.8.0)\n",
      "Requirement already satisfied: asttokens in /mnt/c/Users/betof/OneDrive - Instituto Tecnologico y de Estudios Superiores de Monterrey/Repositorios/prope_programacion/venv/lib/python3.8/site-packages (from stack-data->ipython>=7.16.1->drawdata) (2.0.5)\n",
      "Requirement already satisfied: executing in /mnt/c/Users/betof/OneDrive - Instituto Tecnologico y de Estudios Superiores de Monterrey/Repositorios/prope_programacion/venv/lib/python3.8/site-packages (from stack-data->ipython>=7.16.1->drawdata) (0.8.2)\n",
      "Requirement already satisfied: pure-eval in /mnt/c/Users/betof/OneDrive - Instituto Tecnologico y de Estudios Superiores de Monterrey/Repositorios/prope_programacion/venv/lib/python3.8/site-packages (from stack-data->ipython>=7.16.1->drawdata) (0.2.2)\n",
      "Requirement already satisfied: wcwidth in /mnt/c/Users/betof/OneDrive - Instituto Tecnologico y de Estudios Superiores de Monterrey/Repositorios/prope_programacion/venv/lib/python3.8/site-packages (from prompt-toolkit!=3.0.0,!=3.0.1,<3.1.0,>=2.0.0->ipython>=7.16.1->drawdata) (0.2.5)\n",
      "Requirement already satisfied: typing-extensions>=3.10.0.0; python_version < \"3.10\" in /mnt/c/Users/betof/OneDrive - Instituto Tecnologico y de Estudios Superiores de Monterrey/Repositorios/prope_programacion/venv/lib/python3.8/site-packages (from black->ipython>=7.16.1->drawdata) (4.0.1)\n",
      "Requirement already satisfied: mypy-extensions>=0.4.3 in /mnt/c/Users/betof/OneDrive - Instituto Tecnologico y de Estudios Superiores de Monterrey/Repositorios/prope_programacion/venv/lib/python3.8/site-packages (from black->ipython>=7.16.1->drawdata) (0.4.3)\n",
      "Requirement already satisfied: tomli>=1.1.0 in /mnt/c/Users/betof/OneDrive - Instituto Tecnologico y de Estudios Superiores de Monterrey/Repositorios/prope_programacion/venv/lib/python3.8/site-packages (from black->ipython>=7.16.1->drawdata) (2.0.0)\n",
      "Requirement already satisfied: platformdirs>=2 in /mnt/c/Users/betof/OneDrive - Instituto Tecnologico y de Estudios Superiores de Monterrey/Repositorios/prope_programacion/venv/lib/python3.8/site-packages (from black->ipython>=7.16.1->drawdata) (2.4.1)\n",
      "Requirement already satisfied: pathspec>=0.9.0 in /mnt/c/Users/betof/OneDrive - Instituto Tecnologico y de Estudios Superiores de Monterrey/Repositorios/prope_programacion/venv/lib/python3.8/site-packages (from black->ipython>=7.16.1->drawdata) (0.9.0)\n",
      "Requirement already satisfied: click>=8.0.0 in /mnt/c/Users/betof/OneDrive - Instituto Tecnologico y de Estudios Superiores de Monterrey/Repositorios/prope_programacion/venv/lib/python3.8/site-packages (from black->ipython>=7.16.1->drawdata) (8.0.3)\n",
      "Requirement already satisfied: parso<0.9.0,>=0.8.0 in /mnt/c/Users/betof/OneDrive - Instituto Tecnologico y de Estudios Superiores de Monterrey/Repositorios/prope_programacion/venv/lib/python3.8/site-packages (from jedi>=0.16->ipython>=7.16.1->drawdata) (0.8.3)\n",
      "Requirement already satisfied: ptyprocess>=0.5 in /mnt/c/Users/betof/OneDrive - Instituto Tecnologico y de Estudios Superiores de Monterrey/Repositorios/prope_programacion/venv/lib/python3.8/site-packages (from pexpect>4.3; sys_platform != \"win32\"->ipython>=7.16.1->drawdata) (0.7.0)\n",
      "Requirement already satisfied: mistune<2,>=0.8.1 in /mnt/c/Users/betof/OneDrive - Instituto Tecnologico y de Estudios Superiores de Monterrey/Repositorios/prope_programacion/venv/lib/python3.8/site-packages (from nbconvert->jupyter>=1.0.0->drawdata) (0.8.4)\n",
      "Requirement already satisfied: nbclient<0.6.0,>=0.5.0 in /mnt/c/Users/betof/OneDrive - Instituto Tecnologico y de Estudios Superiores de Monterrey/Repositorios/prope_programacion/venv/lib/python3.8/site-packages (from nbconvert->jupyter>=1.0.0->drawdata) (0.5.10)\n",
      "Requirement already satisfied: jupyter-core in /mnt/c/Users/betof/OneDrive - Instituto Tecnologico y de Estudios Superiores de Monterrey/Repositorios/prope_programacion/venv/lib/python3.8/site-packages (from nbconvert->jupyter>=1.0.0->drawdata) (4.9.1)\n",
      "Requirement already satisfied: bleach in /mnt/c/Users/betof/OneDrive - Instituto Tecnologico y de Estudios Superiores de Monterrey/Repositorios/prope_programacion/venv/lib/python3.8/site-packages (from nbconvert->jupyter>=1.0.0->drawdata) (4.1.0)\n",
      "Requirement already satisfied: nbformat>=4.4 in /mnt/c/Users/betof/OneDrive - Instituto Tecnologico y de Estudios Superiores de Monterrey/Repositorios/prope_programacion/venv/lib/python3.8/site-packages (from nbconvert->jupyter>=1.0.0->drawdata) (5.1.3)\n",
      "Requirement already satisfied: entrypoints>=0.2.2 in /mnt/c/Users/betof/OneDrive - Instituto Tecnologico y de Estudios Superiores de Monterrey/Repositorios/prope_programacion/venv/lib/python3.8/site-packages (from nbconvert->jupyter>=1.0.0->drawdata) (0.4)\n",
      "Requirement already satisfied: jupyterlab-pygments in /mnt/c/Users/betof/OneDrive - Instituto Tecnologico y de Estudios Superiores de Monterrey/Repositorios/prope_programacion/venv/lib/python3.8/site-packages (from nbconvert->jupyter>=1.0.0->drawdata) (0.1.2)\n",
      "Requirement already satisfied: pandocfilters>=1.4.1 in /mnt/c/Users/betof/OneDrive - Instituto Tecnologico y de Estudios Superiores de Monterrey/Repositorios/prope_programacion/venv/lib/python3.8/site-packages (from nbconvert->jupyter>=1.0.0->drawdata) (1.5.0)\n",
      "Requirement already satisfied: defusedxml in /mnt/c/Users/betof/OneDrive - Instituto Tecnologico y de Estudios Superiores de Monterrey/Repositorios/prope_programacion/venv/lib/python3.8/site-packages (from nbconvert->jupyter>=1.0.0->drawdata) (0.7.1)\n",
      "Requirement already satisfied: testpath in /mnt/c/Users/betof/OneDrive - Instituto Tecnologico y de Estudios Superiores de Monterrey/Repositorios/prope_programacion/venv/lib/python3.8/site-packages (from nbconvert->jupyter>=1.0.0->drawdata) (0.5.0)\n",
      "Requirement already satisfied: jinja2>=2.4 in /mnt/c/Users/betof/OneDrive - Instituto Tecnologico y de Estudios Superiores de Monterrey/Repositorios/prope_programacion/venv/lib/python3.8/site-packages (from nbconvert->jupyter>=1.0.0->drawdata) (3.0.3)\n",
      "Requirement already satisfied: jupyter-client in /mnt/c/Users/betof/OneDrive - Instituto Tecnologico y de Estudios Superiores de Monterrey/Repositorios/prope_programacion/venv/lib/python3.8/site-packages (from jupyter-console->jupyter>=1.0.0->drawdata) (7.1.2)\n",
      "Requirement already satisfied: ipython-genutils~=0.2.0 in /mnt/c/Users/betof/OneDrive - Instituto Tecnologico y de Estudios Superiores de Monterrey/Repositorios/prope_programacion/venv/lib/python3.8/site-packages (from ipywidgets->jupyter>=1.0.0->drawdata) (0.2.0)\n",
      "Requirement already satisfied: jupyterlab-widgets>=1.0.0; python_version >= \"3.6\" in /mnt/c/Users/betof/OneDrive - Instituto Tecnologico y de Estudios Superiores de Monterrey/Repositorios/prope_programacion/venv/lib/python3.8/site-packages (from ipywidgets->jupyter>=1.0.0->drawdata) (1.0.2)\n",
      "Requirement already satisfied: widgetsnbextension~=3.5.0 in /mnt/c/Users/betof/OneDrive - Instituto Tecnologico y de Estudios Superiores de Monterrey/Repositorios/prope_programacion/venv/lib/python3.8/site-packages (from ipywidgets->jupyter>=1.0.0->drawdata) (3.5.2)\n",
      "Requirement already satisfied: qtpy in /mnt/c/Users/betof/OneDrive - Instituto Tecnologico y de Estudios Superiores de Monterrey/Repositorios/prope_programacion/venv/lib/python3.8/site-packages (from qtconsole->jupyter>=1.0.0->drawdata) (2.0.1)\n",
      "Requirement already satisfied: pyzmq>=17.1 in /mnt/c/Users/betof/OneDrive - Instituto Tecnologico y de Estudios Superiores de Monterrey/Repositorios/prope_programacion/venv/lib/python3.8/site-packages (from qtconsole->jupyter>=1.0.0->drawdata) (22.3.0)\n",
      "Requirement already satisfied: nest-asyncio>=1.5 in /mnt/c/Users/betof/OneDrive - Instituto Tecnologico y de Estudios Superiores de Monterrey/Repositorios/prope_programacion/venv/lib/python3.8/site-packages (from notebook->jupyter>=1.0.0->drawdata) (1.5.4)\n",
      "Requirement already satisfied: Send2Trash>=1.8.0 in /mnt/c/Users/betof/OneDrive - Instituto Tecnologico y de Estudios Superiores de Monterrey/Repositorios/prope_programacion/venv/lib/python3.8/site-packages (from notebook->jupyter>=1.0.0->drawdata) (1.8.0)\n",
      "Requirement already satisfied: argon2-cffi in /mnt/c/Users/betof/OneDrive - Instituto Tecnologico y de Estudios Superiores de Monterrey/Repositorios/prope_programacion/venv/lib/python3.8/site-packages (from notebook->jupyter>=1.0.0->drawdata) (21.3.0)\n",
      "Requirement already satisfied: terminado>=0.8.3 in /mnt/c/Users/betof/OneDrive - Instituto Tecnologico y de Estudios Superiores de Monterrey/Repositorios/prope_programacion/venv/lib/python3.8/site-packages (from notebook->jupyter>=1.0.0->drawdata) (0.13.1)\n",
      "Requirement already satisfied: prometheus-client in /mnt/c/Users/betof/OneDrive - Instituto Tecnologico y de Estudios Superiores de Monterrey/Repositorios/prope_programacion/venv/lib/python3.8/site-packages (from notebook->jupyter>=1.0.0->drawdata) (0.13.1)\n",
      "Requirement already satisfied: tornado>=6.1 in /mnt/c/Users/betof/OneDrive - Instituto Tecnologico y de Estudios Superiores de Monterrey/Repositorios/prope_programacion/venv/lib/python3.8/site-packages (from notebook->jupyter>=1.0.0->drawdata) (6.1)\n",
      "Requirement already satisfied: debugpy<2.0,>=1.0.0 in /mnt/c/Users/betof/OneDrive - Instituto Tecnologico y de Estudios Superiores de Monterrey/Repositorios/prope_programacion/venv/lib/python3.8/site-packages (from ipykernel->jupyter>=1.0.0->drawdata) (1.5.1)\n",
      "Requirement already satisfied: six in /mnt/c/Users/betof/OneDrive - Instituto Tecnologico y de Estudios Superiores de Monterrey/Repositorios/prope_programacion/venv/lib/python3.8/site-packages (from asttokens->stack-data->ipython>=7.16.1->drawdata) (1.16.0)\n",
      "Requirement already satisfied: webencodings in /mnt/c/Users/betof/OneDrive - Instituto Tecnologico y de Estudios Superiores de Monterrey/Repositorios/prope_programacion/venv/lib/python3.8/site-packages (from bleach->nbconvert->jupyter>=1.0.0->drawdata) (0.5.1)\n",
      "Requirement already satisfied: packaging in /mnt/c/Users/betof/OneDrive - Instituto Tecnologico y de Estudios Superiores de Monterrey/Repositorios/prope_programacion/venv/lib/python3.8/site-packages (from bleach->nbconvert->jupyter>=1.0.0->drawdata) (21.3)\n",
      "Requirement already satisfied: jsonschema!=2.5.0,>=2.4 in /mnt/c/Users/betof/OneDrive - Instituto Tecnologico y de Estudios Superiores de Monterrey/Repositorios/prope_programacion/venv/lib/python3.8/site-packages (from nbformat>=4.4->nbconvert->jupyter>=1.0.0->drawdata) (4.4.0)\n",
      "Requirement already satisfied: MarkupSafe>=2.0 in /mnt/c/Users/betof/OneDrive - Instituto Tecnologico y de Estudios Superiores de Monterrey/Repositorios/prope_programacion/venv/lib/python3.8/site-packages (from jinja2>=2.4->nbconvert->jupyter>=1.0.0->drawdata) (2.0.1)\n",
      "Requirement already satisfied: python-dateutil>=2.1 in /mnt/c/Users/betof/OneDrive - Instituto Tecnologico y de Estudios Superiores de Monterrey/Repositorios/prope_programacion/venv/lib/python3.8/site-packages (from jupyter-client->jupyter-console->jupyter>=1.0.0->drawdata) (2.8.2)\n",
      "Requirement already satisfied: argon2-cffi-bindings in /mnt/c/Users/betof/OneDrive - Instituto Tecnologico y de Estudios Superiores de Monterrey/Repositorios/prope_programacion/venv/lib/python3.8/site-packages (from argon2-cffi->notebook->jupyter>=1.0.0->drawdata) (21.2.0)\n",
      "Requirement already satisfied: pyparsing!=3.0.5,>=2.0.2 in /mnt/c/Users/betof/OneDrive - Instituto Tecnologico y de Estudios Superiores de Monterrey/Repositorios/prope_programacion/venv/lib/python3.8/site-packages (from packaging->bleach->nbconvert->jupyter>=1.0.0->drawdata) (3.0.7)\n",
      "Requirement already satisfied: pyrsistent!=0.17.0,!=0.17.1,!=0.17.2,>=0.14.0 in /mnt/c/Users/betof/OneDrive - Instituto Tecnologico y de Estudios Superiores de Monterrey/Repositorios/prope_programacion/venv/lib/python3.8/site-packages (from jsonschema!=2.5.0,>=2.4->nbformat>=4.4->nbconvert->jupyter>=1.0.0->drawdata) (0.18.1)\n",
      "Requirement already satisfied: attrs>=17.4.0 in /mnt/c/Users/betof/OneDrive - Instituto Tecnologico y de Estudios Superiores de Monterrey/Repositorios/prope_programacion/venv/lib/python3.8/site-packages (from jsonschema!=2.5.0,>=2.4->nbformat>=4.4->nbconvert->jupyter>=1.0.0->drawdata) (21.4.0)\n",
      "Requirement already satisfied: importlib-resources>=1.4.0; python_version < \"3.9\" in /mnt/c/Users/betof/OneDrive - Instituto Tecnologico y de Estudios Superiores de Monterrey/Repositorios/prope_programacion/venv/lib/python3.8/site-packages (from jsonschema!=2.5.0,>=2.4->nbformat>=4.4->nbconvert->jupyter>=1.0.0->drawdata) (5.4.0)\n",
      "Requirement already satisfied: cffi>=1.0.1 in /mnt/c/Users/betof/OneDrive - Instituto Tecnologico y de Estudios Superiores de Monterrey/Repositorios/prope_programacion/venv/lib/python3.8/site-packages (from argon2-cffi-bindings->argon2-cffi->notebook->jupyter>=1.0.0->drawdata) (1.15.0)\n",
      "Requirement already satisfied: zipp>=3.1.0; python_version < \"3.10\" in /mnt/c/Users/betof/OneDrive - Instituto Tecnologico y de Estudios Superiores de Monterrey/Repositorios/prope_programacion/venv/lib/python3.8/site-packages (from importlib-resources>=1.4.0; python_version < \"3.9\"->jsonschema!=2.5.0,>=2.4->nbformat>=4.4->nbconvert->jupyter>=1.0.0->drawdata) (3.7.0)\n",
      "Requirement already satisfied: pycparser in /mnt/c/Users/betof/OneDrive - Instituto Tecnologico y de Estudios Superiores de Monterrey/Repositorios/prope_programacion/venv/lib/python3.8/site-packages (from cffi>=1.0.1->argon2-cffi-bindings->argon2-cffi->notebook->jupyter>=1.0.0->drawdata) (2.21)\n",
      "Requirement already satisfied: pingouin in /mnt/c/Users/betof/OneDrive - Instituto Tecnologico y de Estudios Superiores de Monterrey/Repositorios/prope_programacion/venv/lib/python3.8/site-packages (0.5.1)\n",
      "Requirement already satisfied: matplotlib>=3.0.2 in /mnt/c/Users/betof/OneDrive - Instituto Tecnologico y de Estudios Superiores de Monterrey/Repositorios/prope_programacion/venv/lib/python3.8/site-packages (from pingouin) (3.5.1)\n",
      "Requirement already satisfied: numpy>=1.19 in /mnt/c/Users/betof/OneDrive - Instituto Tecnologico y de Estudios Superiores de Monterrey/Repositorios/prope_programacion/venv/lib/python3.8/site-packages (from pingouin) (1.22.2)\n",
      "Requirement already satisfied: outdated in /mnt/c/Users/betof/OneDrive - Instituto Tecnologico y de Estudios Superiores de Monterrey/Repositorios/prope_programacion/venv/lib/python3.8/site-packages (from pingouin) (0.2.1)\n",
      "Requirement already satisfied: pandas>=1.0 in /mnt/c/Users/betof/OneDrive - Instituto Tecnologico y de Estudios Superiores de Monterrey/Repositorios/prope_programacion/venv/lib/python3.8/site-packages (from pingouin) (1.4.0)\n",
      "Requirement already satisfied: pandas_flavor>=0.2.0 in /mnt/c/Users/betof/OneDrive - Instituto Tecnologico y de Estudios Superiores de Monterrey/Repositorios/prope_programacion/venv/lib/python3.8/site-packages (from pingouin) (0.2.0)\n",
      "Requirement already satisfied: scikit-learn in /mnt/c/Users/betof/OneDrive - Instituto Tecnologico y de Estudios Superiores de Monterrey/Repositorios/prope_programacion/venv/lib/python3.8/site-packages (from pingouin) (1.0.2)\n",
      "Requirement already satisfied: scipy>=1.7 in /mnt/c/Users/betof/OneDrive - Instituto Tecnologico y de Estudios Superiores de Monterrey/Repositorios/prope_programacion/venv/lib/python3.8/site-packages (from pingouin) (1.8.0)\n",
      "Requirement already satisfied: seaborn>=0.11 in /mnt/c/Users/betof/OneDrive - Instituto Tecnologico y de Estudios Superiores de Monterrey/Repositorios/prope_programacion/venv/lib/python3.8/site-packages (from pingouin) (0.11.2)\n",
      "Requirement already satisfied: statsmodels>=0.13 in /mnt/c/Users/betof/OneDrive - Instituto Tecnologico y de Estudios Superiores de Monterrey/Repositorios/prope_programacion/venv/lib/python3.8/site-packages (from pingouin) (0.13.2)\n",
      "Requirement already satisfied: tabulate in /mnt/c/Users/betof/OneDrive - Instituto Tecnologico y de Estudios Superiores de Monterrey/Repositorios/prope_programacion/venv/lib/python3.8/site-packages (from pingouin) (0.8.9)\n",
      "Requirement already satisfied: kiwisolver>=1.0.1 in /mnt/c/Users/betof/OneDrive - Instituto Tecnologico y de Estudios Superiores de Monterrey/Repositorios/prope_programacion/venv/lib/python3.8/site-packages (from matplotlib>=3.0.2->pingouin) (1.3.2)\n",
      "Requirement already satisfied: pillow>=6.2.0 in /mnt/c/Users/betof/OneDrive - Instituto Tecnologico y de Estudios Superiores de Monterrey/Repositorios/prope_programacion/venv/lib/python3.8/site-packages (from matplotlib>=3.0.2->pingouin) (9.0.1)\n",
      "Requirement already satisfied: fonttools>=4.22.0 in /mnt/c/Users/betof/OneDrive - Instituto Tecnologico y de Estudios Superiores de Monterrey/Repositorios/prope_programacion/venv/lib/python3.8/site-packages (from matplotlib>=3.0.2->pingouin) (4.29.1)\n",
      "Requirement already satisfied: packaging>=20.0 in /mnt/c/Users/betof/OneDrive - Instituto Tecnologico y de Estudios Superiores de Monterrey/Repositorios/prope_programacion/venv/lib/python3.8/site-packages (from matplotlib>=3.0.2->pingouin) (21.3)\n",
      "Requirement already satisfied: cycler>=0.10 in /mnt/c/Users/betof/OneDrive - Instituto Tecnologico y de Estudios Superiores de Monterrey/Repositorios/prope_programacion/venv/lib/python3.8/site-packages (from matplotlib>=3.0.2->pingouin) (0.11.0)\n",
      "Requirement already satisfied: pyparsing>=2.2.1 in /mnt/c/Users/betof/OneDrive - Instituto Tecnologico y de Estudios Superiores de Monterrey/Repositorios/prope_programacion/venv/lib/python3.8/site-packages (from matplotlib>=3.0.2->pingouin) (3.0.7)\n",
      "Requirement already satisfied: python-dateutil>=2.7 in /mnt/c/Users/betof/OneDrive - Instituto Tecnologico y de Estudios Superiores de Monterrey/Repositorios/prope_programacion/venv/lib/python3.8/site-packages (from matplotlib>=3.0.2->pingouin) (2.8.2)\n",
      "Requirement already satisfied: littleutils in /mnt/c/Users/betof/OneDrive - Instituto Tecnologico y de Estudios Superiores de Monterrey/Repositorios/prope_programacion/venv/lib/python3.8/site-packages (from outdated->pingouin) (0.2.2)\n",
      "Requirement already satisfied: requests in /mnt/c/Users/betof/OneDrive - Instituto Tecnologico y de Estudios Superiores de Monterrey/Repositorios/prope_programacion/venv/lib/python3.8/site-packages (from outdated->pingouin) (2.27.1)\n",
      "Requirement already satisfied: pytz>=2020.1 in /mnt/c/Users/betof/OneDrive - Instituto Tecnologico y de Estudios Superiores de Monterrey/Repositorios/prope_programacion/venv/lib/python3.8/site-packages (from pandas>=1.0->pingouin) (2021.3)\n",
      "Requirement already satisfied: xarray in /mnt/c/Users/betof/OneDrive - Instituto Tecnologico y de Estudios Superiores de Monterrey/Repositorios/prope_programacion/venv/lib/python3.8/site-packages (from pandas_flavor>=0.2.0->pingouin) (2022.3.0)\n",
      "Requirement already satisfied: threadpoolctl>=2.0.0 in /mnt/c/Users/betof/OneDrive - Instituto Tecnologico y de Estudios Superiores de Monterrey/Repositorios/prope_programacion/venv/lib/python3.8/site-packages (from scikit-learn->pingouin) (3.1.0)\n",
      "Requirement already satisfied: joblib>=0.11 in /mnt/c/Users/betof/OneDrive - Instituto Tecnologico y de Estudios Superiores de Monterrey/Repositorios/prope_programacion/venv/lib/python3.8/site-packages (from scikit-learn->pingouin) (1.1.0)\n",
      "Requirement already satisfied: patsy>=0.5.2 in /mnt/c/Users/betof/OneDrive - Instituto Tecnologico y de Estudios Superiores de Monterrey/Repositorios/prope_programacion/venv/lib/python3.8/site-packages (from statsmodels>=0.13->pingouin) (0.5.2)\n",
      "Requirement already satisfied: six>=1.5 in /mnt/c/Users/betof/OneDrive - Instituto Tecnologico y de Estudios Superiores de Monterrey/Repositorios/prope_programacion/venv/lib/python3.8/site-packages (from python-dateutil>=2.7->matplotlib>=3.0.2->pingouin) (1.16.0)\n",
      "Requirement already satisfied: certifi>=2017.4.17 in /mnt/c/Users/betof/OneDrive - Instituto Tecnologico y de Estudios Superiores de Monterrey/Repositorios/prope_programacion/venv/lib/python3.8/site-packages (from requests->outdated->pingouin) (2021.10.8)\n",
      "Requirement already satisfied: idna<4,>=2.5; python_version >= \"3\" in /mnt/c/Users/betof/OneDrive - Instituto Tecnologico y de Estudios Superiores de Monterrey/Repositorios/prope_programacion/venv/lib/python3.8/site-packages (from requests->outdated->pingouin) (3.3)\n",
      "Requirement already satisfied: charset-normalizer~=2.0.0; python_version >= \"3\" in /mnt/c/Users/betof/OneDrive - Instituto Tecnologico y de Estudios Superiores de Monterrey/Repositorios/prope_programacion/venv/lib/python3.8/site-packages (from requests->outdated->pingouin) (2.0.11)\n",
      "Requirement already satisfied: urllib3<1.27,>=1.21.1 in /mnt/c/Users/betof/OneDrive - Instituto Tecnologico y de Estudios Superiores de Monterrey/Repositorios/prope_programacion/venv/lib/python3.8/site-packages (from requests->outdated->pingouin) (1.26.8)\n"
     ]
    }
   ],
   "source": [
    "!python -m pip install drawdata\n",
    "!python -m pip install pingouin"
   ]
  },
  {
   "cell_type": "code",
   "execution_count": 34,
   "id": "85f76dbf-fa1f-43ab-aa21-ea6286e27434",
   "metadata": {},
   "outputs": [
    {
     "data": {
      "text/html": [
       "\n",
       "        <iframe\n",
       "            width=\"800\"\n",
       "            height=\"550\"\n",
       "            src=\"https://drawdata.xyz/scatter.html\"\n",
       "            frameborder=\"0\"\n",
       "            allowfullscreen\n",
       "            \n",
       "        ></iframe>\n",
       "        "
      ],
      "text/plain": [
       "<IPython.lib.display.IFrame at 0x7fca123dc040>"
      ]
     },
     "execution_count": 34,
     "metadata": {},
     "output_type": "execute_result"
    }
   ],
   "source": [
    "from drawdata import draw_scatter\n",
    "\n",
    "draw_scatter()"
   ]
  },
  {
   "cell_type": "code",
   "execution_count": 35,
   "id": "f1c7f2b6-d612-46c7-854d-4ec05f87298a",
   "metadata": {},
   "outputs": [],
   "source": [
    "from sklearn.linear_model import LinearRegression\n",
    "import matplotlib as mpl\n",
    "import matplotlib.pyplot as plt\n",
    "import statsmodels.api as sm\n",
    "from scipy import stats\n",
    "import pingouin as pg\n",
    "\n",
    "mpl.style.use('bmh')  "
   ]
  },
  {
   "cell_type": "code",
   "execution_count": 36,
   "id": "6ba8503b-c2ac-438e-a4fb-b0865c5672bc",
   "metadata": {},
   "outputs": [
    {
     "data": {
      "text/html": [
       "<div>\n",
       "<style scoped>\n",
       "    .dataframe tbody tr th:only-of-type {\n",
       "        vertical-align: middle;\n",
       "    }\n",
       "\n",
       "    .dataframe tbody tr th {\n",
       "        vertical-align: top;\n",
       "    }\n",
       "\n",
       "    .dataframe thead th {\n",
       "        text-align: right;\n",
       "    }\n",
       "</style>\n",
       "<table border=\"1\" class=\"dataframe\">\n",
       "  <thead>\n",
       "    <tr style=\"text-align: right;\">\n",
       "      <th></th>\n",
       "      <th>x</th>\n",
       "      <th>y</th>\n",
       "      <th>z</th>\n",
       "    </tr>\n",
       "  </thead>\n",
       "  <tbody>\n",
       "    <tr>\n",
       "      <th>0</th>\n",
       "      <td>37.848609</td>\n",
       "      <td>84.419856</td>\n",
       "      <td>a</td>\n",
       "    </tr>\n",
       "    <tr>\n",
       "      <th>1</th>\n",
       "      <td>65.386019</td>\n",
       "      <td>47.059546</td>\n",
       "      <td>a</td>\n",
       "    </tr>\n",
       "    <tr>\n",
       "      <th>2</th>\n",
       "      <td>80.554402</td>\n",
       "      <td>72.065892</td>\n",
       "      <td>a</td>\n",
       "    </tr>\n",
       "    <tr>\n",
       "      <th>3</th>\n",
       "      <td>126.600849</td>\n",
       "      <td>89.857784</td>\n",
       "      <td>a</td>\n",
       "    </tr>\n",
       "    <tr>\n",
       "      <th>4</th>\n",
       "      <td>51.444935</td>\n",
       "      <td>89.808401</td>\n",
       "      <td>a</td>\n",
       "    </tr>\n",
       "  </tbody>\n",
       "</table>\n",
       "</div>"
      ],
      "text/plain": [
       "            x          y  z\n",
       "0   37.848609  84.419856  a\n",
       "1   65.386019  47.059546  a\n",
       "2   80.554402  72.065892  a\n",
       "3  126.600849  89.857784  a\n",
       "4   51.444935  89.808401  a"
      ]
     },
     "execution_count": 36,
     "metadata": {},
     "output_type": "execute_result"
    }
   ],
   "source": [
    "import pandas as pd\n",
    "pd.set_option('display.max_rows', 10) \n",
    "import numpy as np\n",
    "df = pd.read_csv(\"draw_data.csv\")\n",
    "df.head()"
   ]
  },
  {
   "cell_type": "code",
   "execution_count": 37,
   "id": "cbbab272-f742-4446-9268-282631f0c605",
   "metadata": {},
   "outputs": [
    {
     "data": {
      "text/html": [
       "<div>\n",
       "<style scoped>\n",
       "    .dataframe tbody tr th:only-of-type {\n",
       "        vertical-align: middle;\n",
       "    }\n",
       "\n",
       "    .dataframe tbody tr th {\n",
       "        vertical-align: top;\n",
       "    }\n",
       "\n",
       "    .dataframe thead th {\n",
       "        text-align: right;\n",
       "    }\n",
       "</style>\n",
       "<table border=\"1\" class=\"dataframe\">\n",
       "  <thead>\n",
       "    <tr style=\"text-align: right;\">\n",
       "      <th></th>\n",
       "      <th>x</th>\n",
       "      <th>y</th>\n",
       "      <th>z</th>\n",
       "    </tr>\n",
       "  </thead>\n",
       "  <tbody>\n",
       "    <tr>\n",
       "      <th>0</th>\n",
       "      <td>37.848609</td>\n",
       "      <td>84.419856</td>\n",
       "      <td>a</td>\n",
       "    </tr>\n",
       "    <tr>\n",
       "      <th>1</th>\n",
       "      <td>65.386019</td>\n",
       "      <td>47.059546</td>\n",
       "      <td>a</td>\n",
       "    </tr>\n",
       "    <tr>\n",
       "      <th>2</th>\n",
       "      <td>80.554402</td>\n",
       "      <td>72.065892</td>\n",
       "      <td>a</td>\n",
       "    </tr>\n",
       "    <tr>\n",
       "      <th>3</th>\n",
       "      <td>126.600849</td>\n",
       "      <td>89.857784</td>\n",
       "      <td>a</td>\n",
       "    </tr>\n",
       "    <tr>\n",
       "      <th>4</th>\n",
       "      <td>51.444935</td>\n",
       "      <td>89.808401</td>\n",
       "      <td>a</td>\n",
       "    </tr>\n",
       "    <tr>\n",
       "      <th>...</th>\n",
       "      <td>...</td>\n",
       "      <td>...</td>\n",
       "      <td>...</td>\n",
       "    </tr>\n",
       "    <tr>\n",
       "      <th>195</th>\n",
       "      <td>633.640965</td>\n",
       "      <td>108.241593</td>\n",
       "      <td>a</td>\n",
       "    </tr>\n",
       "    <tr>\n",
       "      <th>196</th>\n",
       "      <td>587.139855</td>\n",
       "      <td>125.353995</td>\n",
       "      <td>a</td>\n",
       "    </tr>\n",
       "    <tr>\n",
       "      <th>197</th>\n",
       "      <td>630.018146</td>\n",
       "      <td>121.667296</td>\n",
       "      <td>a</td>\n",
       "    </tr>\n",
       "    <tr>\n",
       "      <th>198</th>\n",
       "      <td>615.753473</td>\n",
       "      <td>35.223870</td>\n",
       "      <td>a</td>\n",
       "    </tr>\n",
       "    <tr>\n",
       "      <th>199</th>\n",
       "      <td>625.911985</td>\n",
       "      <td>34.080565</td>\n",
       "      <td>a</td>\n",
       "    </tr>\n",
       "  </tbody>\n",
       "</table>\n",
       "<p>200 rows × 3 columns</p>\n",
       "</div>"
      ],
      "text/plain": [
       "              x           y  z\n",
       "0     37.848609   84.419856  a\n",
       "1     65.386019   47.059546  a\n",
       "2     80.554402   72.065892  a\n",
       "3    126.600849   89.857784  a\n",
       "4     51.444935   89.808401  a\n",
       "..          ...         ... ..\n",
       "195  633.640965  108.241593  a\n",
       "196  587.139855  125.353995  a\n",
       "197  630.018146  121.667296  a\n",
       "198  615.753473   35.223870  a\n",
       "199  625.911985   34.080565  a\n",
       "\n",
       "[200 rows x 3 columns]"
      ]
     },
     "execution_count": 37,
     "metadata": {},
     "output_type": "execute_result"
    }
   ],
   "source": [
    "tipo = 'a'\n",
    "datos = df[(df.z==tipo)]\n",
    "datos"
   ]
  },
  {
   "cell_type": "code",
   "execution_count": 38,
   "id": "5723f246-553b-41a1-9a74-f7b8f5b7581d",
   "metadata": {},
   "outputs": [
    {
     "data": {
      "text/plain": [
       "0       37.848609\n",
       "1       65.386019\n",
       "2       80.554402\n",
       "3      126.600849\n",
       "4       51.444935\n",
       "          ...    \n",
       "195    633.640965\n",
       "196    587.139855\n",
       "197    630.018146\n",
       "198    615.753473\n",
       "199    625.911985\n",
       "Name: x, Length: 200, dtype: float64"
      ]
     },
     "execution_count": 38,
     "metadata": {},
     "output_type": "execute_result"
    }
   ],
   "source": [
    "datos.x"
   ]
  },
  {
   "cell_type": "code",
   "execution_count": 39,
   "id": "341a1cd5-cc9d-444a-8561-746b188cd963",
   "metadata": {},
   "outputs": [
    {
     "data": {
      "text/plain": [
       "array([[ 37.848609  ],\n",
       "       [ 65.38601888],\n",
       "       [ 80.55440165],\n",
       "       [126.60084867],\n",
       "       [ 51.44493451],\n",
       "       [ 53.00253495],\n",
       "       [ 80.80652437],\n",
       "       [ 65.50343418],\n",
       "       [109.75114567],\n",
       "       [110.91330887],\n",
       "       [133.15841639],\n",
       "       [178.5259807 ],\n",
       "       [180.80988091],\n",
       "       [159.88707298],\n",
       "       [177.32659721],\n",
       "       [209.59369257],\n",
       "       [145.84513716],\n",
       "       [171.72241608],\n",
       "       [162.38035412],\n",
       "       [231.38163545],\n",
       "       [231.26441664],\n",
       "       [243.59119766],\n",
       "       [253.41446121],\n",
       "       [247.39248705],\n",
       "       [303.63922234],\n",
       "       [302.18988391],\n",
       "       [352.72515759],\n",
       "       [303.77372163],\n",
       "       [383.06984135],\n",
       "       [420.94872454],\n",
       "       [389.49509201],\n",
       "       [415.58796739],\n",
       "       [432.77291064],\n",
       "       [455.96104305],\n",
       "       [494.68673706],\n",
       "       [541.8090483 ],\n",
       "       [515.52558757],\n",
       "       [558.45554517],\n",
       "       [538.37240156],\n",
       "       [539.61217731],\n",
       "       [556.7211561 ],\n",
       "       [560.35085115],\n",
       "       [550.04557181],\n",
       "       [568.98685053],\n",
       "       [564.81321955],\n",
       "       [580.30557402],\n",
       "       [603.86073713],\n",
       "       [590.25769763],\n",
       "       [609.57027803],\n",
       "       [560.60787725],\n",
       "       [578.6830696 ],\n",
       "       [565.03520601],\n",
       "       [595.97493665],\n",
       "       [599.55173328],\n",
       "       [599.76286961],\n",
       "       [678.48817507],\n",
       "       [601.66276026],\n",
       "       [617.89464367],\n",
       "       [596.74701335],\n",
       "       [578.56779737],\n",
       "       [636.41100813],\n",
       "       [586.61561209],\n",
       "       [559.45279363],\n",
       "       [571.3570802 ],\n",
       "       [571.12829099],\n",
       "       [583.93602943],\n",
       "       [593.22623345],\n",
       "       [549.68246457],\n",
       "       [562.07343834],\n",
       "       [552.34989249],\n",
       "       [523.29733576],\n",
       "       [568.36964901],\n",
       "       [521.68865492],\n",
       "       [551.04137226],\n",
       "       [547.34601481],\n",
       "       [527.28915882],\n",
       "       [492.11347533],\n",
       "       [531.18205282],\n",
       "       [528.49148027],\n",
       "       [491.99306329],\n",
       "       [467.31615201],\n",
       "       [487.40478446],\n",
       "       [467.52696243],\n",
       "       [503.92164317],\n",
       "       [478.53509455],\n",
       "       [468.1271774 ],\n",
       "       [492.14419289],\n",
       "       [447.04434928],\n",
       "       [466.45979019],\n",
       "       [444.1030787 ],\n",
       "       [415.17684884],\n",
       "       [440.26094721],\n",
       "       [413.49369375],\n",
       "       [399.21637664],\n",
       "       [364.5776452 ],\n",
       "       [356.34051911],\n",
       "       [360.05419649],\n",
       "       [337.41791219],\n",
       "       [368.02955082],\n",
       "       [340.06529257],\n",
       "       [347.16494447],\n",
       "       [260.09916874],\n",
       "       [354.7780394 ],\n",
       "       [305.92406889],\n",
       "       [299.20568752],\n",
       "       [291.79409484],\n",
       "       [299.69946793],\n",
       "       [268.98839317],\n",
       "       [241.78552289],\n",
       "       [292.87016796],\n",
       "       [288.42255135],\n",
       "       [265.75917551],\n",
       "       [232.60482838],\n",
       "       [267.6792908 ],\n",
       "       [197.05188585],\n",
       "       [274.68003785],\n",
       "       [220.33835446],\n",
       "       [214.10225862],\n",
       "       [195.5420289 ],\n",
       "       [200.99794   ],\n",
       "       [153.93586398],\n",
       "       [172.51734259],\n",
       "       [205.29155821],\n",
       "       [135.24432612],\n",
       "       [183.60712191],\n",
       "       [ 97.08465563],\n",
       "       [109.86837983],\n",
       "       [139.30120828],\n",
       "       [141.11172212],\n",
       "       [117.98548288],\n",
       "       [114.73038434],\n",
       "       [131.09200957],\n",
       "       [106.9892224 ],\n",
       "       [145.11281417],\n",
       "       [ 94.34792671],\n",
       "       [128.83858021],\n",
       "       [ 61.51332154],\n",
       "       [111.80604552],\n",
       "       [131.38826202],\n",
       "       [ 99.98398887],\n",
       "       [164.35786653],\n",
       "       [ 85.95202396],\n",
       "       [127.74086441],\n",
       "       [123.99928277],\n",
       "       [110.04179817],\n",
       "       [128.08520231],\n",
       "       [197.82338027],\n",
       "       [154.91129324],\n",
       "       [148.08015196],\n",
       "       [187.36356773],\n",
       "       [213.44453047],\n",
       "       [185.38663268],\n",
       "       [243.50327642],\n",
       "       [236.21489583],\n",
       "       [228.36189994],\n",
       "       [297.8058463 ],\n",
       "       [256.99443806],\n",
       "       [305.42002205],\n",
       "       [291.3449622 ],\n",
       "       [340.75890583],\n",
       "       [313.90964851],\n",
       "       [323.11760271],\n",
       "       [289.28391042],\n",
       "       [358.5663128 ],\n",
       "       [366.16577248],\n",
       "       [381.34478041],\n",
       "       [376.30376059],\n",
       "       [418.12922446],\n",
       "       [370.99643988],\n",
       "       [412.51230154],\n",
       "       [454.02359636],\n",
       "       [469.77438976],\n",
       "       [459.04823336],\n",
       "       [497.33325265],\n",
       "       [510.08143792],\n",
       "       [531.48183073],\n",
       "       [529.79693636],\n",
       "       [499.87258084],\n",
       "       [520.40080859],\n",
       "       [562.18868022],\n",
       "       [522.79080477],\n",
       "       [557.39005723],\n",
       "       [530.63031399],\n",
       "       [544.32909349],\n",
       "       [580.92520733],\n",
       "       [500.07763057],\n",
       "       [579.57800847],\n",
       "       [579.51688912],\n",
       "       [606.2920897 ],\n",
       "       [535.12267066],\n",
       "       [594.11298829],\n",
       "       [626.68259851],\n",
       "       [612.6596746 ],\n",
       "       [596.95157028],\n",
       "       [614.71415908],\n",
       "       [633.6409654 ],\n",
       "       [587.13985461],\n",
       "       [630.01814554],\n",
       "       [615.75347277],\n",
       "       [625.9119847 ]])"
      ]
     },
     "execution_count": 39,
     "metadata": {},
     "output_type": "execute_result"
    }
   ],
   "source": [
    "x = np.array(datos.x).reshape(-1, 1)\n",
    "x"
   ]
  },
  {
   "cell_type": "code",
   "execution_count": 40,
   "id": "adbaab75-1b72-4a70-aa56-ad1f87263689",
   "metadata": {},
   "outputs": [],
   "source": [
    "y = np.array(datos.y).reshape(-1, 1)"
   ]
  },
  {
   "cell_type": "code",
   "execution_count": 41,
   "id": "c26a0e2b-629d-42e1-bf72-6627b3777f0b",
   "metadata": {},
   "outputs": [
    {
     "name": "stdout",
     "output_type": "stream",
     "text": [
      "Error cuadrático Medio: 10834.827391035362\n",
      "R2_score: -220.65553714005893\n"
     ]
    },
    {
     "data": {
      "text/html": [
       "<div>\n",
       "<style scoped>\n",
       "    .dataframe tbody tr th:only-of-type {\n",
       "        vertical-align: middle;\n",
       "    }\n",
       "\n",
       "    .dataframe tbody tr th {\n",
       "        vertical-align: top;\n",
       "    }\n",
       "\n",
       "    .dataframe thead th {\n",
       "        text-align: right;\n",
       "    }\n",
       "</style>\n",
       "<table border=\"1\" class=\"dataframe\">\n",
       "  <thead>\n",
       "    <tr style=\"text-align: right;\">\n",
       "      <th></th>\n",
       "      <th>names</th>\n",
       "      <th>coef</th>\n",
       "      <th>se</th>\n",
       "      <th>T</th>\n",
       "      <th>pval</th>\n",
       "      <th>r2</th>\n",
       "      <th>adj_r2</th>\n",
       "      <th>CI[2.5%]</th>\n",
       "      <th>CI[97.5%]</th>\n",
       "    </tr>\n",
       "  </thead>\n",
       "  <tbody>\n",
       "    <tr>\n",
       "      <th>0</th>\n",
       "      <td>Intercept</td>\n",
       "      <td>236.945306</td>\n",
       "      <td>16.862793</td>\n",
       "      <td>14.051368</td>\n",
       "      <td>1.447116e-31</td>\n",
       "      <td>0.004491</td>\n",
       "      <td>-0.000537</td>\n",
       "      <td>203.691583</td>\n",
       "      <td>270.199028</td>\n",
       "    </tr>\n",
       "    <tr>\n",
       "      <th>1</th>\n",
       "      <td>x</td>\n",
       "      <td>0.038694</td>\n",
       "      <td>0.040940</td>\n",
       "      <td>0.945134</td>\n",
       "      <td>3.457425e-01</td>\n",
       "      <td>0.004491</td>\n",
       "      <td>-0.000537</td>\n",
       "      <td>-0.042041</td>\n",
       "      <td>0.119428</td>\n",
       "    </tr>\n",
       "  </tbody>\n",
       "</table>\n",
       "</div>"
      ],
      "text/plain": [
       "       names        coef         se          T          pval        r2  \\\n",
       "0  Intercept  236.945306  16.862793  14.051368  1.447116e-31  0.004491   \n",
       "1          x    0.038694   0.040940   0.945134  3.457425e-01  0.004491   \n",
       "\n",
       "     adj_r2    CI[2.5%]   CI[97.5%]  \n",
       "0 -0.000537  203.691583  270.199028  \n",
       "1 -0.000537   -0.042041    0.119428  "
      ]
     },
     "execution_count": 41,
     "metadata": {},
     "output_type": "execute_result"
    },
    {
     "data": {
      "image/png": "[encoded data removed]",
      "text/plain": [
       "<Figure size 432x288 with 1 Axes>"
      ]
     },
     "metadata": {},
     "output_type": "display_data"
    }
   ],
   "source": [
    "# 1.- Entrenar un modelo lineal con la librería y_hat=b1*x + bo\n",
    "modelo = LinearRegression()\n",
    "modelo.fit(x,y)\n",
    "# 2.- Predecir los valores d\n",
    "y_pred = modelo.predict(x)\n",
    "# 3.- Grafiquen su modelo con los datos originales\n",
    "plt.figure(figsize=(6,4))\n",
    "plt.scatter(x,y)\n",
    "plt.plot(x,y_pred,'r')\n",
    "plt.xlabel('Variable x')\n",
    "plt.ylabel('Variable y')\n",
    "titulo = \"y = \" + str((modelo.intercept_,2)) + \"+\" + str((modelo.coef_[0],2)) + \"x\"\n",
    "plt.title(titulo)\n",
    "# 4.- mean_squared_error(y_pred,y), r2_score(y_pred,y) \n",
    "print('Error cuadrático Medio: '+str(mean_squared_error(y_pred,y)))\n",
    "print('R2_score: '+str(r2_score(y_pred,y)))\n",
    "modelo.coef_, modelo.intercept_\n",
    "\n",
    "#Test\n",
    "pg.linear_regression(datos.x, datos.y)"
   ]
  }
 ],
 "metadata": {
  "kernelspec": {
   "display_name": "Python 3 (ipykernel)",
   "language": "python",
   "name": "python3"
  },
  "language_info": {
   "codemirror_mode": {
    "name": "ipython",
    "version": 3
   },
   "file_extension": ".py",
   "mimetype": "text/x-python",
   "name": "python",
   "nbconvert_exporter": "python",
   "pygments_lexer": "ipython3",
   "version": "3.8.10"
  }
 },
 "nbformat": 4,
 "nbformat_minor": 5
}
