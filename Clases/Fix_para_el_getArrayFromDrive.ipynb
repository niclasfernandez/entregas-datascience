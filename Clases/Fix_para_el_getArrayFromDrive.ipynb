{
  "nbformat": 4,
  "nbformat_minor": 0,
  "metadata": {
    "colab": {
      "name": "Fix para el getArrayFromDrive",
      "provenance": [],
      "collapsed_sections": []
    },
    "kernelspec": {
      "name": "python3",
      "display_name": "Python 3"
    },
    "language_info": {
      "name": "python"
    }
  },
  "cells": [
    {
      "cell_type": "markdown",
      "source": [
        "## Opción 1: Cambiar la función\n",
        "Una opción es modificar el return de la función para que solo devuelva numeric."
      ],
      "metadata": {
        "id": "OGshyTw-t6mB"
      }
    },
    {
      "cell_type": "code",
      "execution_count": null,
      "metadata": {
        "id": "6FT3YinytpA0"
      },
      "outputs": [],
      "source": [
        "import pandas as pd\n",
        "import numpy as np\n",
        "import ast\n",
        "\n",
        "def getArrayFromDrive():\n",
        "    \"\"\"La siguiente funcion obtiene el archivo en google Spreadsheet, lo transforma en un dataframe \n",
        "    y obtiene la columna a trabajar que es la columna de Salario mensual NETO y devuelve un numpy array luego \n",
        "    de haber borrado los valores nulos de la columna.\n",
        "    \n",
        "    \"\"\"\n",
        "    sheet_url = \"https://docs.google.com/spreadsheets/d/15Stnum8mI9QdwF9ZiPFCe3_qG9XyZyNzmOSIDunzPjA/view#gid=255849258\"\n",
        "    url = sheet_url.replace(\"/view#gid=\", \"/export?format=csv&gid=\")\n",
        "    df = pd.read_csv(url)\n",
        "    \n",
        "    return pd.to_numeric(df[\"Salario mensual NETO (en tu moneda local)\"],errors='coerce').dropna().to_numpy()"
      ]
    },
    {
      "cell_type": "code",
      "source": [
        "salario_neto = getArrayFromDrive()\n"
      ],
      "metadata": {
        "id": "QJsB-6MQ00Sr"
      },
      "execution_count": null,
      "outputs": []
    },
    {
      "cell_type": "markdown",
      "source": [
        "# Opción 2: Parsear el output\n",
        "Otra opción es descartar los valores problemáticos sin cambiar la función"
      ],
      "metadata": {
        "id": "S9USvjXat6iL"
      }
    },
    {
      "cell_type": "code",
      "source": [
        "import pandas as pd\n",
        "import numpy as np\n",
        "import ast\n",
        "\n",
        "def getArrayFromDrive():\n",
        "    \"\"\"La siguiente funcion obtiene el archivo en google Spreadsheet, lo transforma en un dataframe \n",
        "    y obtiene la columna a trabajar que es la columna de Salario mensual NETO y devuelve un numpy array luego \n",
        "    de haber borrado los valores nulos de la columna.\n",
        "    \n",
        "    \"\"\"\n",
        "    sheet_url = \"https://docs.google.com/spreadsheets/d/15Stnum8mI9QdwF9ZiPFCe3_qG9XyZyNzmOSIDunzPjA/view#gid=255849258\"\n",
        "    url = sheet_url.replace(\"/view#gid=\", \"/export?format=csv&gid=\")\n",
        "    df = pd.read_csv(url)\n",
        "    \n",
        "    return df[\"Salario mensual NETO (en tu moneda local)\"].dropna().to_numpy()"
      ],
      "metadata": {
        "id": "pRIeuvlHuam_"
      },
      "execution_count": null,
      "outputs": []
    },
    {
      "cell_type": "code",
      "source": [
        "# obtener la data del archivo\n",
        "\n",
        "salario_neto = getArrayFromDrive()\n",
        "\n",
        "# localizar elementos con mas de dos \".\" que están causando problemas\n",
        "\n",
        "borrar = [item for item in salario_neto if item.count(\".\")>=2]\n",
        "\n",
        "print(f\"datos problema: {borrar}\")\n",
        "\n",
        "\n",
        "# borrar elementos problemáticos\n",
        "\n",
        "salario_neto = np.delete(salario_neto, np.argwhere(salario_neto == borrar))\n",
        "\n",
        "# convertir valores a float\n",
        "\n",
        "salario_neto = salario_neto.astype(\"float64\")"
      ],
      "metadata": {
        "colab": {
          "base_uri": "https://localhost:8080/"
        },
        "id": "LEIY5m8XuqyQ",
        "outputId": "97aa69d4-26de-4c93-b8db-3c8fded95b67"
      },
      "execution_count": null,
      "outputs": [
        {
          "output_type": "stream",
          "name": "stdout",
          "text": [
            "datos problema: ['39.434.784']\n"
          ]
        }
      ]
    },
    {
      "cell_type": "markdown",
      "source": [
        "# Opción 3: Usar la columna de salario bruto\n",
        "Esto implica usar otros datos para hacer el cálculo. Pero aparentemente esta columna no trae problemas"
      ],
      "metadata": {
        "id": "FcKfCxyjvCXG"
      }
    },
    {
      "cell_type": "code",
      "source": [
        "import pandas as pd\n",
        "import numpy as np\n",
        "import ast\n",
        "\n",
        "def getArrayFromDrive():\n",
        "    \"\"\"La siguiente funcion obtiene el archivo en google Spreadsheet, lo transforma en un dataframe \n",
        "    y obtiene la columna a trabajar que es la columna de Salario mensual NETO y devuelve un numpy array luego \n",
        "    de haber borrado los valores nulos de la columna.\n",
        "    \n",
        "    \"\"\"\n",
        "    sheet_url = \"https://docs.google.com/spreadsheets/d/15Stnum8mI9QdwF9ZiPFCe3_qG9XyZyNzmOSIDunzPjA/view#gid=255849258\"\n",
        "    url = sheet_url.replace(\"/view#gid=\", \"/export?format=csv&gid=\")\n",
        "    df = pd.read_csv(url)\n",
        "    \n",
        "    return df[\"Salario mensual BRUTO (en tu moneda local)\"].dropna().to_numpy()"
      ],
      "metadata": {
        "id": "4qd17UFXv4CZ"
      },
      "execution_count": null,
      "outputs": []
    },
    {
      "cell_type": "code",
      "source": [
        "salario_bruto = getArrayFromDrive()\n"
      ],
      "metadata": {
        "id": "v4fz2-gFv6eW"
      },
      "execution_count": null,
      "outputs": []
    }
  ]
}