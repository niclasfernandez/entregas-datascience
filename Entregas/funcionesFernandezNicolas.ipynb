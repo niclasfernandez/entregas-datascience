{
 "cells": [
  {
   "cell_type": "markdown",
   "id": "7dd89be2",
   "metadata": {},
   "source": [
    "Escribir una función para calcular el factorial de un número cualquiera."
   ]
  },
  {
   "cell_type": "code",
   "execution_count": 5,
   "id": "91d1f94d",
   "metadata": {},
   "outputs": [
    {
     "name": "stdout",
     "output_type": "stream",
     "text": [
      "24\n",
      "#############################################################################\n",
      "120\n",
      "1 No tiene que dar 1\n",
      "#####\n",
      "120\n"
     ]
    },
    {
     "ename": "TypeError",
     "evalue": "El factorial de un numero negativo no se puede calcular con esta función",
     "output_type": "error",
     "traceback": [
      "\u001b[0;31m---------------------------------------------------------------------------\u001b[0m",
      "\u001b[0;31mTypeError\u001b[0m                                 Traceback (most recent call last)",
      "\u001b[0;32m<ipython-input-5-d30964dcc0fd>\u001b[0m in \u001b[0;36m<module>\u001b[0;34m\u001b[0m\n\u001b[1;32m     25\u001b[0m     \u001b[0;32mreturn\u001b[0m \u001b[0mz\u001b[0m\u001b[0;34m\u001b[0m\u001b[0;34m\u001b[0m\u001b[0m\n\u001b[1;32m     26\u001b[0m \u001b[0mprint\u001b[0m\u001b[0;34m(\u001b[0m\u001b[0mfactorial\u001b[0m\u001b[0;34m(\u001b[0m\u001b[0;36m5\u001b[0m\u001b[0;34m)\u001b[0m\u001b[0;34m)\u001b[0m\u001b[0;34m\u001b[0m\u001b[0;34m\u001b[0m\u001b[0m\n\u001b[0;32m---> 27\u001b[0;31m \u001b[0mprint\u001b[0m\u001b[0;34m(\u001b[0m\u001b[0mfactorial\u001b[0m\u001b[0;34m(\u001b[0m\u001b[0;34m-\u001b[0m\u001b[0;36m5\u001b[0m\u001b[0;34m)\u001b[0m\u001b[0;34m)\u001b[0m\u001b[0;34m\u001b[0m\u001b[0;34m\u001b[0m\u001b[0m\n\u001b[0m\u001b[1;32m     28\u001b[0m \u001b[0;34m\u001b[0m\u001b[0m\n\u001b[1;32m     29\u001b[0m \u001b[0;31m#Esto es avanzado, no hace falta saberlo ahora pero te lo dejo para que lo tengas\u001b[0m\u001b[0;34m\u001b[0m\u001b[0;34m\u001b[0m\u001b[0;34m\u001b[0m\u001b[0m\n",
      "\u001b[0;32m<ipython-input-5-d30964dcc0fd>\u001b[0m in \u001b[0;36mfactorial\u001b[0;34m(x)\u001b[0m\n\u001b[1;32m     19\u001b[0m \u001b[0;32mdef\u001b[0m \u001b[0mfactorial\u001b[0m\u001b[0;34m(\u001b[0m\u001b[0mx\u001b[0m\u001b[0;34m)\u001b[0m\u001b[0;34m:\u001b[0m\u001b[0;34m\u001b[0m\u001b[0;34m\u001b[0m\u001b[0m\n\u001b[1;32m     20\u001b[0m     \u001b[0;32mif\u001b[0m \u001b[0mx\u001b[0m \u001b[0;34m<\u001b[0m \u001b[0;36m0\u001b[0m\u001b[0;34m:\u001b[0m\u001b[0;34m\u001b[0m\u001b[0;34m\u001b[0m\u001b[0m\n\u001b[0;32m---> 21\u001b[0;31m         \u001b[0;32mraise\u001b[0m \u001b[0mTypeError\u001b[0m\u001b[0;34m(\u001b[0m\u001b[0;34m\"El factorial de un numero negativo no se puede calcular con esta función\"\u001b[0m\u001b[0;34m)\u001b[0m \u001b[0;31m#raise se usa para levantar errores.\u001b[0m\u001b[0;34m\u001b[0m\u001b[0;34m\u001b[0m\u001b[0m\n\u001b[0m\u001b[1;32m     22\u001b[0m     \u001b[0mz\u001b[0m \u001b[0;34m=\u001b[0m \u001b[0;36m1\u001b[0m\u001b[0;34m\u001b[0m\u001b[0;34m\u001b[0m\u001b[0m\n\u001b[1;32m     23\u001b[0m     \u001b[0;32mfor\u001b[0m \u001b[0mi\u001b[0m \u001b[0;32min\u001b[0m \u001b[0mrange\u001b[0m\u001b[0;34m(\u001b[0m\u001b[0;36m1\u001b[0m\u001b[0;34m,\u001b[0m \u001b[0mx\u001b[0m \u001b[0;34m+\u001b[0m \u001b[0;36m1\u001b[0m\u001b[0;34m)\u001b[0m\u001b[0;34m:\u001b[0m\u001b[0;34m\u001b[0m\u001b[0;34m\u001b[0m\u001b[0m\n",
      "\u001b[0;31mTypeError\u001b[0m: El factorial de un numero negativo no se puede calcular con esta función"
     ]
    }
   ],
   "source": [
    "def factorial(x):\t# función “factorial”. \n",
    "    # Inicializo el resultado\n",
    "    z = 1\n",
    "    # ciclo for y calculo factorial\n",
    "    for i in range(1, x+1):\n",
    "        z *= i\n",
    "    return z\t\n",
    "\n",
    "res = factorial(4)\n",
    "print (res)\n",
    "\n",
    "print(\"#############################################################################\")\n",
    "#Esto está bien porque la consigna no especifica que sean enteros positivos\n",
    "#Pero el factorial para numeros reales o complejos se hace distinto\n",
    "print(factorial(5))\n",
    "print(factorial(-5), \"No tiene que dar 1\")\n",
    "print(\"#####\")\n",
    "#Podrías poner una validación en el medio de la siguiente manera\n",
    "def factorial(x):\n",
    "    if x < 0:\n",
    "        raise TypeError(\"El factorial de un numero negativo no se puede calcular con esta función\") #raise se usa para levantar errores. \n",
    "    z = 1\n",
    "    for i in range(1, x + 1):\n",
    "        z *= i\n",
    "    return z\n",
    "print(factorial(5))\n",
    "print(factorial(-5))\n",
    "\n",
    "#Esto es avanzado, no hace falta saberlo ahora. Podés usar el if como abajo\n",
    "#Pero te lo dejo para que lo tengas \n",
    "#https://www.geeksforgeeks.org/python-raise-keyword/"
   ]
  },
  {
   "cell_type": "markdown",
   "id": "5f39c9e6",
   "metadata": {},
   "source": [
    "Escribir una función para calcular la suma de una serie comenzando por un número cualquiera y terminando en otro número que debe ser mayor al primero."
   ]
  },
  {
   "cell_type": "code",
   "execution_count": 9,
   "id": "a2bce4f8",
   "metadata": {
    "scrolled": true
   },
   "outputs": [
    {
     "name": "stdout",
     "output_type": "stream",
     "text": [
      "x>y --> res= 9\n",
      "y debe ser mayor a x\n",
      "##########\n",
      "9\n",
      "Y debe ser mayor a x\n"
     ]
    }
   ],
   "source": [
    "def custom_function(x,y):\n",
    "    if y > x:\n",
    "        z = 0\n",
    "        for i in range(x,y+1):\n",
    "            z += i\n",
    "        return z\n",
    "    else:\n",
    "        return \"y debe ser mayor a x\"\n",
    "\n",
    "res = custom_function(2,4)\n",
    "print('x>y --> res= %d' % res)\n",
    "res2 = custom_function(4,2)\n",
    "print(res2)\n",
    "\n",
    "\n",
    "#Muy bien!\n",
    "#Pondría al revés el if para tomar por defecto el true\n",
    "#Eso ayuda a la legibilidad\n",
    "#Y ponele un alias más representativo a la función\n",
    "\n",
    "def sum_interval(x,y):\n",
    "    if y < x:\n",
    "        return \"Y debe ser mayor a x\"\n",
    "    z = 0\n",
    "    for i in range(x,y+1):\n",
    "        z += i\n",
    "    return z\n",
    "\n",
    "print(\"##########\")\n",
    "a = sum_interval(2,4)\n",
    "b=sum_interval(4,2)\n",
    "print(a,b, sep=\"\\n\")"
   ]
  }
 ],
 "metadata": {
  "kernelspec": {
   "display_name": "Python 3",
   "language": "python",
   "name": "python3"
  },
  "language_info": {
   "codemirror_mode": {
    "name": "ipython",
    "version": 3
   },
   "file_extension": ".py",
   "mimetype": "text/x-python",
   "name": "python",
   "nbconvert_exporter": "python",
   "pygments_lexer": "ipython3",
   "version": "3.8.8"
  }
 },
 "nbformat": 4,
 "nbformat_minor": 5
}
