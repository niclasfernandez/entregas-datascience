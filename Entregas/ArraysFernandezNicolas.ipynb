{
 "cells": [
  {
   "cell_type": "markdown",
   "id": "95f803bd",
   "metadata": {},
   "source": [
    "Measuring Times"
   ]
  },
  {
   "cell_type": "code",
   "execution_count": 3,
   "id": "27aa1f58",
   "metadata": {},
   "outputs": [
    {
     "name": "stdout",
     "output_type": "stream",
     "text": [
      "36.4 µs ± 1.51 µs per loop (mean ± std. dev. of 7 runs, 10,000 loops each)\n",
      "1.98 µs ± 109 ns per loop (mean ± std. dev. of 7 runs, 1,000,000 loops each)\n"
     ]
    }
   ],
   "source": [
    "import numpy as np\n",
    "import timeit\n",
    "\n",
    "listado=list(range(1001))\n",
    "\n",
    "array=np.arange(1001)\n",
    "\n",
    "def suma(listado):\n",
    "    suma = 0\n",
    "    for i in listado:\n",
    "        suma += i\n",
    "    return suma\n",
    "\n",
    "%timeit suma(listado)\n",
    "\n",
    "%timeit array.sum()"
   ]
  },
  {
   "cell_type": "markdown",
   "id": "655f2f78",
   "metadata": {},
   "source": [
    "Ejercicio N 1"
   ]
  },
  {
   "cell_type": "code",
   "execution_count": 4,
   "id": "7a76fbe6",
   "metadata": {},
   "outputs": [
    {
     "data": {
      "text/plain": [
       "array([86, 51, 13, 31,  0, 81, 39, 50, 30, 79,  1, 12, 24, 32, 15, 32,  8,\n",
       "       29, 53, 49, 79, 57, 27, 50,  5, 58, 88, 97, 44, 11, 91, 67, 71, 14,\n",
       "       77, 96, 54, 84, 18, 55, 26, 96,  1, 77, 78, 24, 11, 87, 32, 79, 26,\n",
       "       99, 56, 32, 49, 65, 53, 89, 71, 30,  1, 43, 51, 12, 25,  2, 43, 65,\n",
       "       57, 99, 72, 81, 72, 29, 76, 97, 23, 53, 81, 64, 70, 82, 97, 91, 66,\n",
       "       45, 79, 67,  6, 62, 68, 95, 26,  5, 84, 86, 41, 59, 49, 97])"
      ]
     },
     "execution_count": 4,
     "metadata": {},
     "output_type": "execute_result"
    }
   ],
   "source": [
    "\n",
    "randomArray = np.random.randint(0, 100, 100)\n",
    "randomArray"
   ]
  },
  {
   "cell_type": "code",
   "execution_count": 5,
   "id": "9377a874",
   "metadata": {},
   "outputs": [
    {
     "data": {
      "text/plain": [
       "53.5"
      ]
     },
     "execution_count": 5,
     "metadata": {},
     "output_type": "execute_result"
    }
   ],
   "source": [
    "randomArray_median = np.median(randomArray)\n",
    "randomArray_median"
   ]
  },
  {
   "cell_type": "markdown",
   "id": "e3208003",
   "metadata": {},
   "source": [
    "Ejercicio N 2"
   ]
  },
  {
   "cell_type": "code",
   "execution_count": 6,
   "id": "62f47cb9",
   "metadata": {
    "scrolled": true
   },
   "outputs": [
    {
     "data": {
      "text/plain": [
       "array([2.42270954e+130, 1.55111875e+066, 6.22702080e+009, 8.22283865e+033,\n",
       "       1.00000000e+000, 5.79712602e+120, 2.03978821e+046, 3.04140932e+064,\n",
       "       2.65252860e+032, 8.94618213e+116, 1.00000000e+000, 4.79001600e+008,\n",
       "       6.20448402e+023, 2.63130837e+035, 1.30767437e+012, 2.63130837e+035,\n",
       "       4.03200000e+004, 8.84176199e+030, 4.27488328e+069, 6.08281864e+062,\n",
       "       8.94618213e+116, 4.05269195e+076, 1.08888695e+028, 3.04140932e+064,\n",
       "       1.20000000e+002, 2.35056133e+078, 1.85482642e+134, 9.61927597e+151,\n",
       "       2.65827157e+054, 3.99168000e+007, 1.35200153e+140, 3.64711109e+094,\n",
       "       8.50478589e+101, 8.71782912e+010, 1.45183092e+113, 9.91677935e+149,\n",
       "       2.30843697e+071, 3.31424013e+126, 6.40237371e+015, 1.26964034e+073,\n",
       "       4.03291461e+026, 9.91677935e+149, 1.00000000e+000, 1.45183092e+113,\n",
       "       1.13242812e+115, 6.20448402e+023, 3.99168000e+007, 2.10775730e+132,\n",
       "       2.63130837e+035, 8.94618213e+116, 4.03291461e+026, 9.33262154e+155,\n",
       "       7.10998588e+074, 2.63130837e+035, 6.08281864e+062, 8.24765059e+090,\n",
       "       4.27488328e+069, 1.65079552e+136, 8.50478589e+101, 2.65252860e+032,\n",
       "       1.00000000e+000, 6.04152631e+052, 1.55111875e+066, 4.79001600e+008,\n",
       "       1.55112100e+025, 2.00000000e+000, 6.04152631e+052, 8.24765059e+090,\n",
       "       4.05269195e+076, 9.33262154e+155, 6.12344584e+103, 5.79712602e+120,\n",
       "       6.12344584e+103, 8.84176199e+030, 1.88549470e+111, 9.61927597e+151,\n",
       "       2.58520167e+022, 4.27488328e+069, 5.79712602e+120, 1.26886932e+089,\n",
       "       1.19785717e+100, 4.75364334e+122, 9.61927597e+151, 1.35200153e+140,\n",
       "       5.44344939e+092, 1.19622221e+056, 8.94618213e+116, 3.64711109e+094,\n",
       "       7.20000000e+002, 3.14699733e+085, 2.48003554e+096, 1.03299785e+148,\n",
       "       4.03291461e+026, 1.20000000e+002, 3.31424013e+126, 2.42270954e+130,\n",
       "       3.34525266e+049, 1.38683119e+080, 6.08281864e+062, 9.61927597e+151])"
      ]
     },
     "execution_count": 6,
     "metadata": {},
     "output_type": "execute_result"
    }
   ],
   "source": [
    "import scipy.special # For calculating factorial, can accept np.ndarray\n",
    "\n",
    "scipy.special.factorial(randomArray)"
   ]
  },
  {
   "cell_type": "code",
   "execution_count": 7,
   "id": "32706c65",
   "metadata": {},
   "outputs": [
    {
     "data": {
      "text/plain": [
       "225"
      ]
     },
     "execution_count": 7,
     "metadata": {},
     "output_type": "execute_result"
    }
   ],
   "source": [
    "x = 8\n",
    "y = 23\n",
    "\n",
    "a = np.arange(x, y)\n",
    "a[np.logical_and(a>=x,a<y+1)]\n",
    "a.sum()"
   ]
  },
  {
   "cell_type": "markdown",
   "id": "a10658b5",
   "metadata": {},
   "source": [
    "Ejercicio N 2 FIXED - Agrego funciones de la primer entrega"
   ]
  },
  {
   "cell_type": "code",
   "execution_count": 8,
   "id": "278ed32c",
   "metadata": {},
   "outputs": [
    {
     "name": "stdout",
     "output_type": "stream",
     "text": [
      "24.0\n"
     ]
    }
   ],
   "source": [
    "def factorial(x):\t# función “factorial”. \n",
    "    return \tscipy.special.factorial(x)\n",
    "\n",
    "res = factorial(4)\n",
    "print (res)"
   ]
  },
  {
   "cell_type": "code",
   "execution_count": 18,
   "id": "26ea47df",
   "metadata": {},
   "outputs": [
    {
     "name": "stdout",
     "output_type": "stream",
     "text": [
      "[2 3 4]\n",
      "[2 3 4]\n",
      "x>y --> res= 9\n",
      "y debe ser mayor a x\n"
     ]
    }
   ],
   "source": [
    "def custom_function(x,y):\n",
    "    if y > x:\n",
    "        a = np.arange(x, y+1)\n",
    "        a[np.logical_and(a>=x,a<y+1)]\n",
    "        return a.sum()\n",
    "    else:\n",
    "        return \"y debe ser mayor a x\"\n",
    "\n",
    "res = custom_function(2,4)\n",
    "print('x>y --> res= %d' % res)\n",
    "res2 = custom_function(4,2)\n",
    "print(res2)"
   ]
  },
  {
   "cell_type": "markdown",
   "id": "149c8a9e",
   "metadata": {},
   "source": [
    "Ejercicio N 3"
   ]
  },
  {
   "cell_type": "code",
   "execution_count": 9,
   "id": "ee795435",
   "metadata": {},
   "outputs": [
    {
     "data": {
      "text/plain": [
       "array([4.3000e+04, 6.3000e+04, 1.2700e+05, ..., 4.5753e+01, 7.2000e+01,\n",
       "       6.5000e+04])"
      ]
     },
     "execution_count": 9,
     "metadata": {},
     "output_type": "execute_result"
    }
   ],
   "source": [
    "import pandas as pd\n",
    "import numpy as np\n",
    "import ast\n",
    "\n",
    "def getArrayFromDrive():\n",
    "    \"\"\"La siguiente funcion obtiene el archivo en google Spreadsheet, lo transforma en un dataframe \n",
    "    y obtiene la columna a trabajar que es la columna de Salario mensual NETO y devuelve un numpy array luego \n",
    "    de haber borrado los valores nulos de la columna.\n",
    "    \n",
    "    \"\"\"\n",
    "    sheet_url = \"https://docs.google.com/spreadsheets/d/15Stnum8mI9QdwF9ZiPFCe3_qG9XyZyNzmOSIDunzPjA/view#gid=255849258\"\n",
    "    url = sheet_url.replace(\"/view#gid=\", \"/export?format=csv&gid=\")\n",
    "    df = pd.read_csv(url)\n",
    "    \n",
    "    return pd.to_numeric(df[\"Salario mensual NETO (en tu moneda local)\"],errors='coerce').dropna().to_numpy()\n",
    "\n",
    "salario_neto = getArrayFromDrive()\n",
    "salario_neto"
   ]
  },
  {
   "cell_type": "code",
   "execution_count": 10,
   "id": "88e39974",
   "metadata": {},
   "outputs": [
    {
     "data": {
      "text/plain": [
       "76000.0"
      ]
     },
     "execution_count": 10,
     "metadata": {},
     "output_type": "execute_result"
    }
   ],
   "source": [
    "#median value\n",
    "median = np.median(salario_neto)\n",
    "median"
   ]
  },
  {
   "cell_type": "code",
   "execution_count": 11,
   "id": "73e21043",
   "metadata": {},
   "outputs": [
    {
     "data": {
      "text/plain": [
       "19306004.37798064"
      ]
     },
     "execution_count": 11,
     "metadata": {},
     "output_type": "execute_result"
    }
   ],
   "source": [
    "#mean value\n",
    "mean = np.mean(salario_neto)\n",
    "mean"
   ]
  }
 ],
 "metadata": {
  "kernelspec": {
   "display_name": "Python 3",
   "language": "python",
   "name": "python3"
  },
  "language_info": {
   "codemirror_mode": {
    "name": "ipython",
    "version": 3
   },
   "file_extension": ".py",
   "mimetype": "text/x-python",
   "name": "python",
   "nbconvert_exporter": "python",
   "pygments_lexer": "ipython3",
   "version": "3.9.5"
  }
 },
 "nbformat": 4,
 "nbformat_minor": 5
}
