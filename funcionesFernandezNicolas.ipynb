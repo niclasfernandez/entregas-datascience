{
 "cells": [
  {
   "cell_type": "markdown",
   "id": "7dd89be2",
   "metadata": {},
   "source": [
    "Escribir una función para calcular el factorial de un número cualquiera."
   ]
  },
  {
   "cell_type": "code",
   "execution_count": 9,
   "id": "91d1f94d",
   "metadata": {},
   "outputs": [
    {
     "name": "stdout",
     "output_type": "stream",
     "text": [
      "24\n"
     ]
    }
   ],
   "source": [
    "def factorial(x):\t# función “factorial”. \n",
    "    # Inicializo el resultado\n",
    "    z = 1\n",
    "    # ciclo for y calculo factorial\n",
    "    for i in range(1, x+1):\n",
    "        z *= i\n",
    "    return z\t\n",
    "\n",
    "res = factorial(4)\n",
    "print (res)\n"
   ]
  },
  {
   "cell_type": "markdown",
   "id": "5f39c9e6",
   "metadata": {},
   "source": [
    "Escribir una función para calcular la suma de una serie comenzando por un número cualquiera y terminando en otro número que debe ser mayor al primero."
   ]
  },
  {
   "cell_type": "code",
   "execution_count": 14,
   "id": "a2bce4f8",
   "metadata": {
    "scrolled": true
   },
   "outputs": [
    {
     "name": "stdout",
     "output_type": "stream",
     "text": [
      "x>y --> res= 9\n",
      "y debe ser mayor a x\n"
     ]
    }
   ],
   "source": [
    "def custom_function(x,y):\n",
    "    if y > x:\n",
    "        z = 0\n",
    "        for i in range(x,y+1):\n",
    "            z += i\n",
    "        return z\n",
    "    else:\n",
    "        return \"y debe ser mayor a x\"\n",
    "\n",
    "res = custom_function(2,4)\n",
    "print('x>y --> res= %d' % res)\n",
    "res2 = custom_function(4,2)\n",
    "print(res2)"
   ]
  }
 ],
 "metadata": {
  "kernelspec": {
   "display_name": "Python 3",
   "language": "python",
   "name": "python3"
  },
  "language_info": {
   "codemirror_mode": {
    "name": "ipython",
    "version": 3
   },
   "file_extension": ".py",
   "mimetype": "text/x-python",
   "name": "python",
   "nbconvert_exporter": "python",
   "pygments_lexer": "ipython3",
   "version": "3.9.5"
  }
 },
 "nbformat": 4,
 "nbformat_minor": 5
}
