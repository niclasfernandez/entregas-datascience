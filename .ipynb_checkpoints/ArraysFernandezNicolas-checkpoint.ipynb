{
 "cells": [
  {
   "cell_type": "markdown",
   "id": "95f803bd",
   "metadata": {},
   "source": [
    "Measuring Times"
   ]
  },
  {
   "cell_type": "code",
   "execution_count": 48,
   "id": "27aa1f58",
   "metadata": {},
   "outputs": [
    {
     "name": "stdout",
     "output_type": "stream",
     "text": [
      "37.4 µs ± 2.39 µs per loop (mean ± std. dev. of 7 runs, 10,000 loops each)\n",
      "1.96 µs ± 124 ns per loop (mean ± std. dev. of 7 runs, 100,000 loops each)\n"
     ]
    }
   ],
   "source": [
    "import numpy as np\n",
    "import timeit\n",
    "\n",
    "listado=list(range(1001))\n",
    "\n",
    "array=np.arange(1001)\n",
    "\n",
    "def suma(listado):\n",
    "    suma = 0\n",
    "    for i in listado:\n",
    "        suma += i\n",
    "    return suma\n",
    "\n",
    "%timeit suma(listado)\n",
    "\n",
    "%timeit array.sum()"
   ]
  },
  {
   "cell_type": "markdown",
   "id": "655f2f78",
   "metadata": {},
   "source": [
    "Ejercicio N 1"
   ]
  },
  {
   "cell_type": "code",
   "execution_count": 49,
   "id": "7a76fbe6",
   "metadata": {},
   "outputs": [
    {
     "data": {
      "text/plain": [
       "array([51, 53, 12, 86, 82, 99, 85, 73, 54,  8, 28, 59, 38, 48, 94, 87,  4,\n",
       "        5, 85, 72, 22, 76, 10,  0, 71, 24, 31, 92, 48,  5, 79, 46, 35, 15,\n",
       "       20, 61, 42, 82, 67, 89, 94, 55, 44, 58, 88,  6, 46, 14, 37, 88, 41,\n",
       "       21, 59, 54,  1, 13, 78, 30, 70, 93, 80, 71, 97, 20, 36, 89, 90, 39,\n",
       "       12, 85, 64, 14, 14, 94, 82, 89, 36, 41, 60,  2, 36, 92, 73, 63, 71,\n",
       "       64, 57, 91, 63, 27, 96, 64, 70, 71, 35, 91, 94, 28, 37,  1])"
      ]
     },
     "execution_count": 49,
     "metadata": {},
     "output_type": "execute_result"
    }
   ],
   "source": [
    "\n",
    "randomArray = np.random.randint(0, 100, 100)\n",
    "randomArray"
   ]
  },
  {
   "cell_type": "code",
   "execution_count": 50,
   "id": "9377a874",
   "metadata": {},
   "outputs": [
    {
     "data": {
      "text/plain": [
       "57.5"
      ]
     },
     "execution_count": 50,
     "metadata": {},
     "output_type": "execute_result"
    }
   ],
   "source": [
    "randomArray_median = np.median(randomArray)\n",
    "randomArray_median"
   ]
  },
  {
   "cell_type": "markdown",
   "id": "e3208003",
   "metadata": {},
   "source": [
    "Ejercicio N 2"
   ]
  },
  {
   "cell_type": "code",
   "execution_count": 51,
   "id": "62f47cb9",
   "metadata": {
    "scrolled": true
   },
   "outputs": [
    {
     "data": {
      "text/plain": [
       "array([1.55111875e+066, 4.27488328e+069, 4.79001600e+008, 2.42270954e+130,\n",
       "       4.75364334e+122, 9.33262154e+155, 2.81710411e+128, 4.47011546e+105,\n",
       "       2.30843697e+071, 4.03200000e+004, 3.04888345e+029, 1.38683119e+080,\n",
       "       5.23022617e+044, 1.24139156e+061, 1.08736616e+146, 2.10775730e+132,\n",
       "       2.40000000e+001, 1.20000000e+002, 2.81710411e+128, 6.12344584e+103,\n",
       "       1.12400073e+021, 1.88549470e+111, 3.62880000e+006, 1.00000000e+000,\n",
       "       8.50478589e+101, 6.20448402e+023, 8.22283865e+033, 1.24384141e+142,\n",
       "       1.24139156e+061, 1.20000000e+002, 8.94618213e+116, 5.50262216e+057,\n",
       "       1.03331480e+040, 1.30767437e+012, 2.43290201e+018, 5.07580214e+083,\n",
       "       1.40500612e+051, 4.75364334e+122, 3.64711109e+094, 1.65079552e+136,\n",
       "       1.08736616e+146, 1.26964034e+073, 2.65827157e+054, 2.35056133e+078,\n",
       "       1.85482642e+134, 7.20000000e+002, 5.50262216e+057, 8.71782912e+010,\n",
       "       1.37637531e+043, 1.85482642e+134, 3.34525266e+049, 5.10909422e+019,\n",
       "       1.38683119e+080, 2.30843697e+071, 1.00000000e+000, 6.22702080e+009,\n",
       "       1.13242812e+115, 2.65252860e+032, 1.19785717e+100, 1.15677251e+144,\n",
       "       7.15694570e+118, 8.50478589e+101, 9.61927597e+151, 2.43290201e+018,\n",
       "       3.71993327e+041, 1.65079552e+136, 1.48571596e+138, 2.03978821e+046,\n",
       "       4.79001600e+008, 2.81710411e+128, 1.26886932e+089, 8.71782912e+010,\n",
       "       8.71782912e+010, 1.08736616e+146, 4.75364334e+122, 1.65079552e+136,\n",
       "       3.71993327e+041, 3.34525266e+049, 8.32098711e+081, 2.00000000e+000,\n",
       "       3.71993327e+041, 1.24384141e+142, 4.47011546e+105, 1.98260832e+087,\n",
       "       8.50478589e+101, 1.26886932e+089, 4.05269195e+076, 1.35200153e+140,\n",
       "       1.98260832e+087, 1.08888695e+028, 9.91677935e+149, 1.26886932e+089,\n",
       "       1.19785717e+100, 8.50478589e+101, 1.03331480e+040, 1.35200153e+140,\n",
       "       1.08736616e+146, 3.04888345e+029, 1.37637531e+043, 1.00000000e+000])"
      ]
     },
     "execution_count": 51,
     "metadata": {},
     "output_type": "execute_result"
    }
   ],
   "source": [
    "import scipy.special # For calculating factorial, can accept np.ndarray\n",
    "\n",
    "scipy.special.factorial(randomArray)"
   ]
  },
  {
   "cell_type": "code",
   "execution_count": 52,
   "id": "32706c65",
   "metadata": {},
   "outputs": [
    {
     "data": {
      "text/plain": [
       "225"
      ]
     },
     "execution_count": 52,
     "metadata": {},
     "output_type": "execute_result"
    }
   ],
   "source": [
    "x = 8\n",
    "y = 23\n",
    "\n",
    "a = np.arange(x, y)\n",
    "a[np.logical_and(a>=x,a<y+1)]\n",
    "a.sum()"
   ]
  },
  {
   "cell_type": "markdown",
   "id": "66616e7d",
   "metadata": {},
   "source": [
    "Ejercicio N 2 FIXED - Agrego funciones de la primer entrega"
   ]
  },
  {
   "cell_type": "code",
   "execution_count": null,
   "id": "51ec76d8",
   "metadata": {},
   "outputs": [],
   "source": [
    "def factorial(x):\t# función “factorial”. \n",
    "    # Inicializo el resultado\n",
    "    z = 1\n",
    "    # ciclo for y calculo factorial\n",
    "    for i in range(1, x+1):\n",
    "        z *= i\n",
    "    return z\t\n",
    "\n",
    "res = factorial(4)\n",
    "print (res)"
   ]
  },
  {
   "cell_type": "markdown",
   "id": "149c8a9e",
   "metadata": {},
   "source": [
    "Ejercicio N 3"
   ]
  },
  {
   "cell_type": "code",
   "execution_count": 61,
   "id": "ee795435",
   "metadata": {},
   "outputs": [
    {
     "data": {
      "text/plain": [
       "array([4.3000e+04, 6.3000e+04, 1.2700e+05, ..., 4.5753e+01, 7.2000e+01,\n",
       "       6.5000e+04])"
      ]
     },
     "execution_count": 61,
     "metadata": {},
     "output_type": "execute_result"
    }
   ],
   "source": [
    "import pandas as pd\n",
    "import numpy as np\n",
    "import ast\n",
    "\n",
    "def getArrayFromDrive():\n",
    "    \"\"\"La siguiente funcion obtiene el archivo en google Spreadsheet, lo transforma en un dataframe \n",
    "    y obtiene la columna a trabajar que es la columna de Salario mensual NETO y devuelve un numpy array luego \n",
    "    de haber borrado los valores nulos de la columna.\n",
    "    \n",
    "    \"\"\"\n",
    "    sheet_url = \"https://docs.google.com/spreadsheets/d/15Stnum8mI9QdwF9ZiPFCe3_qG9XyZyNzmOSIDunzPjA/view#gid=255849258\"\n",
    "    url = sheet_url.replace(\"/view#gid=\", \"/export?format=csv&gid=\")\n",
    "    df = pd.read_csv(url)\n",
    "    \n",
    "    return pd.to_numeric(df[\"Salario mensual NETO (en tu moneda local)\"],errors='coerce').dropna().to_numpy()\n",
    "\n",
    "salario_neto = getArrayFromDrive()\n",
    "salario_neto"
   ]
  },
  {
   "cell_type": "code",
   "execution_count": 62,
   "id": "88e39974",
   "metadata": {},
   "outputs": [
    {
     "data": {
      "text/plain": [
       "76000.0"
      ]
     },
     "execution_count": 62,
     "metadata": {},
     "output_type": "execute_result"
    }
   ],
   "source": [
    "#median value\n",
    "median = np.median(salario_neto)\n",
    "median"
   ]
  },
  {
   "cell_type": "code",
   "execution_count": 63,
   "id": "73e21043",
   "metadata": {},
   "outputs": [
    {
     "data": {
      "text/plain": [
       "19306004.37798064"
      ]
     },
     "execution_count": 63,
     "metadata": {},
     "output_type": "execute_result"
    }
   ],
   "source": [
    "#mean value\n",
    "mean = np.mean(salario_neto)\n",
    "mean"
   ]
  }
 ],
 "metadata": {
  "kernelspec": {
   "display_name": "Python 3",
   "language": "python",
   "name": "python3"
  },
  "language_info": {
   "codemirror_mode": {
    "name": "ipython",
    "version": 3
   },
   "file_extension": ".py",
   "mimetype": "text/x-python",
   "name": "python",
   "nbconvert_exporter": "python",
   "pygments_lexer": "ipython3",
   "version": "3.9.5"
  }
 },
 "nbformat": 4,
 "nbformat_minor": 5
}
